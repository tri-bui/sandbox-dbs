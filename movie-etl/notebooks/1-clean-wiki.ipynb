{
 "cells": [
  {
   "cell_type": "markdown",
   "metadata": {},
   "source": [
    "# Movie Data ETL Pipeline - Transform Wikipedia Data\n",
    "\n",
    "### Dependencies"
   ]
  },
  {
   "cell_type": "code",
   "execution_count": 2,
   "metadata": {},
   "outputs": [],
   "source": [
    "%matplotlib inline\n",
    "\n",
    "import json\n",
    "import re\n",
    "import numpy as np\n",
    "import pandas as pd\n",
    "import matplotlib.pyplot as plt"
   ]
  },
  {
   "cell_type": "markdown",
   "metadata": {},
   "source": [
    "### Kaggle data\n",
    "\n",
    "Download `movies_metadata.csv` and `ratings.csv` from the TMDB's movie dataset at the link below. Move both files into the `data/raw/` directory.\n",
    "\n",
    "Source: https://www.kaggle.com/rounakbanik/the-movies-dataset"
   ]
  },
  {
   "cell_type": "code",
   "execution_count": 4,
   "metadata": {},
   "outputs": [],
   "source": [
    "# Path to data directory\n",
    "data_path = '../data/'"
   ]
  },
  {
   "cell_type": "code",
   "execution_count": 10,
   "metadata": {},
   "outputs": [
    {
     "name": "stdout",
     "output_type": "stream",
     "text": [
      "<class 'pandas.core.frame.DataFrame'>\n",
      "RangeIndex: 45466 entries, 0 to 45465\n",
      "Data columns (total 24 columns):\n",
      " #   Column                 Non-Null Count  Dtype  \n",
      "---  ------                 --------------  -----  \n",
      " 0   adult                  45466 non-null  object \n",
      " 1   belongs_to_collection  4494 non-null   object \n",
      " 2   budget                 45466 non-null  object \n",
      " 3   genres                 45466 non-null  object \n",
      " 4   homepage               7782 non-null   object \n",
      " 5   id                     45466 non-null  object \n",
      " 6   imdb_id                45449 non-null  object \n",
      " 7   original_language      45455 non-null  object \n",
      " 8   original_title         45466 non-null  object \n",
      " 9   overview               44512 non-null  object \n",
      " 10  popularity             45461 non-null  object \n",
      " 11  poster_path            45080 non-null  object \n",
      " 12  production_companies   45463 non-null  object \n",
      " 13  production_countries   45463 non-null  object \n",
      " 14  release_date           45379 non-null  object \n",
      " 15  revenue                45460 non-null  float64\n",
      " 16  runtime                45203 non-null  float64\n",
      " 17  spoken_languages       45460 non-null  object \n",
      " 18  status                 45379 non-null  object \n",
      " 19  tagline                20412 non-null  object \n",
      " 20  title                  45460 non-null  object \n",
      " 21  video                  45460 non-null  object \n",
      " 22  vote_average           45460 non-null  float64\n",
      " 23  vote_count             45460 non-null  float64\n",
      "dtypes: float64(4), object(20)\n",
      "memory usage: 8.3+ MB\n",
      "None\n"
     ]
    },
    {
     "data": {
      "text/html": [
       "<div>\n",
       "<style scoped>\n",
       "    .dataframe tbody tr th:only-of-type {\n",
       "        vertical-align: middle;\n",
       "    }\n",
       "\n",
       "    .dataframe tbody tr th {\n",
       "        vertical-align: top;\n",
       "    }\n",
       "\n",
       "    .dataframe thead th {\n",
       "        text-align: right;\n",
       "    }\n",
       "</style>\n",
       "<table border=\"1\" class=\"dataframe\">\n",
       "  <thead>\n",
       "    <tr style=\"text-align: right;\">\n",
       "      <th></th>\n",
       "      <th>adult</th>\n",
       "      <th>belongs_to_collection</th>\n",
       "      <th>budget</th>\n",
       "      <th>genres</th>\n",
       "      <th>homepage</th>\n",
       "      <th>id</th>\n",
       "      <th>imdb_id</th>\n",
       "      <th>original_language</th>\n",
       "      <th>original_title</th>\n",
       "      <th>overview</th>\n",
       "      <th>...</th>\n",
       "      <th>release_date</th>\n",
       "      <th>revenue</th>\n",
       "      <th>runtime</th>\n",
       "      <th>spoken_languages</th>\n",
       "      <th>status</th>\n",
       "      <th>tagline</th>\n",
       "      <th>title</th>\n",
       "      <th>video</th>\n",
       "      <th>vote_average</th>\n",
       "      <th>vote_count</th>\n",
       "    </tr>\n",
       "  </thead>\n",
       "  <tbody>\n",
       "    <tr>\n",
       "      <th>0</th>\n",
       "      <td>False</td>\n",
       "      <td>{'id': 10194, 'name': 'Toy Story Collection', ...</td>\n",
       "      <td>30000000</td>\n",
       "      <td>[{'id': 16, 'name': 'Animation'}, {'id': 35, '...</td>\n",
       "      <td>http://toystory.disney.com/toy-story</td>\n",
       "      <td>862</td>\n",
       "      <td>tt0114709</td>\n",
       "      <td>en</td>\n",
       "      <td>Toy Story</td>\n",
       "      <td>Led by Woody, Andy's toys live happily in his ...</td>\n",
       "      <td>...</td>\n",
       "      <td>1995-10-30</td>\n",
       "      <td>373554033.0</td>\n",
       "      <td>81.0</td>\n",
       "      <td>[{'iso_639_1': 'en', 'name': 'English'}]</td>\n",
       "      <td>Released</td>\n",
       "      <td>NaN</td>\n",
       "      <td>Toy Story</td>\n",
       "      <td>False</td>\n",
       "      <td>7.7</td>\n",
       "      <td>5415.0</td>\n",
       "    </tr>\n",
       "    <tr>\n",
       "      <th>1</th>\n",
       "      <td>False</td>\n",
       "      <td>NaN</td>\n",
       "      <td>65000000</td>\n",
       "      <td>[{'id': 12, 'name': 'Adventure'}, {'id': 14, '...</td>\n",
       "      <td>NaN</td>\n",
       "      <td>8844</td>\n",
       "      <td>tt0113497</td>\n",
       "      <td>en</td>\n",
       "      <td>Jumanji</td>\n",
       "      <td>When siblings Judy and Peter discover an encha...</td>\n",
       "      <td>...</td>\n",
       "      <td>1995-12-15</td>\n",
       "      <td>262797249.0</td>\n",
       "      <td>104.0</td>\n",
       "      <td>[{'iso_639_1': 'en', 'name': 'English'}, {'iso...</td>\n",
       "      <td>Released</td>\n",
       "      <td>Roll the dice and unleash the excitement!</td>\n",
       "      <td>Jumanji</td>\n",
       "      <td>False</td>\n",
       "      <td>6.9</td>\n",
       "      <td>2413.0</td>\n",
       "    </tr>\n",
       "  </tbody>\n",
       "</table>\n",
       "<p>2 rows × 24 columns</p>\n",
       "</div>"
      ],
      "text/plain": [
       "   adult                              belongs_to_collection    budget  \\\n",
       "0  False  {'id': 10194, 'name': 'Toy Story Collection', ...  30000000   \n",
       "1  False                                                NaN  65000000   \n",
       "\n",
       "                                              genres  \\\n",
       "0  [{'id': 16, 'name': 'Animation'}, {'id': 35, '...   \n",
       "1  [{'id': 12, 'name': 'Adventure'}, {'id': 14, '...   \n",
       "\n",
       "                               homepage    id    imdb_id original_language  \\\n",
       "0  http://toystory.disney.com/toy-story   862  tt0114709                en   \n",
       "1                                   NaN  8844  tt0113497                en   \n",
       "\n",
       "  original_title                                           overview  ...  \\\n",
       "0      Toy Story  Led by Woody, Andy's toys live happily in his ...  ...   \n",
       "1        Jumanji  When siblings Judy and Peter discover an encha...  ...   \n",
       "\n",
       "  release_date      revenue runtime  \\\n",
       "0   1995-10-30  373554033.0    81.0   \n",
       "1   1995-12-15  262797249.0   104.0   \n",
       "\n",
       "                                    spoken_languages    status  \\\n",
       "0           [{'iso_639_1': 'en', 'name': 'English'}]  Released   \n",
       "1  [{'iso_639_1': 'en', 'name': 'English'}, {'iso...  Released   \n",
       "\n",
       "                                     tagline      title  video vote_average  \\\n",
       "0                                        NaN  Toy Story  False          7.7   \n",
       "1  Roll the dice and unleash the excitement!    Jumanji  False          6.9   \n",
       "\n",
       "  vote_count  \n",
       "0     5415.0  \n",
       "1     2413.0  \n",
       "\n",
       "[2 rows x 24 columns]"
      ]
     },
     "execution_count": 10,
     "metadata": {},
     "output_type": "execute_result"
    }
   ],
   "source": [
    "# Kaggle movie metadata\n",
    "kmovies_df = pd.read_csv(data_path + 'raw/movies_metadata.csv', low_memory=False)\n",
    "print(kmovies_df.info())\n",
    "kmovies_df.head(2)"
   ]
  },
  {
   "cell_type": "code",
   "execution_count": 11,
   "metadata": {},
   "outputs": [
    {
     "name": "stdout",
     "output_type": "stream",
     "text": [
      "<class 'pandas.core.frame.DataFrame'>\n",
      "RangeIndex: 26024289 entries, 0 to 26024288\n",
      "Data columns (total 4 columns):\n",
      " #   Column     Non-Null Count     Dtype  \n",
      "---  ------     --------------     -----  \n",
      " 0   userId     26024289 non-null  int64  \n",
      " 1   movieId    26024289 non-null  int64  \n",
      " 2   rating     26024289 non-null  float64\n",
      " 3   timestamp  26024289 non-null  int64  \n",
      "dtypes: float64(1), int64(3)\n",
      "memory usage: 794.2 MB\n",
      "None\n"
     ]
    },
    {
     "data": {
      "text/html": [
       "<div>\n",
       "<style scoped>\n",
       "    .dataframe tbody tr th:only-of-type {\n",
       "        vertical-align: middle;\n",
       "    }\n",
       "\n",
       "    .dataframe tbody tr th {\n",
       "        vertical-align: top;\n",
       "    }\n",
       "\n",
       "    .dataframe thead th {\n",
       "        text-align: right;\n",
       "    }\n",
       "</style>\n",
       "<table border=\"1\" class=\"dataframe\">\n",
       "  <thead>\n",
       "    <tr style=\"text-align: right;\">\n",
       "      <th></th>\n",
       "      <th>userId</th>\n",
       "      <th>movieId</th>\n",
       "      <th>rating</th>\n",
       "      <th>timestamp</th>\n",
       "    </tr>\n",
       "  </thead>\n",
       "  <tbody>\n",
       "    <tr>\n",
       "      <th>0</th>\n",
       "      <td>1</td>\n",
       "      <td>110</td>\n",
       "      <td>1.0</td>\n",
       "      <td>1425941529</td>\n",
       "    </tr>\n",
       "    <tr>\n",
       "      <th>1</th>\n",
       "      <td>1</td>\n",
       "      <td>147</td>\n",
       "      <td>4.5</td>\n",
       "      <td>1425942435</td>\n",
       "    </tr>\n",
       "  </tbody>\n",
       "</table>\n",
       "</div>"
      ],
      "text/plain": [
       "   userId  movieId  rating   timestamp\n",
       "0       1      110     1.0  1425941529\n",
       "1       1      147     4.5  1425942435"
      ]
     },
     "execution_count": 11,
     "metadata": {},
     "output_type": "execute_result"
    }
   ],
   "source": [
    "# Kaggle ratings data\n",
    "kratings_df = pd.read_csv(data_path + 'raw/ratings.csv')\n",
    "print(kratings_df.info(null_counts=True))\n",
    "kratings_df.head(2)"
   ]
  },
  {
   "cell_type": "markdown",
   "metadata": {},
   "source": [
    "### Wikipedia data\n",
    "\n",
    "This data was scraped from the movie pages on [Wikipedia](https://en.wikipedia.org/)."
   ]
  },
  {
   "cell_type": "code",
   "execution_count": 12,
   "metadata": {},
   "outputs": [
    {
     "name": "stdout",
     "output_type": "stream",
     "text": [
      "<class 'pandas.core.frame.DataFrame'>\n",
      "RangeIndex: 7311 entries, 0 to 7310\n",
      "Columns: 193 entries, url to Polish\n",
      "dtypes: float64(5), object(188)\n",
      "memory usage: 10.8+ MB\n",
      "None\n"
     ]
    },
    {
     "data": {
      "text/html": [
       "<div>\n",
       "<style scoped>\n",
       "    .dataframe tbody tr th:only-of-type {\n",
       "        vertical-align: middle;\n",
       "    }\n",
       "\n",
       "    .dataframe tbody tr th {\n",
       "        vertical-align: top;\n",
       "    }\n",
       "\n",
       "    .dataframe thead th {\n",
       "        text-align: right;\n",
       "    }\n",
       "</style>\n",
       "<table border=\"1\" class=\"dataframe\">\n",
       "  <thead>\n",
       "    <tr style=\"text-align: right;\">\n",
       "      <th></th>\n",
       "      <th>url</th>\n",
       "      <th>year</th>\n",
       "      <th>imdb_link</th>\n",
       "      <th>title</th>\n",
       "      <th>Directed by</th>\n",
       "      <th>Produced by</th>\n",
       "      <th>Screenplay by</th>\n",
       "      <th>Story by</th>\n",
       "      <th>Based on</th>\n",
       "      <th>Starring</th>\n",
       "      <th>...</th>\n",
       "      <th>Predecessor</th>\n",
       "      <th>Founders</th>\n",
       "      <th>Area served</th>\n",
       "      <th>Products</th>\n",
       "      <th>Services</th>\n",
       "      <th>Russian</th>\n",
       "      <th>Hebrew</th>\n",
       "      <th>Revenue</th>\n",
       "      <th>Operating income</th>\n",
       "      <th>Polish</th>\n",
       "    </tr>\n",
       "  </thead>\n",
       "  <tbody>\n",
       "    <tr>\n",
       "      <th>0</th>\n",
       "      <td>https://en.wikipedia.org/wiki/The_Adventures_o...</td>\n",
       "      <td>1990.0</td>\n",
       "      <td>https://www.imdb.com/title/tt0098987/</td>\n",
       "      <td>The Adventures of Ford Fairlane</td>\n",
       "      <td>Renny Harlin</td>\n",
       "      <td>[Steve Perry, Joel Silver]</td>\n",
       "      <td>[David Arnott, James Cappe, Daniel Waters]</td>\n",
       "      <td>[David Arnott, James Cappe]</td>\n",
       "      <td>[Characters, by Rex Weiner]</td>\n",
       "      <td>[Andrew Dice Clay, Wayne Newton, Priscilla Pre...</td>\n",
       "      <td>...</td>\n",
       "      <td>NaN</td>\n",
       "      <td>NaN</td>\n",
       "      <td>NaN</td>\n",
       "      <td>NaN</td>\n",
       "      <td>NaN</td>\n",
       "      <td>NaN</td>\n",
       "      <td>NaN</td>\n",
       "      <td>NaN</td>\n",
       "      <td>NaN</td>\n",
       "      <td>NaN</td>\n",
       "    </tr>\n",
       "    <tr>\n",
       "      <th>1</th>\n",
       "      <td>https://en.wikipedia.org/wiki/After_Dark,_My_S...</td>\n",
       "      <td>1990.0</td>\n",
       "      <td>https://www.imdb.com/title/tt0098994/</td>\n",
       "      <td>After Dark, My Sweet</td>\n",
       "      <td>James Foley</td>\n",
       "      <td>[Ric Kidney, Robert Redlin]</td>\n",
       "      <td>[James Foley, Robert Redlin]</td>\n",
       "      <td>NaN</td>\n",
       "      <td>[the novel, After Dark, My Sweet, by, Jim Thom...</td>\n",
       "      <td>[Jason Patric, Rachel Ward, Bruce Dern, George...</td>\n",
       "      <td>...</td>\n",
       "      <td>NaN</td>\n",
       "      <td>NaN</td>\n",
       "      <td>NaN</td>\n",
       "      <td>NaN</td>\n",
       "      <td>NaN</td>\n",
       "      <td>NaN</td>\n",
       "      <td>NaN</td>\n",
       "      <td>NaN</td>\n",
       "      <td>NaN</td>\n",
       "      <td>NaN</td>\n",
       "    </tr>\n",
       "  </tbody>\n",
       "</table>\n",
       "<p>2 rows × 193 columns</p>\n",
       "</div>"
      ],
      "text/plain": [
       "                                                 url    year  \\\n",
       "0  https://en.wikipedia.org/wiki/The_Adventures_o...  1990.0   \n",
       "1  https://en.wikipedia.org/wiki/After_Dark,_My_S...  1990.0   \n",
       "\n",
       "                               imdb_link                            title  \\\n",
       "0  https://www.imdb.com/title/tt0098987/  The Adventures of Ford Fairlane   \n",
       "1  https://www.imdb.com/title/tt0098994/             After Dark, My Sweet   \n",
       "\n",
       "    Directed by                  Produced by  \\\n",
       "0  Renny Harlin   [Steve Perry, Joel Silver]   \n",
       "1   James Foley  [Ric Kidney, Robert Redlin]   \n",
       "\n",
       "                                Screenplay by                     Story by  \\\n",
       "0  [David Arnott, James Cappe, Daniel Waters]  [David Arnott, James Cappe]   \n",
       "1                [James Foley, Robert Redlin]                          NaN   \n",
       "\n",
       "                                            Based on  \\\n",
       "0                        [Characters, by Rex Weiner]   \n",
       "1  [the novel, After Dark, My Sweet, by, Jim Thom...   \n",
       "\n",
       "                                            Starring  ... Predecessor  \\\n",
       "0  [Andrew Dice Clay, Wayne Newton, Priscilla Pre...  ...         NaN   \n",
       "1  [Jason Patric, Rachel Ward, Bruce Dern, George...  ...         NaN   \n",
       "\n",
       "  Founders Area served Products Services Russian Hebrew Revenue  \\\n",
       "0      NaN         NaN      NaN      NaN     NaN    NaN     NaN   \n",
       "1      NaN         NaN      NaN      NaN     NaN    NaN     NaN   \n",
       "\n",
       "  Operating income Polish  \n",
       "0              NaN    NaN  \n",
       "1              NaN    NaN  \n",
       "\n",
       "[2 rows x 193 columns]"
      ]
     },
     "execution_count": 12,
     "metadata": {},
     "output_type": "execute_result"
    }
   ],
   "source": [
    "# Wikipedia movie data\n",
    "wmovies_df = pd.read_json(data_path + 'raw/wikipedia.movies.json')\n",
    "print(wmovies_df.info())\n",
    "wmovies_df.head(2)"
   ]
  },
  {
   "cell_type": "code",
   "execution_count": 21,
   "metadata": {
    "scrolled": true
   },
   "outputs": [
    {
     "name": "stdout",
     "output_type": "stream",
     "text": [
      "['Actor control', 'Adaptation by', 'Alias', 'Alma mater', 'Also known as', 'Animation by', 'Arabic', 'Area', 'Area served', 'Artist(s)', 'Attraction type', 'Audio format', 'Author', 'Based on', 'Biographical data', 'Bopomofo', 'Born', 'Box office', 'Budget', 'Camera setup', 'Cantonese', 'Characters', 'Children', 'Chinese', 'Cinematography', 'Closing date', 'Color process', 'Comics', 'Composer(s)', 'Coordinates', 'Country', 'Country of origin', 'Cover artist', 'Created by', 'Date premiered', 'Designer(s)', 'Developed by', 'Developer(s)', 'Dewey Decimal', 'Died', 'Directed by', 'Director', 'Distributed by', 'Distributor', 'Divisions', 'Duration', 'Edited by', 'Editor(s)', 'Ending theme', 'Engine', 'Engine(s)', 'Executive producer(s)', 'Family', 'Fate', 'Film(s)', 'Followed by', 'Format(s)', 'Formerly', 'Founded', 'Founder', 'Founders', 'French', 'Full name', 'Gender', 'Genre', 'Genre(s)', 'Genres', 'Gwoyeu Romatzyh', 'Hangul', 'Hanyu Pinyin', 'Headquarters', 'Hebrew', 'Height', 'Hepburn', 'Hokkien POJ', 'IPA', 'ISBN', 'Illustrator', 'Industry', 'Instruments', 'Japanese', 'Jyutping', 'Key people', 'LC Class', 'Label', 'Labels', 'Language', 'Length', 'Literal meaning', 'Literally', 'Mandarin', 'McCune–Reischauer', 'Media type', 'Mode(s)', 'Music', 'Music by', 'Name', 'Narrated by', 'Nationality', 'No. of episodes', 'No. of seasons', 'Novel(s)', 'Number of employees', 'OCLC', 'Occupation', 'Opening date', 'Opening theme', 'Operating income', 'Original language', 'Original language(s)', 'Original network', 'Original release', 'Original title', 'Original work', 'Other names', 'Owner', 'Pages', 'Parent', 'Parent(s)', 'Picture format', 'Place premiered', 'Platform(s)', 'Polish', 'Portrayed by', 'Preceded by', 'Predecessor', 'Produced by', 'Producer', 'Producer(s)', 'Production company', 'Production company(s)', 'Production location(s)', 'Productioncompanies ', 'Productioncompany ', 'Products', 'Programmer(s)', 'Publication date', 'Published', 'Published in English', 'Publisher', 'Publisher(s)', 'Recorded', 'Relatives', 'Release', 'Release date', 'Release(s)', 'Released', 'Replaced', 'Replaced by', 'Resting place', 'Revenue', 'Revised Romanization', 'Romanized', 'Running time', 'Russian', 'Screen story by', 'Screenplay by', 'Seasons', 'Series', 'Services', 'Set in', 'Setting', 'Simplified', 'Simplified Chinese', 'Species', 'Spouse(s)', 'Starring', 'Status', 'Story by', 'Subject', 'Subsidiaries', 'Suggested by', 'Television series', 'Text', 'Theme music composer', 'Total assets', 'Traditional', 'Traditional Chinese', 'Transcriptions', 'Type', 'Venue', 'Voices of', 'Wade–Giles', 'Website', 'Writer(s)', 'Written by', 'Yale Romanization', 'Years active', 'Yiddish', 'imdb_link', 'title', 'url', 'year']\n"
     ]
    }
   ],
   "source": [
    "# Inspect columns\n",
    "print(wmovies_df.columns.sort_values().tolist())"
   ]
  },
  {
   "cell_type": "markdown",
   "metadata": {},
   "source": [
    "Since the Wikipedia data is a lot messier than the Kaggle data, Reading the it in as a Pandas dataframe resulted in 193 columns and a lot of null values. Instead, we'll be reading this data in as JSON and cleaning it up before converting it to a dataframe."
   ]
  },
  {
   "cell_type": "code",
   "execution_count": 13,
   "metadata": {},
   "outputs": [
    {
     "name": "stdout",
     "output_type": "stream",
     "text": [
      "Number of records: 7311\n",
      "Sample record:\n"
     ]
    },
    {
     "data": {
      "text/plain": [
       "{'url': 'https://en.wikipedia.org/wiki/The_Adventures_of_Ford_Fairlane',\n",
       " 'year': 1990,\n",
       " 'imdb_link': 'https://www.imdb.com/title/tt0098987/',\n",
       " 'title': 'The Adventures of Ford Fairlane',\n",
       " 'Directed by': 'Renny Harlin',\n",
       " 'Produced by': ['Steve Perry', 'Joel Silver'],\n",
       " 'Screenplay by': ['David Arnott', 'James Cappe', 'Daniel Waters'],\n",
       " 'Story by': ['David Arnott', 'James Cappe'],\n",
       " 'Based on': ['Characters', 'by Rex Weiner'],\n",
       " 'Starring': ['Andrew Dice Clay',\n",
       "  'Wayne Newton',\n",
       "  'Priscilla Presley',\n",
       "  'Lauren Holly',\n",
       "  'Morris Day',\n",
       "  'Robert Englund',\n",
       "  \"Ed O'Neill\"],\n",
       " 'Narrated by': 'Andrew \"Dice\" Clay',\n",
       " 'Music by': ['Cliff Eidelman', 'Yello'],\n",
       " 'Cinematography': 'Oliver Wood',\n",
       " 'Edited by': 'Michael Tronick',\n",
       " 'Productioncompany ': 'Silver Pictures',\n",
       " 'Distributed by': '20th Century Fox',\n",
       " 'Release date': ['July 11, 1990', '(', '1990-07-11', ')'],\n",
       " 'Running time': '102 minutes',\n",
       " 'Country': 'United States',\n",
       " 'Language': 'English',\n",
       " 'Budget': '$20 million',\n",
       " 'Box office': '$21.4 million'}"
      ]
     },
     "execution_count": 13,
     "metadata": {},
     "output_type": "execute_result"
    }
   ],
   "source": [
    "# Wikipedia movie data\n",
    "with open(data_path + 'raw/wikipedia.movies.json', 'r') as f:\n",
    "    wmovies = json.load(f)\n",
    "    \n",
    "print('Number of records:', len(wmovies))\n",
    "print('Sample record:')\n",
    "wmovies[0]"
   ]
  },
  {
   "cell_type": "markdown",
   "metadata": {},
   "source": [
    "### Filter for movies\n",
    "\n",
    "There seem to be TV shows mixed into the data. To filter for movies, records must have a value for:\n",
    "1. `imdb_link`\n",
    "2. `Directed by`/`Director`\n",
    "3. `Duration`/`Length`/`Running time`\n",
    "\n",
    "Records should also NOT have a value for:\n",
    "1. `No. of seasons`\n",
    "2. `No. of episodes`"
   ]
  },
  {
   "cell_type": "code",
   "execution_count": 17,
   "metadata": {},
   "outputs": [
    {
     "data": {
      "text/plain": [
       "6936"
      ]
     },
     "execution_count": 17,
     "metadata": {},
     "output_type": "execute_result"
    }
   ],
   "source": [
    "# Filter out tv shows\n",
    "wmovies_filtered = [movie for movie in wmovies if \n",
    "                    ('imdb_link' in movie) and \n",
    "                    ('Directed by' in movie or 'Director' in movie) and \n",
    "                    ('Duration' in movie or 'Length' in movie or 'Running time' in movie) and \n",
    "                    ('No. of seasons' not in movie) and \n",
    "                    ('No. of episodes' not in movie)]\n",
    "len(wmovies_filtered)"
   ]
  },
  {
   "cell_type": "code",
   "execution_count": 22,
   "metadata": {},
   "outputs": [
    {
     "name": "stdout",
     "output_type": "stream",
     "text": [
      "(6936, 75)\n"
     ]
    },
    {
     "data": {
      "text/plain": [
       "Index(['Adaptation by', 'Also known as', 'Animation by', 'Arabic',\n",
       "       'Audio format', 'Based on', 'Box office', 'Budget', 'Cantonese',\n",
       "       'Chinese', 'Cinematography', 'Color process', 'Composer(s)', 'Country',\n",
       "       'Country of origin', 'Created by', 'Directed by', 'Director',\n",
       "       'Distributed by', 'Distributor', 'Edited by', 'Editor(s)',\n",
       "       'Executive producer(s)', 'Followed by', 'French', 'Genre', 'Hangul',\n",
       "       'Hebrew', 'Hepburn', 'Japanese', 'Label', 'Language', 'Length',\n",
       "       'Literally', 'Mandarin', 'McCune–Reischauer', 'Music by', 'Narrated by',\n",
       "       'Original language(s)', 'Original network', 'Original release',\n",
       "       'Original title', 'Picture format', 'Polish', 'Preceded by',\n",
       "       'Produced by', 'Producer', 'Producer(s)', 'Production company(s)',\n",
       "       'Production location(s)', 'Productioncompanies ', 'Productioncompany ',\n",
       "       'Recorded', 'Release date', 'Released', 'Revised Romanization',\n",
       "       'Romanized', 'Running time', 'Russian', 'Screen story by',\n",
       "       'Screenplay by', 'Simplified', 'Starring', 'Story by', 'Suggested by',\n",
       "       'Theme music composer', 'Traditional', 'Venue', 'Voices of',\n",
       "       'Written by', 'Yiddish', 'imdb_link', 'title', 'url', 'year'],\n",
       "      dtype='object')"
      ]
     },
     "execution_count": 22,
     "metadata": {},
     "output_type": "execute_result"
    }
   ],
   "source": [
    "# Convert to df\n",
    "wmovies_filtered_df = pd.DataFrame(wmovies_filtered)\n",
    "print(wmovies_filtered_df.shape)\n",
    "\n",
    "# Inspect columns\n",
    "wmovies_cols = wmovies_filtered_df.columns.sort_values()\n",
    "wmovies_cols"
   ]
  },
  {
   "cell_type": "markdown",
   "metadata": {},
   "source": [
    "### Clean columns\n",
    "\n",
    "Just by filtering out the TV shows, the data has been reduced to 75 columns. Let's take a look at a sample value for each column to get a better understanding of the data. Since there are a lot of missing values in most of the columns, the sample values will not all correspond to the same record."
   ]
  },
  {
   "cell_type": "code",
   "execution_count": 23,
   "metadata": {},
   "outputs": [
    {
     "name": "stdout",
     "output_type": "stream",
     "text": [
      "Adaptation by : ['John L. Balderston', 'Paul Perez', 'Daniel Moore']\n",
      "Also known as : Detonator II: Night Watch\n",
      "Animation by : ['Andreas Deja', 'Gary Dunn', 'Deboissy Sylvain']\n",
      "Arabic : قضية رقم ٢٣\n",
      "Audio format : Stereo\n",
      "Based on : ['Characters', 'by Rex Weiner']\n",
      "Box office : $21.4 million\n",
      "Budget : $20 million\n",
      "Cantonese : ['Jip', '6', 'Man', '6', 'Saam', '1']\n",
      "Chinese : 摇滚藏獒\n",
      "Cinematography : Oliver Wood\n",
      "Color process : Technicolor\n",
      "Composer(s) : Richard Bellis\n",
      "Country : United States\n",
      "Country of origin : United States\n",
      "Created by : ['John William Corrington', '(novel)']\n",
      "Directed by : Renny Harlin\n",
      "Director : Mark \"Aldo\" Miceli\n",
      "Distributed by : 20th Century Fox\n",
      "Distributor : NBC\n",
      "Edited by : Michael Tronick\n",
      "Editor(s) : ['Christopher Cooke', 'James Galloway']\n",
      "Executive producer(s) : Rich Melcombe\n",
      "Followed by : See below\n",
      "French : Le Cinquième Élément\n",
      "Genre : Thriller\n",
      "Hangul : 원더풀 데이즈\n",
      "Hebrew : פוֹקְסטְרוֹט\n",
      "Hepburn : Omoide no Mānī\n",
      "Japanese : 思い出のマーニー\n",
      "Label : ['Warner Music Vision', 'Warner-Reprise Video', 'Maverick', 'Sire', 'Warner Bros.']\n",
      "Language : English\n",
      "Length : 117 mins\n",
      "Literally : Marnie of [my] Memories\n",
      "Mandarin : Xǐyàn\n",
      "McCune–Reischauer : Wŏndŏp‘ul teijŭ\n",
      "Music by : ['Cliff Eidelman', 'Yello']\n",
      "Narrated by : Andrew \"Dice\" Clay\n",
      "Original language(s) : English\n",
      "Original network : NBC\n",
      "Original release : February 11, 1990\n",
      "Original title : ואלס עם באשיר\n",
      "Picture format : Color\n",
      "Polish : Zimna wojna\n",
      "Preceded by : Psycho III\n",
      "Produced by : ['Steve Perry', 'Joel Silver']\n",
      "Producer : Marty Callner\n",
      "Producer(s) : ['Susan Baerwald (executive producer)', 'Dan Wigutow (executive producer)', 'Daniel Franklin (co-producer)']\n",
      "Production company(s) : NBC Productions\n",
      "Production location(s) : ['Paramount Ranch - 2813 Cornell Road,', 'Agoura, California']\n",
      "Productioncompanies  : ['Lightning Pictures', 'Mack-Taylor Productions', 'Precision Films']\n",
      "Productioncompany  : Silver Pictures\n",
      "Recorded : November 19, 1993\n",
      "Release date : ['July 11, 1990', '(', '1990-07-11', ')']\n",
      "Released : April 25, 1994\n",
      "Revised Romanization : Wondeopul deijeu\n",
      "Romanized : Qadiyya raqm 23\n",
      "Running time : 102 minutes\n",
      "Russian : Нелюбовь\n",
      "Screen story by : Ian Watson\n",
      "Screenplay by : ['David Arnott', 'James Cappe', 'Daniel Waters']\n",
      "Simplified : 东宫西宫\n",
      "Starring : ['Andrew Dice Clay', 'Wayne Newton', 'Priscilla Presley', 'Lauren Holly', 'Morris Day', 'Robert Englund', \"Ed O'Neill\"]\n",
      "Story by : ['David Arnott', 'James Cappe']\n",
      "Suggested by : ['Character from', 'Profumo di donna', 'by', 'Ruggero Maccari', 'Dino Risi']\n",
      "Theme music composer : Laurence Rosenthal\n",
      "Traditional : 喜宴\n",
      "Venue : ['Sydney Cricket Ground', '(', 'Sydney, Australia', ')']\n",
      "Voices of : See full below\n",
      "Written by : Woody Allen\n",
      "Yiddish : מנשה\n",
      "imdb_link : https://www.imdb.com/title/tt0098987/\n",
      "title : The Adventures of Ford Fairlane\n",
      "url : https://en.wikipedia.org/wiki/The_Adventures_of_Ford_Fairlane\n",
      "year : 1990\n"
     ]
    }
   ],
   "source": [
    "# Sample value for each column\n",
    "for col in wmovies_cols:\n",
    "    # Print the first non-null value in the column\n",
    "    print(col, ':', wmovies_filtered_df.loc[wmovies_filtered_df[col].notnull(), col].values[0])"
   ]
  },
  {
   "cell_type": "markdown",
   "metadata": {},
   "source": [
    "We will be addressing a few things here:\n",
    "1. There are a lot of columns holding alternate titles for the movies so we're going to group all of these together in the JSON data.\n",
    "2. There are also a lot of redundant columns giving the same information, such as `Directed by` and `Director`. We'll be grouping these together as well.\n",
    "3. The column names are inconsistent, so we will rename them for consistency."
   ]
  },
  {
   "cell_type": "code",
   "execution_count": 34,
   "metadata": {},
   "outputs": [
    {
     "data": {
      "text/plain": [
       "(20, 55)"
      ]
     },
     "execution_count": 34,
     "metadata": {},
     "output_type": "execute_result"
    }
   ],
   "source": [
    "# Keys holding alternate titles\n",
    "title_keys = ['Also known as', 'Arabic', 'Cantonese', 'Chinese', 'French', \n",
    "              'Hangul', 'Hebrew', 'Hepburn', 'Japanese', 'Literally', 'Mandarin', \n",
    "              'McCune–Reischauer', 'Original title', 'Polish', 'Revised Romanization', \n",
    "              'Romanized', 'Russian', 'Simplified', 'Traditional', 'Yiddish']\n",
    "\n",
    "# Key rename pairs (old name: new name)\n",
    "keys_to_rename = {\n",
    "    'Adaptation by': 'writers',\n",
    "    'Animation by': 'animators',\n",
    "    'Audio format': 'audio_format',\n",
    "    'Based on': 'based_on',\n",
    "    'Box office': 'box_office',\n",
    "    'Budget': 'budget',\n",
    "    'Cinematography': 'cinematographers',\n",
    "    'Color process': 'color_process',\n",
    "    'Composer(s)': 'composers',\n",
    "    'Country': 'country',\n",
    "    'Country of origin': 'country',\n",
    "    'Created by': 'creators',\n",
    "    'Directed by': 'director',\n",
    "    'Director': 'director',\n",
    "    'Distributed by': 'distributor',\n",
    "    'Distributor': 'distributor',\n",
    "    'Edited by': 'editors',\n",
    "    'Editor(s)': 'editors',\n",
    "    'Executive producer(s)': 'executive_producers',\n",
    "    'Followed by': 'sequel',\n",
    "    'Genre': 'genre',\n",
    "    'Label': 'label',\n",
    "    'Language': 'languages',\n",
    "    'Length': 'duration',\n",
    "    'Music by': 'composers',\n",
    "    'Narrated by': 'narrator',\n",
    "    'Original language(s)': 'languages', \n",
    "    'Original network': 'network', \n",
    "    'Original release': 'release_date',\n",
    "    'Picture format': 'picture_format',\n",
    "    'Preceded by': 'prequel',\n",
    "    'Produced by': 'producers',\n",
    "    'Producer': 'producers',\n",
    "    'Producer(s)': 'producers',\n",
    "    'Production company(s)': 'production_companies',\n",
    "    'Production location(s)': 'production_locations',\n",
    "    'Productioncompanies ': 'production_companies',\n",
    "    'Productioncompany ': 'production_companies',\n",
    "    'Recorded': 'recorded',\n",
    "    'Release date': 'release_date',\n",
    "    'Released': 'release_date',\n",
    "    'Running time': 'duration',\n",
    "    'Screen story by': 'writers',\n",
    "    'Screenplay by': 'writers',\n",
    "    'Starring': 'stars',\n",
    "    'Story by': 'writers',\n",
    "    'Suggested by': 'suggestors',\n",
    "    'Theme music composer': 'composers',\n",
    "    'Venue': 'venue',\n",
    "    'Voices of': 'voicers',\n",
    "    'Written by': 'writers',\n",
    "    'imdb_link': 'imdb_link', \n",
    "    'title': 'title',\n",
    "    'url': 'url', \n",
    "    'year': 'year'\n",
    "}\n",
    "\n",
    "len(title_keys), len(keys_to_rename)"
   ]
  },
  {
   "cell_type": "code",
   "execution_count": 35,
   "metadata": {},
   "outputs": [
    {
     "data": {
      "text/plain": [
       "{'alternate_titles': {'mandarin': 'Xǐyàn', 'traditional': '喜宴'},\n",
       " 'box_office': '$23.6 million',\n",
       " 'budget': '$1 million',\n",
       " 'cinematographers': 'Jong Lin',\n",
       " 'country': ['Taiwan', 'United States'],\n",
       " 'director': 'Ang Lee',\n",
       " 'distributor': 'The Samuel Goldwyn Company',\n",
       " 'editors': 'Tim Squyres',\n",
       " 'languages': ['Mandarin Chinese', 'English'],\n",
       " 'composers': 'Mader',\n",
       " 'producers': ['Ang Lee', 'Ted Hope', 'James Schamus'],\n",
       " 'production_companies': 'Good Machine',\n",
       " 'release_date': ['4 August 1993', '(', '1993-08-04', ')', '(United States)'],\n",
       " 'duration': '106 minutes',\n",
       " 'stars': ['Ah-Leh Gua',\n",
       "  'Sihung Lung',\n",
       "  'May Chin',\n",
       "  'Winston Chao',\n",
       "  'Mitchell Lichtenstein'],\n",
       " 'writers': ['Ang Lee', 'Neil Peng', 'James Schamus'],\n",
       " 'imdb_link': 'https://www.imdb.com/title/tt0107156/',\n",
       " 'title': 'The Wedding Banquet',\n",
       " 'url': 'https://en.wikipedia.org/wiki/The_Wedding_Banquet',\n",
       " 'year': 1993}"
      ]
     },
     "execution_count": 35,
     "metadata": {},
     "output_type": "execute_result"
    }
   ],
   "source": [
    "def clean_movie(movie_dict, title_keys=title_keys, keys_to_rename=keys_to_rename):\n",
    "    \n",
    "    \"\"\"\n",
    "    Clean movie dictionary with the following steps:\n",
    "        [1] combine all alternate titles into a single key\n",
    "        [2] rename keys for consistency and to consolidate similar columns into 1\n",
    "    \n",
    "    Args:\n",
    "        [1] movie_dict (dict) - record to clean\n",
    "        [2] title_keys (list[str]) - names of keys with the movie's alternate titles\n",
    "        [3] keys_to_rename (dict{str: str}) - mapping of old key name to new key name\n",
    "    \n",
    "    Returns:\n",
    "        (Dict) clean movie dictionary\n",
    "    \"\"\"\n",
    "    \n",
    "    # Copy of movie dict and empty dict for alternate titles\n",
    "    movie_dict, alt_titles = dict(movie_dict), dict()\n",
    "    \n",
    "    # Add keys with alternate titles to alt_titles dict and delete the original key\n",
    "    for key in title_keys:\n",
    "        if key in movie_dict:\n",
    "            alt_titles[key.lower().replace(' ', '_')] = movie_dict.pop(key)\n",
    "            \n",
    "    # Add new key for alternate titles\n",
    "    if len(alt_titles):\n",
    "        movie_dict['alternate_titles'] = alt_titles\n",
    "        \n",
    "    # Rename keys\n",
    "    for old, new in keys_to_rename.items():\n",
    "        if old in movie_dict:\n",
    "            movie_dict[new] = movie_dict.pop(old)\n",
    "        \n",
    "    return movie_dict\n",
    "            \n",
    "    \n",
    "# Test function\n",
    "clean_movie(wmovies_filtered[849])"
   ]
  },
  {
   "cell_type": "code",
   "execution_count": 36,
   "metadata": {},
   "outputs": [
    {
     "name": "stdout",
     "output_type": "stream",
     "text": [
      "(6936, 38)\n"
     ]
    },
    {
     "data": {
      "text/plain": [
       "Index(['alternate_titles', 'animators', 'audio_format', 'based_on',\n",
       "       'box_office', 'budget', 'cinematographers', 'color_process',\n",
       "       'composers', 'country', 'creators', 'director', 'distributor',\n",
       "       'duration', 'editors', 'executive_producers', 'genre', 'imdb_link',\n",
       "       'label', 'languages', 'narrator', 'network', 'picture_format',\n",
       "       'prequel', 'producers', 'production_companies', 'production_locations',\n",
       "       'recorded', 'release_date', 'sequel', 'stars', 'suggestors', 'title',\n",
       "       'url', 'venue', 'voicers', 'writers', 'year'],\n",
       "      dtype='object')"
      ]
     },
     "execution_count": 36,
     "metadata": {},
     "output_type": "execute_result"
    }
   ],
   "source": [
    "# Clean movie dictionaries\n",
    "wmovies_clean = [clean_movie(movie) for movie in wmovies_filtered]\n",
    "\n",
    "# Convert Wikipedia data to df\n",
    "wmovies_clean_df = pd.DataFrame(wmovies_clean)\n",
    "print(wmovies_clean_df.shape)\n",
    "\n",
    "# Inspect columns\n",
    "wmovies_clean_df.columns.sort_values()"
   ]
  },
  {
   "cell_type": "markdown",
   "metadata": {},
   "source": [
    "### Duplicated rows"
   ]
  },
  {
   "cell_type": "code",
   "execution_count": 15,
   "metadata": {},
   "outputs": [
    {
     "data": {
      "text/plain": [
       "0    https://www.imdb.com/title/tt0098987/\n",
       "1    https://www.imdb.com/title/tt0098994/\n",
       "2    https://www.imdb.com/title/tt0099005/\n",
       "3    https://www.imdb.com/title/tt0099012/\n",
       "4    https://www.imdb.com/title/tt0099018/\n",
       "5    https://www.imdb.com/title/tt0099026/\n",
       "Name: IMDB link, dtype: object"
      ]
     },
     "execution_count": 15,
     "metadata": {},
     "output_type": "execute_result"
    }
   ],
   "source": [
    "# Make a copy of the df\n",
    "wiki_drop_dups_df = wiki_group_titles_df.copy()\n",
    "\n",
    "# Inspect IMDB links\n",
    "wiki_drop_dups_df.loc[:5, 'IMDB link']"
   ]
  },
  {
   "cell_type": "code",
   "execution_count": 16,
   "metadata": {},
   "outputs": [
    {
     "data": {
      "text/html": [
       "<div>\n",
       "<style scoped>\n",
       "    .dataframe tbody tr th:only-of-type {\n",
       "        vertical-align: middle;\n",
       "    }\n",
       "\n",
       "    .dataframe tbody tr th {\n",
       "        vertical-align: top;\n",
       "    }\n",
       "\n",
       "    .dataframe thead th {\n",
       "        text-align: right;\n",
       "    }\n",
       "</style>\n",
       "<table border=\"1\" class=\"dataframe\">\n",
       "  <thead>\n",
       "    <tr style=\"text-align: right;\">\n",
       "      <th></th>\n",
       "      <th>Based on</th>\n",
       "      <th>Release date</th>\n",
       "      <th>Country</th>\n",
       "      <th>Budget</th>\n",
       "      <th>Box office</th>\n",
       "      <th>Cinematographer(s)</th>\n",
       "      <th>Director</th>\n",
       "      <th>Distributor</th>\n",
       "      <th>Editor(s)</th>\n",
       "      <th>Language(s)</th>\n",
       "      <th>...</th>\n",
       "      <th>Suggestor(s)</th>\n",
       "      <th>Alternate Titles</th>\n",
       "      <th>Released</th>\n",
       "      <th>Recorded</th>\n",
       "      <th>Venue</th>\n",
       "      <th>Label</th>\n",
       "      <th>Producer</th>\n",
       "      <th>Color process</th>\n",
       "      <th>Animator(s)</th>\n",
       "      <th>ID</th>\n",
       "    </tr>\n",
       "  </thead>\n",
       "  <tbody>\n",
       "    <tr>\n",
       "      <th>0</th>\n",
       "      <td>[Characters, by Rex Weiner]</td>\n",
       "      <td>[July 11, 1990, (, 1990-07-11, )]</td>\n",
       "      <td>United States</td>\n",
       "      <td>$20 million</td>\n",
       "      <td>$21.4 million</td>\n",
       "      <td>Oliver Wood</td>\n",
       "      <td>Renny Harlin</td>\n",
       "      <td>20th Century Fox</td>\n",
       "      <td>Michael Tronick</td>\n",
       "      <td>English</td>\n",
       "      <td>...</td>\n",
       "      <td>NaN</td>\n",
       "      <td>NaN</td>\n",
       "      <td>NaN</td>\n",
       "      <td>NaN</td>\n",
       "      <td>NaN</td>\n",
       "      <td>NaN</td>\n",
       "      <td>NaN</td>\n",
       "      <td>NaN</td>\n",
       "      <td>NaN</td>\n",
       "      <td>tt0098987</td>\n",
       "    </tr>\n",
       "    <tr>\n",
       "      <th>1</th>\n",
       "      <td>[the novel, After Dark, My Sweet, by, Jim Thom...</td>\n",
       "      <td>[May 17, 1990, (, 1990-05-17, ), (Cannes Film ...</td>\n",
       "      <td>United States</td>\n",
       "      <td>$6 million</td>\n",
       "      <td>$2.7 million</td>\n",
       "      <td>Mark Plummer</td>\n",
       "      <td>James Foley</td>\n",
       "      <td>Avenue Pictures</td>\n",
       "      <td>Howard E. Smith</td>\n",
       "      <td>English</td>\n",
       "      <td>...</td>\n",
       "      <td>NaN</td>\n",
       "      <td>NaN</td>\n",
       "      <td>NaN</td>\n",
       "      <td>NaN</td>\n",
       "      <td>NaN</td>\n",
       "      <td>NaN</td>\n",
       "      <td>NaN</td>\n",
       "      <td>NaN</td>\n",
       "      <td>NaN</td>\n",
       "      <td>tt0098994</td>\n",
       "    </tr>\n",
       "  </tbody>\n",
       "</table>\n",
       "<p>2 rows × 41 columns</p>\n",
       "</div>"
      ],
      "text/plain": [
       "                                            Based on  \\\n",
       "0                        [Characters, by Rex Weiner]   \n",
       "1  [the novel, After Dark, My Sweet, by, Jim Thom...   \n",
       "\n",
       "                                        Release date        Country  \\\n",
       "0                  [July 11, 1990, (, 1990-07-11, )]  United States   \n",
       "1  [May 17, 1990, (, 1990-05-17, ), (Cannes Film ...  United States   \n",
       "\n",
       "        Budget     Box office Cinematographer(s)      Director  \\\n",
       "0  $20 million  $21.4 million        Oliver Wood  Renny Harlin   \n",
       "1   $6 million   $2.7 million       Mark Plummer   James Foley   \n",
       "\n",
       "        Distributor        Editor(s) Language(s)  ... Suggestor(s)  \\\n",
       "0  20th Century Fox  Michael Tronick     English  ...          NaN   \n",
       "1   Avenue Pictures  Howard E. Smith     English  ...          NaN   \n",
       "\n",
       "  Alternate Titles Released Recorded Venue Label Producer Color process  \\\n",
       "0              NaN      NaN      NaN   NaN   NaN      NaN           NaN   \n",
       "1              NaN      NaN      NaN   NaN   NaN      NaN           NaN   \n",
       "\n",
       "  Animator(s)         ID  \n",
       "0         NaN  tt0098987  \n",
       "1         NaN  tt0098994  \n",
       "\n",
       "[2 rows x 41 columns]"
      ]
     },
     "execution_count": 16,
     "metadata": {},
     "output_type": "execute_result"
    }
   ],
   "source": [
    "# Extract IMDB ID from the link\n",
    "# wiki_drop_dups_df['ID'] = wiki_drop_dups_df['IMDB link'].str.split('/', expand=True)[4]\n",
    "wiki_drop_dups_df['ID'] = wiki_drop_dups_df['IMDB link'].str.extract(r'(tt\\d{7})')\n",
    "wiki_drop_dups_df.head(2)"
   ]
  },
  {
   "cell_type": "code",
   "execution_count": 17,
   "metadata": {},
   "outputs": [
    {
     "name": "stdout",
     "output_type": "stream",
     "text": [
      "42\n"
     ]
    },
    {
     "data": {
      "text/html": [
       "<div>\n",
       "<style scoped>\n",
       "    .dataframe tbody tr th:only-of-type {\n",
       "        vertical-align: middle;\n",
       "    }\n",
       "\n",
       "    .dataframe tbody tr th {\n",
       "        vertical-align: top;\n",
       "    }\n",
       "\n",
       "    .dataframe thead th {\n",
       "        text-align: right;\n",
       "    }\n",
       "</style>\n",
       "<table border=\"1\" class=\"dataframe\">\n",
       "  <thead>\n",
       "    <tr style=\"text-align: right;\">\n",
       "      <th></th>\n",
       "      <th>Based on</th>\n",
       "      <th>Release date</th>\n",
       "      <th>Country</th>\n",
       "      <th>Budget</th>\n",
       "      <th>Box office</th>\n",
       "      <th>Cinematographer(s)</th>\n",
       "      <th>Director</th>\n",
       "      <th>Distributor</th>\n",
       "      <th>Editor(s)</th>\n",
       "      <th>Language(s)</th>\n",
       "      <th>...</th>\n",
       "      <th>Suggestor(s)</th>\n",
       "      <th>Alternate Titles</th>\n",
       "      <th>Released</th>\n",
       "      <th>Recorded</th>\n",
       "      <th>Venue</th>\n",
       "      <th>Label</th>\n",
       "      <th>Producer</th>\n",
       "      <th>Color process</th>\n",
       "      <th>Animator(s)</th>\n",
       "      <th>ID</th>\n",
       "    </tr>\n",
       "  </thead>\n",
       "  <tbody>\n",
       "    <tr>\n",
       "      <th>23</th>\n",
       "      <td>[Characters, by, H. P. Lovecraft]</td>\n",
       "      <td>[September 8, 1990, (, 1990-09-08, ), (, TIFF,...</td>\n",
       "      <td>United States</td>\n",
       "      <td>NaN</td>\n",
       "      <td>NaN</td>\n",
       "      <td>Rick Fichter</td>\n",
       "      <td>Brian Yuzna</td>\n",
       "      <td>50th Street Films</td>\n",
       "      <td>Peter Teschner</td>\n",
       "      <td>English</td>\n",
       "      <td>...</td>\n",
       "      <td>NaN</td>\n",
       "      <td>NaN</td>\n",
       "      <td>NaN</td>\n",
       "      <td>NaN</td>\n",
       "      <td>NaN</td>\n",
       "      <td>NaN</td>\n",
       "      <td>NaN</td>\n",
       "      <td>NaN</td>\n",
       "      <td>NaN</td>\n",
       "      <td>tt0099180</td>\n",
       "    </tr>\n",
       "    <tr>\n",
       "      <th>273</th>\n",
       "      <td>[Characters, by, H. P. Lovecraft]</td>\n",
       "      <td>[September 8, 1990, (, 1990-09-08, ), (, TIFF,...</td>\n",
       "      <td>United States</td>\n",
       "      <td>NaN</td>\n",
       "      <td>NaN</td>\n",
       "      <td>Rick Fichter</td>\n",
       "      <td>Brian Yuzna</td>\n",
       "      <td>50th Street Films</td>\n",
       "      <td>Peter Teschner</td>\n",
       "      <td>English</td>\n",
       "      <td>...</td>\n",
       "      <td>NaN</td>\n",
       "      <td>NaN</td>\n",
       "      <td>NaN</td>\n",
       "      <td>NaN</td>\n",
       "      <td>NaN</td>\n",
       "      <td>NaN</td>\n",
       "      <td>NaN</td>\n",
       "      <td>NaN</td>\n",
       "      <td>NaN</td>\n",
       "      <td>tt0099180</td>\n",
       "    </tr>\n",
       "    <tr>\n",
       "      <th>199</th>\n",
       "      <td>NaN</td>\n",
       "      <td>[3 October 1990, (, 1990-10-03, ), (Norway), 1...</td>\n",
       "      <td>[Norway, Sweden, United States]</td>\n",
       "      <td>[60 million, Norwegian Kroner]</td>\n",
       "      <td>$15.1 million</td>\n",
       "      <td>Erling Thurmann-Andersen</td>\n",
       "      <td>Nils Gaup</td>\n",
       "      <td>Buena Vista Pictures</td>\n",
       "      <td>Nils Pagh Andersen</td>\n",
       "      <td>English</td>\n",
       "      <td>...</td>\n",
       "      <td>NaN</td>\n",
       "      <td>NaN</td>\n",
       "      <td>NaN</td>\n",
       "      <td>NaN</td>\n",
       "      <td>NaN</td>\n",
       "      <td>NaN</td>\n",
       "      <td>NaN</td>\n",
       "      <td>NaN</td>\n",
       "      <td>NaN</td>\n",
       "      <td>tt0099816</td>\n",
       "    </tr>\n",
       "    <tr>\n",
       "      <th>611</th>\n",
       "      <td>NaN</td>\n",
       "      <td>[3 October 1990, (, 1990-10-03, ), (Norway), 1...</td>\n",
       "      <td>[Norway, Sweden, United States]</td>\n",
       "      <td>[60 million, Norwegian Kroner]</td>\n",
       "      <td>$15.1 million</td>\n",
       "      <td>Erling Thurmann-Andersen</td>\n",
       "      <td>Nils Gaup</td>\n",
       "      <td>Buena Vista Pictures</td>\n",
       "      <td>Nils Pagh Andersen</td>\n",
       "      <td>English</td>\n",
       "      <td>...</td>\n",
       "      <td>NaN</td>\n",
       "      <td>NaN</td>\n",
       "      <td>NaN</td>\n",
       "      <td>NaN</td>\n",
       "      <td>NaN</td>\n",
       "      <td>NaN</td>\n",
       "      <td>NaN</td>\n",
       "      <td>NaN</td>\n",
       "      <td>NaN</td>\n",
       "      <td>tt0099816</td>\n",
       "    </tr>\n",
       "  </tbody>\n",
       "</table>\n",
       "<p>4 rows × 41 columns</p>\n",
       "</div>"
      ],
      "text/plain": [
       "                              Based on  \\\n",
       "23   [Characters, by, H. P. Lovecraft]   \n",
       "273  [Characters, by, H. P. Lovecraft]   \n",
       "199                                NaN   \n",
       "611                                NaN   \n",
       "\n",
       "                                          Release date  \\\n",
       "23   [September 8, 1990, (, 1990-09-08, ), (, TIFF,...   \n",
       "273  [September 8, 1990, (, 1990-09-08, ), (, TIFF,...   \n",
       "199  [3 October 1990, (, 1990-10-03, ), (Norway), 1...   \n",
       "611  [3 October 1990, (, 1990-10-03, ), (Norway), 1...   \n",
       "\n",
       "                             Country                          Budget  \\\n",
       "23                     United States                             NaN   \n",
       "273                    United States                             NaN   \n",
       "199  [Norway, Sweden, United States]  [60 million, Norwegian Kroner]   \n",
       "611  [Norway, Sweden, United States]  [60 million, Norwegian Kroner]   \n",
       "\n",
       "        Box office        Cinematographer(s)     Director  \\\n",
       "23             NaN              Rick Fichter  Brian Yuzna   \n",
       "273            NaN              Rick Fichter  Brian Yuzna   \n",
       "199  $15.1 million  Erling Thurmann-Andersen    Nils Gaup   \n",
       "611  $15.1 million  Erling Thurmann-Andersen    Nils Gaup   \n",
       "\n",
       "              Distributor           Editor(s) Language(s)  ... Suggestor(s)  \\\n",
       "23      50th Street Films      Peter Teschner     English  ...          NaN   \n",
       "273     50th Street Films      Peter Teschner     English  ...          NaN   \n",
       "199  Buena Vista Pictures  Nils Pagh Andersen     English  ...          NaN   \n",
       "611  Buena Vista Pictures  Nils Pagh Andersen     English  ...          NaN   \n",
       "\n",
       "    Alternate Titles Released Recorded Venue Label Producer Color process  \\\n",
       "23               NaN      NaN      NaN   NaN   NaN      NaN           NaN   \n",
       "273              NaN      NaN      NaN   NaN   NaN      NaN           NaN   \n",
       "199              NaN      NaN      NaN   NaN   NaN      NaN           NaN   \n",
       "611              NaN      NaN      NaN   NaN   NaN      NaN           NaN   \n",
       "\n",
       "    Animator(s)         ID  \n",
       "23          NaN  tt0099180  \n",
       "273         NaN  tt0099180  \n",
       "199         NaN  tt0099816  \n",
       "611         NaN  tt0099816  \n",
       "\n",
       "[4 rows x 41 columns]"
      ]
     },
     "execution_count": 17,
     "metadata": {},
     "output_type": "execute_result"
    }
   ],
   "source": [
    "# Check for duplicate movies\n",
    "print(wiki_drop_dups_df.duplicated(subset=['ID']).sum())\n",
    "wiki_drop_dups_df[wiki_drop_dups_df.duplicated(subset=['ID'], keep=False)].sort_values('ID').head(4)"
   ]
  },
  {
   "cell_type": "code",
   "execution_count": 18,
   "metadata": {},
   "outputs": [
    {
     "data": {
      "text/plain": [
       "(6894, 41)"
      ]
     },
     "execution_count": 18,
     "metadata": {},
     "output_type": "execute_result"
    }
   ],
   "source": [
    "# Drop duplicate movies\n",
    "wiki_drop_dups_df.drop_duplicates(subset=['ID'], inplace=True)\n",
    "wiki_drop_dups_df.shape"
   ]
  },
  {
   "cell_type": "markdown",
   "metadata": {},
   "source": [
    "### Columns with mostly missing values"
   ]
  },
  {
   "cell_type": "code",
   "execution_count": 19,
   "metadata": {},
   "outputs": [
    {
     "data": {
      "text/plain": [
       "Narrator                  0.959240\n",
       "Genre                     0.984624\n",
       "Network                   0.982594\n",
       "Executive producer(s)     0.986365\n",
       "Production location(s)    0.993328\n",
       "Picture format            0.991007\n",
       "Audio format              0.991297\n",
       "Sequel                    0.998695\n",
       "Voicer(s)                 0.999710\n",
       "Creator(s)                0.998549\n",
       "Prequel                   0.998549\n",
       "Suggestor(s)              0.999855\n",
       "Alternate Titles          0.996954\n",
       "Released                  0.999710\n",
       "Recorded                  0.999710\n",
       "Venue                     0.999855\n",
       "Label                     0.999710\n",
       "Producer                  0.999710\n",
       "Color process             0.999855\n",
       "Animator(s)               0.999710\n",
       "dtype: float64"
      ]
     },
     "execution_count": 19,
     "metadata": {},
     "output_type": "execute_result"
    }
   ],
   "source": [
    "# Check columns where at least 70% of the values are missing\n",
    "cols_missing = wiki_drop_dups_df.isnull().mean()\n",
    "cols_missing70 = cols_missing[cols_missing >= 0.7]\n",
    "cols_missing70"
   ]
  },
  {
   "cell_type": "code",
   "execution_count": 20,
   "metadata": {},
   "outputs": [
    {
     "name": "stdout",
     "output_type": "stream",
     "text": [
      "(6894, 21)\n"
     ]
    },
    {
     "data": {
      "text/plain": [
       "Based on                 0.684798\n",
       "Release date             0.003916\n",
       "Country                  0.031912\n",
       "Budget                   0.315202\n",
       "Box office               0.208297\n",
       "Cinematographer(s)       0.093560\n",
       "Director                 0.000000\n",
       "Distributor              0.043951\n",
       "Editor(s)                0.070351\n",
       "Language(s)              0.010299\n",
       "Composer(s)              0.067740\n",
       "Producer(s)              0.025529\n",
       "Production company(s)    0.231651\n",
       "Duration                 0.000000\n",
       "Writer(s)                0.026690\n",
       "Stars                    0.023934\n",
       "IMDB link                0.000000\n",
       "Title                    0.000000\n",
       "URL                      0.000000\n",
       "Year                     0.000000\n",
       "ID                       0.000000\n",
       "dtype: float64"
      ]
     },
     "execution_count": 20,
     "metadata": {},
     "output_type": "execute_result"
    }
   ],
   "source": [
    "# Drop these columns and inspect remaining columns\n",
    "wiki_drop_cols_df = wiki_drop_dups_df.drop(cols_missing70.index, axis=1)\n",
    "print(wiki_drop_cols_df.shape)\n",
    "wiki_drop_cols_df.isnull().mean()"
   ]
  },
  {
   "cell_type": "markdown",
   "metadata": {},
   "source": [
    "### Column data types"
   ]
  },
  {
   "cell_type": "code",
   "execution_count": 21,
   "metadata": {},
   "outputs": [
    {
     "name": "stdout",
     "output_type": "stream",
     "text": [
      "<class 'pandas.core.frame.DataFrame'>\n",
      "Int64Index: 6894 entries, 0 to 6935\n",
      "Data columns (total 21 columns):\n",
      " #   Column                 Non-Null Count  Dtype \n",
      "---  ------                 --------------  ----- \n",
      " 0   Based on               2173 non-null   object\n",
      " 1   Release date           6867 non-null   object\n",
      " 2   Country                6674 non-null   object\n",
      " 3   Budget                 4721 non-null   object\n",
      " 4   Box office             5458 non-null   object\n",
      " 5   Cinematographer(s)     6249 non-null   object\n",
      " 6   Director               6894 non-null   object\n",
      " 7   Distributor            6591 non-null   object\n",
      " 8   Editor(s)              6409 non-null   object\n",
      " 9   Language(s)            6823 non-null   object\n",
      " 10  Composer(s)            6427 non-null   object\n",
      " 11  Producer(s)            6718 non-null   object\n",
      " 12  Production company(s)  5297 non-null   object\n",
      " 13  Duration               6894 non-null   object\n",
      " 14  Writer(s)              6710 non-null   object\n",
      " 15  Stars                  6729 non-null   object\n",
      " 16  IMDB link              6894 non-null   object\n",
      " 17  Title                  6894 non-null   object\n",
      " 18  URL                    6894 non-null   object\n",
      " 19  Year                   6894 non-null   int64 \n",
      " 20  ID                     6894 non-null   object\n",
      "dtypes: int64(1), object(20)\n",
      "memory usage: 1.2+ MB\n",
      "None\n"
     ]
    },
    {
     "data": {
      "text/html": [
       "<div>\n",
       "<style scoped>\n",
       "    .dataframe tbody tr th:only-of-type {\n",
       "        vertical-align: middle;\n",
       "    }\n",
       "\n",
       "    .dataframe tbody tr th {\n",
       "        vertical-align: top;\n",
       "    }\n",
       "\n",
       "    .dataframe thead th {\n",
       "        text-align: right;\n",
       "    }\n",
       "</style>\n",
       "<table border=\"1\" class=\"dataframe\">\n",
       "  <thead>\n",
       "    <tr style=\"text-align: right;\">\n",
       "      <th></th>\n",
       "      <th>Based on</th>\n",
       "      <th>Release date</th>\n",
       "      <th>Country</th>\n",
       "      <th>Budget</th>\n",
       "      <th>Box office</th>\n",
       "      <th>Cinematographer(s)</th>\n",
       "      <th>Director</th>\n",
       "      <th>Distributor</th>\n",
       "      <th>Editor(s)</th>\n",
       "      <th>Language(s)</th>\n",
       "      <th>...</th>\n",
       "      <th>Producer(s)</th>\n",
       "      <th>Production company(s)</th>\n",
       "      <th>Duration</th>\n",
       "      <th>Writer(s)</th>\n",
       "      <th>Stars</th>\n",
       "      <th>IMDB link</th>\n",
       "      <th>Title</th>\n",
       "      <th>URL</th>\n",
       "      <th>Year</th>\n",
       "      <th>ID</th>\n",
       "    </tr>\n",
       "  </thead>\n",
       "  <tbody>\n",
       "    <tr>\n",
       "      <th>0</th>\n",
       "      <td>[Characters, by Rex Weiner]</td>\n",
       "      <td>[July 11, 1990, (, 1990-07-11, )]</td>\n",
       "      <td>United States</td>\n",
       "      <td>$20 million</td>\n",
       "      <td>$21.4 million</td>\n",
       "      <td>Oliver Wood</td>\n",
       "      <td>Renny Harlin</td>\n",
       "      <td>20th Century Fox</td>\n",
       "      <td>Michael Tronick</td>\n",
       "      <td>English</td>\n",
       "      <td>...</td>\n",
       "      <td>[Steve Perry, Joel Silver]</td>\n",
       "      <td>Silver Pictures</td>\n",
       "      <td>102 minutes</td>\n",
       "      <td>[David Arnott, James Cappe]</td>\n",
       "      <td>[Andrew Dice Clay, Wayne Newton, Priscilla Pre...</td>\n",
       "      <td>https://www.imdb.com/title/tt0098987/</td>\n",
       "      <td>The Adventures of Ford Fairlane</td>\n",
       "      <td>https://en.wikipedia.org/wiki/The_Adventures_o...</td>\n",
       "      <td>1990</td>\n",
       "      <td>tt0098987</td>\n",
       "    </tr>\n",
       "    <tr>\n",
       "      <th>1</th>\n",
       "      <td>[the novel, After Dark, My Sweet, by, Jim Thom...</td>\n",
       "      <td>[May 17, 1990, (, 1990-05-17, ), (Cannes Film ...</td>\n",
       "      <td>United States</td>\n",
       "      <td>$6 million</td>\n",
       "      <td>$2.7 million</td>\n",
       "      <td>Mark Plummer</td>\n",
       "      <td>James Foley</td>\n",
       "      <td>Avenue Pictures</td>\n",
       "      <td>Howard E. Smith</td>\n",
       "      <td>English</td>\n",
       "      <td>...</td>\n",
       "      <td>[Ric Kidney, Robert Redlin]</td>\n",
       "      <td>Avenue Pictures</td>\n",
       "      <td>114 minutes</td>\n",
       "      <td>[James Foley, Robert Redlin]</td>\n",
       "      <td>[Jason Patric, Rachel Ward, Bruce Dern, George...</td>\n",
       "      <td>https://www.imdb.com/title/tt0098994/</td>\n",
       "      <td>After Dark, My Sweet</td>\n",
       "      <td>https://en.wikipedia.org/wiki/After_Dark,_My_S...</td>\n",
       "      <td>1990</td>\n",
       "      <td>tt0098994</td>\n",
       "    </tr>\n",
       "  </tbody>\n",
       "</table>\n",
       "<p>2 rows × 21 columns</p>\n",
       "</div>"
      ],
      "text/plain": [
       "                                            Based on  \\\n",
       "0                        [Characters, by Rex Weiner]   \n",
       "1  [the novel, After Dark, My Sweet, by, Jim Thom...   \n",
       "\n",
       "                                        Release date        Country  \\\n",
       "0                  [July 11, 1990, (, 1990-07-11, )]  United States   \n",
       "1  [May 17, 1990, (, 1990-05-17, ), (Cannes Film ...  United States   \n",
       "\n",
       "        Budget     Box office Cinematographer(s)      Director  \\\n",
       "0  $20 million  $21.4 million        Oliver Wood  Renny Harlin   \n",
       "1   $6 million   $2.7 million       Mark Plummer   James Foley   \n",
       "\n",
       "        Distributor        Editor(s) Language(s)  ...  \\\n",
       "0  20th Century Fox  Michael Tronick     English  ...   \n",
       "1   Avenue Pictures  Howard E. Smith     English  ...   \n",
       "\n",
       "                   Producer(s) Production company(s)     Duration  \\\n",
       "0   [Steve Perry, Joel Silver]       Silver Pictures  102 minutes   \n",
       "1  [Ric Kidney, Robert Redlin]       Avenue Pictures  114 minutes   \n",
       "\n",
       "                      Writer(s)  \\\n",
       "0   [David Arnott, James Cappe]   \n",
       "1  [James Foley, Robert Redlin]   \n",
       "\n",
       "                                               Stars  \\\n",
       "0  [Andrew Dice Clay, Wayne Newton, Priscilla Pre...   \n",
       "1  [Jason Patric, Rachel Ward, Bruce Dern, George...   \n",
       "\n",
       "                               IMDB link                            Title  \\\n",
       "0  https://www.imdb.com/title/tt0098987/  The Adventures of Ford Fairlane   \n",
       "1  https://www.imdb.com/title/tt0098994/             After Dark, My Sweet   \n",
       "\n",
       "                                                 URL  Year         ID  \n",
       "0  https://en.wikipedia.org/wiki/The_Adventures_o...  1990  tt0098987  \n",
       "1  https://en.wikipedia.org/wiki/After_Dark,_My_S...  1990  tt0098994  \n",
       "\n",
       "[2 rows x 21 columns]"
      ]
     },
     "execution_count": 21,
     "metadata": {},
     "output_type": "execute_result"
    }
   ],
   "source": [
    "# Inspect columns\n",
    "print(wiki_drop_cols_df.info())\n",
    "wiki_drop_cols_df.head(2)"
   ]
  },
  {
   "cell_type": "code",
   "execution_count": 22,
   "metadata": {},
   "outputs": [],
   "source": [
    "# Columns that need to be converted\n",
    "cols_to_recast = {\n",
    "    'Release date': 'datetime',\n",
    "    'Budget': 'numeric',\n",
    "    'Box office': 'numeric',\n",
    "    'Duration': 'numeric'\n",
    "}"
   ]
  },
  {
   "cell_type": "markdown",
   "metadata": {},
   "source": [
    "### Convert release date to datetime type"
   ]
  },
  {
   "cell_type": "code",
   "execution_count": 23,
   "metadata": {
    "scrolled": true
   },
   "outputs": [
    {
     "name": "stdout",
     "output_type": "stream",
     "text": [
      "6894\n"
     ]
    }
   ],
   "source": [
    "def list_to_str(obj):\n",
    "    \n",
    "    ''' Convert a string to a list '''\n",
    "    \n",
    "    return obj if type(obj) in [float, str] else ' '.join(obj)\n",
    "    \n",
    "#     # If object is a list, join list elements\n",
    "#     if  type(obj) not in [float, str]:\n",
    "#         s = ''\n",
    "#         for e in obj:\n",
    "#             if isinstance(e, str): # if element is string\n",
    "#                 s += e + ' '\n",
    "#             else: # if element is another list\n",
    "#                 s += ' '.join(e) + ' '\n",
    "#         return s\n",
    "#     return obj\n",
    "\n",
    "\n",
    "# Convert lists in release dates to strings\n",
    "date_to_str = wiki_drop_cols_df['Release date'].apply(list_to_str)\n",
    "print(len(date_to_str))\n",
    "# date_to_str.unique().tolist()"
   ]
  },
  {
   "cell_type": "code",
   "execution_count": 24,
   "metadata": {
    "scrolled": true
   },
   "outputs": [],
   "source": [
    "# def standardize_date(d):\n",
    "    \n",
    "#     ''' Standardize a date string into the format YYYY-MM-DD '''\n",
    "    \n",
    "#     months = {\n",
    "#         'January': '01',\n",
    "#         'February': '02',\n",
    "#         'March': '03',\n",
    "#         'April': '04',\n",
    "#         'May': '05',\n",
    "#         'June': '06',\n",
    "#         'July': '07',\n",
    "#         'August': '08',\n",
    "#         'September': '09',\n",
    "#         'October': '10',\n",
    "#         'November': '11',\n",
    "#         'December': '12'\n",
    "#     }\n",
    "    \n",
    "#     # Initialize date variables\n",
    "#     YYYY = MM = DD = None\n",
    "    \n",
    "#     # For format: (Month) (DD), (YYYY)\n",
    "#     match = re.search(r'([JFMASOND][a-z]{2,8}) (\\d\\d?), (\\d{4})', d)\n",
    "#     if match:\n",
    "#         DD = match.group(2)\n",
    "#         DD = '0' + DD if len(DD) == 1 else DD\n",
    "#         MM = months[match.group(1)]\n",
    "#         YYYY = match.group(3)\n",
    "\n",
    "#     # For format: (DD) (Month) (YYYY)\n",
    "#     match = re.search(r'(\\d\\d?) ([JFMASOND][a-z]{2,8}) (\\d{4})', d)\n",
    "#     if match:\n",
    "#         DD = match.group(1)\n",
    "#         DD = '0' + DD if len(DD) == 1 else DD\n",
    "#         MM = months[match.group(2)]\n",
    "#         YYYY = match.group(3)\n",
    "        \n",
    "#     # For format: (Month),? (YYYY)\n",
    "#     match = re.search(r'([JFMASOND][a-z]{2,8}),? (\\d{4})', d)\n",
    "#     if match:\n",
    "#         MM = months[match.group(1)]\n",
    "#         YYYY = match.group(2)\n",
    "       \n",
    "#     # Standard format: YYYY-MM-DD\n",
    "#     date = d if not YYYY else YYYY + '-' + MM \n",
    "#     return date if not DD else date + '-' + DD\n",
    "    \n",
    "\n",
    "# def extract_date(s):\n",
    "    \n",
    "#     '''\n",
    "#     Extract a date from the release date strings\n",
    "#     Note: In a range, select the left limit\n",
    "#         Ex. December 15 - 20, 1999 becomes December 15, 1999\n",
    "#         Ex. 1990 - 1992 becomes 1990\n",
    "#     '''\n",
    "    \n",
    "#     # Null check\n",
    "#     if pd.isnull(s):\n",
    "#         return s\n",
    "    \n",
    "#     # Select left limit of ranges\n",
    "#     s = re.sub(r' [-–—] \\d\\d?', '', s.strip()) # include hyphen, en dash, em dash\n",
    "    \n",
    "#     # For format: (DD)? (Month) (DD)?,? (YYYY)\n",
    "#     formats = [r'(?:\\d\\d? )?[JFMASOND][a-z]{2,8}(?: \\d\\d?)?,? \\d{4}']\n",
    "    \n",
    "#     # For format: (YYYY)-(MM)-(DD)\n",
    "#     formats.append(r'\\d{4}(?:\\D\\d\\d?\\D\\d\\d?)?')\n",
    "    \n",
    "#     for f in formats:\n",
    "#         match = re.search(f, s)\n",
    "#         if match:\n",
    "#             return standardize_date(match.group(0))\n",
    "\n",
    "\n",
    "# # Test functions\n",
    "# dates_extracted, dates_not_extracted = [], []\n",
    "# for s in date_to_str.tolist():\n",
    "#     d = extract_date(s)\n",
    "#     if d is None:\n",
    "#         dates_not_extracted.append(s)\n",
    "#     else:\n",
    "#         dates_extracted.append(d)\n",
    "# len(dates_extracted), len(dates_not_extracted)"
   ]
  },
  {
   "cell_type": "code",
   "execution_count": 25,
   "metadata": {},
   "outputs": [],
   "source": [
    "# # Convert to datetime\n",
    "# date_convert_to_dt = pd.to_datetime(date_to_str.apply(extract_date))\n",
    "# date_convert_to_dt"
   ]
  },
  {
   "cell_type": "code",
   "execution_count": 26,
   "metadata": {},
   "outputs": [],
   "source": [
    "# Select lower limit of date ranges\n",
    "date_replace_range = date_to_str.str.strip().str.replace(r' [-–—] \\d\\d?', '', regex=True)"
   ]
  },
  {
   "cell_type": "code",
   "execution_count": 26,
   "metadata": {},
   "outputs": [
    {
     "data": {
      "text/plain": [
       "Series([], Name: Release date, dtype: object)"
      ]
     },
     "execution_count": 26,
     "metadata": {},
     "output_type": "execute_result"
    }
   ],
   "source": [
    "# Date formats\n",
    "date_format1 = r'(?:\\d\\d? )?[a-z]{3,9}(?: \\d\\d?)?,? \\d{4}'\n",
    "date_format2 = r'\\d{4}(?:\\D\\d\\d?\\D\\d\\d?)?'\n",
    "\n",
    "# Check formats\n",
    "date_contains1 = date_replace_range.dropna().str.contains(date_format1, flags=re.IGNORECASE)\n",
    "date_contains2 = date_replace_range.dropna().str.contains(date_format2, flags=re.IGNORECASE)\n",
    "date_replace_range.dropna()[~date_contains1 & ~date_contains2]"
   ]
  },
  {
   "cell_type": "code",
   "execution_count": 27,
   "metadata": {
    "scrolled": true
   },
   "outputs": [
    {
     "data": {
      "text/plain": [
       "27"
      ]
     },
     "execution_count": 27,
     "metadata": {},
     "output_type": "execute_result"
    }
   ],
   "source": [
    "# Extract date from string\n",
    "date_clean_str = date_replace_range.str.extract(f'({date_format1}|{date_format2})', flags=re.IGNORECASE)[0]\n",
    "\n",
    "# Convert date string to datetime type\n",
    "date_to_dt = pd.to_datetime(date_clean_str, infer_datetime_format=True)\n",
    "date_to_dt.isnull().sum()"
   ]
  },
  {
   "cell_type": "code",
   "execution_count": 28,
   "metadata": {},
   "outputs": [
    {
     "data": {
      "text/plain": [
       "0      1990-07-11\n",
       "1      1990-05-17\n",
       "2      1990-08-10\n",
       "3      1990-12-25\n",
       "4      1990-12-19\n",
       "          ...    \n",
       "6931   2018-12-25\n",
       "6932   2018-12-11\n",
       "6933   2018-11-08\n",
       "6934   2018-08-31\n",
       "6935   2018-12-28\n",
       "Name: Release date, Length: 6894, dtype: datetime64[ns]"
      ]
     },
     "execution_count": 28,
     "metadata": {},
     "output_type": "execute_result"
    }
   ],
   "source": [
    "# Replace release date column\n",
    "wiki_recast_date_df = wiki_drop_cols_df.copy()\n",
    "wiki_recast_date_df['Release date'] = date_to_dt\n",
    "wiki_recast_date_df['Release date']"
   ]
  },
  {
   "cell_type": "markdown",
   "metadata": {},
   "source": [
    "### Convert budget to numeric"
   ]
  },
  {
   "cell_type": "code",
   "execution_count": 29,
   "metadata": {
    "scrolled": true
   },
   "outputs": [],
   "source": [
    "# Convert lists in budget to strings\n",
    "budget_to_str = wiki_recast_date_df['Budget'].apply(list_to_str)\n",
    "\n",
    "# Clean string and select lower limit of amount ranges\n",
    "budget_replace_range = budget_to_str.str.strip().str.replace(r'\\[\\s*(?:\\w+\\s*)*\\]', '', regex=True) \\\n",
    "                                                .str.replace(r'[-–—]\\s?\\$?\\d+', '', regex=True)\n",
    "# budget_replace_range.unique().tolist()"
   ]
  },
  {
   "cell_type": "code",
   "execution_count": 30,
   "metadata": {
    "scrolled": true
   },
   "outputs": [
    {
     "data": {
      "text/plain": [
       "['Unknown', 'HBO', '$218.32', 'N/A', '19 crore', '3.5 crore']"
      ]
     },
     "execution_count": 30,
     "metadata": {},
     "output_type": "execute_result"
    }
   ],
   "source": [
    "# Budget formats\n",
    "budget_format1 = r'\\$?\\s?\\d{1,3}(?:\\.\\d+)?\\s*mil'\n",
    "budget_format2 = r'\\$?\\s?\\d{1,3}(?:,\\d{3})+'\n",
    "\n",
    "# Check formats\n",
    "budget_contains1 = budget_replace_range.dropna().str.contains(budget_format1, flags=re.IGNORECASE)\n",
    "budget_contains2 = budget_replace_range.dropna().str.contains(budget_format2, flags=re.IGNORECASE)\n",
    "budget_to_na = budget_replace_range.dropna()[~budget_contains1 & ~budget_contains2].unique().tolist()\n",
    "budget_to_na"
   ]
  },
  {
   "cell_type": "code",
   "execution_count": 31,
   "metadata": {},
   "outputs": [
    {
     "data": {
      "text/plain": [
       "Series([], Name: Budget, dtype: object)"
      ]
     },
     "execution_count": 31,
     "metadata": {},
     "output_type": "execute_result"
    }
   ],
   "source": [
    "# Replace above values with NaN\n",
    "budget_replace_vals = budget_replace_range.copy()\n",
    "for val in budget_to_na:\n",
    "    budget_replace_vals.replace(val, np.NaN, inplace=True)\n",
    "budget_replace_vals.dropna()[~budget_contains1 & ~budget_contains2]"
   ]
  },
  {
   "cell_type": "code",
   "execution_count": 32,
   "metadata": {
    "scrolled": true
   },
   "outputs": [],
   "source": [
    "# Extract amount from string\n",
    "budget_clean_str = budget_replace_vals.str.extract(f'({budget_format1}|{budget_format2})', flags=re.IGNORECASE)[0]\n",
    "# budget_clean_str.unique().tolist()"
   ]
  },
  {
   "cell_type": "code",
   "execution_count": 33,
   "metadata": {},
   "outputs": [
    {
     "data": {
      "text/plain": [
       "2182"
      ]
     },
     "execution_count": 33,
     "metadata": {},
     "output_type": "execute_result"
    }
   ],
   "source": [
    "def parse_budget(s):\n",
    "    \n",
    "    ''' Convert budget string to float '''\n",
    "    \n",
    "    # Null check\n",
    "    if isinstance(s, float):\n",
    "        return s\n",
    "    \n",
    "    # Remove $, spaces, and commas\n",
    "    s = re.sub(r'[\\$\\s,]', '', s).lower()\n",
    "    \n",
    "    # Convert to float\n",
    "    if 'mil' in s:\n",
    "        f = float(s.replace('mil', '')) * 1e6\n",
    "    else:\n",
    "        f = float(s)\n",
    "        \n",
    "    return f\n",
    "\n",
    "\n",
    "# Convert budget to float type\n",
    "budget_to_float = budget_clean_str.apply(parse_budget)\n",
    "budget_to_float.isnull().sum()"
   ]
  },
  {
   "cell_type": "code",
   "execution_count": 34,
   "metadata": {},
   "outputs": [
    {
     "data": {
      "text/plain": [
       "0       20000000.0\n",
       "1        6000000.0\n",
       "2       35000000.0\n",
       "3       12000000.0\n",
       "4       25000000.0\n",
       "           ...    \n",
       "6931    42000000.0\n",
       "6932    60000000.0\n",
       "6933    20000000.0\n",
       "6934     9000000.0\n",
       "6935           NaN\n",
       "Name: Budget, Length: 6894, dtype: float64"
      ]
     },
     "execution_count": 34,
     "metadata": {},
     "output_type": "execute_result"
    }
   ],
   "source": [
    "# Replace budget column in df\n",
    "wiki_recast_budget_df = wiki_recast_date_df.copy()\n",
    "wiki_recast_budget_df['Budget'] = budget_to_float\n",
    "wiki_recast_budget_df['Budget']"
   ]
  },
  {
   "cell_type": "markdown",
   "metadata": {},
   "source": [
    "### Convert box office to numeric"
   ]
  },
  {
   "cell_type": "code",
   "execution_count": 35,
   "metadata": {
    "scrolled": true
   },
   "outputs": [],
   "source": [
    "# Convert lists in box office to strings\n",
    "boxoffice_to_str = wiki_recast_budget_df['Box office'].apply(list_to_str)\n",
    "# boxoffice_to_str.unique().tolist()"
   ]
  },
  {
   "cell_type": "code",
   "execution_count": 36,
   "metadata": {
    "scrolled": true
   },
   "outputs": [
    {
     "data": {
      "text/plain": [
       "['N/A',\n",
       " '$309',\n",
       " 'TBA',\n",
       " '$20-30',\n",
       " '£2.56',\n",
       " 'Unknown',\n",
       " '$588',\n",
       " 'less than $372',\n",
       " '8 crore']"
      ]
     },
     "execution_count": 36,
     "metadata": {},
     "output_type": "execute_result"
    }
   ],
   "source": [
    "# Box office formats\n",
    "boxoffice_format1 = r'\\$?\\s?\\d{1,3}(?:\\.\\d+)?\\s*[kmb]'\n",
    "boxoffice_format2 = r'\\$?\\s?\\d{1,3}(?:[\\s\\.,]?\\d{3})+\\$?'\n",
    "\n",
    "# Check formats\n",
    "boxoffice_contains1 = boxoffice_to_str.dropna().str.contains(boxoffice_format1, flags=re.IGNORECASE)\n",
    "boxoffice_contains2 = boxoffice_to_str.dropna().str.contains(boxoffice_format2, flags=re.IGNORECASE)\n",
    "boxoffice_to_na = boxoffice_to_str.dropna()[~boxoffice_contains1 & ~boxoffice_contains2].unique().tolist()\n",
    "boxoffice_to_na"
   ]
  },
  {
   "cell_type": "code",
   "execution_count": 37,
   "metadata": {},
   "outputs": [
    {
     "data": {
      "text/plain": [
       "Series([], Name: Box office, dtype: object)"
      ]
     },
     "execution_count": 37,
     "metadata": {},
     "output_type": "execute_result"
    }
   ],
   "source": [
    "# Replace above values with NaN\n",
    "boxoffice_replace_vals = boxoffice_to_str.copy()\n",
    "for val in boxoffice_to_na:\n",
    "    boxoffice_replace_vals.replace(val, np.NaN, inplace=True)\n",
    "boxoffice_replace_vals.dropna()[~boxoffice_contains1 & ~boxoffice_contains2]"
   ]
  },
  {
   "cell_type": "code",
   "execution_count": 38,
   "metadata": {
    "scrolled": true
   },
   "outputs": [],
   "source": [
    "# Extract amount from string\n",
    "boxoffice_clean_str = boxoffice_replace_vals.str.extract(f'({boxoffice_format1}|{boxoffice_format2})', \n",
    "                                                         flags=re.IGNORECASE)[0]\n",
    "# boxoffice_clean_str.unique().tolist()"
   ]
  },
  {
   "cell_type": "code",
   "execution_count": 39,
   "metadata": {},
   "outputs": [
    {
     "data": {
      "text/plain": [
       "1445"
      ]
     },
     "execution_count": 39,
     "metadata": {},
     "output_type": "execute_result"
    }
   ],
   "source": [
    "def parse_boxoffice(s):\n",
    "    \n",
    "    ''' Convert box office string to float '''\n",
    "    \n",
    "    # Null check\n",
    "    if isinstance(s, float):\n",
    "        return s\n",
    "    \n",
    "    # Remove $, spaces, and commas\n",
    "    s = re.sub(r'[\\$\\s,]', '', s).lower()\n",
    "    \n",
    "    # Convert to float\n",
    "    if 'k' in s:\n",
    "        f = float(s.replace('k', '')) * 1e3\n",
    "    elif 'm' in s:\n",
    "        f = float(s.replace('m', '')) * 1e6\n",
    "    elif 'b' in s:\n",
    "        f = float(s.replace('b', '')) * 1e9\n",
    "    elif '.' in s:\n",
    "        f = float(s.replace('.', ''))\n",
    "    else:\n",
    "        f = float(s)\n",
    "        \n",
    "    return f\n",
    "\n",
    "\n",
    "# Convert budget to float type\n",
    "boxoffice_to_float = boxoffice_clean_str.apply(parse_boxoffice)\n",
    "boxoffice_to_float.isnull().sum()"
   ]
  },
  {
   "cell_type": "code",
   "execution_count": 40,
   "metadata": {},
   "outputs": [
    {
     "data": {
      "text/plain": [
       "0       21400000.0\n",
       "1        2700000.0\n",
       "2       57718089.0\n",
       "3        7331647.0\n",
       "4        6939946.0\n",
       "           ...    \n",
       "6931    41900000.0\n",
       "6932    76100000.0\n",
       "6933    38400000.0\n",
       "6934     5500000.0\n",
       "6935           NaN\n",
       "Name: Box office, Length: 6894, dtype: float64"
      ]
     },
     "execution_count": 40,
     "metadata": {},
     "output_type": "execute_result"
    }
   ],
   "source": [
    "# Replace release date column\n",
    "wiki_recast_boxoffice_df = wiki_recast_budget_df.copy()\n",
    "wiki_recast_boxoffice_df['Box office'] = boxoffice_to_float\n",
    "wiki_recast_boxoffice_df['Box office']"
   ]
  },
  {
   "cell_type": "markdown",
   "metadata": {},
   "source": [
    "### Convert duration to numeric"
   ]
  },
  {
   "cell_type": "code",
   "execution_count": 41,
   "metadata": {
    "scrolled": true
   },
   "outputs": [],
   "source": [
    "# Convert lists in duration to strings\n",
    "duration_to_str = wiki_recast_budget_df['Duration'].apply(list_to_str)\n",
    "\n",
    "# Clean string and select lower limit of amount ranges\n",
    "duration_replace_range = duration_to_str.str.strip().str.replace(r'\\[\\d\\]', '', regex=True) \\\n",
    "                                                    .str.replace(r'[-–—]\\s?\\d+', '', regex=True)\n",
    "# duration_replace_range.unique().tolist()"
   ]
  },
  {
   "cell_type": "code",
   "execution_count": 42,
   "metadata": {
    "scrolled": true
   },
   "outputs": [
    {
     "data": {
      "text/plain": [
       "['varies', 'minutes']"
      ]
     },
     "execution_count": 42,
     "metadata": {},
     "output_type": "execute_result"
    }
   ],
   "source": [
    "# Duration formats\n",
    "duration_format1 = r'(?:\\d\\s*[Hh]o?u?r?s?\\s*)?\\d{1,3}\\s*[Mm]'\n",
    "duration_format2 = r'\\d\\s*[Hh]o?u?r?s?|\\d{1,2}\\s*\\:\\s*\\d{1,2}'\n",
    "\n",
    "# Check formats\n",
    "duration_contains1 = duration_replace_range.dropna().str.contains(duration_format1, flags=re.IGNORECASE)\n",
    "duration_contains2 = duration_replace_range.dropna().str.contains(duration_format2, flags=re.IGNORECASE)\n",
    "duration_to_na = duration_replace_range.dropna()[~duration_contains1 & ~duration_contains2].unique().tolist()\n",
    "duration_to_na"
   ]
  },
  {
   "cell_type": "code",
   "execution_count": 43,
   "metadata": {},
   "outputs": [
    {
     "data": {
      "text/plain": [
       "Series([], Name: Duration, dtype: object)"
      ]
     },
     "execution_count": 43,
     "metadata": {},
     "output_type": "execute_result"
    }
   ],
   "source": [
    "# Replace above values with NaN\n",
    "duration_replace_vals = duration_replace_range.copy()\n",
    "for val in duration_to_na:\n",
    "    duration_replace_vals.replace(val, np.NaN, inplace=True)\n",
    "duration_replace_vals.dropna()[~duration_contains1 & ~duration_contains2]"
   ]
  },
  {
   "cell_type": "code",
   "execution_count": 44,
   "metadata": {
    "scrolled": true
   },
   "outputs": [],
   "source": [
    "# Extract duration from string\n",
    "duration_clean_str = duration_replace_vals.str.extract(f'({duration_format1}|{duration_format2})', \n",
    "                                                       flags=re.IGNORECASE)[0]\n",
    "# duration_clean_str.unique().tolist()"
   ]
  },
  {
   "cell_type": "code",
   "execution_count": 45,
   "metadata": {
    "scrolled": true
   },
   "outputs": [
    {
     "data": {
      "text/plain": [
       "2"
      ]
     },
     "execution_count": 45,
     "metadata": {},
     "output_type": "execute_result"
    }
   ],
   "source": [
    "def parse_duration(s):\n",
    "    \n",
    "    ''' Convert duration string to integer '''\n",
    "    \n",
    "    # Null check\n",
    "    if isinstance(s, float):\n",
    "        return s\n",
    "    \n",
    "    # Remove seconds\n",
    "    s = re.sub(r'\\:\\s*\\d{1,2}', '', s)\n",
    "    \n",
    "    # Remove m and spaces\n",
    "    s = re.sub(r'm|\\s*', '', s, flags=re.IGNORECASE)\n",
    "    \n",
    "    # Convert to int\n",
    "    match = re.search(r'(\\d)(ho?u?r?s?)(\\d\\d?)?', s, flags=re.IGNORECASE)\n",
    "    if match: # if time is in hours\n",
    "        i = int(match.group(1)) * 60\n",
    "        if match.group(3):\n",
    "            i += int(match.group(3))\n",
    "    else: # if time is in minutes\n",
    "        i = int(s)\n",
    "        \n",
    "    return i\n",
    "\n",
    "\n",
    "# Convert duration to integer type\n",
    "duration_to_int = duration_clean_str.apply(parse_duration)\n",
    "duration_to_int.isnull().sum()"
   ]
  },
  {
   "cell_type": "code",
   "execution_count": 46,
   "metadata": {},
   "outputs": [
    {
     "name": "stdout",
     "output_type": "stream",
     "text": [
      "<class 'pandas.core.frame.DataFrame'>\n",
      "Int64Index: 6894 entries, 0 to 6935\n",
      "Data columns (total 21 columns):\n",
      " #   Column                 Non-Null Count  Dtype         \n",
      "---  ------                 --------------  -----         \n",
      " 0   Based on               2173 non-null   object        \n",
      " 1   Release date           6867 non-null   datetime64[ns]\n",
      " 2   Country                6674 non-null   object        \n",
      " 3   Budget                 4712 non-null   float64       \n",
      " 4   Box office             5449 non-null   float64       \n",
      " 5   Cinematographer(s)     6249 non-null   object        \n",
      " 6   Director               6894 non-null   object        \n",
      " 7   Distributor            6591 non-null   object        \n",
      " 8   Editor(s)              6409 non-null   object        \n",
      " 9   Language(s)            6823 non-null   object        \n",
      " 10  Composer(s)            6427 non-null   object        \n",
      " 11  Producer(s)            6718 non-null   object        \n",
      " 12  Production company(s)  5297 non-null   object        \n",
      " 13  Duration               6892 non-null   float64       \n",
      " 14  Writer(s)              6710 non-null   object        \n",
      " 15  Stars                  6729 non-null   object        \n",
      " 16  IMDB link              6894 non-null   object        \n",
      " 17  Title                  6894 non-null   object        \n",
      " 18  URL                    6894 non-null   object        \n",
      " 19  Year                   6894 non-null   int64         \n",
      " 20  ID                     6894 non-null   object        \n",
      "dtypes: datetime64[ns](1), float64(3), int64(1), object(16)\n",
      "memory usage: 1.2+ MB\n",
      "None\n"
     ]
    },
    {
     "data": {
      "text/html": [
       "<div>\n",
       "<style scoped>\n",
       "    .dataframe tbody tr th:only-of-type {\n",
       "        vertical-align: middle;\n",
       "    }\n",
       "\n",
       "    .dataframe tbody tr th {\n",
       "        vertical-align: top;\n",
       "    }\n",
       "\n",
       "    .dataframe thead th {\n",
       "        text-align: right;\n",
       "    }\n",
       "</style>\n",
       "<table border=\"1\" class=\"dataframe\">\n",
       "  <thead>\n",
       "    <tr style=\"text-align: right;\">\n",
       "      <th></th>\n",
       "      <th>Based on</th>\n",
       "      <th>Release date</th>\n",
       "      <th>Country</th>\n",
       "      <th>Budget</th>\n",
       "      <th>Box office</th>\n",
       "      <th>Cinematographer(s)</th>\n",
       "      <th>Director</th>\n",
       "      <th>Distributor</th>\n",
       "      <th>Editor(s)</th>\n",
       "      <th>Language(s)</th>\n",
       "      <th>...</th>\n",
       "      <th>Producer(s)</th>\n",
       "      <th>Production company(s)</th>\n",
       "      <th>Duration</th>\n",
       "      <th>Writer(s)</th>\n",
       "      <th>Stars</th>\n",
       "      <th>IMDB link</th>\n",
       "      <th>Title</th>\n",
       "      <th>URL</th>\n",
       "      <th>Year</th>\n",
       "      <th>ID</th>\n",
       "    </tr>\n",
       "  </thead>\n",
       "  <tbody>\n",
       "    <tr>\n",
       "      <th>0</th>\n",
       "      <td>[Characters, by Rex Weiner]</td>\n",
       "      <td>1990-07-11</td>\n",
       "      <td>United States</td>\n",
       "      <td>20000000.0</td>\n",
       "      <td>21400000.0</td>\n",
       "      <td>Oliver Wood</td>\n",
       "      <td>Renny Harlin</td>\n",
       "      <td>20th Century Fox</td>\n",
       "      <td>Michael Tronick</td>\n",
       "      <td>English</td>\n",
       "      <td>...</td>\n",
       "      <td>[Steve Perry, Joel Silver]</td>\n",
       "      <td>Silver Pictures</td>\n",
       "      <td>102.0</td>\n",
       "      <td>[David Arnott, James Cappe]</td>\n",
       "      <td>[Andrew Dice Clay, Wayne Newton, Priscilla Pre...</td>\n",
       "      <td>https://www.imdb.com/title/tt0098987/</td>\n",
       "      <td>The Adventures of Ford Fairlane</td>\n",
       "      <td>https://en.wikipedia.org/wiki/The_Adventures_o...</td>\n",
       "      <td>1990</td>\n",
       "      <td>tt0098987</td>\n",
       "    </tr>\n",
       "    <tr>\n",
       "      <th>1</th>\n",
       "      <td>[the novel, After Dark, My Sweet, by, Jim Thom...</td>\n",
       "      <td>1990-05-17</td>\n",
       "      <td>United States</td>\n",
       "      <td>6000000.0</td>\n",
       "      <td>2700000.0</td>\n",
       "      <td>Mark Plummer</td>\n",
       "      <td>James Foley</td>\n",
       "      <td>Avenue Pictures</td>\n",
       "      <td>Howard E. Smith</td>\n",
       "      <td>English</td>\n",
       "      <td>...</td>\n",
       "      <td>[Ric Kidney, Robert Redlin]</td>\n",
       "      <td>Avenue Pictures</td>\n",
       "      <td>114.0</td>\n",
       "      <td>[James Foley, Robert Redlin]</td>\n",
       "      <td>[Jason Patric, Rachel Ward, Bruce Dern, George...</td>\n",
       "      <td>https://www.imdb.com/title/tt0098994/</td>\n",
       "      <td>After Dark, My Sweet</td>\n",
       "      <td>https://en.wikipedia.org/wiki/After_Dark,_My_S...</td>\n",
       "      <td>1990</td>\n",
       "      <td>tt0098994</td>\n",
       "    </tr>\n",
       "  </tbody>\n",
       "</table>\n",
       "<p>2 rows × 21 columns</p>\n",
       "</div>"
      ],
      "text/plain": [
       "                                            Based on Release date  \\\n",
       "0                        [Characters, by Rex Weiner]   1990-07-11   \n",
       "1  [the novel, After Dark, My Sweet, by, Jim Thom...   1990-05-17   \n",
       "\n",
       "         Country      Budget  Box office Cinematographer(s)      Director  \\\n",
       "0  United States  20000000.0  21400000.0        Oliver Wood  Renny Harlin   \n",
       "1  United States   6000000.0   2700000.0       Mark Plummer   James Foley   \n",
       "\n",
       "        Distributor        Editor(s) Language(s)  ...  \\\n",
       "0  20th Century Fox  Michael Tronick     English  ...   \n",
       "1   Avenue Pictures  Howard E. Smith     English  ...   \n",
       "\n",
       "                   Producer(s) Production company(s) Duration  \\\n",
       "0   [Steve Perry, Joel Silver]       Silver Pictures    102.0   \n",
       "1  [Ric Kidney, Robert Redlin]       Avenue Pictures    114.0   \n",
       "\n",
       "                      Writer(s)  \\\n",
       "0   [David Arnott, James Cappe]   \n",
       "1  [James Foley, Robert Redlin]   \n",
       "\n",
       "                                               Stars  \\\n",
       "0  [Andrew Dice Clay, Wayne Newton, Priscilla Pre...   \n",
       "1  [Jason Patric, Rachel Ward, Bruce Dern, George...   \n",
       "\n",
       "                               IMDB link                            Title  \\\n",
       "0  https://www.imdb.com/title/tt0098987/  The Adventures of Ford Fairlane   \n",
       "1  https://www.imdb.com/title/tt0098994/             After Dark, My Sweet   \n",
       "\n",
       "                                                 URL  Year         ID  \n",
       "0  https://en.wikipedia.org/wiki/The_Adventures_o...  1990  tt0098987  \n",
       "1  https://en.wikipedia.org/wiki/After_Dark,_My_S...  1990  tt0098994  \n",
       "\n",
       "[2 rows x 21 columns]"
      ]
     },
     "execution_count": 46,
     "metadata": {},
     "output_type": "execute_result"
    }
   ],
   "source": [
    "# Replace release date column\n",
    "wiki_recast_duration_df = wiki_recast_boxoffice_df.copy()\n",
    "wiki_recast_duration_df['Duration'] = duration_to_int\n",
    "print(wiki_recast_duration_df.info())\n",
    "wiki_recast_duration_df.head(2)"
   ]
  },
  {
   "cell_type": "code",
   "execution_count": 47,
   "metadata": {},
   "outputs": [
    {
     "data": {
      "text/plain": [
       "(6894, 21)"
      ]
     },
     "execution_count": 47,
     "metadata": {},
     "output_type": "execute_result"
    }
   ],
   "source": [
    "wiki_movies_df = wiki_recast_duration_df.copy()\n",
    "wiki_movies_df.shape"
   ]
  },
  {
   "cell_type": "markdown",
   "metadata": {},
   "source": [
    "### Inspect Kaggle data"
   ]
  },
  {
   "cell_type": "code",
   "execution_count": 48,
   "metadata": {},
   "outputs": [
    {
     "name": "stdout",
     "output_type": "stream",
     "text": [
      "<class 'pandas.core.frame.DataFrame'>\n",
      "RangeIndex: 45466 entries, 0 to 45465\n",
      "Data columns (total 24 columns):\n",
      " #   Column                 Non-Null Count  Dtype  \n",
      "---  ------                 --------------  -----  \n",
      " 0   adult                  45466 non-null  object \n",
      " 1   belongs_to_collection  4494 non-null   object \n",
      " 2   budget                 45466 non-null  object \n",
      " 3   genres                 45466 non-null  object \n",
      " 4   homepage               7782 non-null   object \n",
      " 5   id                     45466 non-null  object \n",
      " 6   imdb_id                45449 non-null  object \n",
      " 7   original_language      45455 non-null  object \n",
      " 8   original_title         45466 non-null  object \n",
      " 9   overview               44512 non-null  object \n",
      " 10  popularity             45461 non-null  object \n",
      " 11  poster_path            45080 non-null  object \n",
      " 12  production_companies   45463 non-null  object \n",
      " 13  production_countries   45463 non-null  object \n",
      " 14  release_date           45379 non-null  object \n",
      " 15  revenue                45460 non-null  float64\n",
      " 16  runtime                45203 non-null  float64\n",
      " 17  spoken_languages       45460 non-null  object \n",
      " 18  status                 45379 non-null  object \n",
      " 19  tagline                20412 non-null  object \n",
      " 20  title                  45460 non-null  object \n",
      " 21  video                  45460 non-null  object \n",
      " 22  vote_average           45460 non-null  float64\n",
      " 23  vote_count             45460 non-null  float64\n",
      "dtypes: float64(4), object(20)\n",
      "memory usage: 8.3+ MB\n",
      "None\n"
     ]
    },
    {
     "data": {
      "text/html": [
       "<div>\n",
       "<style scoped>\n",
       "    .dataframe tbody tr th:only-of-type {\n",
       "        vertical-align: middle;\n",
       "    }\n",
       "\n",
       "    .dataframe tbody tr th {\n",
       "        vertical-align: top;\n",
       "    }\n",
       "\n",
       "    .dataframe thead th {\n",
       "        text-align: right;\n",
       "    }\n",
       "</style>\n",
       "<table border=\"1\" class=\"dataframe\">\n",
       "  <thead>\n",
       "    <tr style=\"text-align: right;\">\n",
       "      <th></th>\n",
       "      <th>adult</th>\n",
       "      <th>belongs_to_collection</th>\n",
       "      <th>budget</th>\n",
       "      <th>genres</th>\n",
       "      <th>homepage</th>\n",
       "      <th>id</th>\n",
       "      <th>imdb_id</th>\n",
       "      <th>original_language</th>\n",
       "      <th>original_title</th>\n",
       "      <th>overview</th>\n",
       "      <th>...</th>\n",
       "      <th>release_date</th>\n",
       "      <th>revenue</th>\n",
       "      <th>runtime</th>\n",
       "      <th>spoken_languages</th>\n",
       "      <th>status</th>\n",
       "      <th>tagline</th>\n",
       "      <th>title</th>\n",
       "      <th>video</th>\n",
       "      <th>vote_average</th>\n",
       "      <th>vote_count</th>\n",
       "    </tr>\n",
       "  </thead>\n",
       "  <tbody>\n",
       "    <tr>\n",
       "      <th>0</th>\n",
       "      <td>False</td>\n",
       "      <td>{'id': 10194, 'name': 'Toy Story Collection', ...</td>\n",
       "      <td>30000000</td>\n",
       "      <td>[{'id': 16, 'name': 'Animation'}, {'id': 35, '...</td>\n",
       "      <td>http://toystory.disney.com/toy-story</td>\n",
       "      <td>862</td>\n",
       "      <td>tt0114709</td>\n",
       "      <td>en</td>\n",
       "      <td>Toy Story</td>\n",
       "      <td>Led by Woody, Andy's toys live happily in his ...</td>\n",
       "      <td>...</td>\n",
       "      <td>1995-10-30</td>\n",
       "      <td>373554033.0</td>\n",
       "      <td>81.0</td>\n",
       "      <td>[{'iso_639_1': 'en', 'name': 'English'}]</td>\n",
       "      <td>Released</td>\n",
       "      <td>NaN</td>\n",
       "      <td>Toy Story</td>\n",
       "      <td>False</td>\n",
       "      <td>7.7</td>\n",
       "      <td>5415.0</td>\n",
       "    </tr>\n",
       "    <tr>\n",
       "      <th>1</th>\n",
       "      <td>False</td>\n",
       "      <td>NaN</td>\n",
       "      <td>65000000</td>\n",
       "      <td>[{'id': 12, 'name': 'Adventure'}, {'id': 14, '...</td>\n",
       "      <td>NaN</td>\n",
       "      <td>8844</td>\n",
       "      <td>tt0113497</td>\n",
       "      <td>en</td>\n",
       "      <td>Jumanji</td>\n",
       "      <td>When siblings Judy and Peter discover an encha...</td>\n",
       "      <td>...</td>\n",
       "      <td>1995-12-15</td>\n",
       "      <td>262797249.0</td>\n",
       "      <td>104.0</td>\n",
       "      <td>[{'iso_639_1': 'en', 'name': 'English'}, {'iso...</td>\n",
       "      <td>Released</td>\n",
       "      <td>Roll the dice and unleash the excitement!</td>\n",
       "      <td>Jumanji</td>\n",
       "      <td>False</td>\n",
       "      <td>6.9</td>\n",
       "      <td>2413.0</td>\n",
       "    </tr>\n",
       "  </tbody>\n",
       "</table>\n",
       "<p>2 rows × 24 columns</p>\n",
       "</div>"
      ],
      "text/plain": [
       "   adult                              belongs_to_collection    budget  \\\n",
       "0  False  {'id': 10194, 'name': 'Toy Story Collection', ...  30000000   \n",
       "1  False                                                NaN  65000000   \n",
       "\n",
       "                                              genres  \\\n",
       "0  [{'id': 16, 'name': 'Animation'}, {'id': 35, '...   \n",
       "1  [{'id': 12, 'name': 'Adventure'}, {'id': 14, '...   \n",
       "\n",
       "                               homepage    id    imdb_id original_language  \\\n",
       "0  http://toystory.disney.com/toy-story   862  tt0114709                en   \n",
       "1                                   NaN  8844  tt0113497                en   \n",
       "\n",
       "  original_title                                           overview  ...  \\\n",
       "0      Toy Story  Led by Woody, Andy's toys live happily in his ...  ...   \n",
       "1        Jumanji  When siblings Judy and Peter discover an encha...  ...   \n",
       "\n",
       "  release_date      revenue runtime  \\\n",
       "0   1995-10-30  373554033.0    81.0   \n",
       "1   1995-12-15  262797249.0   104.0   \n",
       "\n",
       "                                    spoken_languages    status  \\\n",
       "0           [{'iso_639_1': 'en', 'name': 'English'}]  Released   \n",
       "1  [{'iso_639_1': 'en', 'name': 'English'}, {'iso...  Released   \n",
       "\n",
       "                                     tagline      title  video vote_average  \\\n",
       "0                                        NaN  Toy Story  False          7.7   \n",
       "1  Roll the dice and unleash the excitement!    Jumanji  False          6.9   \n",
       "\n",
       "  vote_count  \n",
       "0     5415.0  \n",
       "1     2413.0  \n",
       "\n",
       "[2 rows x 24 columns]"
      ]
     },
     "execution_count": 48,
     "metadata": {},
     "output_type": "execute_result"
    }
   ],
   "source": [
    "print(kaggle_movies.info())\n",
    "kaggle_movies.head(2)"
   ]
  },
  {
   "cell_type": "markdown",
   "metadata": {},
   "source": [
    "### Duplicate rows"
   ]
  },
  {
   "cell_type": "code",
   "execution_count": 49,
   "metadata": {},
   "outputs": [
    {
     "name": "stdout",
     "output_type": "stream",
     "text": [
      "48\n"
     ]
    },
    {
     "data": {
      "text/html": [
       "<div>\n",
       "<style scoped>\n",
       "    .dataframe tbody tr th:only-of-type {\n",
       "        vertical-align: middle;\n",
       "    }\n",
       "\n",
       "    .dataframe tbody tr th {\n",
       "        vertical-align: top;\n",
       "    }\n",
       "\n",
       "    .dataframe thead th {\n",
       "        text-align: right;\n",
       "    }\n",
       "</style>\n",
       "<table border=\"1\" class=\"dataframe\">\n",
       "  <thead>\n",
       "    <tr style=\"text-align: right;\">\n",
       "      <th></th>\n",
       "      <th>adult</th>\n",
       "      <th>belongs_to_collection</th>\n",
       "      <th>budget</th>\n",
       "      <th>genres</th>\n",
       "      <th>homepage</th>\n",
       "      <th>id</th>\n",
       "      <th>imdb_id</th>\n",
       "      <th>original_language</th>\n",
       "      <th>original_title</th>\n",
       "      <th>overview</th>\n",
       "      <th>...</th>\n",
       "      <th>release_date</th>\n",
       "      <th>revenue</th>\n",
       "      <th>runtime</th>\n",
       "      <th>spoken_languages</th>\n",
       "      <th>status</th>\n",
       "      <th>tagline</th>\n",
       "      <th>title</th>\n",
       "      <th>video</th>\n",
       "      <th>vote_average</th>\n",
       "      <th>vote_count</th>\n",
       "    </tr>\n",
       "  </thead>\n",
       "  <tbody>\n",
       "    <tr>\n",
       "      <th>35587</th>\n",
       "      <td>Avalanche Sharks tells the story of a bikini ...</td>\n",
       "      <td>2.185485</td>\n",
       "      <td>/zaSf5OG7V8X8gqFvly88zDdRm46.jpg</td>\n",
       "      <td>[{'name': 'Odyssey Media', 'id': 17161}, {'nam...</td>\n",
       "      <td>[{'iso_3166_1': 'CA', 'name': 'Canada'}]</td>\n",
       "      <td>2014-01-01</td>\n",
       "      <td>0</td>\n",
       "      <td>82.0</td>\n",
       "      <td>[{'iso_639_1': 'en', 'name': 'English'}]</td>\n",
       "      <td>Released</td>\n",
       "      <td>...</td>\n",
       "      <td>22</td>\n",
       "      <td>NaN</td>\n",
       "      <td>NaN</td>\n",
       "      <td>NaN</td>\n",
       "      <td>NaN</td>\n",
       "      <td>NaN</td>\n",
       "      <td>NaN</td>\n",
       "      <td>NaN</td>\n",
       "      <td>NaN</td>\n",
       "      <td>NaN</td>\n",
       "    </tr>\n",
       "    <tr>\n",
       "      <th>29503</th>\n",
       "      <td>Rune Balot goes to a casino connected to the ...</td>\n",
       "      <td>1.931659</td>\n",
       "      <td>/zV8bHuSL6WXoD6FWogP9j4x80bL.jpg</td>\n",
       "      <td>[{'name': 'Aniplex', 'id': 2883}, {'name': 'Go...</td>\n",
       "      <td>[{'iso_3166_1': 'US', 'name': 'United States o...</td>\n",
       "      <td>2012-09-29</td>\n",
       "      <td>0</td>\n",
       "      <td>68.0</td>\n",
       "      <td>[{'iso_639_1': 'ja', 'name': '日本語'}]</td>\n",
       "      <td>Released</td>\n",
       "      <td>...</td>\n",
       "      <td>12</td>\n",
       "      <td>NaN</td>\n",
       "      <td>NaN</td>\n",
       "      <td>NaN</td>\n",
       "      <td>NaN</td>\n",
       "      <td>NaN</td>\n",
       "      <td>NaN</td>\n",
       "      <td>NaN</td>\n",
       "      <td>NaN</td>\n",
       "      <td>NaN</td>\n",
       "    </tr>\n",
       "    <tr>\n",
       "      <th>19730</th>\n",
       "      <td>- Written by Ørnås</td>\n",
       "      <td>0.065736</td>\n",
       "      <td>/ff9qCepilowshEtG2GYWwzt2bs4.jpg</td>\n",
       "      <td>[{'name': 'Carousel Productions', 'id': 11176}...</td>\n",
       "      <td>[{'iso_3166_1': 'CA', 'name': 'Canada'}, {'iso...</td>\n",
       "      <td>1997-08-20</td>\n",
       "      <td>0</td>\n",
       "      <td>104.0</td>\n",
       "      <td>[{'iso_639_1': 'en', 'name': 'English'}]</td>\n",
       "      <td>Released</td>\n",
       "      <td>...</td>\n",
       "      <td>1</td>\n",
       "      <td>NaN</td>\n",
       "      <td>NaN</td>\n",
       "      <td>NaN</td>\n",
       "      <td>NaN</td>\n",
       "      <td>NaN</td>\n",
       "      <td>NaN</td>\n",
       "      <td>NaN</td>\n",
       "      <td>NaN</td>\n",
       "      <td>NaN</td>\n",
       "    </tr>\n",
       "    <tr>\n",
       "      <th>16167</th>\n",
       "      <td>False</td>\n",
       "      <td>NaN</td>\n",
       "      <td>0</td>\n",
       "      <td>[{'id': 28, 'name': 'Action'}, {'id': 18, 'nam...</td>\n",
       "      <td>NaN</td>\n",
       "      <td>99080</td>\n",
       "      <td>tt0022537</td>\n",
       "      <td>en</td>\n",
       "      <td>The Viking</td>\n",
       "      <td>Originally called White Thunder, American prod...</td>\n",
       "      <td>...</td>\n",
       "      <td>1931-06-21</td>\n",
       "      <td>0.0</td>\n",
       "      <td>70.0</td>\n",
       "      <td>[{'iso_639_1': 'en', 'name': 'English'}]</td>\n",
       "      <td>Released</td>\n",
       "      <td>Actually produced during the Great Newfoundlan...</td>\n",
       "      <td>The Viking</td>\n",
       "      <td>False</td>\n",
       "      <td>0.0</td>\n",
       "      <td>0.0</td>\n",
       "    </tr>\n",
       "    <tr>\n",
       "      <th>38871</th>\n",
       "      <td>False</td>\n",
       "      <td>NaN</td>\n",
       "      <td>0</td>\n",
       "      <td>[{'id': 28, 'name': 'Action'}, {'id': 18, 'nam...</td>\n",
       "      <td>NaN</td>\n",
       "      <td>99080</td>\n",
       "      <td>tt0022537</td>\n",
       "      <td>en</td>\n",
       "      <td>The Viking</td>\n",
       "      <td>Originally called White Thunder, American prod...</td>\n",
       "      <td>...</td>\n",
       "      <td>1931-06-21</td>\n",
       "      <td>0.0</td>\n",
       "      <td>70.0</td>\n",
       "      <td>[{'iso_639_1': 'en', 'name': 'English'}]</td>\n",
       "      <td>Released</td>\n",
       "      <td>Actually produced during the Great Newfoundlan...</td>\n",
       "      <td>The Viking</td>\n",
       "      <td>False</td>\n",
       "      <td>0.0</td>\n",
       "      <td>0.0</td>\n",
       "    </tr>\n",
       "  </tbody>\n",
       "</table>\n",
       "<p>5 rows × 24 columns</p>\n",
       "</div>"
      ],
      "text/plain": [
       "                                                   adult  \\\n",
       "35587   Avalanche Sharks tells the story of a bikini ...   \n",
       "29503   Rune Balot goes to a casino connected to the ...   \n",
       "19730                                 - Written by Ørnås   \n",
       "16167                                              False   \n",
       "38871                                              False   \n",
       "\n",
       "      belongs_to_collection                            budget  \\\n",
       "35587              2.185485  /zaSf5OG7V8X8gqFvly88zDdRm46.jpg   \n",
       "29503              1.931659  /zV8bHuSL6WXoD6FWogP9j4x80bL.jpg   \n",
       "19730              0.065736  /ff9qCepilowshEtG2GYWwzt2bs4.jpg   \n",
       "16167                   NaN                                 0   \n",
       "38871                   NaN                                 0   \n",
       "\n",
       "                                                  genres  \\\n",
       "35587  [{'name': 'Odyssey Media', 'id': 17161}, {'nam...   \n",
       "29503  [{'name': 'Aniplex', 'id': 2883}, {'name': 'Go...   \n",
       "19730  [{'name': 'Carousel Productions', 'id': 11176}...   \n",
       "16167  [{'id': 28, 'name': 'Action'}, {'id': 18, 'nam...   \n",
       "38871  [{'id': 28, 'name': 'Action'}, {'id': 18, 'nam...   \n",
       "\n",
       "                                                homepage          id  \\\n",
       "35587           [{'iso_3166_1': 'CA', 'name': 'Canada'}]  2014-01-01   \n",
       "29503  [{'iso_3166_1': 'US', 'name': 'United States o...  2012-09-29   \n",
       "19730  [{'iso_3166_1': 'CA', 'name': 'Canada'}, {'iso...  1997-08-20   \n",
       "16167                                                NaN       99080   \n",
       "38871                                                NaN       99080   \n",
       "\n",
       "         imdb_id original_language                            original_title  \\\n",
       "35587          0              82.0  [{'iso_639_1': 'en', 'name': 'English'}]   \n",
       "29503          0              68.0      [{'iso_639_1': 'ja', 'name': '日本語'}]   \n",
       "19730          0             104.0  [{'iso_639_1': 'en', 'name': 'English'}]   \n",
       "16167  tt0022537                en                                The Viking   \n",
       "38871  tt0022537                en                                The Viking   \n",
       "\n",
       "                                                overview  ... release_date  \\\n",
       "35587                                           Released  ...           22   \n",
       "29503                                           Released  ...           12   \n",
       "19730                                           Released  ...            1   \n",
       "16167  Originally called White Thunder, American prod...  ...   1931-06-21   \n",
       "38871  Originally called White Thunder, American prod...  ...   1931-06-21   \n",
       "\n",
       "      revenue runtime                          spoken_languages    status  \\\n",
       "35587     NaN     NaN                                       NaN       NaN   \n",
       "29503     NaN     NaN                                       NaN       NaN   \n",
       "19730     NaN     NaN                                       NaN       NaN   \n",
       "16167     0.0    70.0  [{'iso_639_1': 'en', 'name': 'English'}]  Released   \n",
       "38871     0.0    70.0  [{'iso_639_1': 'en', 'name': 'English'}]  Released   \n",
       "\n",
       "                                                 tagline       title  video  \\\n",
       "35587                                                NaN         NaN    NaN   \n",
       "29503                                                NaN         NaN    NaN   \n",
       "19730                                                NaN         NaN    NaN   \n",
       "16167  Actually produced during the Great Newfoundlan...  The Viking  False   \n",
       "38871  Actually produced during the Great Newfoundlan...  The Viking  False   \n",
       "\n",
       "      vote_average vote_count  \n",
       "35587          NaN        NaN  \n",
       "29503          NaN        NaN  \n",
       "19730          NaN        NaN  \n",
       "16167          0.0        0.0  \n",
       "38871          0.0        0.0  \n",
       "\n",
       "[5 rows x 24 columns]"
      ]
     },
     "execution_count": 49,
     "metadata": {},
     "output_type": "execute_result"
    }
   ],
   "source": [
    "# Check for duplicated rows\n",
    "print(kaggle_movies.duplicated(subset='imdb_id').sum())\n",
    "kaggle_movies[kaggle_movies.duplicated(subset='imdb_id', keep=False)].sort_values('imdb_id').head()"
   ]
  },
  {
   "cell_type": "code",
   "execution_count": 50,
   "metadata": {},
   "outputs": [
    {
     "data": {
      "text/plain": [
       "3"
      ]
     },
     "execution_count": 50,
     "metadata": {},
     "output_type": "execute_result"
    }
   ],
   "source": [
    "# Invalid IMDB IDs\n",
    "kaggle_movies['imdb_id'].count() - kaggle_movies['imdb_id'].dropna().str.contains(r'tt\\d{7}').sum()"
   ]
  },
  {
   "cell_type": "code",
   "execution_count": 51,
   "metadata": {},
   "outputs": [
    {
     "data": {
      "text/plain": [
       "0"
      ]
     },
     "execution_count": 51,
     "metadata": {},
     "output_type": "execute_result"
    }
   ],
   "source": [
    "# Replace IMDB ID 0 with NaN\n",
    "kaggle_replace_id0_df = kaggle_movies.copy()\n",
    "kaggle_replace_id0_df['imdb_id'].replace('0', np.NaN, inplace=True)\n",
    "kaggle_replace_id0_df['imdb_id'].count() - kaggle_replace_id0_df['imdb_id'].dropna().str.contains(r'tt\\d{7}').sum()"
   ]
  },
  {
   "cell_type": "code",
   "execution_count": 52,
   "metadata": {},
   "outputs": [
    {
     "data": {
      "text/plain": [
       "0"
      ]
     },
     "execution_count": 52,
     "metadata": {},
     "output_type": "execute_result"
    }
   ],
   "source": [
    "# Drop duplicate movies\n",
    "kaggle_drop_dups_df = kaggle_replace_id0_df.drop_duplicates(subset=['imdb_id'])\n",
    "kaggle_drop_dups_df.duplicated(subset='imdb_id').sum()"
   ]
  },
  {
   "cell_type": "markdown",
   "metadata": {},
   "source": [
    "### Columns with mostly missing values"
   ]
  },
  {
   "cell_type": "code",
   "execution_count": 53,
   "metadata": {},
   "outputs": [
    {
     "data": {
      "text/plain": [
       "adult                    0.000000\n",
       "belongs_to_collection    0.901226\n",
       "budget                   0.000000\n",
       "genres                   0.000000\n",
       "homepage                 0.828853\n",
       "id                       0.000000\n",
       "imdb_id                  0.000022\n",
       "original_language        0.000242\n",
       "original_title           0.000000\n",
       "overview                 0.020961\n",
       "popularity               0.000066\n",
       "poster_path              0.008389\n",
       "production_companies     0.000066\n",
       "production_countries     0.000066\n",
       "release_date             0.001850\n",
       "revenue                  0.000066\n",
       "runtime                  0.005681\n",
       "spoken_languages         0.000066\n",
       "status                   0.001850\n",
       "tagline                  0.550873\n",
       "title                    0.000066\n",
       "video                    0.000066\n",
       "vote_average             0.000066\n",
       "vote_count               0.000066\n",
       "dtype: float64"
      ]
     },
     "execution_count": 53,
     "metadata": {},
     "output_type": "execute_result"
    }
   ],
   "source": [
    "# Inspect columns\n",
    "kaggle_drop_dups_df.isnull().mean()"
   ]
  },
  {
   "cell_type": "code",
   "execution_count": 54,
   "metadata": {},
   "outputs": [
    {
     "name": "stdout",
     "output_type": "stream",
     "text": [
      "<class 'pandas.core.frame.DataFrame'>\n",
      "Int64Index: 45417 entries, 0 to 45465\n",
      "Data columns (total 22 columns):\n",
      " #   Column                Non-Null Count  Dtype  \n",
      "---  ------                --------------  -----  \n",
      " 0   adult                 45417 non-null  object \n",
      " 1   budget                45417 non-null  object \n",
      " 2   genres                45417 non-null  object \n",
      " 3   id                    45417 non-null  object \n",
      " 4   imdb_id               45416 non-null  object \n",
      " 5   original_language     45406 non-null  object \n",
      " 6   original_title        45417 non-null  object \n",
      " 7   overview              44465 non-null  object \n",
      " 8   popularity            45414 non-null  object \n",
      " 9   poster_path           45036 non-null  object \n",
      " 10  production_companies  45414 non-null  object \n",
      " 11  production_countries  45414 non-null  object \n",
      " 12  release_date          45333 non-null  object \n",
      " 13  revenue               45414 non-null  float64\n",
      " 14  runtime               45159 non-null  float64\n",
      " 15  spoken_languages      45414 non-null  object \n",
      " 16  status                45333 non-null  object \n",
      " 17  tagline               20398 non-null  object \n",
      " 18  title                 45414 non-null  object \n",
      " 19  video                 45414 non-null  object \n",
      " 20  vote_average          45414 non-null  float64\n",
      " 21  vote_count            45414 non-null  float64\n",
      "dtypes: float64(4), object(18)\n",
      "memory usage: 8.0+ MB\n"
     ]
    }
   ],
   "source": [
    "# Drop columns with more than 70% missing values\n",
    "kaggle_drop_cols_df = kaggle_drop_dups_df.drop(['belongs_to_collection', 'homepage'], axis=1)\n",
    "kaggle_drop_cols_df.info()"
   ]
  },
  {
   "cell_type": "markdown",
   "metadata": {},
   "source": [
    "### Recast columns"
   ]
  },
  {
   "cell_type": "code",
   "execution_count": 55,
   "metadata": {},
   "outputs": [
    {
     "data": {
      "text/html": [
       "<div>\n",
       "<style scoped>\n",
       "    .dataframe tbody tr th:only-of-type {\n",
       "        vertical-align: middle;\n",
       "    }\n",
       "\n",
       "    .dataframe tbody tr th {\n",
       "        vertical-align: top;\n",
       "    }\n",
       "\n",
       "    .dataframe thead th {\n",
       "        text-align: right;\n",
       "    }\n",
       "</style>\n",
       "<table border=\"1\" class=\"dataframe\">\n",
       "  <thead>\n",
       "    <tr style=\"text-align: right;\">\n",
       "      <th></th>\n",
       "      <th>poster_path</th>\n",
       "      <th>production_companies</th>\n",
       "      <th>production_countries</th>\n",
       "      <th>release_date</th>\n",
       "      <th>revenue</th>\n",
       "      <th>runtime</th>\n",
       "      <th>spoken_languages</th>\n",
       "      <th>status</th>\n",
       "      <th>tagline</th>\n",
       "      <th>title</th>\n",
       "      <th>video</th>\n",
       "      <th>vote_average</th>\n",
       "      <th>vote_count</th>\n",
       "    </tr>\n",
       "  </thead>\n",
       "  <tbody>\n",
       "    <tr>\n",
       "      <th>0</th>\n",
       "      <td>/rhIRbceoE9lR4veEXuwCC2wARtG.jpg</td>\n",
       "      <td>[{'name': 'Pixar Animation Studios', 'id': 3}]</td>\n",
       "      <td>[{'iso_3166_1': 'US', 'name': 'United States o...</td>\n",
       "      <td>1995-10-30</td>\n",
       "      <td>373554033.0</td>\n",
       "      <td>81.0</td>\n",
       "      <td>[{'iso_639_1': 'en', 'name': 'English'}]</td>\n",
       "      <td>Released</td>\n",
       "      <td>NaN</td>\n",
       "      <td>Toy Story</td>\n",
       "      <td>False</td>\n",
       "      <td>7.7</td>\n",
       "      <td>5415.0</td>\n",
       "    </tr>\n",
       "    <tr>\n",
       "      <th>1</th>\n",
       "      <td>/vzmL6fP7aPKNKPRTFnZmiUfciyV.jpg</td>\n",
       "      <td>[{'name': 'TriStar Pictures', 'id': 559}, {'na...</td>\n",
       "      <td>[{'iso_3166_1': 'US', 'name': 'United States o...</td>\n",
       "      <td>1995-12-15</td>\n",
       "      <td>262797249.0</td>\n",
       "      <td>104.0</td>\n",
       "      <td>[{'iso_639_1': 'en', 'name': 'English'}, {'iso...</td>\n",
       "      <td>Released</td>\n",
       "      <td>Roll the dice and unleash the excitement!</td>\n",
       "      <td>Jumanji</td>\n",
       "      <td>False</td>\n",
       "      <td>6.9</td>\n",
       "      <td>2413.0</td>\n",
       "    </tr>\n",
       "  </tbody>\n",
       "</table>\n",
       "</div>"
      ],
      "text/plain": [
       "                        poster_path  \\\n",
       "0  /rhIRbceoE9lR4veEXuwCC2wARtG.jpg   \n",
       "1  /vzmL6fP7aPKNKPRTFnZmiUfciyV.jpg   \n",
       "\n",
       "                                production_companies  \\\n",
       "0     [{'name': 'Pixar Animation Studios', 'id': 3}]   \n",
       "1  [{'name': 'TriStar Pictures', 'id': 559}, {'na...   \n",
       "\n",
       "                                production_countries release_date  \\\n",
       "0  [{'iso_3166_1': 'US', 'name': 'United States o...   1995-10-30   \n",
       "1  [{'iso_3166_1': 'US', 'name': 'United States o...   1995-12-15   \n",
       "\n",
       "       revenue  runtime                                   spoken_languages  \\\n",
       "0  373554033.0     81.0           [{'iso_639_1': 'en', 'name': 'English'}]   \n",
       "1  262797249.0    104.0  [{'iso_639_1': 'en', 'name': 'English'}, {'iso...   \n",
       "\n",
       "     status                                    tagline      title  video  \\\n",
       "0  Released                                        NaN  Toy Story  False   \n",
       "1  Released  Roll the dice and unleash the excitement!    Jumanji  False   \n",
       "\n",
       "   vote_average  vote_count  \n",
       "0           7.7      5415.0  \n",
       "1           6.9      2413.0  "
      ]
     },
     "execution_count": 55,
     "metadata": {},
     "output_type": "execute_result"
    }
   ],
   "source": [
    "# Check column values\n",
    "kaggle_drop_cols_df.head(2).iloc[:, 9:]"
   ]
  },
  {
   "cell_type": "code",
   "execution_count": 56,
   "metadata": {},
   "outputs": [],
   "source": [
    "# Columns to recast\n",
    "cols_to_recast = {\n",
    "    'adult': 'boolean',\n",
    "    'budget': 'numeric',\n",
    "    'id': 'numeric',\n",
    "    'popularity': 'numeric',\n",
    "    'release_date': 'datetime',\n",
    "    'video': 'boolean'\n",
    "}"
   ]
  },
  {
   "cell_type": "markdown",
   "metadata": {},
   "source": [
    "### Convert adult and video to boolean type"
   ]
  },
  {
   "cell_type": "code",
   "execution_count": 57,
   "metadata": {},
   "outputs": [
    {
     "data": {
      "text/plain": [
       "False    45408\n",
       "True         9\n",
       "Name: adult, dtype: int64"
      ]
     },
     "execution_count": 57,
     "metadata": {},
     "output_type": "execute_result"
    }
   ],
   "source": [
    "# Inspect adult values\n",
    "kaggle_drop_cols_df['adult'].value_counts()"
   ]
  },
  {
   "cell_type": "code",
   "execution_count": 58,
   "metadata": {},
   "outputs": [
    {
     "data": {
      "text/plain": [
       "False    45321\n",
       "True        93\n",
       "Name: video, dtype: int64"
      ]
     },
     "execution_count": 58,
     "metadata": {},
     "output_type": "execute_result"
    }
   ],
   "source": [
    "# Inspect video values\n",
    "kaggle_drop_cols_df['video'].value_counts()"
   ]
  },
  {
   "cell_type": "code",
   "execution_count": 59,
   "metadata": {},
   "outputs": [
    {
     "data": {
      "text/plain": [
       "(45408, 20)"
      ]
     },
     "execution_count": 59,
     "metadata": {},
     "output_type": "execute_result"
    }
   ],
   "source": [
    "# Remove adult movies and drop both columns\n",
    "kaggle_drop_bool_df = kaggle_drop_cols_df.query('adult != \"True\"').drop(['adult', 'video'], axis=1).copy()\n",
    "kaggle_drop_bool_df.shape"
   ]
  },
  {
   "cell_type": "markdown",
   "metadata": {},
   "source": [
    "### Convert release date to datetime type"
   ]
  },
  {
   "cell_type": "code",
   "execution_count": 60,
   "metadata": {},
   "outputs": [
    {
     "data": {
      "text/plain": [
       "0       1995-10-30\n",
       "1       1995-12-15\n",
       "2       1995-12-22\n",
       "3       1995-12-22\n",
       "4       1995-02-10\n",
       "           ...    \n",
       "45461          NaT\n",
       "45462   2011-11-17\n",
       "45463   2003-08-01\n",
       "45464   1917-10-21\n",
       "45465   2017-06-09\n",
       "Name: release_date, Length: 45408, dtype: datetime64[ns]"
      ]
     },
     "execution_count": 60,
     "metadata": {},
     "output_type": "execute_result"
    }
   ],
   "source": [
    "# Recast release date to datetime\n",
    "kaggle_recast_date_df = kaggle_drop_bool_df.copy()\n",
    "kaggle_recast_date_df['release_date'] = pd.to_datetime(kaggle_recast_date_df['release_date'])\n",
    "kaggle_recast_date_df['release_date']"
   ]
  },
  {
   "cell_type": "markdown",
   "metadata": {},
   "source": [
    "### Convert budget, ID, and popularity to numeric"
   ]
  },
  {
   "cell_type": "code",
   "execution_count": 61,
   "metadata": {},
   "outputs": [
    {
     "name": "stdout",
     "output_type": "stream",
     "text": [
      "<class 'pandas.core.frame.DataFrame'>\n",
      "Int64Index: 45408 entries, 0 to 45465\n",
      "Data columns (total 20 columns):\n",
      " #   Column                Non-Null Count  Dtype         \n",
      "---  ------                --------------  -----         \n",
      " 0   budget                45408 non-null  int64         \n",
      " 1   genres                45408 non-null  object        \n",
      " 2   id                    45408 non-null  int64         \n",
      " 3   imdb_id               45407 non-null  object        \n",
      " 4   original_language     45397 non-null  object        \n",
      " 5   original_title        45408 non-null  object        \n",
      " 6   overview              44456 non-null  object        \n",
      " 7   popularity            45405 non-null  float64       \n",
      " 8   poster_path           45027 non-null  object        \n",
      " 9   production_companies  45405 non-null  object        \n",
      " 10  production_countries  45405 non-null  object        \n",
      " 11  release_date          45325 non-null  datetime64[ns]\n",
      " 12  revenue               45405 non-null  float64       \n",
      " 13  runtime               45150 non-null  float64       \n",
      " 14  spoken_languages      45405 non-null  object        \n",
      " 15  status                45324 non-null  object        \n",
      " 16  tagline               20392 non-null  object        \n",
      " 17  title                 45405 non-null  object        \n",
      " 18  vote_average          45405 non-null  float64       \n",
      " 19  vote_count            45405 non-null  float64       \n",
      "dtypes: datetime64[ns](1), float64(5), int64(2), object(12)\n",
      "memory usage: 7.3+ MB\n"
     ]
    }
   ],
   "source": [
    "# Recast budget and ID to integer\n",
    "kaggle_recast_numeric_df = kaggle_recast_date_df.copy()\n",
    "kaggle_recast_numeric_df['budget'] = kaggle_recast_numeric_df['budget'].astype(int)\n",
    "kaggle_recast_numeric_df['id'] = kaggle_recast_numeric_df['id'].astype(int)\n",
    "\n",
    "# Recast popularity to float\n",
    "kaggle_recast_numeric_df['popularity'] = kaggle_recast_numeric_df['popularity'].astype(float)\n",
    "kaggle_recast_numeric_df.info()"
   ]
  },
  {
   "cell_type": "code",
   "execution_count": 62,
   "metadata": {},
   "outputs": [
    {
     "data": {
      "text/plain": [
       "(45408, 20)"
      ]
     },
     "execution_count": 62,
     "metadata": {},
     "output_type": "execute_result"
    }
   ],
   "source": [
    "kaggle_movies_df = kaggle_recast_numeric_df.copy()\n",
    "kaggle_movies_df.shape"
   ]
  },
  {
   "cell_type": "markdown",
   "metadata": {},
   "source": [
    "### Inspect ratings data"
   ]
  },
  {
   "cell_type": "code",
   "execution_count": 63,
   "metadata": {},
   "outputs": [
    {
     "name": "stdout",
     "output_type": "stream",
     "text": [
      "<class 'pandas.core.frame.DataFrame'>\n",
      "RangeIndex: 26024289 entries, 0 to 26024288\n",
      "Data columns (total 4 columns):\n",
      " #   Column     Non-Null Count     Dtype  \n",
      "---  ------     --------------     -----  \n",
      " 0   userId     26024289 non-null  int64  \n",
      " 1   movieId    26024289 non-null  int64  \n",
      " 2   rating     26024289 non-null  float64\n",
      " 3   timestamp  26024289 non-null  int64  \n",
      "dtypes: float64(1), int64(3)\n",
      "memory usage: 794.2 MB\n",
      "None\n"
     ]
    },
    {
     "data": {
      "text/html": [
       "<div>\n",
       "<style scoped>\n",
       "    .dataframe tbody tr th:only-of-type {\n",
       "        vertical-align: middle;\n",
       "    }\n",
       "\n",
       "    .dataframe tbody tr th {\n",
       "        vertical-align: top;\n",
       "    }\n",
       "\n",
       "    .dataframe thead th {\n",
       "        text-align: right;\n",
       "    }\n",
       "</style>\n",
       "<table border=\"1\" class=\"dataframe\">\n",
       "  <thead>\n",
       "    <tr style=\"text-align: right;\">\n",
       "      <th></th>\n",
       "      <th>userId</th>\n",
       "      <th>movieId</th>\n",
       "      <th>rating</th>\n",
       "      <th>timestamp</th>\n",
       "    </tr>\n",
       "  </thead>\n",
       "  <tbody>\n",
       "    <tr>\n",
       "      <th>0</th>\n",
       "      <td>1</td>\n",
       "      <td>110</td>\n",
       "      <td>1.0</td>\n",
       "      <td>1425941529</td>\n",
       "    </tr>\n",
       "    <tr>\n",
       "      <th>1</th>\n",
       "      <td>1</td>\n",
       "      <td>147</td>\n",
       "      <td>4.5</td>\n",
       "      <td>1425942435</td>\n",
       "    </tr>\n",
       "  </tbody>\n",
       "</table>\n",
       "</div>"
      ],
      "text/plain": [
       "   userId  movieId  rating   timestamp\n",
       "0       1      110     1.0  1425941529\n",
       "1       1      147     4.5  1425942435"
      ]
     },
     "execution_count": 63,
     "metadata": {},
     "output_type": "execute_result"
    }
   ],
   "source": [
    "print(kaggle_ratings.info(null_counts=True))\n",
    "kaggle_ratings.head(2)"
   ]
  },
  {
   "cell_type": "markdown",
   "metadata": {},
   "source": [
    "### Save data"
   ]
  },
  {
   "cell_type": "code",
   "execution_count": 66,
   "metadata": {},
   "outputs": [
    {
     "data": {
      "text/html": [
       "<div>\n",
       "<style scoped>\n",
       "    .dataframe tbody tr th:only-of-type {\n",
       "        vertical-align: middle;\n",
       "    }\n",
       "\n",
       "    .dataframe tbody tr th {\n",
       "        vertical-align: top;\n",
       "    }\n",
       "\n",
       "    .dataframe thead th {\n",
       "        text-align: right;\n",
       "    }\n",
       "</style>\n",
       "<table border=\"1\" class=\"dataframe\">\n",
       "  <thead>\n",
       "    <tr style=\"text-align: right;\">\n",
       "      <th></th>\n",
       "      <th>Based on</th>\n",
       "      <th>Release date</th>\n",
       "      <th>Country</th>\n",
       "      <th>Budget</th>\n",
       "      <th>Box office</th>\n",
       "      <th>Cinematographer(s)</th>\n",
       "      <th>Director</th>\n",
       "      <th>Distributor</th>\n",
       "      <th>Editor(s)</th>\n",
       "      <th>Language(s)</th>\n",
       "      <th>...</th>\n",
       "      <th>Producer(s)</th>\n",
       "      <th>Production company(s)</th>\n",
       "      <th>Duration</th>\n",
       "      <th>Writer(s)</th>\n",
       "      <th>Stars</th>\n",
       "      <th>IMDB link</th>\n",
       "      <th>Title</th>\n",
       "      <th>URL</th>\n",
       "      <th>Year</th>\n",
       "      <th>ID</th>\n",
       "    </tr>\n",
       "  </thead>\n",
       "  <tbody>\n",
       "    <tr>\n",
       "      <th>0</th>\n",
       "      <td>[Characters, by Rex Weiner]</td>\n",
       "      <td>1990-07-11</td>\n",
       "      <td>United States</td>\n",
       "      <td>20000000.0</td>\n",
       "      <td>21400000.0</td>\n",
       "      <td>Oliver Wood</td>\n",
       "      <td>Renny Harlin</td>\n",
       "      <td>20th Century Fox</td>\n",
       "      <td>Michael Tronick</td>\n",
       "      <td>English</td>\n",
       "      <td>...</td>\n",
       "      <td>[Steve Perry, Joel Silver]</td>\n",
       "      <td>Silver Pictures</td>\n",
       "      <td>102.0</td>\n",
       "      <td>[David Arnott, James Cappe]</td>\n",
       "      <td>[Andrew Dice Clay, Wayne Newton, Priscilla Pre...</td>\n",
       "      <td>https://www.imdb.com/title/tt0098987/</td>\n",
       "      <td>The Adventures of Ford Fairlane</td>\n",
       "      <td>https://en.wikipedia.org/wiki/The_Adventures_o...</td>\n",
       "      <td>1990</td>\n",
       "      <td>tt0098987</td>\n",
       "    </tr>\n",
       "    <tr>\n",
       "      <th>1</th>\n",
       "      <td>[the novel, After Dark, My Sweet, by, Jim Thom...</td>\n",
       "      <td>1990-05-17</td>\n",
       "      <td>United States</td>\n",
       "      <td>6000000.0</td>\n",
       "      <td>2700000.0</td>\n",
       "      <td>Mark Plummer</td>\n",
       "      <td>James Foley</td>\n",
       "      <td>Avenue Pictures</td>\n",
       "      <td>Howard E. Smith</td>\n",
       "      <td>English</td>\n",
       "      <td>...</td>\n",
       "      <td>[Ric Kidney, Robert Redlin]</td>\n",
       "      <td>Avenue Pictures</td>\n",
       "      <td>114.0</td>\n",
       "      <td>[James Foley, Robert Redlin]</td>\n",
       "      <td>[Jason Patric, Rachel Ward, Bruce Dern, George...</td>\n",
       "      <td>https://www.imdb.com/title/tt0098994/</td>\n",
       "      <td>After Dark, My Sweet</td>\n",
       "      <td>https://en.wikipedia.org/wiki/After_Dark,_My_S...</td>\n",
       "      <td>1990</td>\n",
       "      <td>tt0098994</td>\n",
       "    </tr>\n",
       "  </tbody>\n",
       "</table>\n",
       "<p>2 rows × 21 columns</p>\n",
       "</div>"
      ],
      "text/plain": [
       "                                            Based on Release date  \\\n",
       "0                        [Characters, by Rex Weiner]   1990-07-11   \n",
       "1  [the novel, After Dark, My Sweet, by, Jim Thom...   1990-05-17   \n",
       "\n",
       "         Country      Budget  Box office Cinematographer(s)      Director  \\\n",
       "0  United States  20000000.0  21400000.0        Oliver Wood  Renny Harlin   \n",
       "1  United States   6000000.0   2700000.0       Mark Plummer   James Foley   \n",
       "\n",
       "        Distributor        Editor(s) Language(s)  ...  \\\n",
       "0  20th Century Fox  Michael Tronick     English  ...   \n",
       "1   Avenue Pictures  Howard E. Smith     English  ...   \n",
       "\n",
       "                   Producer(s) Production company(s) Duration  \\\n",
       "0   [Steve Perry, Joel Silver]       Silver Pictures    102.0   \n",
       "1  [Ric Kidney, Robert Redlin]       Avenue Pictures    114.0   \n",
       "\n",
       "                      Writer(s)  \\\n",
       "0   [David Arnott, James Cappe]   \n",
       "1  [James Foley, Robert Redlin]   \n",
       "\n",
       "                                               Stars  \\\n",
       "0  [Andrew Dice Clay, Wayne Newton, Priscilla Pre...   \n",
       "1  [Jason Patric, Rachel Ward, Bruce Dern, George...   \n",
       "\n",
       "                               IMDB link                            Title  \\\n",
       "0  https://www.imdb.com/title/tt0098987/  The Adventures of Ford Fairlane   \n",
       "1  https://www.imdb.com/title/tt0098994/             After Dark, My Sweet   \n",
       "\n",
       "                                                 URL  Year         ID  \n",
       "0  https://en.wikipedia.org/wiki/The_Adventures_o...  1990  tt0098987  \n",
       "1  https://en.wikipedia.org/wiki/After_Dark,_My_S...  1990  tt0098994  \n",
       "\n",
       "[2 rows x 21 columns]"
      ]
     },
     "execution_count": 66,
     "metadata": {},
     "output_type": "execute_result"
    }
   ],
   "source": [
    "wiki_movies_df.to_pickle(data_path + 'wiki_movies.pkl')\n",
    "pd.read_pickle(data_path + 'wiki_movies.pkl').head(2)"
   ]
  },
  {
   "cell_type": "code",
   "execution_count": 67,
   "metadata": {},
   "outputs": [
    {
     "data": {
      "text/html": [
       "<div>\n",
       "<style scoped>\n",
       "    .dataframe tbody tr th:only-of-type {\n",
       "        vertical-align: middle;\n",
       "    }\n",
       "\n",
       "    .dataframe tbody tr th {\n",
       "        vertical-align: top;\n",
       "    }\n",
       "\n",
       "    .dataframe thead th {\n",
       "        text-align: right;\n",
       "    }\n",
       "</style>\n",
       "<table border=\"1\" class=\"dataframe\">\n",
       "  <thead>\n",
       "    <tr style=\"text-align: right;\">\n",
       "      <th></th>\n",
       "      <th>budget</th>\n",
       "      <th>genres</th>\n",
       "      <th>id</th>\n",
       "      <th>imdb_id</th>\n",
       "      <th>original_language</th>\n",
       "      <th>original_title</th>\n",
       "      <th>overview</th>\n",
       "      <th>popularity</th>\n",
       "      <th>poster_path</th>\n",
       "      <th>production_companies</th>\n",
       "      <th>production_countries</th>\n",
       "      <th>release_date</th>\n",
       "      <th>revenue</th>\n",
       "      <th>runtime</th>\n",
       "      <th>spoken_languages</th>\n",
       "      <th>status</th>\n",
       "      <th>tagline</th>\n",
       "      <th>title</th>\n",
       "      <th>vote_average</th>\n",
       "      <th>vote_count</th>\n",
       "    </tr>\n",
       "  </thead>\n",
       "  <tbody>\n",
       "    <tr>\n",
       "      <th>0</th>\n",
       "      <td>30000000</td>\n",
       "      <td>[{'id': 16, 'name': 'Animation'}, {'id': 35, '...</td>\n",
       "      <td>862</td>\n",
       "      <td>tt0114709</td>\n",
       "      <td>en</td>\n",
       "      <td>Toy Story</td>\n",
       "      <td>Led by Woody, Andy's toys live happily in his ...</td>\n",
       "      <td>21.946943</td>\n",
       "      <td>/rhIRbceoE9lR4veEXuwCC2wARtG.jpg</td>\n",
       "      <td>[{'name': 'Pixar Animation Studios', 'id': 3}]</td>\n",
       "      <td>[{'iso_3166_1': 'US', 'name': 'United States o...</td>\n",
       "      <td>1995-10-30</td>\n",
       "      <td>373554033.0</td>\n",
       "      <td>81.0</td>\n",
       "      <td>[{'iso_639_1': 'en', 'name': 'English'}]</td>\n",
       "      <td>Released</td>\n",
       "      <td>NaN</td>\n",
       "      <td>Toy Story</td>\n",
       "      <td>7.7</td>\n",
       "      <td>5415.0</td>\n",
       "    </tr>\n",
       "    <tr>\n",
       "      <th>1</th>\n",
       "      <td>65000000</td>\n",
       "      <td>[{'id': 12, 'name': 'Adventure'}, {'id': 14, '...</td>\n",
       "      <td>8844</td>\n",
       "      <td>tt0113497</td>\n",
       "      <td>en</td>\n",
       "      <td>Jumanji</td>\n",
       "      <td>When siblings Judy and Peter discover an encha...</td>\n",
       "      <td>17.015539</td>\n",
       "      <td>/vzmL6fP7aPKNKPRTFnZmiUfciyV.jpg</td>\n",
       "      <td>[{'name': 'TriStar Pictures', 'id': 559}, {'na...</td>\n",
       "      <td>[{'iso_3166_1': 'US', 'name': 'United States o...</td>\n",
       "      <td>1995-12-15</td>\n",
       "      <td>262797249.0</td>\n",
       "      <td>104.0</td>\n",
       "      <td>[{'iso_639_1': 'en', 'name': 'English'}, {'iso...</td>\n",
       "      <td>Released</td>\n",
       "      <td>Roll the dice and unleash the excitement!</td>\n",
       "      <td>Jumanji</td>\n",
       "      <td>6.9</td>\n",
       "      <td>2413.0</td>\n",
       "    </tr>\n",
       "  </tbody>\n",
       "</table>\n",
       "</div>"
      ],
      "text/plain": [
       "     budget                                             genres    id  \\\n",
       "0  30000000  [{'id': 16, 'name': 'Animation'}, {'id': 35, '...   862   \n",
       "1  65000000  [{'id': 12, 'name': 'Adventure'}, {'id': 14, '...  8844   \n",
       "\n",
       "     imdb_id original_language original_title  \\\n",
       "0  tt0114709                en      Toy Story   \n",
       "1  tt0113497                en        Jumanji   \n",
       "\n",
       "                                            overview  popularity  \\\n",
       "0  Led by Woody, Andy's toys live happily in his ...   21.946943   \n",
       "1  When siblings Judy and Peter discover an encha...   17.015539   \n",
       "\n",
       "                        poster_path  \\\n",
       "0  /rhIRbceoE9lR4veEXuwCC2wARtG.jpg   \n",
       "1  /vzmL6fP7aPKNKPRTFnZmiUfciyV.jpg   \n",
       "\n",
       "                                production_companies  \\\n",
       "0     [{'name': 'Pixar Animation Studios', 'id': 3}]   \n",
       "1  [{'name': 'TriStar Pictures', 'id': 559}, {'na...   \n",
       "\n",
       "                                production_countries release_date  \\\n",
       "0  [{'iso_3166_1': 'US', 'name': 'United States o...   1995-10-30   \n",
       "1  [{'iso_3166_1': 'US', 'name': 'United States o...   1995-12-15   \n",
       "\n",
       "       revenue  runtime                                   spoken_languages  \\\n",
       "0  373554033.0     81.0           [{'iso_639_1': 'en', 'name': 'English'}]   \n",
       "1  262797249.0    104.0  [{'iso_639_1': 'en', 'name': 'English'}, {'iso...   \n",
       "\n",
       "     status                                    tagline      title  \\\n",
       "0  Released                                        NaN  Toy Story   \n",
       "1  Released  Roll the dice and unleash the excitement!    Jumanji   \n",
       "\n",
       "   vote_average  vote_count  \n",
       "0           7.7      5415.0  \n",
       "1           6.9      2413.0  "
      ]
     },
     "execution_count": 67,
     "metadata": {},
     "output_type": "execute_result"
    }
   ],
   "source": [
    "kaggle_movies_df.to_pickle(data_path + 'kaggle_movies.pkl')\n",
    "pd.read_pickle(data_path + 'kaggle_movies.pkl').head(2)"
   ]
  },
  {
   "cell_type": "code",
   "execution_count": null,
   "metadata": {},
   "outputs": [],
   "source": []
  }
 ],
 "metadata": {
  "kernelspec": {
   "display_name": "Python [conda env:minds] *",
   "language": "python",
   "name": "conda-env-minds-py"
  },
  "language_info": {
   "codemirror_mode": {
    "name": "ipython",
    "version": 3
   },
   "file_extension": ".py",
   "mimetype": "text/x-python",
   "name": "python",
   "nbconvert_exporter": "python",
   "pygments_lexer": "ipython3",
   "version": "3.7.9"
  }
 },
 "nbformat": 4,
 "nbformat_minor": 4
}
