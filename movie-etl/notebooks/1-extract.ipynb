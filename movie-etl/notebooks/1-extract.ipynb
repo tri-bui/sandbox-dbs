{
 "cells": [
  {
   "cell_type": "markdown",
   "metadata": {},
   "source": [
    "# Movie Data ETL Pipeline - Extract\n",
    "\n",
    "This notebook will begin the ETL process by extracting the data from the 2 data sources (2 CSV files from Kaggle and 1 JSON file with data scraped from Wikipedia). We will also start the transform step by cleaning the data.\n",
    "\n",
    "### Dependencies"
   ]
  },
  {
   "cell_type": "code",
   "execution_count": 1,
   "metadata": {},
   "outputs": [],
   "source": [
    "import json\n",
    "import re\n",
    "import numpy as np\n",
    "import pandas as pd"
   ]
  },
  {
   "cell_type": "markdown",
   "metadata": {},
   "source": [
    "### Kaggle data\n",
    "\n",
    "Download `movies_metadata.csv` and `ratings.csv` from the TMDB's movie dataset at the link below. Move both files into the `data/raw/` directory.\n",
    "\n",
    "Source: https://www.kaggle.com/rounakbanik/the-movies-dataset"
   ]
  },
  {
   "cell_type": "code",
   "execution_count": 2,
   "metadata": {},
   "outputs": [],
   "source": [
    "# Path to data directory\n",
    "data_path = '../data/'"
   ]
  },
  {
   "cell_type": "code",
   "execution_count": 3,
   "metadata": {},
   "outputs": [
    {
     "name": "stdout",
     "output_type": "stream",
     "text": [
      "<class 'pandas.core.frame.DataFrame'>\n",
      "RangeIndex: 45466 entries, 0 to 45465\n",
      "Data columns (total 24 columns):\n",
      " #   Column                 Non-Null Count  Dtype  \n",
      "---  ------                 --------------  -----  \n",
      " 0   adult                  45466 non-null  object \n",
      " 1   belongs_to_collection  4494 non-null   object \n",
      " 2   budget                 45466 non-null  object \n",
      " 3   genres                 45466 non-null  object \n",
      " 4   homepage               7782 non-null   object \n",
      " 5   id                     45466 non-null  object \n",
      " 6   imdb_id                45449 non-null  object \n",
      " 7   original_language      45455 non-null  object \n",
      " 8   original_title         45466 non-null  object \n",
      " 9   overview               44512 non-null  object \n",
      " 10  popularity             45461 non-null  object \n",
      " 11  poster_path            45080 non-null  object \n",
      " 12  production_companies   45463 non-null  object \n",
      " 13  production_countries   45463 non-null  object \n",
      " 14  release_date           45379 non-null  object \n",
      " 15  revenue                45460 non-null  float64\n",
      " 16  runtime                45203 non-null  float64\n",
      " 17  spoken_languages       45460 non-null  object \n",
      " 18  status                 45379 non-null  object \n",
      " 19  tagline                20412 non-null  object \n",
      " 20  title                  45460 non-null  object \n",
      " 21  video                  45460 non-null  object \n",
      " 22  vote_average           45460 non-null  float64\n",
      " 23  vote_count             45460 non-null  float64\n",
      "dtypes: float64(4), object(20)\n",
      "memory usage: 8.3+ MB\n",
      "None\n"
     ]
    },
    {
     "data": {
      "text/html": [
       "<div>\n",
       "<style scoped>\n",
       "    .dataframe tbody tr th:only-of-type {\n",
       "        vertical-align: middle;\n",
       "    }\n",
       "\n",
       "    .dataframe tbody tr th {\n",
       "        vertical-align: top;\n",
       "    }\n",
       "\n",
       "    .dataframe thead th {\n",
       "        text-align: right;\n",
       "    }\n",
       "</style>\n",
       "<table border=\"1\" class=\"dataframe\">\n",
       "  <thead>\n",
       "    <tr style=\"text-align: right;\">\n",
       "      <th></th>\n",
       "      <th>adult</th>\n",
       "      <th>belongs_to_collection</th>\n",
       "      <th>budget</th>\n",
       "      <th>genres</th>\n",
       "      <th>homepage</th>\n",
       "      <th>id</th>\n",
       "      <th>imdb_id</th>\n",
       "      <th>original_language</th>\n",
       "      <th>original_title</th>\n",
       "      <th>overview</th>\n",
       "      <th>...</th>\n",
       "      <th>release_date</th>\n",
       "      <th>revenue</th>\n",
       "      <th>runtime</th>\n",
       "      <th>spoken_languages</th>\n",
       "      <th>status</th>\n",
       "      <th>tagline</th>\n",
       "      <th>title</th>\n",
       "      <th>video</th>\n",
       "      <th>vote_average</th>\n",
       "      <th>vote_count</th>\n",
       "    </tr>\n",
       "  </thead>\n",
       "  <tbody>\n",
       "    <tr>\n",
       "      <th>0</th>\n",
       "      <td>False</td>\n",
       "      <td>{'id': 10194, 'name': 'Toy Story Collection', ...</td>\n",
       "      <td>30000000</td>\n",
       "      <td>[{'id': 16, 'name': 'Animation'}, {'id': 35, '...</td>\n",
       "      <td>http://toystory.disney.com/toy-story</td>\n",
       "      <td>862</td>\n",
       "      <td>tt0114709</td>\n",
       "      <td>en</td>\n",
       "      <td>Toy Story</td>\n",
       "      <td>Led by Woody, Andy's toys live happily in his ...</td>\n",
       "      <td>...</td>\n",
       "      <td>1995-10-30</td>\n",
       "      <td>373554033.0</td>\n",
       "      <td>81.0</td>\n",
       "      <td>[{'iso_639_1': 'en', 'name': 'English'}]</td>\n",
       "      <td>Released</td>\n",
       "      <td>NaN</td>\n",
       "      <td>Toy Story</td>\n",
       "      <td>False</td>\n",
       "      <td>7.7</td>\n",
       "      <td>5415.0</td>\n",
       "    </tr>\n",
       "    <tr>\n",
       "      <th>1</th>\n",
       "      <td>False</td>\n",
       "      <td>NaN</td>\n",
       "      <td>65000000</td>\n",
       "      <td>[{'id': 12, 'name': 'Adventure'}, {'id': 14, '...</td>\n",
       "      <td>NaN</td>\n",
       "      <td>8844</td>\n",
       "      <td>tt0113497</td>\n",
       "      <td>en</td>\n",
       "      <td>Jumanji</td>\n",
       "      <td>When siblings Judy and Peter discover an encha...</td>\n",
       "      <td>...</td>\n",
       "      <td>1995-12-15</td>\n",
       "      <td>262797249.0</td>\n",
       "      <td>104.0</td>\n",
       "      <td>[{'iso_639_1': 'en', 'name': 'English'}, {'iso...</td>\n",
       "      <td>Released</td>\n",
       "      <td>Roll the dice and unleash the excitement!</td>\n",
       "      <td>Jumanji</td>\n",
       "      <td>False</td>\n",
       "      <td>6.9</td>\n",
       "      <td>2413.0</td>\n",
       "    </tr>\n",
       "  </tbody>\n",
       "</table>\n",
       "<p>2 rows × 24 columns</p>\n",
       "</div>"
      ],
      "text/plain": [
       "   adult                              belongs_to_collection    budget  \\\n",
       "0  False  {'id': 10194, 'name': 'Toy Story Collection', ...  30000000   \n",
       "1  False                                                NaN  65000000   \n",
       "\n",
       "                                              genres  \\\n",
       "0  [{'id': 16, 'name': 'Animation'}, {'id': 35, '...   \n",
       "1  [{'id': 12, 'name': 'Adventure'}, {'id': 14, '...   \n",
       "\n",
       "                               homepage    id    imdb_id original_language  \\\n",
       "0  http://toystory.disney.com/toy-story   862  tt0114709                en   \n",
       "1                                   NaN  8844  tt0113497                en   \n",
       "\n",
       "  original_title                                           overview  ...  \\\n",
       "0      Toy Story  Led by Woody, Andy's toys live happily in his ...  ...   \n",
       "1        Jumanji  When siblings Judy and Peter discover an encha...  ...   \n",
       "\n",
       "  release_date      revenue runtime  \\\n",
       "0   1995-10-30  373554033.0    81.0   \n",
       "1   1995-12-15  262797249.0   104.0   \n",
       "\n",
       "                                    spoken_languages    status  \\\n",
       "0           [{'iso_639_1': 'en', 'name': 'English'}]  Released   \n",
       "1  [{'iso_639_1': 'en', 'name': 'English'}, {'iso...  Released   \n",
       "\n",
       "                                     tagline      title  video vote_average  \\\n",
       "0                                        NaN  Toy Story  False          7.7   \n",
       "1  Roll the dice and unleash the excitement!    Jumanji  False          6.9   \n",
       "\n",
       "  vote_count  \n",
       "0     5415.0  \n",
       "1     2413.0  \n",
       "\n",
       "[2 rows x 24 columns]"
      ]
     },
     "execution_count": 3,
     "metadata": {},
     "output_type": "execute_result"
    }
   ],
   "source": [
    "# Kaggle movie metadata\n",
    "kmovies_df = pd.read_csv(data_path + 'raw/movies_metadata.csv', low_memory=False)\n",
    "print(kmovies_df.info())\n",
    "kmovies_df.head(2)"
   ]
  },
  {
   "cell_type": "markdown",
   "metadata": {},
   "source": [
    "### Wikipedia data\n",
    "\n",
    "This data was scraped from the movie pages on [Wikipedia](https://en.wikipedia.org/)."
   ]
  },
  {
   "cell_type": "code",
   "execution_count": 4,
   "metadata": {},
   "outputs": [
    {
     "name": "stdout",
     "output_type": "stream",
     "text": [
      "<class 'pandas.core.frame.DataFrame'>\n",
      "RangeIndex: 7311 entries, 0 to 7310\n",
      "Columns: 193 entries, url to Polish\n",
      "dtypes: float64(5), object(188)\n",
      "memory usage: 10.8+ MB\n",
      "None\n"
     ]
    },
    {
     "data": {
      "text/html": [
       "<div>\n",
       "<style scoped>\n",
       "    .dataframe tbody tr th:only-of-type {\n",
       "        vertical-align: middle;\n",
       "    }\n",
       "\n",
       "    .dataframe tbody tr th {\n",
       "        vertical-align: top;\n",
       "    }\n",
       "\n",
       "    .dataframe thead th {\n",
       "        text-align: right;\n",
       "    }\n",
       "</style>\n",
       "<table border=\"1\" class=\"dataframe\">\n",
       "  <thead>\n",
       "    <tr style=\"text-align: right;\">\n",
       "      <th></th>\n",
       "      <th>url</th>\n",
       "      <th>year</th>\n",
       "      <th>imdb_link</th>\n",
       "      <th>title</th>\n",
       "      <th>Directed by</th>\n",
       "      <th>Produced by</th>\n",
       "      <th>Screenplay by</th>\n",
       "      <th>Story by</th>\n",
       "      <th>Based on</th>\n",
       "      <th>Starring</th>\n",
       "      <th>...</th>\n",
       "      <th>Predecessor</th>\n",
       "      <th>Founders</th>\n",
       "      <th>Area served</th>\n",
       "      <th>Products</th>\n",
       "      <th>Services</th>\n",
       "      <th>Russian</th>\n",
       "      <th>Hebrew</th>\n",
       "      <th>Revenue</th>\n",
       "      <th>Operating income</th>\n",
       "      <th>Polish</th>\n",
       "    </tr>\n",
       "  </thead>\n",
       "  <tbody>\n",
       "    <tr>\n",
       "      <th>0</th>\n",
       "      <td>https://en.wikipedia.org/wiki/The_Adventures_o...</td>\n",
       "      <td>1990.0</td>\n",
       "      <td>https://www.imdb.com/title/tt0098987/</td>\n",
       "      <td>The Adventures of Ford Fairlane</td>\n",
       "      <td>Renny Harlin</td>\n",
       "      <td>[Steve Perry, Joel Silver]</td>\n",
       "      <td>[David Arnott, James Cappe, Daniel Waters]</td>\n",
       "      <td>[David Arnott, James Cappe]</td>\n",
       "      <td>[Characters, by Rex Weiner]</td>\n",
       "      <td>[Andrew Dice Clay, Wayne Newton, Priscilla Pre...</td>\n",
       "      <td>...</td>\n",
       "      <td>NaN</td>\n",
       "      <td>NaN</td>\n",
       "      <td>NaN</td>\n",
       "      <td>NaN</td>\n",
       "      <td>NaN</td>\n",
       "      <td>NaN</td>\n",
       "      <td>NaN</td>\n",
       "      <td>NaN</td>\n",
       "      <td>NaN</td>\n",
       "      <td>NaN</td>\n",
       "    </tr>\n",
       "    <tr>\n",
       "      <th>1</th>\n",
       "      <td>https://en.wikipedia.org/wiki/After_Dark,_My_S...</td>\n",
       "      <td>1990.0</td>\n",
       "      <td>https://www.imdb.com/title/tt0098994/</td>\n",
       "      <td>After Dark, My Sweet</td>\n",
       "      <td>James Foley</td>\n",
       "      <td>[Ric Kidney, Robert Redlin]</td>\n",
       "      <td>[James Foley, Robert Redlin]</td>\n",
       "      <td>NaN</td>\n",
       "      <td>[the novel, After Dark, My Sweet, by, Jim Thom...</td>\n",
       "      <td>[Jason Patric, Rachel Ward, Bruce Dern, George...</td>\n",
       "      <td>...</td>\n",
       "      <td>NaN</td>\n",
       "      <td>NaN</td>\n",
       "      <td>NaN</td>\n",
       "      <td>NaN</td>\n",
       "      <td>NaN</td>\n",
       "      <td>NaN</td>\n",
       "      <td>NaN</td>\n",
       "      <td>NaN</td>\n",
       "      <td>NaN</td>\n",
       "      <td>NaN</td>\n",
       "    </tr>\n",
       "  </tbody>\n",
       "</table>\n",
       "<p>2 rows × 193 columns</p>\n",
       "</div>"
      ],
      "text/plain": [
       "                                                 url    year  \\\n",
       "0  https://en.wikipedia.org/wiki/The_Adventures_o...  1990.0   \n",
       "1  https://en.wikipedia.org/wiki/After_Dark,_My_S...  1990.0   \n",
       "\n",
       "                               imdb_link                            title  \\\n",
       "0  https://www.imdb.com/title/tt0098987/  The Adventures of Ford Fairlane   \n",
       "1  https://www.imdb.com/title/tt0098994/             After Dark, My Sweet   \n",
       "\n",
       "    Directed by                  Produced by  \\\n",
       "0  Renny Harlin   [Steve Perry, Joel Silver]   \n",
       "1   James Foley  [Ric Kidney, Robert Redlin]   \n",
       "\n",
       "                                Screenplay by                     Story by  \\\n",
       "0  [David Arnott, James Cappe, Daniel Waters]  [David Arnott, James Cappe]   \n",
       "1                [James Foley, Robert Redlin]                          NaN   \n",
       "\n",
       "                                            Based on  \\\n",
       "0                        [Characters, by Rex Weiner]   \n",
       "1  [the novel, After Dark, My Sweet, by, Jim Thom...   \n",
       "\n",
       "                                            Starring  ... Predecessor  \\\n",
       "0  [Andrew Dice Clay, Wayne Newton, Priscilla Pre...  ...         NaN   \n",
       "1  [Jason Patric, Rachel Ward, Bruce Dern, George...  ...         NaN   \n",
       "\n",
       "  Founders Area served Products Services Russian Hebrew Revenue  \\\n",
       "0      NaN         NaN      NaN      NaN     NaN    NaN     NaN   \n",
       "1      NaN         NaN      NaN      NaN     NaN    NaN     NaN   \n",
       "\n",
       "  Operating income Polish  \n",
       "0              NaN    NaN  \n",
       "1              NaN    NaN  \n",
       "\n",
       "[2 rows x 193 columns]"
      ]
     },
     "execution_count": 4,
     "metadata": {},
     "output_type": "execute_result"
    }
   ],
   "source": [
    "# Wikipedia movie data\n",
    "wmovies_df = pd.read_json(data_path + 'raw/wikipedia.movies.json')\n",
    "print(wmovies_df.info())\n",
    "wmovies_df.head(2)"
   ]
  },
  {
   "cell_type": "code",
   "execution_count": 5,
   "metadata": {
    "scrolled": true
   },
   "outputs": [
    {
     "name": "stdout",
     "output_type": "stream",
     "text": [
      "['Actor control', 'Adaptation by', 'Alias', 'Alma mater', 'Also known as', 'Animation by', 'Arabic', 'Area', 'Area served', 'Artist(s)', 'Attraction type', 'Audio format', 'Author', 'Based on', 'Biographical data', 'Bopomofo', 'Born', 'Box office', 'Budget', 'Camera setup', 'Cantonese', 'Characters', 'Children', 'Chinese', 'Cinematography', 'Closing date', 'Color process', 'Comics', 'Composer(s)', 'Coordinates', 'Country', 'Country of origin', 'Cover artist', 'Created by', 'Date premiered', 'Designer(s)', 'Developed by', 'Developer(s)', 'Dewey Decimal', 'Died', 'Directed by', 'Director', 'Distributed by', 'Distributor', 'Divisions', 'Duration', 'Edited by', 'Editor(s)', 'Ending theme', 'Engine', 'Engine(s)', 'Executive producer(s)', 'Family', 'Fate', 'Film(s)', 'Followed by', 'Format(s)', 'Formerly', 'Founded', 'Founder', 'Founders', 'French', 'Full name', 'Gender', 'Genre', 'Genre(s)', 'Genres', 'Gwoyeu Romatzyh', 'Hangul', 'Hanyu Pinyin', 'Headquarters', 'Hebrew', 'Height', 'Hepburn', 'Hokkien POJ', 'IPA', 'ISBN', 'Illustrator', 'Industry', 'Instruments', 'Japanese', 'Jyutping', 'Key people', 'LC Class', 'Label', 'Labels', 'Language', 'Length', 'Literal meaning', 'Literally', 'Mandarin', 'McCune–Reischauer', 'Media type', 'Mode(s)', 'Music', 'Music by', 'Name', 'Narrated by', 'Nationality', 'No. of episodes', 'No. of seasons', 'Novel(s)', 'Number of employees', 'OCLC', 'Occupation', 'Opening date', 'Opening theme', 'Operating income', 'Original language', 'Original language(s)', 'Original network', 'Original release', 'Original title', 'Original work', 'Other names', 'Owner', 'Pages', 'Parent', 'Parent(s)', 'Picture format', 'Place premiered', 'Platform(s)', 'Polish', 'Portrayed by', 'Preceded by', 'Predecessor', 'Produced by', 'Producer', 'Producer(s)', 'Production company', 'Production company(s)', 'Production location(s)', 'Productioncompanies ', 'Productioncompany ', 'Products', 'Programmer(s)', 'Publication date', 'Published', 'Published in English', 'Publisher', 'Publisher(s)', 'Recorded', 'Relatives', 'Release', 'Release date', 'Release(s)', 'Released', 'Replaced', 'Replaced by', 'Resting place', 'Revenue', 'Revised Romanization', 'Romanized', 'Running time', 'Russian', 'Screen story by', 'Screenplay by', 'Seasons', 'Series', 'Services', 'Set in', 'Setting', 'Simplified', 'Simplified Chinese', 'Species', 'Spouse(s)', 'Starring', 'Status', 'Story by', 'Subject', 'Subsidiaries', 'Suggested by', 'Television series', 'Text', 'Theme music composer', 'Total assets', 'Traditional', 'Traditional Chinese', 'Transcriptions', 'Type', 'Venue', 'Voices of', 'Wade–Giles', 'Website', 'Writer(s)', 'Written by', 'Yale Romanization', 'Years active', 'Yiddish', 'imdb_link', 'title', 'url', 'year']\n"
     ]
    }
   ],
   "source": [
    "# Inspect columns\n",
    "print(wmovies_df.columns.sort_values().tolist())"
   ]
  },
  {
   "cell_type": "markdown",
   "metadata": {},
   "source": [
    "Since the Wikipedia data is a lot messier than the Kaggle data, Reading the it in as a Pandas dataframe resulted in 193 columns and a lot of null values. Instead, we'll be reading this data in as JSON and cleaning it up before converting it to a dataframe."
   ]
  },
  {
   "cell_type": "code",
   "execution_count": 6,
   "metadata": {},
   "outputs": [
    {
     "name": "stdout",
     "output_type": "stream",
     "text": [
      "Number of records: 7311\n",
      "Sample record:\n"
     ]
    },
    {
     "data": {
      "text/plain": [
       "{'url': 'https://en.wikipedia.org/wiki/The_Adventures_of_Ford_Fairlane',\n",
       " 'year': 1990,\n",
       " 'imdb_link': 'https://www.imdb.com/title/tt0098987/',\n",
       " 'title': 'The Adventures of Ford Fairlane',\n",
       " 'Directed by': 'Renny Harlin',\n",
       " 'Produced by': ['Steve Perry', 'Joel Silver'],\n",
       " 'Screenplay by': ['David Arnott', 'James Cappe', 'Daniel Waters'],\n",
       " 'Story by': ['David Arnott', 'James Cappe'],\n",
       " 'Based on': ['Characters', 'by Rex Weiner'],\n",
       " 'Starring': ['Andrew Dice Clay',\n",
       "  'Wayne Newton',\n",
       "  'Priscilla Presley',\n",
       "  'Lauren Holly',\n",
       "  'Morris Day',\n",
       "  'Robert Englund',\n",
       "  \"Ed O'Neill\"],\n",
       " 'Narrated by': 'Andrew \"Dice\" Clay',\n",
       " 'Music by': ['Cliff Eidelman', 'Yello'],\n",
       " 'Cinematography': 'Oliver Wood',\n",
       " 'Edited by': 'Michael Tronick',\n",
       " 'Productioncompany ': 'Silver Pictures',\n",
       " 'Distributed by': '20th Century Fox',\n",
       " 'Release date': ['July 11, 1990', '(', '1990-07-11', ')'],\n",
       " 'Running time': '102 minutes',\n",
       " 'Country': 'United States',\n",
       " 'Language': 'English',\n",
       " 'Budget': '$20 million',\n",
       " 'Box office': '$21.4 million'}"
      ]
     },
     "execution_count": 6,
     "metadata": {},
     "output_type": "execute_result"
    }
   ],
   "source": [
    "# Wikipedia movie data\n",
    "with open(data_path + 'raw/wikipedia.movies.json', 'r') as f:\n",
    "    wmovies = json.load(f)\n",
    "    \n",
    "print('Number of records:', len(wmovies))\n",
    "print('Sample record:')\n",
    "wmovies[0]"
   ]
  },
  {
   "cell_type": "markdown",
   "metadata": {},
   "source": [
    "### Filter for movies\n",
    "\n",
    "There seem to be TV shows mixed into the data. To filter for movies, records must have a value for:\n",
    "1. `imdb_link`\n",
    "2. `Directed by`/`Director`\n",
    "3. `Duration`/`Length`/`Running time`\n",
    "\n",
    "Records should also NOT have a value for:\n",
    "1. `No. of seasons`\n",
    "2. `No. of episodes`"
   ]
  },
  {
   "cell_type": "code",
   "execution_count": 7,
   "metadata": {},
   "outputs": [
    {
     "data": {
      "text/plain": [
       "6936"
      ]
     },
     "execution_count": 7,
     "metadata": {},
     "output_type": "execute_result"
    }
   ],
   "source": [
    "# Filter out tv shows\n",
    "wmovies_filtered = [movie for movie in wmovies if \n",
    "                    ('imdb_link' in movie) and \n",
    "                    ('Directed by' in movie or 'Director' in movie) and \n",
    "                    ('Duration' in movie or 'Length' in movie or 'Running time' in movie) and \n",
    "                    ('No. of seasons' not in movie) and \n",
    "                    ('No. of episodes' not in movie)]\n",
    "len(wmovies_filtered)"
   ]
  },
  {
   "cell_type": "code",
   "execution_count": 8,
   "metadata": {},
   "outputs": [
    {
     "name": "stdout",
     "output_type": "stream",
     "text": [
      "(6936, 75)\n"
     ]
    },
    {
     "data": {
      "text/plain": [
       "Index(['Adaptation by', 'Also known as', 'Animation by', 'Arabic',\n",
       "       'Audio format', 'Based on', 'Box office', 'Budget', 'Cantonese',\n",
       "       'Chinese', 'Cinematography', 'Color process', 'Composer(s)', 'Country',\n",
       "       'Country of origin', 'Created by', 'Directed by', 'Director',\n",
       "       'Distributed by', 'Distributor', 'Edited by', 'Editor(s)',\n",
       "       'Executive producer(s)', 'Followed by', 'French', 'Genre', 'Hangul',\n",
       "       'Hebrew', 'Hepburn', 'Japanese', 'Label', 'Language', 'Length',\n",
       "       'Literally', 'Mandarin', 'McCune–Reischauer', 'Music by', 'Narrated by',\n",
       "       'Original language(s)', 'Original network', 'Original release',\n",
       "       'Original title', 'Picture format', 'Polish', 'Preceded by',\n",
       "       'Produced by', 'Producer', 'Producer(s)', 'Production company(s)',\n",
       "       'Production location(s)', 'Productioncompanies ', 'Productioncompany ',\n",
       "       'Recorded', 'Release date', 'Released', 'Revised Romanization',\n",
       "       'Romanized', 'Running time', 'Russian', 'Screen story by',\n",
       "       'Screenplay by', 'Simplified', 'Starring', 'Story by', 'Suggested by',\n",
       "       'Theme music composer', 'Traditional', 'Venue', 'Voices of',\n",
       "       'Written by', 'Yiddish', 'imdb_link', 'title', 'url', 'year'],\n",
       "      dtype='object')"
      ]
     },
     "execution_count": 8,
     "metadata": {},
     "output_type": "execute_result"
    }
   ],
   "source": [
    "# Convert to df\n",
    "wmovies_filtered_df = pd.DataFrame(wmovies_filtered)\n",
    "print(wmovies_filtered_df.shape)\n",
    "\n",
    "# Inspect columns\n",
    "wmovies_cols = wmovies_filtered_df.columns.sort_values()\n",
    "wmovies_cols"
   ]
  },
  {
   "cell_type": "markdown",
   "metadata": {},
   "source": [
    "### Clean columns\n",
    "\n",
    "Just by filtering out the TV shows, the data has been reduced to 75 columns. Let's take a look at a sample value for each column to get a better understanding of the data. Since there are a lot of missing values in most of the columns, the sample values will not all correspond to the same record."
   ]
  },
  {
   "cell_type": "code",
   "execution_count": 9,
   "metadata": {},
   "outputs": [
    {
     "name": "stdout",
     "output_type": "stream",
     "text": [
      "Adaptation by : ['John L. Balderston', 'Paul Perez', 'Daniel Moore']\n",
      "Also known as : Detonator II: Night Watch\n",
      "Animation by : ['Andreas Deja', 'Gary Dunn', 'Deboissy Sylvain']\n",
      "Arabic : قضية رقم ٢٣\n",
      "Audio format : Stereo\n",
      "Based on : ['Characters', 'by Rex Weiner']\n",
      "Box office : $21.4 million\n",
      "Budget : $20 million\n",
      "Cantonese : ['Jip', '6', 'Man', '6', 'Saam', '1']\n",
      "Chinese : 摇滚藏獒\n",
      "Cinematography : Oliver Wood\n",
      "Color process : Technicolor\n",
      "Composer(s) : Richard Bellis\n",
      "Country : United States\n",
      "Country of origin : United States\n",
      "Created by : ['John William Corrington', '(novel)']\n",
      "Directed by : Renny Harlin\n",
      "Director : Mark \"Aldo\" Miceli\n",
      "Distributed by : 20th Century Fox\n",
      "Distributor : NBC\n",
      "Edited by : Michael Tronick\n",
      "Editor(s) : ['Christopher Cooke', 'James Galloway']\n",
      "Executive producer(s) : Rich Melcombe\n",
      "Followed by : See below\n",
      "French : Le Cinquième Élément\n",
      "Genre : Thriller\n",
      "Hangul : 원더풀 데이즈\n",
      "Hebrew : פוֹקְסטְרוֹט\n",
      "Hepburn : Omoide no Mānī\n",
      "Japanese : 思い出のマーニー\n",
      "Label : ['Warner Music Vision', 'Warner-Reprise Video', 'Maverick', 'Sire', 'Warner Bros.']\n",
      "Language : English\n",
      "Length : 117 mins\n",
      "Literally : Marnie of [my] Memories\n",
      "Mandarin : Xǐyàn\n",
      "McCune–Reischauer : Wŏndŏp‘ul teijŭ\n",
      "Music by : ['Cliff Eidelman', 'Yello']\n",
      "Narrated by : Andrew \"Dice\" Clay\n",
      "Original language(s) : English\n",
      "Original network : NBC\n",
      "Original release : February 11, 1990\n",
      "Original title : ואלס עם באשיר\n",
      "Picture format : Color\n",
      "Polish : Zimna wojna\n",
      "Preceded by : Psycho III\n",
      "Produced by : ['Steve Perry', 'Joel Silver']\n",
      "Producer : Marty Callner\n",
      "Producer(s) : ['Susan Baerwald (executive producer)', 'Dan Wigutow (executive producer)', 'Daniel Franklin (co-producer)']\n",
      "Production company(s) : NBC Productions\n",
      "Production location(s) : ['Paramount Ranch - 2813 Cornell Road,', 'Agoura, California']\n",
      "Productioncompanies  : ['Lightning Pictures', 'Mack-Taylor Productions', 'Precision Films']\n",
      "Productioncompany  : Silver Pictures\n",
      "Recorded : November 19, 1993\n",
      "Release date : ['July 11, 1990', '(', '1990-07-11', ')']\n",
      "Released : April 25, 1994\n",
      "Revised Romanization : Wondeopul deijeu\n",
      "Romanized : Qadiyya raqm 23\n",
      "Running time : 102 minutes\n",
      "Russian : Нелюбовь\n",
      "Screen story by : Ian Watson\n",
      "Screenplay by : ['David Arnott', 'James Cappe', 'Daniel Waters']\n",
      "Simplified : 东宫西宫\n",
      "Starring : ['Andrew Dice Clay', 'Wayne Newton', 'Priscilla Presley', 'Lauren Holly', 'Morris Day', 'Robert Englund', \"Ed O'Neill\"]\n",
      "Story by : ['David Arnott', 'James Cappe']\n",
      "Suggested by : ['Character from', 'Profumo di donna', 'by', 'Ruggero Maccari', 'Dino Risi']\n",
      "Theme music composer : Laurence Rosenthal\n",
      "Traditional : 喜宴\n",
      "Venue : ['Sydney Cricket Ground', '(', 'Sydney, Australia', ')']\n",
      "Voices of : See full below\n",
      "Written by : Woody Allen\n",
      "Yiddish : מנשה\n",
      "imdb_link : https://www.imdb.com/title/tt0098987/\n",
      "title : The Adventures of Ford Fairlane\n",
      "url : https://en.wikipedia.org/wiki/The_Adventures_of_Ford_Fairlane\n",
      "year : 1990\n"
     ]
    }
   ],
   "source": [
    "# Sample value for each column\n",
    "for col in wmovies_cols:\n",
    "    # Print the first non-null value in the column\n",
    "    print(col, ':', wmovies_filtered_df.loc[wmovies_filtered_df[col].notnull(), col].values[0])"
   ]
  },
  {
   "cell_type": "markdown",
   "metadata": {},
   "source": [
    "We will be addressing a few things here:\n",
    "1. There are a lot of columns holding alternate titles for the movies so we're going to group all of these together in the JSON data.\n",
    "2. There are also a lot of redundant columns giving the same information, such as `Directed by` and `Director`. We'll be grouping these together as well.\n",
    "3. The column names are inconsistent, so we will rename them for consistency."
   ]
  },
  {
   "cell_type": "code",
   "execution_count": 10,
   "metadata": {},
   "outputs": [
    {
     "data": {
      "text/plain": [
       "(20, 55)"
      ]
     },
     "execution_count": 10,
     "metadata": {},
     "output_type": "execute_result"
    }
   ],
   "source": [
    "# Keys holding alternate titles\n",
    "title_keys = ['Also known as', 'Arabic', 'Cantonese', 'Chinese', 'French', \n",
    "              'Hangul', 'Hebrew', 'Hepburn', 'Japanese', 'Literally', 'Mandarin', \n",
    "              'McCune–Reischauer', 'Original title', 'Polish', 'Revised Romanization', \n",
    "              'Romanized', 'Russian', 'Simplified', 'Traditional', 'Yiddish']\n",
    "\n",
    "# Key rename pairs (old name: new name)\n",
    "keys_to_rename = {\n",
    "    'Adaptation by': 'writers',\n",
    "    'Animation by': 'animators',\n",
    "    'Audio format': 'audio_format',\n",
    "    'Based on': 'based_on',\n",
    "    'Box office': 'box_office',\n",
    "    'Budget': 'budget',\n",
    "    'Cinematography': 'cinematographers',\n",
    "    'Color process': 'color_process',\n",
    "    'Composer(s)': 'composers',\n",
    "    'Country': 'country',\n",
    "    'Country of origin': 'country',\n",
    "    'Created by': 'creators',\n",
    "    'Directed by': 'director',\n",
    "    'Director': 'director',\n",
    "    'Distributed by': 'distributor',\n",
    "    'Distributor': 'distributor',\n",
    "    'Edited by': 'editors',\n",
    "    'Editor(s)': 'editors',\n",
    "    'Executive producer(s)': 'executive_producers',\n",
    "    'Followed by': 'sequel',\n",
    "    'Genre': 'genre',\n",
    "    'Label': 'label',\n",
    "    'Language': 'languages',\n",
    "    'Length': 'duration',\n",
    "    'Music by': 'composers',\n",
    "    'Narrated by': 'narrator',\n",
    "    'Original language(s)': 'languages', \n",
    "    'Original network': 'network', \n",
    "    'Original release': 'release_date',\n",
    "    'Picture format': 'picture_format',\n",
    "    'Preceded by': 'prequel',\n",
    "    'Produced by': 'producers',\n",
    "    'Producer': 'producers',\n",
    "    'Producer(s)': 'producers',\n",
    "    'Production company(s)': 'production_companies',\n",
    "    'Production location(s)': 'production_locations',\n",
    "    'Productioncompanies ': 'production_companies',\n",
    "    'Productioncompany ': 'production_companies',\n",
    "    'Recorded': 'recorded',\n",
    "    'Release date': 'release_date',\n",
    "    'Released': 'release_date',\n",
    "    'Running time': 'duration',\n",
    "    'Screen story by': 'writers',\n",
    "    'Screenplay by': 'writers',\n",
    "    'Starring': 'stars',\n",
    "    'Story by': 'writers',\n",
    "    'Suggested by': 'suggestors',\n",
    "    'Theme music composer': 'composers',\n",
    "    'Venue': 'venue',\n",
    "    'Voices of': 'voicers',\n",
    "    'Written by': 'writers',\n",
    "    'imdb_link': 'imdb_link', \n",
    "    'title': 'title',\n",
    "    'url': 'url', \n",
    "    'year': 'year'\n",
    "}\n",
    "\n",
    "len(title_keys), len(keys_to_rename)"
   ]
  },
  {
   "cell_type": "code",
   "execution_count": 11,
   "metadata": {},
   "outputs": [
    {
     "data": {
      "text/plain": [
       "{'alternate_titles': {'mandarin': 'Xǐyàn', 'traditional': '喜宴'},\n",
       " 'box_office': '$23.6 million',\n",
       " 'budget': '$1 million',\n",
       " 'cinematographers': 'Jong Lin',\n",
       " 'country': ['Taiwan', 'United States'],\n",
       " 'director': 'Ang Lee',\n",
       " 'distributor': 'The Samuel Goldwyn Company',\n",
       " 'editors': 'Tim Squyres',\n",
       " 'languages': ['Mandarin Chinese', 'English'],\n",
       " 'composers': 'Mader',\n",
       " 'producers': ['Ang Lee', 'Ted Hope', 'James Schamus'],\n",
       " 'production_companies': 'Good Machine',\n",
       " 'release_date': ['4 August 1993', '(', '1993-08-04', ')', '(United States)'],\n",
       " 'duration': '106 minutes',\n",
       " 'stars': ['Ah-Leh Gua',\n",
       "  'Sihung Lung',\n",
       "  'May Chin',\n",
       "  'Winston Chao',\n",
       "  'Mitchell Lichtenstein'],\n",
       " 'writers': ['Ang Lee', 'Neil Peng', 'James Schamus'],\n",
       " 'imdb_link': 'https://www.imdb.com/title/tt0107156/',\n",
       " 'title': 'The Wedding Banquet',\n",
       " 'url': 'https://en.wikipedia.org/wiki/The_Wedding_Banquet',\n",
       " 'year': 1993}"
      ]
     },
     "execution_count": 11,
     "metadata": {},
     "output_type": "execute_result"
    }
   ],
   "source": [
    "def clean_movie(movie_dict, title_keys=title_keys, keys_to_rename=keys_to_rename):\n",
    "    \n",
    "    \"\"\"\n",
    "    Clean movie dictionary with the following steps:\n",
    "        [1] combine all alternate titles into a single key\n",
    "        [2] rename keys for consistency and to consolidate similar columns into 1\n",
    "    \n",
    "    Args:\n",
    "        [1] movie_dict (dict) - record to clean\n",
    "        [2] title_keys (list[str]) - names of keys with the movie's alternate titles\n",
    "        [3] keys_to_rename (dict{str: str}) - mapping of old key name to new key name\n",
    "    \n",
    "    Returns:\n",
    "        (Dict) clean movie dictionary\n",
    "    \"\"\"\n",
    "    \n",
    "    # Copy of movie dict and empty dict for alternate titles\n",
    "    movie_dict, alt_titles = dict(movie_dict), dict()\n",
    "    \n",
    "    # Add keys with alternate titles to alt_titles dict and delete the original key\n",
    "    for key in title_keys:\n",
    "        if key in movie_dict:\n",
    "            alt_titles[key.lower().replace(' ', '_')] = movie_dict.pop(key)\n",
    "            \n",
    "    # Add new key for alternate titles\n",
    "    if len(alt_titles):\n",
    "        movie_dict['alternate_titles'] = alt_titles\n",
    "        \n",
    "    # Rename keys\n",
    "    for old, new in keys_to_rename.items():\n",
    "        if old in movie_dict:\n",
    "            movie_dict[new] = movie_dict.pop(old)\n",
    "        \n",
    "    return movie_dict\n",
    "            \n",
    "    \n",
    "# Test function\n",
    "clean_movie(wmovies_filtered[849])"
   ]
  },
  {
   "cell_type": "code",
   "execution_count": 12,
   "metadata": {},
   "outputs": [
    {
     "name": "stdout",
     "output_type": "stream",
     "text": [
      "(6936, 38)\n"
     ]
    },
    {
     "data": {
      "text/plain": [
       "Index(['alternate_titles', 'animators', 'audio_format', 'based_on',\n",
       "       'box_office', 'budget', 'cinematographers', 'color_process',\n",
       "       'composers', 'country', 'creators', 'director', 'distributor',\n",
       "       'duration', 'editors', 'executive_producers', 'genre', 'imdb_link',\n",
       "       'label', 'languages', 'narrator', 'network', 'picture_format',\n",
       "       'prequel', 'producers', 'production_companies', 'production_locations',\n",
       "       'recorded', 'release_date', 'sequel', 'stars', 'suggestors', 'title',\n",
       "       'url', 'venue', 'voicers', 'writers', 'year'],\n",
       "      dtype='object')"
      ]
     },
     "execution_count": 12,
     "metadata": {},
     "output_type": "execute_result"
    }
   ],
   "source": [
    "# Clean movie dictionaries\n",
    "wmovies_clean = [clean_movie(movie) for movie in wmovies_filtered]\n",
    "\n",
    "# Convert Wikipedia data to df\n",
    "wmovies_clean_df = pd.DataFrame(wmovies_clean)\n",
    "print(wmovies_clean_df.shape)\n",
    "\n",
    "# Inspect columns\n",
    "wmovies_clean_df.columns.sort_values()"
   ]
  },
  {
   "cell_type": "markdown",
   "metadata": {},
   "source": [
    "### Drop duplicate rows\n",
    "\n",
    "With the columns taken care of, let's inspect the data for duplicate records. The IMDB ID should be unique for each movie. The data does have the IMDB link, so we can extract the IMDB ID from that link."
   ]
  },
  {
   "cell_type": "code",
   "execution_count": 13,
   "metadata": {},
   "outputs": [
    {
     "data": {
      "text/plain": [
       "0    https://www.imdb.com/title/tt0098987/\n",
       "1    https://www.imdb.com/title/tt0098994/\n",
       "Name: imdb_link, dtype: object"
      ]
     },
     "execution_count": 13,
     "metadata": {},
     "output_type": "execute_result"
    }
   ],
   "source": [
    "# Inspect IMDB links\n",
    "wmovies_clean_df.loc[:1, 'imdb_link']"
   ]
  },
  {
   "cell_type": "code",
   "execution_count": 14,
   "metadata": {},
   "outputs": [
    {
     "data": {
      "text/html": [
       "<div>\n",
       "<style scoped>\n",
       "    .dataframe tbody tr th:only-of-type {\n",
       "        vertical-align: middle;\n",
       "    }\n",
       "\n",
       "    .dataframe tbody tr th {\n",
       "        vertical-align: top;\n",
       "    }\n",
       "\n",
       "    .dataframe thead th {\n",
       "        text-align: right;\n",
       "    }\n",
       "</style>\n",
       "<table border=\"1\" class=\"dataframe\">\n",
       "  <thead>\n",
       "    <tr style=\"text-align: right;\">\n",
       "      <th></th>\n",
       "      <th>based_on</th>\n",
       "      <th>box_office</th>\n",
       "      <th>budget</th>\n",
       "      <th>cinematographers</th>\n",
       "      <th>country</th>\n",
       "      <th>director</th>\n",
       "      <th>distributor</th>\n",
       "      <th>editors</th>\n",
       "      <th>languages</th>\n",
       "      <th>composers</th>\n",
       "      <th>...</th>\n",
       "      <th>creators</th>\n",
       "      <th>prequel</th>\n",
       "      <th>suggestors</th>\n",
       "      <th>alternate_titles</th>\n",
       "      <th>label</th>\n",
       "      <th>recorded</th>\n",
       "      <th>venue</th>\n",
       "      <th>animators</th>\n",
       "      <th>color_process</th>\n",
       "      <th>imdb_id</th>\n",
       "    </tr>\n",
       "  </thead>\n",
       "  <tbody>\n",
       "    <tr>\n",
       "      <th>0</th>\n",
       "      <td>[Characters, by Rex Weiner]</td>\n",
       "      <td>$21.4 million</td>\n",
       "      <td>$20 million</td>\n",
       "      <td>Oliver Wood</td>\n",
       "      <td>United States</td>\n",
       "      <td>Renny Harlin</td>\n",
       "      <td>20th Century Fox</td>\n",
       "      <td>Michael Tronick</td>\n",
       "      <td>English</td>\n",
       "      <td>[Cliff Eidelman, Yello]</td>\n",
       "      <td>...</td>\n",
       "      <td>NaN</td>\n",
       "      <td>NaN</td>\n",
       "      <td>NaN</td>\n",
       "      <td>NaN</td>\n",
       "      <td>NaN</td>\n",
       "      <td>NaN</td>\n",
       "      <td>NaN</td>\n",
       "      <td>NaN</td>\n",
       "      <td>NaN</td>\n",
       "      <td>tt0098987</td>\n",
       "    </tr>\n",
       "    <tr>\n",
       "      <th>1</th>\n",
       "      <td>[the novel, After Dark, My Sweet, by, Jim Thom...</td>\n",
       "      <td>$2.7 million</td>\n",
       "      <td>$6 million</td>\n",
       "      <td>Mark Plummer</td>\n",
       "      <td>United States</td>\n",
       "      <td>James Foley</td>\n",
       "      <td>Avenue Pictures</td>\n",
       "      <td>Howard E. Smith</td>\n",
       "      <td>English</td>\n",
       "      <td>Maurice Jarre</td>\n",
       "      <td>...</td>\n",
       "      <td>NaN</td>\n",
       "      <td>NaN</td>\n",
       "      <td>NaN</td>\n",
       "      <td>NaN</td>\n",
       "      <td>NaN</td>\n",
       "      <td>NaN</td>\n",
       "      <td>NaN</td>\n",
       "      <td>NaN</td>\n",
       "      <td>NaN</td>\n",
       "      <td>tt0098994</td>\n",
       "    </tr>\n",
       "  </tbody>\n",
       "</table>\n",
       "<p>2 rows × 39 columns</p>\n",
       "</div>"
      ],
      "text/plain": [
       "                                            based_on     box_office  \\\n",
       "0                        [Characters, by Rex Weiner]  $21.4 million   \n",
       "1  [the novel, After Dark, My Sweet, by, Jim Thom...   $2.7 million   \n",
       "\n",
       "        budget cinematographers        country      director  \\\n",
       "0  $20 million      Oliver Wood  United States  Renny Harlin   \n",
       "1   $6 million     Mark Plummer  United States   James Foley   \n",
       "\n",
       "        distributor          editors languages                composers  ...  \\\n",
       "0  20th Century Fox  Michael Tronick   English  [Cliff Eidelman, Yello]  ...   \n",
       "1   Avenue Pictures  Howard E. Smith   English            Maurice Jarre  ...   \n",
       "\n",
       "  creators prequel suggestors alternate_titles label recorded venue animators  \\\n",
       "0      NaN     NaN        NaN              NaN   NaN      NaN   NaN       NaN   \n",
       "1      NaN     NaN        NaN              NaN   NaN      NaN   NaN       NaN   \n",
       "\n",
       "  color_process    imdb_id  \n",
       "0           NaN  tt0098987  \n",
       "1           NaN  tt0098994  \n",
       "\n",
       "[2 rows x 39 columns]"
      ]
     },
     "execution_count": 14,
     "metadata": {},
     "output_type": "execute_result"
    }
   ],
   "source": [
    "# Extract IMDB ID from the link\n",
    "# wmovies_clean_df['imdb_id'] = wmovies_clean_df['imdb_link'].str.split('/', expand=True)[4]\n",
    "        wmovies_clean_df['imdb_id'] = wmovies_clean_df['imdb_link'].str.extract(r'(tt\\d{7})')\n",
    "wmovies_clean_df.head(2)"
   ]
  },
  {
   "cell_type": "code",
   "execution_count": 15,
   "metadata": {},
   "outputs": [
    {
     "name": "stdout",
     "output_type": "stream",
     "text": [
      "42\n"
     ]
    },
    {
     "data": {
      "text/html": [
       "<div>\n",
       "<style scoped>\n",
       "    .dataframe tbody tr th:only-of-type {\n",
       "        vertical-align: middle;\n",
       "    }\n",
       "\n",
       "    .dataframe tbody tr th {\n",
       "        vertical-align: top;\n",
       "    }\n",
       "\n",
       "    .dataframe thead th {\n",
       "        text-align: right;\n",
       "    }\n",
       "</style>\n",
       "<table border=\"1\" class=\"dataframe\">\n",
       "  <thead>\n",
       "    <tr style=\"text-align: right;\">\n",
       "      <th></th>\n",
       "      <th>based_on</th>\n",
       "      <th>box_office</th>\n",
       "      <th>budget</th>\n",
       "      <th>cinematographers</th>\n",
       "      <th>country</th>\n",
       "      <th>director</th>\n",
       "      <th>distributor</th>\n",
       "      <th>editors</th>\n",
       "      <th>languages</th>\n",
       "      <th>composers</th>\n",
       "      <th>...</th>\n",
       "      <th>creators</th>\n",
       "      <th>prequel</th>\n",
       "      <th>suggestors</th>\n",
       "      <th>alternate_titles</th>\n",
       "      <th>label</th>\n",
       "      <th>recorded</th>\n",
       "      <th>venue</th>\n",
       "      <th>animators</th>\n",
       "      <th>color_process</th>\n",
       "      <th>imdb_id</th>\n",
       "    </tr>\n",
       "  </thead>\n",
       "  <tbody>\n",
       "    <tr>\n",
       "      <th>23</th>\n",
       "      <td>[Characters, by, H. P. Lovecraft]</td>\n",
       "      <td>NaN</td>\n",
       "      <td>NaN</td>\n",
       "      <td>Rick Fichter</td>\n",
       "      <td>United States</td>\n",
       "      <td>Brian Yuzna</td>\n",
       "      <td>50th Street Films</td>\n",
       "      <td>Peter Teschner</td>\n",
       "      <td>English</td>\n",
       "      <td>Richard Band</td>\n",
       "      <td>...</td>\n",
       "      <td>NaN</td>\n",
       "      <td>NaN</td>\n",
       "      <td>NaN</td>\n",
       "      <td>NaN</td>\n",
       "      <td>NaN</td>\n",
       "      <td>NaN</td>\n",
       "      <td>NaN</td>\n",
       "      <td>NaN</td>\n",
       "      <td>NaN</td>\n",
       "      <td>tt0099180</td>\n",
       "    </tr>\n",
       "    <tr>\n",
       "      <th>273</th>\n",
       "      <td>[Characters, by, H. P. Lovecraft]</td>\n",
       "      <td>NaN</td>\n",
       "      <td>NaN</td>\n",
       "      <td>Rick Fichter</td>\n",
       "      <td>United States</td>\n",
       "      <td>Brian Yuzna</td>\n",
       "      <td>50th Street Films</td>\n",
       "      <td>Peter Teschner</td>\n",
       "      <td>English</td>\n",
       "      <td>Richard Band</td>\n",
       "      <td>...</td>\n",
       "      <td>NaN</td>\n",
       "      <td>NaN</td>\n",
       "      <td>NaN</td>\n",
       "      <td>NaN</td>\n",
       "      <td>NaN</td>\n",
       "      <td>NaN</td>\n",
       "      <td>NaN</td>\n",
       "      <td>NaN</td>\n",
       "      <td>NaN</td>\n",
       "      <td>tt0099180</td>\n",
       "    </tr>\n",
       "    <tr>\n",
       "      <th>199</th>\n",
       "      <td>NaN</td>\n",
       "      <td>$15.1 million</td>\n",
       "      <td>[60 million, Norwegian Kroner]</td>\n",
       "      <td>Erling Thurmann-Andersen</td>\n",
       "      <td>[Norway, Sweden, United States]</td>\n",
       "      <td>Nils Gaup</td>\n",
       "      <td>Buena Vista Pictures</td>\n",
       "      <td>Nils Pagh Andersen</td>\n",
       "      <td>English</td>\n",
       "      <td>Patrick Doyle</td>\n",
       "      <td>...</td>\n",
       "      <td>NaN</td>\n",
       "      <td>NaN</td>\n",
       "      <td>NaN</td>\n",
       "      <td>NaN</td>\n",
       "      <td>NaN</td>\n",
       "      <td>NaN</td>\n",
       "      <td>NaN</td>\n",
       "      <td>NaN</td>\n",
       "      <td>NaN</td>\n",
       "      <td>tt0099816</td>\n",
       "    </tr>\n",
       "    <tr>\n",
       "      <th>611</th>\n",
       "      <td>NaN</td>\n",
       "      <td>$15.1 million</td>\n",
       "      <td>[60 million, Norwegian Kroner]</td>\n",
       "      <td>Erling Thurmann-Andersen</td>\n",
       "      <td>[Norway, Sweden, United States]</td>\n",
       "      <td>Nils Gaup</td>\n",
       "      <td>Buena Vista Pictures</td>\n",
       "      <td>Nils Pagh Andersen</td>\n",
       "      <td>English</td>\n",
       "      <td>Patrick Doyle</td>\n",
       "      <td>...</td>\n",
       "      <td>NaN</td>\n",
       "      <td>NaN</td>\n",
       "      <td>NaN</td>\n",
       "      <td>NaN</td>\n",
       "      <td>NaN</td>\n",
       "      <td>NaN</td>\n",
       "      <td>NaN</td>\n",
       "      <td>NaN</td>\n",
       "      <td>NaN</td>\n",
       "      <td>tt0099816</td>\n",
       "    </tr>\n",
       "  </tbody>\n",
       "</table>\n",
       "<p>4 rows × 39 columns</p>\n",
       "</div>"
      ],
      "text/plain": [
       "                              based_on     box_office  \\\n",
       "23   [Characters, by, H. P. Lovecraft]            NaN   \n",
       "273  [Characters, by, H. P. Lovecraft]            NaN   \n",
       "199                                NaN  $15.1 million   \n",
       "611                                NaN  $15.1 million   \n",
       "\n",
       "                             budget          cinematographers  \\\n",
       "23                              NaN              Rick Fichter   \n",
       "273                             NaN              Rick Fichter   \n",
       "199  [60 million, Norwegian Kroner]  Erling Thurmann-Andersen   \n",
       "611  [60 million, Norwegian Kroner]  Erling Thurmann-Andersen   \n",
       "\n",
       "                             country     director           distributor  \\\n",
       "23                     United States  Brian Yuzna     50th Street Films   \n",
       "273                    United States  Brian Yuzna     50th Street Films   \n",
       "199  [Norway, Sweden, United States]    Nils Gaup  Buena Vista Pictures   \n",
       "611  [Norway, Sweden, United States]    Nils Gaup  Buena Vista Pictures   \n",
       "\n",
       "                editors languages      composers  ... creators prequel  \\\n",
       "23       Peter Teschner   English   Richard Band  ...      NaN     NaN   \n",
       "273      Peter Teschner   English   Richard Band  ...      NaN     NaN   \n",
       "199  Nils Pagh Andersen   English  Patrick Doyle  ...      NaN     NaN   \n",
       "611  Nils Pagh Andersen   English  Patrick Doyle  ...      NaN     NaN   \n",
       "\n",
       "    suggestors alternate_titles label recorded venue animators color_process  \\\n",
       "23         NaN              NaN   NaN      NaN   NaN       NaN           NaN   \n",
       "273        NaN              NaN   NaN      NaN   NaN       NaN           NaN   \n",
       "199        NaN              NaN   NaN      NaN   NaN       NaN           NaN   \n",
       "611        NaN              NaN   NaN      NaN   NaN       NaN           NaN   \n",
       "\n",
       "       imdb_id  \n",
       "23   tt0099180  \n",
       "273  tt0099180  \n",
       "199  tt0099816  \n",
       "611  tt0099816  \n",
       "\n",
       "[4 rows x 39 columns]"
      ]
     },
     "execution_count": 15,
     "metadata": {},
     "output_type": "execute_result"
    }
   ],
   "source": [
    "# Check for duplicate movies\n",
    "print(wmovies_clean_df.duplicated(subset=['imdb_id']).sum())\n",
    "wmovies_clean_df[wmovies_clean_df.duplicated(subset=['imdb_id'], keep=False)].sort_values('imdb_id').head(4)"
   ]
  },
  {
   "cell_type": "code",
   "execution_count": 16,
   "metadata": {},
   "outputs": [
    {
     "data": {
      "text/plain": [
       "(6894, 39)"
      ]
     },
     "execution_count": 16,
     "metadata": {},
     "output_type": "execute_result"
    }
   ],
   "source": [
    "# Drop duplicate movies\n",
    "wmovies_clean_df.drop_duplicates(subset=['imdb_id'], inplace=True)\n",
    "wmovies_clean_df.shape"
   ]
  },
  {
   "cell_type": "markdown",
   "metadata": {},
   "source": [
    "### Drop columns with mostly missing values\n",
    "\n",
    "There are a lot of columns that are missing most of their values, so there is no point in keeping them. We will be looking for and dropping columns with at least half of their values missing."
   ]
  },
  {
   "cell_type": "code",
   "execution_count": 17,
   "metadata": {},
   "outputs": [
    {
     "data": {
      "text/plain": [
       "based_on                0.684798\n",
       "narrator                0.959240\n",
       "genre                   0.984624\n",
       "network                 0.982594\n",
       "audio_format            0.991297\n",
       "executive_producers     0.986365\n",
       "picture_format          0.991007\n",
       "production_locations    0.993328\n",
       "sequel                  0.998695\n",
       "voicers                 0.999710\n",
       "creators                0.998549\n",
       "prequel                 0.998549\n",
       "suggestors              0.999855\n",
       "alternate_titles        0.996954\n",
       "label                   0.999710\n",
       "recorded                0.999710\n",
       "venue                   0.999855\n",
       "animators               0.999710\n",
       "color_process           0.999855\n",
       "dtype: float64"
      ]
     },
     "execution_count": 17,
     "metadata": {},
     "output_type": "execute_result"
    }
   ],
   "source": [
    "# Check columns where at least half of the values are missing\n",
    "cols_missing = wmovies_clean_df.isnull().mean()\n",
    "cols_missing50 = cols_missing[cols_missing >= 0.5]\n",
    "cols_missing50"
   ]
  },
  {
   "cell_type": "code",
   "execution_count": 18,
   "metadata": {},
   "outputs": [
    {
     "name": "stdout",
     "output_type": "stream",
     "text": [
      "(6894, 20)\n"
     ]
    },
    {
     "data": {
      "text/plain": [
       "box_office              0.208297\n",
       "budget                  0.315202\n",
       "cinematographers        0.093560\n",
       "country                 0.031912\n",
       "director                0.000000\n",
       "distributor             0.043951\n",
       "editors                 0.070351\n",
       "languages               0.010299\n",
       "composers               0.067740\n",
       "producers               0.025239\n",
       "production_companies    0.231651\n",
       "release_date            0.003626\n",
       "duration                0.000000\n",
       "writers                 0.026690\n",
       "stars                   0.023934\n",
       "imdb_link               0.000000\n",
       "title                   0.000000\n",
       "url                     0.000000\n",
       "year                    0.000000\n",
       "imdb_id                 0.000000\n",
       "dtype: float64"
      ]
     },
     "execution_count": 18,
     "metadata": {},
     "output_type": "execute_result"
    }
   ],
   "source": [
    "# Drop these columns and inspect remaining columns\n",
    "wmovies_clean_df.drop(cols_missing50.index, axis=1, inplace=True)\n",
    "print(wmovies_clean_df.shape)\n",
    "wmovies_clean_df.isnull().mean()"
   ]
  },
  {
   "cell_type": "markdown",
   "metadata": {},
   "source": [
    "### Inspect data types\n",
    "\n",
    "With 20 columns remaining, let's check if their data types are appropriate."
   ]
  },
  {
   "cell_type": "code",
   "execution_count": 19,
   "metadata": {},
   "outputs": [
    {
     "name": "stdout",
     "output_type": "stream",
     "text": [
      "<class 'pandas.core.frame.DataFrame'>\n",
      "Int64Index: 6894 entries, 0 to 6935\n",
      "Data columns (total 20 columns):\n",
      " #   Column                Non-Null Count  Dtype \n",
      "---  ------                --------------  ----- \n",
      " 0   box_office            5458 non-null   object\n",
      " 1   budget                4721 non-null   object\n",
      " 2   cinematographers      6249 non-null   object\n",
      " 3   country               6674 non-null   object\n",
      " 4   director              6894 non-null   object\n",
      " 5   distributor           6591 non-null   object\n",
      " 6   editors               6409 non-null   object\n",
      " 7   languages             6823 non-null   object\n",
      " 8   composers             6427 non-null   object\n",
      " 9   producers             6720 non-null   object\n",
      " 10  production_companies  5297 non-null   object\n",
      " 11  release_date          6869 non-null   object\n",
      " 12  duration              6894 non-null   object\n",
      " 13  writers               6710 non-null   object\n",
      " 14  stars                 6729 non-null   object\n",
      " 15  imdb_link             6894 non-null   object\n",
      " 16  title                 6894 non-null   object\n",
      " 17  url                   6894 non-null   object\n",
      " 18  year                  6894 non-null   int64 \n",
      " 19  imdb_id               6894 non-null   object\n",
      "dtypes: int64(1), object(19)\n",
      "memory usage: 1.1+ MB\n",
      "None\n"
     ]
    },
    {
     "data": {
      "text/html": [
       "<div>\n",
       "<style scoped>\n",
       "    .dataframe tbody tr th:only-of-type {\n",
       "        vertical-align: middle;\n",
       "    }\n",
       "\n",
       "    .dataframe tbody tr th {\n",
       "        vertical-align: top;\n",
       "    }\n",
       "\n",
       "    .dataframe thead th {\n",
       "        text-align: right;\n",
       "    }\n",
       "</style>\n",
       "<table border=\"1\" class=\"dataframe\">\n",
       "  <thead>\n",
       "    <tr style=\"text-align: right;\">\n",
       "      <th></th>\n",
       "      <th>box_office</th>\n",
       "      <th>budget</th>\n",
       "      <th>cinematographers</th>\n",
       "      <th>country</th>\n",
       "      <th>director</th>\n",
       "      <th>distributor</th>\n",
       "      <th>editors</th>\n",
       "      <th>languages</th>\n",
       "      <th>composers</th>\n",
       "      <th>producers</th>\n",
       "      <th>production_companies</th>\n",
       "      <th>release_date</th>\n",
       "      <th>duration</th>\n",
       "      <th>writers</th>\n",
       "      <th>stars</th>\n",
       "      <th>imdb_link</th>\n",
       "      <th>title</th>\n",
       "      <th>url</th>\n",
       "      <th>year</th>\n",
       "      <th>imdb_id</th>\n",
       "    </tr>\n",
       "  </thead>\n",
       "  <tbody>\n",
       "    <tr>\n",
       "      <th>0</th>\n",
       "      <td>$21.4 million</td>\n",
       "      <td>$20 million</td>\n",
       "      <td>Oliver Wood</td>\n",
       "      <td>United States</td>\n",
       "      <td>Renny Harlin</td>\n",
       "      <td>20th Century Fox</td>\n",
       "      <td>Michael Tronick</td>\n",
       "      <td>English</td>\n",
       "      <td>[Cliff Eidelman, Yello]</td>\n",
       "      <td>[Steve Perry, Joel Silver]</td>\n",
       "      <td>Silver Pictures</td>\n",
       "      <td>[July 11, 1990, (, 1990-07-11, )]</td>\n",
       "      <td>102 minutes</td>\n",
       "      <td>[David Arnott, James Cappe]</td>\n",
       "      <td>[Andrew Dice Clay, Wayne Newton, Priscilla Pre...</td>\n",
       "      <td>https://www.imdb.com/title/tt0098987/</td>\n",
       "      <td>The Adventures of Ford Fairlane</td>\n",
       "      <td>https://en.wikipedia.org/wiki/The_Adventures_o...</td>\n",
       "      <td>1990</td>\n",
       "      <td>tt0098987</td>\n",
       "    </tr>\n",
       "    <tr>\n",
       "      <th>1</th>\n",
       "      <td>$2.7 million</td>\n",
       "      <td>$6 million</td>\n",
       "      <td>Mark Plummer</td>\n",
       "      <td>United States</td>\n",
       "      <td>James Foley</td>\n",
       "      <td>Avenue Pictures</td>\n",
       "      <td>Howard E. Smith</td>\n",
       "      <td>English</td>\n",
       "      <td>Maurice Jarre</td>\n",
       "      <td>[Ric Kidney, Robert Redlin]</td>\n",
       "      <td>Avenue Pictures</td>\n",
       "      <td>[May 17, 1990, (, 1990-05-17, ), (Cannes Film ...</td>\n",
       "      <td>114 minutes</td>\n",
       "      <td>[James Foley, Robert Redlin]</td>\n",
       "      <td>[Jason Patric, Rachel Ward, Bruce Dern, George...</td>\n",
       "      <td>https://www.imdb.com/title/tt0098994/</td>\n",
       "      <td>After Dark, My Sweet</td>\n",
       "      <td>https://en.wikipedia.org/wiki/After_Dark,_My_S...</td>\n",
       "      <td>1990</td>\n",
       "      <td>tt0098994</td>\n",
       "    </tr>\n",
       "  </tbody>\n",
       "</table>\n",
       "</div>"
      ],
      "text/plain": [
       "      box_office       budget cinematographers        country      director  \\\n",
       "0  $21.4 million  $20 million      Oliver Wood  United States  Renny Harlin   \n",
       "1   $2.7 million   $6 million     Mark Plummer  United States   James Foley   \n",
       "\n",
       "        distributor          editors languages                composers  \\\n",
       "0  20th Century Fox  Michael Tronick   English  [Cliff Eidelman, Yello]   \n",
       "1   Avenue Pictures  Howard E. Smith   English            Maurice Jarre   \n",
       "\n",
       "                     producers production_companies  \\\n",
       "0   [Steve Perry, Joel Silver]      Silver Pictures   \n",
       "1  [Ric Kidney, Robert Redlin]      Avenue Pictures   \n",
       "\n",
       "                                        release_date     duration  \\\n",
       "0                  [July 11, 1990, (, 1990-07-11, )]  102 minutes   \n",
       "1  [May 17, 1990, (, 1990-05-17, ), (Cannes Film ...  114 minutes   \n",
       "\n",
       "                        writers  \\\n",
       "0   [David Arnott, James Cappe]   \n",
       "1  [James Foley, Robert Redlin]   \n",
       "\n",
       "                                               stars  \\\n",
       "0  [Andrew Dice Clay, Wayne Newton, Priscilla Pre...   \n",
       "1  [Jason Patric, Rachel Ward, Bruce Dern, George...   \n",
       "\n",
       "                               imdb_link                            title  \\\n",
       "0  https://www.imdb.com/title/tt0098987/  The Adventures of Ford Fairlane   \n",
       "1  https://www.imdb.com/title/tt0098994/             After Dark, My Sweet   \n",
       "\n",
       "                                                 url  year    imdb_id  \n",
       "0  https://en.wikipedia.org/wiki/The_Adventures_o...  1990  tt0098987  \n",
       "1  https://en.wikipedia.org/wiki/After_Dark,_My_S...  1990  tt0098994  "
      ]
     },
     "execution_count": 19,
     "metadata": {},
     "output_type": "execute_result"
    }
   ],
   "source": [
    "# Inspect columns\n",
    "print(wmovies_clean_df.info())\n",
    "wmovies_clean_df.head(2)"
   ]
  },
  {
   "cell_type": "markdown",
   "metadata": {},
   "source": [
    "Columns that need to be recasted:\n",
    "- `Release_date` - to datetime\n",
    "- `Budget` - to numeric\n",
    "- `Box_office` - to numeric\n",
    "- `Duration` - to numeric"
   ]
  },
  {
   "cell_type": "markdown",
   "metadata": {},
   "source": [
    "### Convert `release_date` to datetime type\n",
    "\n",
    "The data contains lists, which are unhashable, so we'll need to join the list items into a single string before making the conversion."
   ]
  },
  {
   "cell_type": "code",
   "execution_count": 20,
   "metadata": {
    "scrolled": true
   },
   "outputs": [],
   "source": [
    "def list_to_str(obj):\n",
    "    \n",
    "    \"\"\" Convert list to string \"\"\"\n",
    "    \n",
    "    return ' '.join(obj) if isinstance(obj, list) else obj\n",
    "\n",
    "\n",
    "# Convert lists in release dates to strings\n",
    "release_date = wmovies_clean_df['release_date'].apply(list_to_str)\n",
    "# release_date.unique().tolist()"
   ]
  },
  {
   "cell_type": "markdown",
   "metadata": {},
   "source": [
    "Some of the dates in the data are actually ranges (ex. January 15 - 16, 1990). We will be removing the right limit of these date ranges and keeping the left limit. In other words, `January 15 - 16, 1990` would be transformed into `January 15, 1990`. After addressing this issue, there are 5 different formats the dates were recorded in:\n",
    "1. (DD) (Month) (YYYY) - 01 January 1970\n",
    "2. (Month) (DD), (YYYY) - January 01, 1970\n",
    "3. (Month), (YYYY) - January, 1970\n",
    "4. (YYYY)-(MM)-(DD) - 1970-01-01\n",
    "5. (YYYY) - 1970\n",
    "\n",
    "These formats are all parsable by Pandas, so we will be extracting these patterns from the date strings in order to convert them into datetime type."
   ]
  },
  {
   "cell_type": "code",
   "execution_count": 21,
   "metadata": {
    "jupyter": {
     "source_hidden": true
    },
    "scrolled": true
   },
   "outputs": [],
   "source": [
    "# def standardize_date(d):\n",
    "    \n",
    "#     \"\"\" Standardize a date string into the format YYYY-MM-DD \"\"\"\n",
    "    \n",
    "#     months = {\n",
    "#         'January': '01',\n",
    "#         'February': '02',\n",
    "#         'March': '03',\n",
    "#         'April': '04',\n",
    "#         'May': '05',\n",
    "#         'June': '06',\n",
    "#         'July': '07',\n",
    "#         'August': '08',\n",
    "#         'September': '09',\n",
    "#         'October': '10',\n",
    "#         'November': '11',\n",
    "#         'December': '12'\n",
    "#     }\n",
    "    \n",
    "#     # Initialize date variables\n",
    "#     YYYY = MM = DD = None\n",
    "    \n",
    "#     # For format: (Month) (DD), (YYYY)\n",
    "#     match = re.search(r'([JFMASOND][a-z]{2,8}) (\\d\\d?), (\\d{4})', d)\n",
    "#     if match:\n",
    "#         DD = match.group(2)\n",
    "#         DD = '0' + DD if len(DD) == 1 else DD\n",
    "#         MM = months[match.group(1)]\n",
    "#         YYYY = match.group(3)\n",
    "\n",
    "#     # For format: (DD) (Month) (YYYY)\n",
    "#     match = re.search(r'(\\d\\d?) ([JFMASOND][a-z]{2,8}) (\\d{4})', d)\n",
    "#     if match:\n",
    "#         DD = match.group(1)\n",
    "#         DD = '0' + DD if len(DD) == 1 else DD\n",
    "#         MM = months[match.group(2)]\n",
    "#         YYYY = match.group(3)\n",
    "        \n",
    "#     # For format: (Month),? (YYYY)\n",
    "#     match = re.search(r'([JFMASOND][a-z]{2,8}),? (\\d{4})', d)\n",
    "#     if match:\n",
    "#         MM = months[match.group(1)]\n",
    "#         YYYY = match.group(2)\n",
    "       \n",
    "#     # Standard format: YYYY-MM-DD\n",
    "#     date = d if not YYYY else YYYY + '-' + MM \n",
    "#     return date if not DD else date + '-' + DD\n",
    "    \n",
    "\n",
    "# def extract_date(s):\n",
    "    \n",
    "#     \"\"\"\n",
    "#     Extract date from string\n",
    "#     Note: In a range, select the left limit\n",
    "#         Ex. December 15 - 20, 1999 becomes December 15, 1999\n",
    "#         Ex. 1990 - 1992 becomes 1990\n",
    "#     \"\"\"\n",
    "    \n",
    "#     # Null check\n",
    "#     if pd.isnull(s):\n",
    "#         return s\n",
    "    \n",
    "#     # Select left limit of ranges\n",
    "#     s = re.sub(r' [-–—] \\d\\d?', '', s.strip()) # include hyphen, en dash, em dash\n",
    "    \n",
    "#     # For format: (DD)? (Month) (DD)?,? (YYYY)\n",
    "#     formats = [r'(?:\\d\\d? )?[JFMASOND][a-z]{2,8}(?: \\d\\d?)?,? \\d{4}']\n",
    "    \n",
    "#     # For format: (YYYY)-(MM)-(DD)\n",
    "#     formats.append(r'\\d{4}(?:\\D\\d\\d?\\D\\d\\d?)?')\n",
    "    \n",
    "#     for f in formats:\n",
    "#         match = re.search(f, s)\n",
    "#         if match:\n",
    "#             return standardize_date(match.group(0))\n",
    "\n",
    "\n",
    "# # Test functions\n",
    "# dates_extracted, dates_not_extracted = [], []\n",
    "# for s in release_date.tolist():\n",
    "#     d = extract_date(s)\n",
    "#     if d is None:\n",
    "#         dates_not_extracted.append(s)\n",
    "#     else:\n",
    "#         dates_extracted.append(d)\n",
    "# len(dates_extracted), len(dates_not_extracted)"
   ]
  },
  {
   "cell_type": "code",
   "execution_count": 22,
   "metadata": {
    "jupyter": {
     "source_hidden": true
    }
   },
   "outputs": [],
   "source": [
    "# # Convert to datetime\n",
    "# release_date = pd.to_datetime(release_date.apply(extract_date))\n",
    "# release_date"
   ]
  },
  {
   "cell_type": "code",
   "execution_count": 23,
   "metadata": {},
   "outputs": [],
   "source": [
    "# Select lower limit of date ranges\n",
    "release_date = release_date.str.strip().str.replace(r' [-–—] \\d\\d?', '', regex=True)"
   ]
  },
  {
   "cell_type": "code",
   "execution_count": 24,
   "metadata": {},
   "outputs": [
    {
     "name": "stderr",
     "output_type": "stream",
     "text": [
      "/Users/tribui/miniconda3/envs/minds/lib/python3.7/site-packages/pandas/core/strings.py:2001: UserWarning: This pattern has match groups. To actually get the groups, use str.extract.\n",
      "  return func(self, *args, **kwargs)\n"
     ]
    },
    {
     "data": {
      "text/plain": [
       "Series([], Name: release_date, dtype: object)"
      ]
     },
     "execution_count": 24,
     "metadata": {},
     "output_type": "execute_result"
    }
   ],
   "source": [
    "# Date formats\n",
    "date_format1 = r'(?:\\d\\d? )?[a-z]{3,9}(?: \\d\\d?)?,? \\d{4}' # (DD) (Month) (YYYY) | (Month) (DD), (YYYY) | (Month), (YYYY)\n",
    "date_format2 = r'\\d{4}(?:\\D\\d\\d?\\D\\d\\d?)?' # (YYYY)-(MM)-(DD) | (YYYY)\n",
    "date_formats = f'({date_format1}|{date_format2})' # date formats 1 and 2\n",
    "\n",
    "# Check if there are any other dates not captured by these 2 patterns\n",
    "release_date.dropna()[~release_date.dropna().str.contains(date_formats, flags=re.IGNORECASE)]"
   ]
  },
  {
   "cell_type": "code",
   "execution_count": 25,
   "metadata": {
    "scrolled": true
   },
   "outputs": [
    {
     "data": {
      "text/plain": [
       "25"
      ]
     },
     "execution_count": 25,
     "metadata": {},
     "output_type": "execute_result"
    }
   ],
   "source": [
    "# Extract date from string\n",
    "release_date = release_date.str.extract(date_formats, flags=re.IGNORECASE)[0]\n",
    "\n",
    "# Convert date string to datetime type\n",
    "wmovies_clean_df['release_date'] = pd.to_datetime(release_date, infer_datetime_format=True)\n",
    "wmovies_clean_df['release_date'].isnull().sum()"
   ]
  },
  {
   "cell_type": "markdown",
   "metadata": {},
   "source": [
    "### Convert `budget` to numeric\n",
    "\n",
    "As with `release_date`, there are lists and ranges in the `budget` values, so we will convert any list to strings and reduce ranges to the lower limit the same way. In addition, `budget` also has citation brackets (ex. [1]) which we will removing as well."
   ]
  },
  {
   "cell_type": "code",
   "execution_count": 26,
   "metadata": {
    "scrolled": true
   },
   "outputs": [],
   "source": [
    "# Convert lists in `budget` to strings\n",
    "budget = wmovies_clean_df['budget'].apply(list_to_str)\n",
    "\n",
    "# Clean string and select lower limit of amount ranges\n",
    "budget = budget.str.strip().str.replace(r'\\[\\s*(?:\\w+\\s*)*\\]', '', regex=True) \\\n",
    "                           .str.replace(r'[-–—]\\s?\\$?\\d+', '', regex=True)\n",
    "# budget.unique().tolist()"
   ]
  },
  {
   "cell_type": "markdown",
   "metadata": {},
   "source": [
    "It looks like 2 formats will capture most or all of the `budget` values:\n",
    "1. \\\\$xxx.x mil - \\\\$100 million, \\\\$1.2 million\n",
    "2. \\\\$xxx,xxx,xxx - \\\\$100,000,000, \\\\$20,000"
   ]
  },
  {
   "cell_type": "code",
   "execution_count": 27,
   "metadata": {
    "scrolled": true
   },
   "outputs": [
    {
     "data": {
      "text/plain": [
       "['Unknown', 'HBO', '$218.32', 'N/A', '19 crore', '3.5 crore']"
      ]
     },
     "execution_count": 27,
     "metadata": {},
     "output_type": "execute_result"
    }
   ],
   "source": [
    "# Budget formats\n",
    "budget_format1 = r'\\$?\\s?\\d{1,3}(?:\\.\\d+)?\\s*mil' # $xxx.x mil\n",
    "budget_format2 = r'\\$?\\s?\\d{1,3}(?:,\\d{3})+' # $xxx,xxx,xxx\n",
    "budget_formats = f'({budget_format1}|{budget_format2})'\n",
    "\n",
    "# Check formats\n",
    "budget_contains = budget.dropna().str.contains(budget_formats, flags=re.IGNORECASE)\n",
    "budget_to_na = budget.dropna()[~budget_contains].unique().tolist()\n",
    "budget_to_na"
   ]
  },
  {
   "cell_type": "code",
   "execution_count": 28,
   "metadata": {},
   "outputs": [
    {
     "data": {
      "text/plain": [
       "Series([], Name: budget, dtype: object)"
      ]
     },
     "execution_count": 28,
     "metadata": {},
     "output_type": "execute_result"
    }
   ],
   "source": [
    "# Replace above values with NaN\n",
    "for val in budget_to_na:\n",
    "    budget.replace(val, np.NaN, inplace=True)\n",
    "budget.dropna()[~budget_contains]"
   ]
  },
  {
   "cell_type": "code",
   "execution_count": 29,
   "metadata": {
    "scrolled": true
   },
   "outputs": [],
   "source": [
    "# Extract amount from string\n",
    "budget = budget.str.extract(budget_formats, flags=re.IGNORECASE)[0]\n",
    "# budget.unique().tolist()"
   ]
  },
  {
   "cell_type": "markdown",
   "metadata": {},
   "source": [
    "With the patterns extracted, we can now parse these values in order to convert them to numeric type."
   ]
  },
  {
   "cell_type": "code",
   "execution_count": 30,
   "metadata": {},
   "outputs": [
    {
     "data": {
      "text/plain": [
       "2182"
      ]
     },
     "execution_count": 30,
     "metadata": {},
     "output_type": "execute_result"
    }
   ],
   "source": [
    "def parse_budget(s):\n",
    "    \n",
    "    \"\"\" Convert budget string to float \"\"\"\n",
    "    \n",
    "    # Check if the input is NaN or already a float\n",
    "    if isinstance(s, float):\n",
    "        return s\n",
    "    \n",
    "    # Remove $, spaces, and commas\n",
    "    s = re.sub(r'[\\$\\s,]', '', s).lower()\n",
    "    \n",
    "    # Convert to float\n",
    "    if 'mil' in s:\n",
    "        f = float(s.replace('mil', '')) * 1e6 # million\n",
    "    else:\n",
    "        f = float(s)\n",
    "        \n",
    "    return f\n",
    "\n",
    "\n",
    "# Convert budget to float type\n",
    "wmovies_clean_df['budget'] = budget.apply(parse_budget)\n",
    "wmovies_clean_df['budget'].isnull().sum()"
   ]
  },
  {
   "cell_type": "markdown",
   "metadata": {},
   "source": [
    "### Convert box office to numeric\n",
    "\n",
    "This will be pretty similar to `budget`, except there are no ranges to worry about. The formats will also be very similar except for the fact that instead of just \"million\", there are also values in thousands (\"k\") and \"billion\"s."
   ]
  },
  {
   "cell_type": "code",
   "execution_count": 31,
   "metadata": {
    "scrolled": true
   },
   "outputs": [],
   "source": [
    "# Convert lists in `box_office` to strings\n",
    "boxoffice = wmovies_clean_df['box_office'].apply(list_to_str)\n",
    "# boxoffice.unique().tolist()"
   ]
  },
  {
   "cell_type": "code",
   "execution_count": 32,
   "metadata": {
    "scrolled": true
   },
   "outputs": [
    {
     "data": {
      "text/plain": [
       "['N/A',\n",
       " '$309',\n",
       " 'TBA',\n",
       " '$20-30',\n",
       " '£2.56',\n",
       " 'Unknown',\n",
       " '$588',\n",
       " 'less than $372',\n",
       " '8 crore']"
      ]
     },
     "execution_count": 32,
     "metadata": {},
     "output_type": "execute_result"
    }
   ],
   "source": [
    "# Box office formats\n",
    "boxoffice_format1 = r'\\$?\\s?\\d{1,3}(?:\\.\\d+)?\\s*[kmb]' # $xxx.x k/m/b\n",
    "boxoffice_format2 = r'\\$?\\s?\\d{1,3}(?:[\\s\\.,]?\\d{3})+\\$?' # $xxx,xxx,xxx\n",
    "boxoffice_formats = f'({boxoffice_format1}|{boxoffice_format2})'\n",
    "\n",
    "# Check formats\n",
    "boxoffice_contains = boxoffice.dropna().str.contains(boxoffice_formats, flags=re.IGNORECASE)\n",
    "boxoffice_to_na = boxoffice.dropna()[~boxoffice_contains].unique().tolist()\n",
    "boxoffice_to_na"
   ]
  },
  {
   "cell_type": "code",
   "execution_count": 33,
   "metadata": {},
   "outputs": [
    {
     "data": {
      "text/plain": [
       "Series([], Name: box_office, dtype: object)"
      ]
     },
     "execution_count": 33,
     "metadata": {},
     "output_type": "execute_result"
    }
   ],
   "source": [
    "# Replace above values with NaN\n",
    "for val in boxoffice_to_na:\n",
    "    boxoffice.replace(val, np.NaN, inplace=True)\n",
    "boxoffice.dropna()[~boxoffice_contains]"
   ]
  },
  {
   "cell_type": "code",
   "execution_count": 34,
   "metadata": {
    "scrolled": true
   },
   "outputs": [],
   "source": [
    "# Extract amount from string\n",
    "boxoffice = boxoffice.str.extract(boxoffice_formats, flags=re.IGNORECASE)[0]\n",
    "# boxoffice.unique().tolist()"
   ]
  },
  {
   "cell_type": "markdown",
   "metadata": {},
   "source": [
    "Special values to consider when parsing `box_office`:\n",
    "1. Numbers ending with \"k\" (thousands) : \\\\$10 k = \\\\$10,000\n",
    "2. Numbers ending with \"m\" (millions) : \\\\$10 m = \\\\$10,000,000\n",
    "3. Numbers ending with \"b\" (billions) : \\\\$10 b = \\\\$10,000,000,000\n",
    "4. Numbers using \".\" as a thousand-separator (instead of \",\") : \\\\$10.000.000  = \\\\$10,000,000"
   ]
  },
  {
   "cell_type": "code",
   "execution_count": 35,
   "metadata": {},
   "outputs": [
    {
     "data": {
      "text/plain": [
       "1445"
      ]
     },
     "execution_count": 35,
     "metadata": {},
     "output_type": "execute_result"
    }
   ],
   "source": [
    "def parse_boxoffice(s):\n",
    "    \n",
    "    \"\"\" Convert box office string to float \"\"\"\n",
    "    \n",
    "    # Check if the input is NaN or already a float\n",
    "    if isinstance(s, float):\n",
    "        return s\n",
    "    \n",
    "    # Remove $, spaces, and commas\n",
    "    s = re.sub(r'[\\$\\s,]', '', s).lower()\n",
    "    \n",
    "    # Convert to float\n",
    "    if 'k' in s:\n",
    "        f = float(s.replace('k', '')) * 1e3 # thousand\n",
    "    elif 'm' in s:\n",
    "        f = float(s.replace('m', '')) * 1e6 # million\n",
    "    elif 'b' in s:\n",
    "        f = float(s.replace('b', '')) * 1e9 # billion\n",
    "    elif '.' in s:\n",
    "        f = float(s.replace('.', '')) # for numbers using \".\" as a thousand-separator\n",
    "    else:\n",
    "        f = float(s)\n",
    "        \n",
    "    return f\n",
    "\n",
    "\n",
    "# Convert budget to float type\n",
    "wmovies_clean_df['box_office'] = boxoffice.apply(parse_boxoffice)\n",
    "wmovies_clean_df['box_office'].isnull().sum()"
   ]
  },
  {
   "cell_type": "markdown",
   "metadata": {},
   "source": [
    "### Convert duration to numeric\n",
    "\n",
    "Just like `budget`, `duration` contains lists, citation brackets, and ranges. We will removing these the same way we did with `budget`."
   ]
  },
  {
   "cell_type": "code",
   "execution_count": 36,
   "metadata": {
    "scrolled": true
   },
   "outputs": [],
   "source": [
    "# Convert lists in `duration` to strings\n",
    "duration = wmovies_clean_df['duration'].apply(list_to_str)\n",
    "\n",
    "# Clean string and select lower limit of amount ranges\n",
    "duration = duration.str.strip().str.replace(r'\\[\\d\\]', '', regex=True) \\\n",
    "                               .str.replace(r'[-–—]\\s?\\d+', '', regex=True)\n",
    "# duration.unique().tolist()"
   ]
  },
  {
   "cell_type": "markdown",
   "metadata": {},
   "source": [
    "There are a few different formats for the `duration`:\n",
    "1. x hours xx m - 2 hours 22 minutes\n",
    "2. xxx m - 100 minutes\n",
    "3. xx hours - 10 hours\n",
    "4. xx : xx - 10 : 10"
   ]
  },
  {
   "cell_type": "code",
   "execution_count": 37,
   "metadata": {
    "scrolled": true
   },
   "outputs": [
    {
     "data": {
      "text/plain": [
       "['varies', 'minutes']"
      ]
     },
     "execution_count": 37,
     "metadata": {},
     "output_type": "execute_result"
    }
   ],
   "source": [
    "# Duration formats\n",
    "duration_format1 = r'(?:\\d\\s*ho?u?r?s?\\s*)?\\d{1,3}\\s*m' # x hours xx m | xxx m\n",
    "duration_format2 = r'\\d\\s*ho?u?r?s?|\\d{1,2}\\s*\\:\\s*\\d{1,2}' # xx hours | xx : xx\n",
    "duration_formats = f'({duration_format1}|{duration_format2})'\n",
    "\n",
    "# Check formats\n",
    "duration_contains = duration.dropna().str.contains(duration_formats, flags=re.IGNORECASE)\n",
    "duration_to_na = duration.dropna()[~duration_contains].unique().tolist()\n",
    "duration_to_na"
   ]
  },
  {
   "cell_type": "code",
   "execution_count": 38,
   "metadata": {},
   "outputs": [
    {
     "data": {
      "text/plain": [
       "Series([], Name: duration, dtype: object)"
      ]
     },
     "execution_count": 38,
     "metadata": {},
     "output_type": "execute_result"
    }
   ],
   "source": [
    "# Replace above values with NaN\n",
    "for val in duration_to_na:\n",
    "    duration.replace(val, np.NaN, inplace=True)\n",
    "duration.dropna()[~duration_contains]"
   ]
  },
  {
   "cell_type": "code",
   "execution_count": 39,
   "metadata": {
    "scrolled": true
   },
   "outputs": [],
   "source": [
    "# Extract duration from string\n",
    "duration = duration.str.extract(duration_formats, flags=re.IGNORECASE)[0]\n",
    "# duration.unique().tolist()"
   ]
  },
  {
   "cell_type": "code",
   "execution_count": 40,
   "metadata": {
    "scrolled": true
   },
   "outputs": [
    {
     "data": {
      "text/plain": [
       "2"
      ]
     },
     "execution_count": 40,
     "metadata": {},
     "output_type": "execute_result"
    }
   ],
   "source": [
    "def parse_duration(s):\n",
    "    \n",
    "    \"\"\" Convert duration string to integer \"\"\"\n",
    "    \n",
    "    # Check if the input is NaN or already a float\n",
    "    if isinstance(s, float):\n",
    "        return s\n",
    "    \n",
    "    # Remove seconds\n",
    "    s = re.sub(r'\\:\\s*\\d{1,2}', '', s)\n",
    "    \n",
    "    # Remove \"m\" and spaces\n",
    "    s = re.sub(r'm|\\s*', '', s, flags=re.IGNORECASE)\n",
    "    \n",
    "    # Convert to int\n",
    "    match = re.search(r'(\\d)(ho?u?r?s?)(\\d\\d?)?', s, flags=re.IGNORECASE)\n",
    "    if match: # if time is in hours\n",
    "        i = int(match.group(1)) * 60 # hours to minutes\n",
    "        if match.group(3):\n",
    "            i += int(match.group(3)) # add minutes\n",
    "    else: # if time is in minutes\n",
    "        i = int(s)\n",
    "        \n",
    "    return i\n",
    "\n",
    "\n",
    "# Convert duration to integer type\n",
    "wmovies_clean_df['duration'] = duration.apply(parse_duration)\n",
    "wmovies_clean_df['duration'].isnull().sum()"
   ]
  },
  {
   "cell_type": "markdown",
   "metadata": {},
   "source": [
    "### Save Wikipedia data"
   ]
  },
  {
   "cell_type": "code",
   "execution_count": 41,
   "metadata": {},
   "outputs": [
    {
     "name": "stdout",
     "output_type": "stream",
     "text": [
      "<class 'pandas.core.frame.DataFrame'>\n",
      "Int64Index: 6894 entries, 0 to 6935\n",
      "Data columns (total 20 columns):\n",
      " #   Column                Non-Null Count  Dtype         \n",
      "---  ------                --------------  -----         \n",
      " 0   box_office            5449 non-null   float64       \n",
      " 1   budget                4712 non-null   float64       \n",
      " 2   cinematographers      6249 non-null   object        \n",
      " 3   country               6674 non-null   object        \n",
      " 4   director              6894 non-null   object        \n",
      " 5   distributor           6591 non-null   object        \n",
      " 6   editors               6409 non-null   object        \n",
      " 7   languages             6823 non-null   object        \n",
      " 8   composers             6427 non-null   object        \n",
      " 9   producers             6720 non-null   object        \n",
      " 10  production_companies  5297 non-null   object        \n",
      " 11  release_date          6869 non-null   datetime64[ns]\n",
      " 12  duration              6892 non-null   float64       \n",
      " 13  writers               6710 non-null   object        \n",
      " 14  stars                 6729 non-null   object        \n",
      " 15  imdb_link             6894 non-null   object        \n",
      " 16  title                 6894 non-null   object        \n",
      " 17  url                   6894 non-null   object        \n",
      " 18  year                  6894 non-null   int64         \n",
      " 19  imdb_id               6894 non-null   object        \n",
      "dtypes: datetime64[ns](1), float64(3), int64(1), object(15)\n",
      "memory usage: 1.1+ MB\n",
      "None\n"
     ]
    },
    {
     "data": {
      "text/html": [
       "<div>\n",
       "<style scoped>\n",
       "    .dataframe tbody tr th:only-of-type {\n",
       "        vertical-align: middle;\n",
       "    }\n",
       "\n",
       "    .dataframe tbody tr th {\n",
       "        vertical-align: top;\n",
       "    }\n",
       "\n",
       "    .dataframe thead th {\n",
       "        text-align: right;\n",
       "    }\n",
       "</style>\n",
       "<table border=\"1\" class=\"dataframe\">\n",
       "  <thead>\n",
       "    <tr style=\"text-align: right;\">\n",
       "      <th></th>\n",
       "      <th>box_office</th>\n",
       "      <th>budget</th>\n",
       "      <th>cinematographers</th>\n",
       "      <th>country</th>\n",
       "      <th>director</th>\n",
       "      <th>distributor</th>\n",
       "      <th>editors</th>\n",
       "      <th>languages</th>\n",
       "      <th>composers</th>\n",
       "      <th>producers</th>\n",
       "      <th>production_companies</th>\n",
       "      <th>release_date</th>\n",
       "      <th>duration</th>\n",
       "      <th>writers</th>\n",
       "      <th>stars</th>\n",
       "      <th>imdb_link</th>\n",
       "      <th>title</th>\n",
       "      <th>url</th>\n",
       "      <th>year</th>\n",
       "      <th>imdb_id</th>\n",
       "    </tr>\n",
       "  </thead>\n",
       "  <tbody>\n",
       "    <tr>\n",
       "      <th>0</th>\n",
       "      <td>21400000.0</td>\n",
       "      <td>20000000.0</td>\n",
       "      <td>Oliver Wood</td>\n",
       "      <td>United States</td>\n",
       "      <td>Renny Harlin</td>\n",
       "      <td>20th Century Fox</td>\n",
       "      <td>Michael Tronick</td>\n",
       "      <td>English</td>\n",
       "      <td>[Cliff Eidelman, Yello]</td>\n",
       "      <td>[Steve Perry, Joel Silver]</td>\n",
       "      <td>Silver Pictures</td>\n",
       "      <td>1990-07-11</td>\n",
       "      <td>102.0</td>\n",
       "      <td>[David Arnott, James Cappe]</td>\n",
       "      <td>[Andrew Dice Clay, Wayne Newton, Priscilla Pre...</td>\n",
       "      <td>https://www.imdb.com/title/tt0098987/</td>\n",
       "      <td>The Adventures of Ford Fairlane</td>\n",
       "      <td>https://en.wikipedia.org/wiki/The_Adventures_o...</td>\n",
       "      <td>1990</td>\n",
       "      <td>tt0098987</td>\n",
       "    </tr>\n",
       "    <tr>\n",
       "      <th>1</th>\n",
       "      <td>2700000.0</td>\n",
       "      <td>6000000.0</td>\n",
       "      <td>Mark Plummer</td>\n",
       "      <td>United States</td>\n",
       "      <td>James Foley</td>\n",
       "      <td>Avenue Pictures</td>\n",
       "      <td>Howard E. Smith</td>\n",
       "      <td>English</td>\n",
       "      <td>Maurice Jarre</td>\n",
       "      <td>[Ric Kidney, Robert Redlin]</td>\n",
       "      <td>Avenue Pictures</td>\n",
       "      <td>1990-05-17</td>\n",
       "      <td>114.0</td>\n",
       "      <td>[James Foley, Robert Redlin]</td>\n",
       "      <td>[Jason Patric, Rachel Ward, Bruce Dern, George...</td>\n",
       "      <td>https://www.imdb.com/title/tt0098994/</td>\n",
       "      <td>After Dark, My Sweet</td>\n",
       "      <td>https://en.wikipedia.org/wiki/After_Dark,_My_S...</td>\n",
       "      <td>1990</td>\n",
       "      <td>tt0098994</td>\n",
       "    </tr>\n",
       "  </tbody>\n",
       "</table>\n",
       "</div>"
      ],
      "text/plain": [
       "   box_office      budget cinematographers        country      director  \\\n",
       "0  21400000.0  20000000.0      Oliver Wood  United States  Renny Harlin   \n",
       "1   2700000.0   6000000.0     Mark Plummer  United States   James Foley   \n",
       "\n",
       "        distributor          editors languages                composers  \\\n",
       "0  20th Century Fox  Michael Tronick   English  [Cliff Eidelman, Yello]   \n",
       "1   Avenue Pictures  Howard E. Smith   English            Maurice Jarre   \n",
       "\n",
       "                     producers production_companies release_date  duration  \\\n",
       "0   [Steve Perry, Joel Silver]      Silver Pictures   1990-07-11     102.0   \n",
       "1  [Ric Kidney, Robert Redlin]      Avenue Pictures   1990-05-17     114.0   \n",
       "\n",
       "                        writers  \\\n",
       "0   [David Arnott, James Cappe]   \n",
       "1  [James Foley, Robert Redlin]   \n",
       "\n",
       "                                               stars  \\\n",
       "0  [Andrew Dice Clay, Wayne Newton, Priscilla Pre...   \n",
       "1  [Jason Patric, Rachel Ward, Bruce Dern, George...   \n",
       "\n",
       "                               imdb_link                            title  \\\n",
       "0  https://www.imdb.com/title/tt0098987/  The Adventures of Ford Fairlane   \n",
       "1  https://www.imdb.com/title/tt0098994/             After Dark, My Sweet   \n",
       "\n",
       "                                                 url  year    imdb_id  \n",
       "0  https://en.wikipedia.org/wiki/The_Adventures_o...  1990  tt0098987  \n",
       "1  https://en.wikipedia.org/wiki/After_Dark,_My_S...  1990  tt0098994  "
      ]
     },
     "execution_count": 41,
     "metadata": {},
     "output_type": "execute_result"
    }
   ],
   "source": [
    "# Inspect data\n",
    "print(wmovies_clean_df.info())\n",
    "wmovies_clean_df.head(2)"
   ]
  },
  {
   "cell_type": "code",
   "execution_count": 42,
   "metadata": {},
   "outputs": [
    {
     "name": "stdout",
     "output_type": "stream",
     "text": [
      "<class 'pandas.core.frame.DataFrame'>\n",
      "Int64Index: 6894 entries, 0 to 6935\n",
      "Data columns (total 20 columns):\n",
      " #   Column                Non-Null Count  Dtype         \n",
      "---  ------                --------------  -----         \n",
      " 0   box_office            5449 non-null   float64       \n",
      " 1   budget                4712 non-null   float64       \n",
      " 2   cinematographers      6249 non-null   object        \n",
      " 3   country               6674 non-null   object        \n",
      " 4   director              6894 non-null   object        \n",
      " 5   distributor           6591 non-null   object        \n",
      " 6   editors               6409 non-null   object        \n",
      " 7   languages             6823 non-null   object        \n",
      " 8   composers             6427 non-null   object        \n",
      " 9   producers             6720 non-null   object        \n",
      " 10  production_companies  5297 non-null   object        \n",
      " 11  release_date          6869 non-null   datetime64[ns]\n",
      " 12  duration              6892 non-null   float64       \n",
      " 13  writers               6710 non-null   object        \n",
      " 14  stars                 6729 non-null   object        \n",
      " 15  imdb_link             6894 non-null   object        \n",
      " 16  title                 6894 non-null   object        \n",
      " 17  url                   6894 non-null   object        \n",
      " 18  year                  6894 non-null   int64         \n",
      " 19  imdb_id               6894 non-null   object        \n",
      "dtypes: datetime64[ns](1), float64(3), int64(1), object(15)\n",
      "memory usage: 1.1+ MB\n"
     ]
    }
   ],
   "source": [
    "# Save data\n",
    "wmovies_clean_df.to_pickle(data_path + 'wiki_movies.pkl')\n",
    "pd.read_pickle(data_path + 'wiki_movies.pkl').info()"
   ]
  },
  {
   "cell_type": "markdown",
   "metadata": {},
   "source": [
    "### Inspect Kaggle data"
   ]
  },
  {
   "cell_type": "code",
   "execution_count": 43,
   "metadata": {},
   "outputs": [
    {
     "name": "stdout",
     "output_type": "stream",
     "text": [
      "<class 'pandas.core.frame.DataFrame'>\n",
      "RangeIndex: 45466 entries, 0 to 45465\n",
      "Data columns (total 24 columns):\n",
      " #   Column                 Non-Null Count  Dtype  \n",
      "---  ------                 --------------  -----  \n",
      " 0   adult                  45466 non-null  object \n",
      " 1   belongs_to_collection  4494 non-null   object \n",
      " 2   budget                 45466 non-null  object \n",
      " 3   genres                 45466 non-null  object \n",
      " 4   homepage               7782 non-null   object \n",
      " 5   id                     45466 non-null  object \n",
      " 6   imdb_id                45449 non-null  object \n",
      " 7   original_language      45455 non-null  object \n",
      " 8   original_title         45466 non-null  object \n",
      " 9   overview               44512 non-null  object \n",
      " 10  popularity             45461 non-null  object \n",
      " 11  poster_path            45080 non-null  object \n",
      " 12  production_companies   45463 non-null  object \n",
      " 13  production_countries   45463 non-null  object \n",
      " 14  release_date           45379 non-null  object \n",
      " 15  revenue                45460 non-null  float64\n",
      " 16  runtime                45203 non-null  float64\n",
      " 17  spoken_languages       45460 non-null  object \n",
      " 18  status                 45379 non-null  object \n",
      " 19  tagline                20412 non-null  object \n",
      " 20  title                  45460 non-null  object \n",
      " 21  video                  45460 non-null  object \n",
      " 22  vote_average           45460 non-null  float64\n",
      " 23  vote_count             45460 non-null  float64\n",
      "dtypes: float64(4), object(20)\n",
      "memory usage: 8.3+ MB\n",
      "None\n"
     ]
    },
    {
     "data": {
      "text/html": [
       "<div>\n",
       "<style scoped>\n",
       "    .dataframe tbody tr th:only-of-type {\n",
       "        vertical-align: middle;\n",
       "    }\n",
       "\n",
       "    .dataframe tbody tr th {\n",
       "        vertical-align: top;\n",
       "    }\n",
       "\n",
       "    .dataframe thead th {\n",
       "        text-align: right;\n",
       "    }\n",
       "</style>\n",
       "<table border=\"1\" class=\"dataframe\">\n",
       "  <thead>\n",
       "    <tr style=\"text-align: right;\">\n",
       "      <th></th>\n",
       "      <th>adult</th>\n",
       "      <th>belongs_to_collection</th>\n",
       "      <th>budget</th>\n",
       "      <th>genres</th>\n",
       "      <th>homepage</th>\n",
       "      <th>id</th>\n",
       "      <th>imdb_id</th>\n",
       "      <th>original_language</th>\n",
       "      <th>original_title</th>\n",
       "      <th>overview</th>\n",
       "      <th>...</th>\n",
       "      <th>release_date</th>\n",
       "      <th>revenue</th>\n",
       "      <th>runtime</th>\n",
       "      <th>spoken_languages</th>\n",
       "      <th>status</th>\n",
       "      <th>tagline</th>\n",
       "      <th>title</th>\n",
       "      <th>video</th>\n",
       "      <th>vote_average</th>\n",
       "      <th>vote_count</th>\n",
       "    </tr>\n",
       "  </thead>\n",
       "  <tbody>\n",
       "    <tr>\n",
       "      <th>0</th>\n",
       "      <td>False</td>\n",
       "      <td>{'id': 10194, 'name': 'Toy Story Collection', ...</td>\n",
       "      <td>30000000</td>\n",
       "      <td>[{'id': 16, 'name': 'Animation'}, {'id': 35, '...</td>\n",
       "      <td>http://toystory.disney.com/toy-story</td>\n",
       "      <td>862</td>\n",
       "      <td>tt0114709</td>\n",
       "      <td>en</td>\n",
       "      <td>Toy Story</td>\n",
       "      <td>Led by Woody, Andy's toys live happily in his ...</td>\n",
       "      <td>...</td>\n",
       "      <td>1995-10-30</td>\n",
       "      <td>373554033.0</td>\n",
       "      <td>81.0</td>\n",
       "      <td>[{'iso_639_1': 'en', 'name': 'English'}]</td>\n",
       "      <td>Released</td>\n",
       "      <td>NaN</td>\n",
       "      <td>Toy Story</td>\n",
       "      <td>False</td>\n",
       "      <td>7.7</td>\n",
       "      <td>5415.0</td>\n",
       "    </tr>\n",
       "    <tr>\n",
       "      <th>1</th>\n",
       "      <td>False</td>\n",
       "      <td>NaN</td>\n",
       "      <td>65000000</td>\n",
       "      <td>[{'id': 12, 'name': 'Adventure'}, {'id': 14, '...</td>\n",
       "      <td>NaN</td>\n",
       "      <td>8844</td>\n",
       "      <td>tt0113497</td>\n",
       "      <td>en</td>\n",
       "      <td>Jumanji</td>\n",
       "      <td>When siblings Judy and Peter discover an encha...</td>\n",
       "      <td>...</td>\n",
       "      <td>1995-12-15</td>\n",
       "      <td>262797249.0</td>\n",
       "      <td>104.0</td>\n",
       "      <td>[{'iso_639_1': 'en', 'name': 'English'}, {'iso...</td>\n",
       "      <td>Released</td>\n",
       "      <td>Roll the dice and unleash the excitement!</td>\n",
       "      <td>Jumanji</td>\n",
       "      <td>False</td>\n",
       "      <td>6.9</td>\n",
       "      <td>2413.0</td>\n",
       "    </tr>\n",
       "  </tbody>\n",
       "</table>\n",
       "<p>2 rows × 24 columns</p>\n",
       "</div>"
      ],
      "text/plain": [
       "   adult                              belongs_to_collection    budget  \\\n",
       "0  False  {'id': 10194, 'name': 'Toy Story Collection', ...  30000000   \n",
       "1  False                                                NaN  65000000   \n",
       "\n",
       "                                              genres  \\\n",
       "0  [{'id': 16, 'name': 'Animation'}, {'id': 35, '...   \n",
       "1  [{'id': 12, 'name': 'Adventure'}, {'id': 14, '...   \n",
       "\n",
       "                               homepage    id    imdb_id original_language  \\\n",
       "0  http://toystory.disney.com/toy-story   862  tt0114709                en   \n",
       "1                                   NaN  8844  tt0113497                en   \n",
       "\n",
       "  original_title                                           overview  ...  \\\n",
       "0      Toy Story  Led by Woody, Andy's toys live happily in his ...  ...   \n",
       "1        Jumanji  When siblings Judy and Peter discover an encha...  ...   \n",
       "\n",
       "  release_date      revenue runtime  \\\n",
       "0   1995-10-30  373554033.0    81.0   \n",
       "1   1995-12-15  262797249.0   104.0   \n",
       "\n",
       "                                    spoken_languages    status  \\\n",
       "0           [{'iso_639_1': 'en', 'name': 'English'}]  Released   \n",
       "1  [{'iso_639_1': 'en', 'name': 'English'}, {'iso...  Released   \n",
       "\n",
       "                                     tagline      title  video vote_average  \\\n",
       "0                                        NaN  Toy Story  False          7.7   \n",
       "1  Roll the dice and unleash the excitement!    Jumanji  False          6.9   \n",
       "\n",
       "  vote_count  \n",
       "0     5415.0  \n",
       "1     2413.0  \n",
       "\n",
       "[2 rows x 24 columns]"
      ]
     },
     "execution_count": 43,
     "metadata": {},
     "output_type": "execute_result"
    }
   ],
   "source": [
    "# Inspect data\n",
    "print(kmovies_df.info())\n",
    "kmovies_df.head(2)"
   ]
  },
  {
   "cell_type": "markdown",
   "metadata": {},
   "source": [
    "### Drop duplicate rows\n",
    "\n",
    "The movie data from Kaggle also has `imdb_id` which we can use to find and drop duplicate records."
   ]
  },
  {
   "cell_type": "code",
   "execution_count": 44,
   "metadata": {},
   "outputs": [
    {
     "name": "stdout",
     "output_type": "stream",
     "text": [
      "48\n"
     ]
    },
    {
     "data": {
      "text/html": [
       "<div>\n",
       "<style scoped>\n",
       "    .dataframe tbody tr th:only-of-type {\n",
       "        vertical-align: middle;\n",
       "    }\n",
       "\n",
       "    .dataframe tbody tr th {\n",
       "        vertical-align: top;\n",
       "    }\n",
       "\n",
       "    .dataframe thead th {\n",
       "        text-align: right;\n",
       "    }\n",
       "</style>\n",
       "<table border=\"1\" class=\"dataframe\">\n",
       "  <thead>\n",
       "    <tr style=\"text-align: right;\">\n",
       "      <th></th>\n",
       "      <th>adult</th>\n",
       "      <th>belongs_to_collection</th>\n",
       "      <th>budget</th>\n",
       "      <th>genres</th>\n",
       "      <th>homepage</th>\n",
       "      <th>id</th>\n",
       "      <th>imdb_id</th>\n",
       "      <th>original_language</th>\n",
       "      <th>original_title</th>\n",
       "      <th>overview</th>\n",
       "      <th>...</th>\n",
       "      <th>release_date</th>\n",
       "      <th>revenue</th>\n",
       "      <th>runtime</th>\n",
       "      <th>spoken_languages</th>\n",
       "      <th>status</th>\n",
       "      <th>tagline</th>\n",
       "      <th>title</th>\n",
       "      <th>video</th>\n",
       "      <th>vote_average</th>\n",
       "      <th>vote_count</th>\n",
       "    </tr>\n",
       "  </thead>\n",
       "  <tbody>\n",
       "    <tr>\n",
       "      <th>35587</th>\n",
       "      <td>Avalanche Sharks tells the story of a bikini ...</td>\n",
       "      <td>2.185485</td>\n",
       "      <td>/zaSf5OG7V8X8gqFvly88zDdRm46.jpg</td>\n",
       "      <td>[{'name': 'Odyssey Media', 'id': 17161}, {'nam...</td>\n",
       "      <td>[{'iso_3166_1': 'CA', 'name': 'Canada'}]</td>\n",
       "      <td>2014-01-01</td>\n",
       "      <td>0</td>\n",
       "      <td>82.0</td>\n",
       "      <td>[{'iso_639_1': 'en', 'name': 'English'}]</td>\n",
       "      <td>Released</td>\n",
       "      <td>...</td>\n",
       "      <td>22</td>\n",
       "      <td>NaN</td>\n",
       "      <td>NaN</td>\n",
       "      <td>NaN</td>\n",
       "      <td>NaN</td>\n",
       "      <td>NaN</td>\n",
       "      <td>NaN</td>\n",
       "      <td>NaN</td>\n",
       "      <td>NaN</td>\n",
       "      <td>NaN</td>\n",
       "    </tr>\n",
       "    <tr>\n",
       "      <th>29503</th>\n",
       "      <td>Rune Balot goes to a casino connected to the ...</td>\n",
       "      <td>1.931659</td>\n",
       "      <td>/zV8bHuSL6WXoD6FWogP9j4x80bL.jpg</td>\n",
       "      <td>[{'name': 'Aniplex', 'id': 2883}, {'name': 'Go...</td>\n",
       "      <td>[{'iso_3166_1': 'US', 'name': 'United States o...</td>\n",
       "      <td>2012-09-29</td>\n",
       "      <td>0</td>\n",
       "      <td>68.0</td>\n",
       "      <td>[{'iso_639_1': 'ja', 'name': '日本語'}]</td>\n",
       "      <td>Released</td>\n",
       "      <td>...</td>\n",
       "      <td>12</td>\n",
       "      <td>NaN</td>\n",
       "      <td>NaN</td>\n",
       "      <td>NaN</td>\n",
       "      <td>NaN</td>\n",
       "      <td>NaN</td>\n",
       "      <td>NaN</td>\n",
       "      <td>NaN</td>\n",
       "      <td>NaN</td>\n",
       "      <td>NaN</td>\n",
       "    </tr>\n",
       "    <tr>\n",
       "      <th>19730</th>\n",
       "      <td>- Written by Ørnås</td>\n",
       "      <td>0.065736</td>\n",
       "      <td>/ff9qCepilowshEtG2GYWwzt2bs4.jpg</td>\n",
       "      <td>[{'name': 'Carousel Productions', 'id': 11176}...</td>\n",
       "      <td>[{'iso_3166_1': 'CA', 'name': 'Canada'}, {'iso...</td>\n",
       "      <td>1997-08-20</td>\n",
       "      <td>0</td>\n",
       "      <td>104.0</td>\n",
       "      <td>[{'iso_639_1': 'en', 'name': 'English'}]</td>\n",
       "      <td>Released</td>\n",
       "      <td>...</td>\n",
       "      <td>1</td>\n",
       "      <td>NaN</td>\n",
       "      <td>NaN</td>\n",
       "      <td>NaN</td>\n",
       "      <td>NaN</td>\n",
       "      <td>NaN</td>\n",
       "      <td>NaN</td>\n",
       "      <td>NaN</td>\n",
       "      <td>NaN</td>\n",
       "      <td>NaN</td>\n",
       "    </tr>\n",
       "    <tr>\n",
       "      <th>16167</th>\n",
       "      <td>False</td>\n",
       "      <td>NaN</td>\n",
       "      <td>0</td>\n",
       "      <td>[{'id': 28, 'name': 'Action'}, {'id': 18, 'nam...</td>\n",
       "      <td>NaN</td>\n",
       "      <td>99080</td>\n",
       "      <td>tt0022537</td>\n",
       "      <td>en</td>\n",
       "      <td>The Viking</td>\n",
       "      <td>Originally called White Thunder, American prod...</td>\n",
       "      <td>...</td>\n",
       "      <td>1931-06-21</td>\n",
       "      <td>0.0</td>\n",
       "      <td>70.0</td>\n",
       "      <td>[{'iso_639_1': 'en', 'name': 'English'}]</td>\n",
       "      <td>Released</td>\n",
       "      <td>Actually produced during the Great Newfoundlan...</td>\n",
       "      <td>The Viking</td>\n",
       "      <td>False</td>\n",
       "      <td>0.0</td>\n",
       "      <td>0.0</td>\n",
       "    </tr>\n",
       "    <tr>\n",
       "      <th>38871</th>\n",
       "      <td>False</td>\n",
       "      <td>NaN</td>\n",
       "      <td>0</td>\n",
       "      <td>[{'id': 28, 'name': 'Action'}, {'id': 18, 'nam...</td>\n",
       "      <td>NaN</td>\n",
       "      <td>99080</td>\n",
       "      <td>tt0022537</td>\n",
       "      <td>en</td>\n",
       "      <td>The Viking</td>\n",
       "      <td>Originally called White Thunder, American prod...</td>\n",
       "      <td>...</td>\n",
       "      <td>1931-06-21</td>\n",
       "      <td>0.0</td>\n",
       "      <td>70.0</td>\n",
       "      <td>[{'iso_639_1': 'en', 'name': 'English'}]</td>\n",
       "      <td>Released</td>\n",
       "      <td>Actually produced during the Great Newfoundlan...</td>\n",
       "      <td>The Viking</td>\n",
       "      <td>False</td>\n",
       "      <td>0.0</td>\n",
       "      <td>0.0</td>\n",
       "    </tr>\n",
       "  </tbody>\n",
       "</table>\n",
       "<p>5 rows × 24 columns</p>\n",
       "</div>"
      ],
      "text/plain": [
       "                                                   adult  \\\n",
       "35587   Avalanche Sharks tells the story of a bikini ...   \n",
       "29503   Rune Balot goes to a casino connected to the ...   \n",
       "19730                                 - Written by Ørnås   \n",
       "16167                                              False   \n",
       "38871                                              False   \n",
       "\n",
       "      belongs_to_collection                            budget  \\\n",
       "35587              2.185485  /zaSf5OG7V8X8gqFvly88zDdRm46.jpg   \n",
       "29503              1.931659  /zV8bHuSL6WXoD6FWogP9j4x80bL.jpg   \n",
       "19730              0.065736  /ff9qCepilowshEtG2GYWwzt2bs4.jpg   \n",
       "16167                   NaN                                 0   \n",
       "38871                   NaN                                 0   \n",
       "\n",
       "                                                  genres  \\\n",
       "35587  [{'name': 'Odyssey Media', 'id': 17161}, {'nam...   \n",
       "29503  [{'name': 'Aniplex', 'id': 2883}, {'name': 'Go...   \n",
       "19730  [{'name': 'Carousel Productions', 'id': 11176}...   \n",
       "16167  [{'id': 28, 'name': 'Action'}, {'id': 18, 'nam...   \n",
       "38871  [{'id': 28, 'name': 'Action'}, {'id': 18, 'nam...   \n",
       "\n",
       "                                                homepage          id  \\\n",
       "35587           [{'iso_3166_1': 'CA', 'name': 'Canada'}]  2014-01-01   \n",
       "29503  [{'iso_3166_1': 'US', 'name': 'United States o...  2012-09-29   \n",
       "19730  [{'iso_3166_1': 'CA', 'name': 'Canada'}, {'iso...  1997-08-20   \n",
       "16167                                                NaN       99080   \n",
       "38871                                                NaN       99080   \n",
       "\n",
       "         imdb_id original_language                            original_title  \\\n",
       "35587          0              82.0  [{'iso_639_1': 'en', 'name': 'English'}]   \n",
       "29503          0              68.0      [{'iso_639_1': 'ja', 'name': '日本語'}]   \n",
       "19730          0             104.0  [{'iso_639_1': 'en', 'name': 'English'}]   \n",
       "16167  tt0022537                en                                The Viking   \n",
       "38871  tt0022537                en                                The Viking   \n",
       "\n",
       "                                                overview  ... release_date  \\\n",
       "35587                                           Released  ...           22   \n",
       "29503                                           Released  ...           12   \n",
       "19730                                           Released  ...            1   \n",
       "16167  Originally called White Thunder, American prod...  ...   1931-06-21   \n",
       "38871  Originally called White Thunder, American prod...  ...   1931-06-21   \n",
       "\n",
       "      revenue runtime                          spoken_languages    status  \\\n",
       "35587     NaN     NaN                                       NaN       NaN   \n",
       "29503     NaN     NaN                                       NaN       NaN   \n",
       "19730     NaN     NaN                                       NaN       NaN   \n",
       "16167     0.0    70.0  [{'iso_639_1': 'en', 'name': 'English'}]  Released   \n",
       "38871     0.0    70.0  [{'iso_639_1': 'en', 'name': 'English'}]  Released   \n",
       "\n",
       "                                                 tagline       title  video  \\\n",
       "35587                                                NaN         NaN    NaN   \n",
       "29503                                                NaN         NaN    NaN   \n",
       "19730                                                NaN         NaN    NaN   \n",
       "16167  Actually produced during the Great Newfoundlan...  The Viking  False   \n",
       "38871  Actually produced during the Great Newfoundlan...  The Viking  False   \n",
       "\n",
       "      vote_average vote_count  \n",
       "35587          NaN        NaN  \n",
       "29503          NaN        NaN  \n",
       "19730          NaN        NaN  \n",
       "16167          0.0        0.0  \n",
       "38871          0.0        0.0  \n",
       "\n",
       "[5 rows x 24 columns]"
      ]
     },
     "execution_count": 44,
     "metadata": {},
     "output_type": "execute_result"
    }
   ],
   "source": [
    "# Check for duplicated rows\n",
    "print(kmovies_df.duplicated(subset='imdb_id').sum())\n",
    "kmovies_df[kmovies_df.duplicated(subset='imdb_id', keep=False)].sort_values('imdb_id').head()"
   ]
  },
  {
   "cell_type": "markdown",
   "metadata": {},
   "source": [
    "There are 3 records that have an `imdb_id` of 0. There may be other records with an invalid `imdb_id` so let's find those first so we can drop them."
   ]
  },
  {
   "cell_type": "code",
   "execution_count": 45,
   "metadata": {},
   "outputs": [
    {
     "data": {
      "text/plain": [
       "3"
      ]
     },
     "execution_count": 45,
     "metadata": {},
     "output_type": "execute_result"
    }
   ],
   "source": [
    "# Invalid IMDB IDs\n",
    "kmovies_df['imdb_id'].count() - kmovies_df['imdb_id'].dropna().str.contains(r'tt\\d{7}').sum()"
   ]
  },
  {
   "cell_type": "code",
   "execution_count": 46,
   "metadata": {},
   "outputs": [
    {
     "data": {
      "text/plain": [
       "0"
      ]
     },
     "execution_count": 46,
     "metadata": {},
     "output_type": "execute_result"
    }
   ],
   "source": [
    "# Replace `imdb_id` 0 with NaN\n",
    "kmovies_clean_df = kmovies_df.copy()\n",
    "kmovies_clean_df['imdb_id'].replace('0', np.NaN, inplace=True)\n",
    "kmovies_clean_df['imdb_id'].count() - kmovies_clean_df['imdb_id'].dropna().str.contains(r'tt\\d{7}').sum()"
   ]
  },
  {
   "cell_type": "code",
   "execution_count": 47,
   "metadata": {},
   "outputs": [
    {
     "data": {
      "text/plain": [
       "0"
      ]
     },
     "execution_count": 47,
     "metadata": {},
     "output_type": "execute_result"
    }
   ],
   "source": [
    "# Drop duplicate movies\n",
    "kmovies_clean_df = kmovies_clean_df.drop_duplicates(subset=['imdb_id'])\n",
    "kmovies_clean_df.duplicated(subset='imdb_id').sum()"
   ]
  },
  {
   "cell_type": "markdown",
   "metadata": {},
   "source": [
    "### Drop columns with mostly missing values"
   ]
  },
  {
   "cell_type": "code",
   "execution_count": 48,
   "metadata": {},
   "outputs": [
    {
     "data": {
      "text/plain": [
       "belongs_to_collection    0.901226\n",
       "homepage                 0.828853\n",
       "tagline                  0.550873\n",
       "dtype: float64"
      ]
     },
     "execution_count": 48,
     "metadata": {},
     "output_type": "execute_result"
    }
   ],
   "source": [
    "# Check columns where at least half of the values are missing\n",
    "cols_missing = kmovies_clean_df.isnull().mean()\n",
    "cols_missing50 = cols_missing[cols_missing >= 0.5]\n",
    "cols_missing50"
   ]
  },
  {
   "cell_type": "code",
   "execution_count": 49,
   "metadata": {},
   "outputs": [
    {
     "name": "stdout",
     "output_type": "stream",
     "text": [
      "(45417, 21)\n"
     ]
    },
    {
     "data": {
      "text/plain": [
       "adult                   0.000000\n",
       "budget                  0.000000\n",
       "genres                  0.000000\n",
       "id                      0.000000\n",
       "imdb_id                 0.000022\n",
       "original_language       0.000242\n",
       "original_title          0.000000\n",
       "overview                0.020961\n",
       "popularity              0.000066\n",
       "poster_path             0.008389\n",
       "production_companies    0.000066\n",
       "production_countries    0.000066\n",
       "release_date            0.001850\n",
       "revenue                 0.000066\n",
       "runtime                 0.005681\n",
       "spoken_languages        0.000066\n",
       "status                  0.001850\n",
       "title                   0.000066\n",
       "video                   0.000066\n",
       "vote_average            0.000066\n",
       "vote_count              0.000066\n",
       "dtype: float64"
      ]
     },
     "execution_count": 49,
     "metadata": {},
     "output_type": "execute_result"
    }
   ],
   "source": [
    "# Drop these columns and inspect remaining columns\n",
    "kmovies_clean_df.drop(cols_missing50.index, axis=1, inplace=True)\n",
    "print(kmovies_clean_df.shape)\n",
    "kmovies_clean_df.isnull().mean()"
   ]
  },
  {
   "cell_type": "markdown",
   "metadata": {},
   "source": [
    "There are 2 columns containing titles: `original_title` and `title`. This is a little redundant, so we will also be dropping `original_title`."
   ]
  },
  {
   "cell_type": "code",
   "execution_count": 50,
   "metadata": {},
   "outputs": [
    {
     "data": {
      "text/plain": [
       "(45417, 20)"
      ]
     },
     "execution_count": 50,
     "metadata": {},
     "output_type": "execute_result"
    }
   ],
   "source": [
    "kmovies_clean_df.drop('original_title', axis=1, inplace=True)\n",
    "kmovies_clean_df.shape"
   ]
  },
  {
   "cell_type": "markdown",
   "metadata": {},
   "source": [
    "### Inspect data types"
   ]
  },
  {
   "cell_type": "code",
   "execution_count": 51,
   "metadata": {},
   "outputs": [
    {
     "name": "stdout",
     "output_type": "stream",
     "text": [
      "adult ( object ) : False\n",
      "budget ( object ) : 30000000\n",
      "genres ( object ) : [{'id': 16, 'name': 'Animation'}, {'id': 35, 'name': 'Comedy'}, {'id': 10751, 'name': 'Family'}]\n",
      "id ( object ) : 862\n",
      "imdb_id ( object ) : tt0114709\n",
      "original_language ( object ) : en\n",
      "overview ( object ) : Led by Woody, Andy's toys live happily in his room until Andy's birthday brings Buzz Lightyear onto the scene. Afraid of losing his place in Andy's heart, Woody plots against Buzz. But when circumstances separate Buzz and Woody from their owner, the duo eventually learns to put aside their differences.\n",
      "popularity ( object ) : 21.946943\n",
      "poster_path ( object ) : /rhIRbceoE9lR4veEXuwCC2wARtG.jpg\n",
      "production_companies ( object ) : [{'name': 'Pixar Animation Studios', 'id': 3}]\n",
      "production_countries ( object ) : [{'iso_3166_1': 'US', 'name': 'United States of America'}]\n",
      "release_date ( object ) : 1995-10-30\n",
      "revenue ( float64 ) : 373554033.0\n",
      "runtime ( float64 ) : 81.0\n",
      "spoken_languages ( object ) : [{'iso_639_1': 'en', 'name': 'English'}]\n",
      "status ( object ) : Released\n",
      "title ( object ) : Toy Story\n",
      "video ( object ) : False\n",
      "vote_average ( float64 ) : 7.7\n",
      "vote_count ( float64 ) : 5415.0\n"
     ]
    }
   ],
   "source": [
    "# Column data types and sample values\n",
    "for col in kmovies_clean_df.columns:\n",
    "    print(col, '(', kmovies_clean_df[col].dtype, ') :', kmovies_clean_df.loc[0, col])"
   ]
  },
  {
   "cell_type": "markdown",
   "metadata": {},
   "source": [
    "Columns that need to be recasted:\n",
    "- `adult` - to boolean\n",
    "- `video` - to boolean\n",
    "- `release_date` - to datetime\n",
    "- `budget` - to numeric\n",
    "- `id` - to numeric\n",
    "- `popularity` - to numeric"
   ]
  },
  {
   "cell_type": "markdown",
   "metadata": {},
   "source": [
    "### Convert `adult` and `video` to boolean type"
   ]
  },
  {
   "cell_type": "code",
   "execution_count": 52,
   "metadata": {},
   "outputs": [
    {
     "data": {
      "text/plain": [
       "False    45408\n",
       "True         9\n",
       "Name: adult, dtype: int64"
      ]
     },
     "execution_count": 52,
     "metadata": {},
     "output_type": "execute_result"
    }
   ],
   "source": [
    "# Inspect adult values\n",
    "kmovies_clean_df['adult'].value_counts()"
   ]
  },
  {
   "cell_type": "code",
   "execution_count": 53,
   "metadata": {},
   "outputs": [
    {
     "data": {
      "text/plain": [
       "False    45321\n",
       "True        93\n",
       "Name: video, dtype: int64"
      ]
     },
     "execution_count": 53,
     "metadata": {},
     "output_type": "execute_result"
    }
   ],
   "source": [
    "# Inspect video values\n",
    "kmovies_clean_df['video'].value_counts()"
   ]
  },
  {
   "cell_type": "markdown",
   "metadata": {},
   "source": [
    "Both `adult` and `video` are predominantly 1 value, so they will both be dropped since they're not providing much information. But records of `adult` videos will be dropped before dropping these 2 columns."
   ]
  },
  {
   "cell_type": "code",
   "execution_count": 54,
   "metadata": {},
   "outputs": [
    {
     "data": {
      "text/plain": [
       "(45408, 18)"
      ]
     },
     "execution_count": 54,
     "metadata": {},
     "output_type": "execute_result"
    }
   ],
   "source": [
    "# Remove adult movies and drop both columns\n",
    "kmovies_clean_df = kmovies_clean_df.query('adult != \"True\"').drop(['adult', 'video'], axis=1)\n",
    "kmovies_clean_df.shape"
   ]
  },
  {
   "cell_type": "markdown",
   "metadata": {},
   "source": [
    "### Convert `release_date` to datetime type"
   ]
  },
  {
   "cell_type": "code",
   "execution_count": 55,
   "metadata": {},
   "outputs": [
    {
     "data": {
      "text/plain": [
       "0       1995-10-30\n",
       "1       1995-12-15\n",
       "2       1995-12-22\n",
       "3       1995-12-22\n",
       "4       1995-02-10\n",
       "           ...    \n",
       "45461          NaT\n",
       "45462   2011-11-17\n",
       "45463   2003-08-01\n",
       "45464   1917-10-21\n",
       "45465   2017-06-09\n",
       "Name: release_date, Length: 45408, dtype: datetime64[ns]"
      ]
     },
     "execution_count": 55,
     "metadata": {},
     "output_type": "execute_result"
    }
   ],
   "source": [
    "# Recast release date to datetime\n",
    "kmovies_clean_df['release_date'] = pd.to_datetime(kmovies_clean_df['release_date'])\n",
    "kmovies_clean_df['release_date']"
   ]
  },
  {
   "cell_type": "markdown",
   "metadata": {},
   "source": [
    "### Convert `budget`, `id`, and `popularity` to numeric"
   ]
  },
  {
   "cell_type": "code",
   "execution_count": 56,
   "metadata": {},
   "outputs": [
    {
     "name": "stdout",
     "output_type": "stream",
     "text": [
      "<class 'pandas.core.frame.DataFrame'>\n",
      "Int64Index: 45408 entries, 0 to 45465\n",
      "Data columns (total 18 columns):\n",
      " #   Column                Non-Null Count  Dtype         \n",
      "---  ------                --------------  -----         \n",
      " 0   budget                45408 non-null  int64         \n",
      " 1   genres                45408 non-null  object        \n",
      " 2   id                    45408 non-null  int64         \n",
      " 3   imdb_id               45407 non-null  object        \n",
      " 4   original_language     45397 non-null  object        \n",
      " 5   overview              44456 non-null  object        \n",
      " 6   popularity            45405 non-null  float64       \n",
      " 7   poster_path           45027 non-null  object        \n",
      " 8   production_companies  45405 non-null  object        \n",
      " 9   production_countries  45405 non-null  object        \n",
      " 10  release_date          45325 non-null  datetime64[ns]\n",
      " 11  revenue               45405 non-null  float64       \n",
      " 12  runtime               45150 non-null  float64       \n",
      " 13  spoken_languages      45405 non-null  object        \n",
      " 14  status                45324 non-null  object        \n",
      " 15  title                 45405 non-null  object        \n",
      " 16  vote_average          45405 non-null  float64       \n",
      " 17  vote_count            45405 non-null  float64       \n",
      "dtypes: datetime64[ns](1), float64(5), int64(2), object(10)\n",
      "memory usage: 6.6+ MB\n"
     ]
    }
   ],
   "source": [
    "# Recast budget and ID to integer\n",
    "kmovies_clean_df['budget'] = kmovies_clean_df['budget'].astype(int)\n",
    "kmovies_clean_df['id'] = kmovies_clean_df['id'].astype(int)\n",
    "\n",
    "# Recast popularity to float\n",
    "kmovies_clean_df['popularity'] = kmovies_clean_df['popularity'].astype(float)\n",
    "kmovies_clean_df.info()"
   ]
  },
  {
   "cell_type": "markdown",
   "metadata": {},
   "source": [
    "### Save Kaggle data"
   ]
  },
  {
   "cell_type": "code",
   "execution_count": 57,
   "metadata": {},
   "outputs": [
    {
     "data": {
      "text/html": [
       "<div>\n",
       "<style scoped>\n",
       "    .dataframe tbody tr th:only-of-type {\n",
       "        vertical-align: middle;\n",
       "    }\n",
       "\n",
       "    .dataframe tbody tr th {\n",
       "        vertical-align: top;\n",
       "    }\n",
       "\n",
       "    .dataframe thead th {\n",
       "        text-align: right;\n",
       "    }\n",
       "</style>\n",
       "<table border=\"1\" class=\"dataframe\">\n",
       "  <thead>\n",
       "    <tr style=\"text-align: right;\">\n",
       "      <th></th>\n",
       "      <th>budget</th>\n",
       "      <th>genres</th>\n",
       "      <th>id</th>\n",
       "      <th>imdb_id</th>\n",
       "      <th>original_language</th>\n",
       "      <th>overview</th>\n",
       "      <th>popularity</th>\n",
       "      <th>poster_path</th>\n",
       "      <th>production_companies</th>\n",
       "      <th>production_countries</th>\n",
       "      <th>release_date</th>\n",
       "      <th>revenue</th>\n",
       "      <th>runtime</th>\n",
       "      <th>spoken_languages</th>\n",
       "      <th>status</th>\n",
       "      <th>title</th>\n",
       "      <th>vote_average</th>\n",
       "      <th>vote_count</th>\n",
       "    </tr>\n",
       "  </thead>\n",
       "  <tbody>\n",
       "    <tr>\n",
       "      <th>0</th>\n",
       "      <td>30000000</td>\n",
       "      <td>[{'id': 16, 'name': 'Animation'}, {'id': 35, '...</td>\n",
       "      <td>862</td>\n",
       "      <td>tt0114709</td>\n",
       "      <td>en</td>\n",
       "      <td>Led by Woody, Andy's toys live happily in his ...</td>\n",
       "      <td>21.946943</td>\n",
       "      <td>/rhIRbceoE9lR4veEXuwCC2wARtG.jpg</td>\n",
       "      <td>[{'name': 'Pixar Animation Studios', 'id': 3}]</td>\n",
       "      <td>[{'iso_3166_1': 'US', 'name': 'United States o...</td>\n",
       "      <td>1995-10-30</td>\n",
       "      <td>373554033.0</td>\n",
       "      <td>81.0</td>\n",
       "      <td>[{'iso_639_1': 'en', 'name': 'English'}]</td>\n",
       "      <td>Released</td>\n",
       "      <td>Toy Story</td>\n",
       "      <td>7.7</td>\n",
       "      <td>5415.0</td>\n",
       "    </tr>\n",
       "    <tr>\n",
       "      <th>1</th>\n",
       "      <td>65000000</td>\n",
       "      <td>[{'id': 12, 'name': 'Adventure'}, {'id': 14, '...</td>\n",
       "      <td>8844</td>\n",
       "      <td>tt0113497</td>\n",
       "      <td>en</td>\n",
       "      <td>When siblings Judy and Peter discover an encha...</td>\n",
       "      <td>17.015539</td>\n",
       "      <td>/vzmL6fP7aPKNKPRTFnZmiUfciyV.jpg</td>\n",
       "      <td>[{'name': 'TriStar Pictures', 'id': 559}, {'na...</td>\n",
       "      <td>[{'iso_3166_1': 'US', 'name': 'United States o...</td>\n",
       "      <td>1995-12-15</td>\n",
       "      <td>262797249.0</td>\n",
       "      <td>104.0</td>\n",
       "      <td>[{'iso_639_1': 'en', 'name': 'English'}, {'iso...</td>\n",
       "      <td>Released</td>\n",
       "      <td>Jumanji</td>\n",
       "      <td>6.9</td>\n",
       "      <td>2413.0</td>\n",
       "    </tr>\n",
       "  </tbody>\n",
       "</table>\n",
       "</div>"
      ],
      "text/plain": [
       "     budget                                             genres    id  \\\n",
       "0  30000000  [{'id': 16, 'name': 'Animation'}, {'id': 35, '...   862   \n",
       "1  65000000  [{'id': 12, 'name': 'Adventure'}, {'id': 14, '...  8844   \n",
       "\n",
       "     imdb_id original_language  \\\n",
       "0  tt0114709                en   \n",
       "1  tt0113497                en   \n",
       "\n",
       "                                            overview  popularity  \\\n",
       "0  Led by Woody, Andy's toys live happily in his ...   21.946943   \n",
       "1  When siblings Judy and Peter discover an encha...   17.015539   \n",
       "\n",
       "                        poster_path  \\\n",
       "0  /rhIRbceoE9lR4veEXuwCC2wARtG.jpg   \n",
       "1  /vzmL6fP7aPKNKPRTFnZmiUfciyV.jpg   \n",
       "\n",
       "                                production_companies  \\\n",
       "0     [{'name': 'Pixar Animation Studios', 'id': 3}]   \n",
       "1  [{'name': 'TriStar Pictures', 'id': 559}, {'na...   \n",
       "\n",
       "                                production_countries release_date  \\\n",
       "0  [{'iso_3166_1': 'US', 'name': 'United States o...   1995-10-30   \n",
       "1  [{'iso_3166_1': 'US', 'name': 'United States o...   1995-12-15   \n",
       "\n",
       "       revenue  runtime                                   spoken_languages  \\\n",
       "0  373554033.0     81.0           [{'iso_639_1': 'en', 'name': 'English'}]   \n",
       "1  262797249.0    104.0  [{'iso_639_1': 'en', 'name': 'English'}, {'iso...   \n",
       "\n",
       "     status      title  vote_average  vote_count  \n",
       "0  Released  Toy Story           7.7      5415.0  \n",
       "1  Released    Jumanji           6.9      2413.0  "
      ]
     },
     "execution_count": 57,
     "metadata": {},
     "output_type": "execute_result"
    }
   ],
   "source": [
    "# Inspect data\n",
    "kmovies_clean_df.head(2)"
   ]
  },
  {
   "cell_type": "code",
   "execution_count": 58,
   "metadata": {},
   "outputs": [
    {
     "name": "stdout",
     "output_type": "stream",
     "text": [
      "<class 'pandas.core.frame.DataFrame'>\n",
      "Int64Index: 45408 entries, 0 to 45465\n",
      "Data columns (total 18 columns):\n",
      " #   Column                Non-Null Count  Dtype         \n",
      "---  ------                --------------  -----         \n",
      " 0   budget                45408 non-null  int64         \n",
      " 1   genres                45408 non-null  object        \n",
      " 2   id                    45408 non-null  int64         \n",
      " 3   imdb_id               45407 non-null  object        \n",
      " 4   original_language     45397 non-null  object        \n",
      " 5   overview              44456 non-null  object        \n",
      " 6   popularity            45405 non-null  float64       \n",
      " 7   poster_path           45027 non-null  object        \n",
      " 8   production_companies  45405 non-null  object        \n",
      " 9   production_countries  45405 non-null  object        \n",
      " 10  release_date          45325 non-null  datetime64[ns]\n",
      " 11  revenue               45405 non-null  float64       \n",
      " 12  runtime               45150 non-null  float64       \n",
      " 13  spoken_languages      45405 non-null  object        \n",
      " 14  status                45324 non-null  object        \n",
      " 15  title                 45405 non-null  object        \n",
      " 16  vote_average          45405 non-null  float64       \n",
      " 17  vote_count            45405 non-null  float64       \n",
      "dtypes: datetime64[ns](1), float64(5), int64(2), object(10)\n",
      "memory usage: 6.6+ MB\n"
     ]
    }
   ],
   "source": [
    "# Save data\n",
    "kmovies_clean_df.to_pickle(data_path + 'kaggle_movies.pkl')\n",
    "pd.read_pickle(data_path + 'kaggle_movies.pkl').info()"
   ]
  },
  {
   "cell_type": "code",
   "execution_count": null,
   "metadata": {},
   "outputs": [],
   "source": []
  }
 ],
 "metadata": {
  "kernelspec": {
   "display_name": "Python [conda env:minds] *",
   "language": "python",
   "name": "conda-env-minds-py"
  },
  "language_info": {
   "codemirror_mode": {
    "name": "ipython",
    "version": 3
   },
   "file_extension": ".py",
   "mimetype": "text/x-python",
   "name": "python",
   "nbconvert_exporter": "python",
   "pygments_lexer": "ipython3",
   "version": "3.7.9"
  }
 },
 "nbformat": 4,
 "nbformat_minor": 4
}
