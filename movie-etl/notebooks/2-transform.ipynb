{
 "cells": [
  {
   "cell_type": "markdown",
   "metadata": {},
   "source": [
    "# Movie Data ETL Pipeline - Transform\n",
    "\n",
    "This notebook will continue the transform step of the pipeline by merging the Wikipedia data and the Kaggle data. Some additional cleaning and transformations will have to be done on the combined data before it is ready to be loaded into a SQL database.\n",
    "\n",
    "### Dependencies and data"
   ]
  },
  {
   "cell_type": "code",
   "execution_count": 21,
   "metadata": {},
   "outputs": [],
   "source": [
    "# Dependencies\n",
    "import os\n",
    "import numpy as np\n",
    "import pandas as pd\n",
    "import matplotlib as mpl\n",
    "import matplotlib.pyplot as plt\n",
    "%matplotlib inline"
   ]
  },
  {
   "cell_type": "code",
   "execution_count": 30,
   "metadata": {},
   "outputs": [],
   "source": [
    "# Plot settings\n",
    "plot_styles = mpl.style.available\n",
    "mpl.style.use(plot_styles[0])\n",
    "mpl.rcParams['figure.figsize'] = (12, 4)\n",
    "mpl.rcParams['font.size'] = 15"
   ]
  },
  {
   "cell_type": "code",
   "execution_count": 4,
   "metadata": {},
   "outputs": [
    {
     "name": "stdout",
     "output_type": "stream",
     "text": [
      "../data/wiki_movies.pkl\n",
      "../data/kaggle_movies.pkl\n"
     ]
    }
   ],
   "source": [
    "# Path to data directory\n",
    "data_path = os.path.join('..', 'data')\n",
    "\n",
    "# Paths to data files\n",
    "wmovies_path = os.path.join(data_path, 'wiki_movies.pkl')\n",
    "kmovies_path = os.path.join(data_path, 'kaggle_movies.pkl')\n",
    "print(wmovies_path)\n",
    "print(kmovies_path)"
   ]
  },
  {
   "cell_type": "code",
   "execution_count": 5,
   "metadata": {},
   "outputs": [
    {
     "name": "stdout",
     "output_type": "stream",
     "text": [
      "<class 'pandas.core.frame.DataFrame'>\n",
      "Int64Index: 6894 entries, 0 to 6935\n",
      "Data columns (total 20 columns):\n",
      " #   Column                Non-Null Count  Dtype         \n",
      "---  ------                --------------  -----         \n",
      " 0   box_office            5449 non-null   float64       \n",
      " 1   budget                4712 non-null   float64       \n",
      " 2   cinematographers      6249 non-null   object        \n",
      " 3   country               6674 non-null   object        \n",
      " 4   director              6894 non-null   object        \n",
      " 5   distributor           6591 non-null   object        \n",
      " 6   editors               6409 non-null   object        \n",
      " 7   languages             6823 non-null   object        \n",
      " 8   composers             6427 non-null   object        \n",
      " 9   producers             6720 non-null   object        \n",
      " 10  production_companies  5297 non-null   object        \n",
      " 11  release_date          6869 non-null   datetime64[ns]\n",
      " 12  duration              6892 non-null   float64       \n",
      " 13  writers               6710 non-null   object        \n",
      " 14  stars                 6729 non-null   object        \n",
      " 15  imdb_link             6894 non-null   object        \n",
      " 16  title                 6894 non-null   object        \n",
      " 17  url                   6894 non-null   object        \n",
      " 18  year                  6894 non-null   int64         \n",
      " 19  imdb_id               6894 non-null   object        \n",
      "dtypes: datetime64[ns](1), float64(3), int64(1), object(15)\n",
      "memory usage: 1.1+ MB\n"
     ]
    }
   ],
   "source": [
    "# Clean Wikipedia movie data\n",
    "wmovies_df = pd.read_pickle(wmovies_path)\n",
    "wmovies_df.info()"
   ]
  },
  {
   "cell_type": "code",
   "execution_count": 6,
   "metadata": {},
   "outputs": [
    {
     "name": "stdout",
     "output_type": "stream",
     "text": [
      "<class 'pandas.core.frame.DataFrame'>\n",
      "Int64Index: 45408 entries, 0 to 45465\n",
      "Data columns (total 18 columns):\n",
      " #   Column                Non-Null Count  Dtype         \n",
      "---  ------                --------------  -----         \n",
      " 0   budget                45408 non-null  int64         \n",
      " 1   genres                45408 non-null  object        \n",
      " 2   id                    45408 non-null  int64         \n",
      " 3   imdb_id               45407 non-null  object        \n",
      " 4   original_language     45397 non-null  object        \n",
      " 5   overview              44456 non-null  object        \n",
      " 6   popularity            45405 non-null  float64       \n",
      " 7   poster_path           45027 non-null  object        \n",
      " 8   production_companies  45405 non-null  object        \n",
      " 9   production_countries  45405 non-null  object        \n",
      " 10  release_date          45325 non-null  datetime64[ns]\n",
      " 11  revenue               45405 non-null  float64       \n",
      " 12  runtime               45150 non-null  float64       \n",
      " 13  spoken_languages      45405 non-null  object        \n",
      " 14  status                45324 non-null  object        \n",
      " 15  title                 45405 non-null  object        \n",
      " 16  vote_average          45405 non-null  float64       \n",
      " 17  vote_count            45405 non-null  float64       \n",
      "dtypes: datetime64[ns](1), float64(5), int64(2), object(10)\n",
      "memory usage: 6.6+ MB\n"
     ]
    }
   ],
   "source": [
    "# Clean Kaggle movie data\n",
    "kmovies_df = pd.read_pickle(kmovies_path)\n",
    "kmovies_df.info()"
   ]
  },
  {
   "cell_type": "markdown",
   "metadata": {},
   "source": [
    "### Join movie data from both sources"
   ]
  },
  {
   "cell_type": "code",
   "execution_count": 7,
   "metadata": {},
   "outputs": [
    {
     "data": {
      "text/html": [
       "<div>\n",
       "<style scoped>\n",
       "    .dataframe tbody tr th:only-of-type {\n",
       "        vertical-align: middle;\n",
       "    }\n",
       "\n",
       "    .dataframe tbody tr th {\n",
       "        vertical-align: top;\n",
       "    }\n",
       "\n",
       "    .dataframe thead th {\n",
       "        text-align: right;\n",
       "    }\n",
       "</style>\n",
       "<table border=\"1\" class=\"dataframe\">\n",
       "  <thead>\n",
       "    <tr style=\"text-align: right;\">\n",
       "      <th></th>\n",
       "      <th>box_office</th>\n",
       "      <th>budget_wiki</th>\n",
       "      <th>cinematographers</th>\n",
       "      <th>country</th>\n",
       "      <th>director</th>\n",
       "      <th>distributor</th>\n",
       "      <th>editors</th>\n",
       "      <th>languages</th>\n",
       "      <th>composers</th>\n",
       "      <th>producers</th>\n",
       "      <th>...</th>\n",
       "      <th>production_companies_kaggle</th>\n",
       "      <th>production_countries</th>\n",
       "      <th>release_date_kaggle</th>\n",
       "      <th>revenue</th>\n",
       "      <th>runtime</th>\n",
       "      <th>spoken_languages</th>\n",
       "      <th>status</th>\n",
       "      <th>title_kaggle</th>\n",
       "      <th>vote_average</th>\n",
       "      <th>vote_count</th>\n",
       "    </tr>\n",
       "  </thead>\n",
       "  <tbody>\n",
       "    <tr>\n",
       "      <th>0</th>\n",
       "      <td>21400000.0</td>\n",
       "      <td>20000000.0</td>\n",
       "      <td>Oliver Wood</td>\n",
       "      <td>United States</td>\n",
       "      <td>Renny Harlin</td>\n",
       "      <td>20th Century Fox</td>\n",
       "      <td>Michael Tronick</td>\n",
       "      <td>English</td>\n",
       "      <td>[Cliff Eidelman, Yello]</td>\n",
       "      <td>[Steve Perry, Joel Silver]</td>\n",
       "      <td>...</td>\n",
       "      <td>[{'name': 'Twentieth Century Fox Film Corporat...</td>\n",
       "      <td>[{'iso_3166_1': 'US', 'name': 'United States o...</td>\n",
       "      <td>1990-07-11</td>\n",
       "      <td>20423389.0</td>\n",
       "      <td>104.0</td>\n",
       "      <td>[{'iso_639_1': 'en', 'name': 'English'}]</td>\n",
       "      <td>Released</td>\n",
       "      <td>The Adventures of Ford Fairlane</td>\n",
       "      <td>6.2</td>\n",
       "      <td>72.0</td>\n",
       "    </tr>\n",
       "    <tr>\n",
       "      <th>1</th>\n",
       "      <td>2700000.0</td>\n",
       "      <td>6000000.0</td>\n",
       "      <td>Mark Plummer</td>\n",
       "      <td>United States</td>\n",
       "      <td>James Foley</td>\n",
       "      <td>Avenue Pictures</td>\n",
       "      <td>Howard E. Smith</td>\n",
       "      <td>English</td>\n",
       "      <td>Maurice Jarre</td>\n",
       "      <td>[Ric Kidney, Robert Redlin]</td>\n",
       "      <td>...</td>\n",
       "      <td>[{'name': 'Avenue Pictures Productions', 'id':...</td>\n",
       "      <td>[{'iso_3166_1': 'US', 'name': 'United States o...</td>\n",
       "      <td>1990-08-24</td>\n",
       "      <td>0.0</td>\n",
       "      <td>114.0</td>\n",
       "      <td>[{'iso_639_1': 'en', 'name': 'English'}]</td>\n",
       "      <td>Released</td>\n",
       "      <td>After Dark, My Sweet</td>\n",
       "      <td>6.5</td>\n",
       "      <td>17.0</td>\n",
       "    </tr>\n",
       "  </tbody>\n",
       "</table>\n",
       "<p>2 rows × 37 columns</p>\n",
       "</div>"
      ],
      "text/plain": [
       "   box_office  budget_wiki cinematographers        country      director  \\\n",
       "0  21400000.0   20000000.0      Oliver Wood  United States  Renny Harlin   \n",
       "1   2700000.0    6000000.0     Mark Plummer  United States   James Foley   \n",
       "\n",
       "        distributor          editors languages                composers  \\\n",
       "0  20th Century Fox  Michael Tronick   English  [Cliff Eidelman, Yello]   \n",
       "1   Avenue Pictures  Howard E. Smith   English            Maurice Jarre   \n",
       "\n",
       "                     producers  ...  \\\n",
       "0   [Steve Perry, Joel Silver]  ...   \n",
       "1  [Ric Kidney, Robert Redlin]  ...   \n",
       "\n",
       "                         production_companies_kaggle  \\\n",
       "0  [{'name': 'Twentieth Century Fox Film Corporat...   \n",
       "1  [{'name': 'Avenue Pictures Productions', 'id':...   \n",
       "\n",
       "                                production_countries  release_date_kaggle  \\\n",
       "0  [{'iso_3166_1': 'US', 'name': 'United States o...           1990-07-11   \n",
       "1  [{'iso_3166_1': 'US', 'name': 'United States o...           1990-08-24   \n",
       "\n",
       "      revenue runtime                          spoken_languages    status  \\\n",
       "0  20423389.0   104.0  [{'iso_639_1': 'en', 'name': 'English'}]  Released   \n",
       "1         0.0   114.0  [{'iso_639_1': 'en', 'name': 'English'}]  Released   \n",
       "\n",
       "                      title_kaggle  vote_average vote_count  \n",
       "0  The Adventures of Ford Fairlane           6.2       72.0  \n",
       "1             After Dark, My Sweet           6.5       17.0  \n",
       "\n",
       "[2 rows x 37 columns]"
      ]
     },
     "execution_count": 7,
     "metadata": {},
     "output_type": "execute_result"
    }
   ],
   "source": [
    "# Merge data\n",
    "movies_df = pd.merge(wmovies_df, kmovies_df, how='inner', on='imdb_id', suffixes=['_wiki', '_kaggle'])\n",
    "movies_df.head(2)"
   ]
  },
  {
   "cell_type": "markdown",
   "metadata": {},
   "source": [
    "### Find redundant columns\n",
    "\n",
    "Since the 2 dataframes being joined contain similar data, they will have several of the same columns. For these columns, it would be redundant to keep both, so we will examine each pair to see what is the best course of action to take. In most cases, we will likely just keep the one with more consistent data. A table will be created to keep track of the action we take on each pair."
   ]
  },
  {
   "cell_type": "code",
   "execution_count": 6,
   "metadata": {},
   "outputs": [
    {
     "data": {
      "text/plain": [
       "Index(['box_office', 'budget_kaggle', 'budget_wiki', 'cinematographers',\n",
       "       'composers', 'country', 'director', 'distributor', 'duration',\n",
       "       'editors', 'genres', 'id', 'imdb_id', 'imdb_link', 'languages',\n",
       "       'original_language', 'overview', 'popularity', 'poster_path',\n",
       "       'producers', 'production_companies_kaggle', 'production_companies_wiki',\n",
       "       'production_countries', 'release_date_kaggle', 'release_date_wiki',\n",
       "       'revenue', 'runtime', 'spoken_languages', 'stars', 'status',\n",
       "       'title_kaggle', 'title_wiki', 'url', 'vote_average', 'vote_count',\n",
       "       'writers', 'year'],\n",
       "      dtype='object')"
      ]
     },
     "execution_count": 6,
     "metadata": {},
     "output_type": "execute_result"
    }
   ],
   "source": [
    "# List cols\n",
    "movies_df.columns.sort_values()"
   ]
  },
  {
   "cell_type": "code",
   "execution_count": 8,
   "metadata": {},
   "outputs": [
    {
     "data": {
      "text/html": [
       "<div>\n",
       "<style scoped>\n",
       "    .dataframe tbody tr th:only-of-type {\n",
       "        vertical-align: middle;\n",
       "    }\n",
       "\n",
       "    .dataframe tbody tr th {\n",
       "        vertical-align: top;\n",
       "    }\n",
       "\n",
       "    .dataframe thead th {\n",
       "        text-align: right;\n",
       "    }\n",
       "</style>\n",
       "<table border=\"1\" class=\"dataframe\">\n",
       "  <thead>\n",
       "    <tr style=\"text-align: right;\">\n",
       "      <th></th>\n",
       "      <th>wikipedia</th>\n",
       "      <th>kaggle</th>\n",
       "      <th>action</th>\n",
       "    </tr>\n",
       "  </thead>\n",
       "  <tbody>\n",
       "    <tr>\n",
       "      <th>0</th>\n",
       "      <td>box_office</td>\n",
       "      <td>revenue</td>\n",
       "      <td></td>\n",
       "    </tr>\n",
       "    <tr>\n",
       "      <th>1</th>\n",
       "      <td>budget_wiki</td>\n",
       "      <td>budget_kaggle</td>\n",
       "      <td></td>\n",
       "    </tr>\n",
       "    <tr>\n",
       "      <th>2</th>\n",
       "      <td>duration</td>\n",
       "      <td>runtime</td>\n",
       "      <td></td>\n",
       "    </tr>\n",
       "    <tr>\n",
       "      <th>3</th>\n",
       "      <td>languages</td>\n",
       "      <td>original_language</td>\n",
       "      <td></td>\n",
       "    </tr>\n",
       "    <tr>\n",
       "      <th>4</th>\n",
       "      <td>production_companies_wiki</td>\n",
       "      <td>production_companies_kaggle</td>\n",
       "      <td></td>\n",
       "    </tr>\n",
       "    <tr>\n",
       "      <th>5</th>\n",
       "      <td>release_date_wiki</td>\n",
       "      <td>release_date_kaggle</td>\n",
       "      <td></td>\n",
       "    </tr>\n",
       "    <tr>\n",
       "      <th>6</th>\n",
       "      <td>title_wiki</td>\n",
       "      <td>title_kaggle</td>\n",
       "      <td></td>\n",
       "    </tr>\n",
       "  </tbody>\n",
       "</table>\n",
       "</div>"
      ],
      "text/plain": [
       "                   wikipedia                       kaggle action\n",
       "0                 box_office                      revenue       \n",
       "1                budget_wiki                budget_kaggle       \n",
       "2                   duration                      runtime       \n",
       "3                  languages            original_language       \n",
       "4  production_companies_wiki  production_companies_kaggle       \n",
       "5          release_date_wiki          release_date_kaggle       \n",
       "6                 title_wiki                 title_kaggle       "
      ]
     },
     "execution_count": 8,
     "metadata": {},
     "output_type": "execute_result"
    }
   ],
   "source": [
    "# List of redundant col name pairs (wikipedia col, kaggle col)\n",
    "redundant_cols = [\n",
    "    ('box_office', 'revenue'),\n",
    "    ('budget_wiki', 'budget_kaggle'),\n",
    "    ('duration', 'runtime'),\n",
    "    ('languages', 'original_language'),\n",
    "    ('production_companies_wiki', 'production_companies_kaggle'),\n",
    "    ('release_date_wiki', 'release_date_kaggle'),\n",
    "    ('title_wiki', 'title_kaggle')\n",
    "]\n",
    "\n",
    "# Create a table to keep track of the action taken for each pair\n",
    "redundant_cols = pd.DataFrame(redundant_cols, columns=['wikipedia', 'kaggle'])\n",
    "redundant_cols['action'] = ''\n",
    "redundant_cols"
   ]
  },
  {
   "cell_type": "markdown",
   "metadata": {},
   "source": [
    "### Inspect title columns"
   ]
  },
  {
   "cell_type": "code",
   "execution_count": 9,
   "metadata": {},
   "outputs": [
    {
     "name": "stdout",
     "output_type": "stream",
     "text": [
      "429\n"
     ]
    },
    {
     "data": {
      "text/html": [
       "<div>\n",
       "<style scoped>\n",
       "    .dataframe tbody tr th:only-of-type {\n",
       "        vertical-align: middle;\n",
       "    }\n",
       "\n",
       "    .dataframe tbody tr th {\n",
       "        vertical-align: top;\n",
       "    }\n",
       "\n",
       "    .dataframe thead th {\n",
       "        text-align: right;\n",
       "    }\n",
       "</style>\n",
       "<table border=\"1\" class=\"dataframe\">\n",
       "  <thead>\n",
       "    <tr style=\"text-align: right;\">\n",
       "      <th></th>\n",
       "      <th>title_wiki</th>\n",
       "      <th>title_kaggle</th>\n",
       "    </tr>\n",
       "  </thead>\n",
       "  <tbody>\n",
       "    <tr>\n",
       "      <th>27</th>\n",
       "      <td>China Cry</td>\n",
       "      <td>China Cry: A True Story</td>\n",
       "    </tr>\n",
       "    <tr>\n",
       "      <th>36</th>\n",
       "      <td>Daddy's Dyin' ...Who's Got the Will?</td>\n",
       "      <td>Daddy's Dyin'... Who's Got the Will?</td>\n",
       "    </tr>\n",
       "    <tr>\n",
       "      <th>41</th>\n",
       "      <td>Delta Force 2</td>\n",
       "      <td>Delta Force 2: The Colombian Connection</td>\n",
       "    </tr>\n",
       "    <tr>\n",
       "      <th>47</th>\n",
       "      <td>DuckTales the Movie:Treasure of the Lost Lamp</td>\n",
       "      <td>DuckTales: The Movie - Treasure of the Lost Lamp</td>\n",
       "    </tr>\n",
       "  </tbody>\n",
       "</table>\n",
       "</div>"
      ],
      "text/plain": [
       "                                       title_wiki  \\\n",
       "27                                      China Cry   \n",
       "36           Daddy's Dyin' ...Who's Got the Will?   \n",
       "41                                  Delta Force 2   \n",
       "47  DuckTales the Movie:Treasure of the Lost Lamp   \n",
       "\n",
       "                                        title_kaggle  \n",
       "27                           China Cry: A True Story  \n",
       "36              Daddy's Dyin'... Who's Got the Will?  \n",
       "41           Delta Force 2: The Colombian Connection  \n",
       "47  DuckTales: The Movie - Treasure of the Lost Lamp  "
      ]
     },
     "execution_count": 9,
     "metadata": {},
     "output_type": "execute_result"
    }
   ],
   "source": [
    "# Extract title cols\n",
    "title = movies_df[['title_wiki', 'title_kaggle']]\n",
    "\n",
    "# Rows where titles are different between the 2 cols\n",
    "print(title.query('title_wiki != title_kaggle').shape[0])\n",
    "title.query('title_wiki != title_kaggle').head(4)"
   ]
  },
  {
   "cell_type": "markdown",
   "metadata": {},
   "source": [
    "It looks like the Kaggle data has more complete `title`s. If it contains no missing `title`s, or at least less than the Wikipedia data, then we will drop the Wikipedia `title`s and keep the Kaggle `title`s."
   ]
  },
  {
   "cell_type": "code",
   "execution_count": 10,
   "metadata": {},
   "outputs": [
    {
     "data": {
      "text/plain": [
       "0"
      ]
     },
     "execution_count": 10,
     "metadata": {},
     "output_type": "execute_result"
    }
   ],
   "source": [
    "# Check for null titles in the Kaggle col\n",
    "title[(title['title_kaggle'] == '') | (title['title_kaggle'].isnull())].shape[0]"
   ]
  },
  {
   "cell_type": "code",
   "execution_count": 11,
   "metadata": {},
   "outputs": [
    {
     "data": {
      "text/html": [
       "<div>\n",
       "<style scoped>\n",
       "    .dataframe tbody tr th:only-of-type {\n",
       "        vertical-align: middle;\n",
       "    }\n",
       "\n",
       "    .dataframe tbody tr th {\n",
       "        vertical-align: top;\n",
       "    }\n",
       "\n",
       "    .dataframe thead th {\n",
       "        text-align: right;\n",
       "    }\n",
       "</style>\n",
       "<table border=\"1\" class=\"dataframe\">\n",
       "  <thead>\n",
       "    <tr style=\"text-align: right;\">\n",
       "      <th></th>\n",
       "      <th>wikipedia</th>\n",
       "      <th>kaggle</th>\n",
       "      <th>action</th>\n",
       "    </tr>\n",
       "  </thead>\n",
       "  <tbody>\n",
       "    <tr>\n",
       "      <th>0</th>\n",
       "      <td>box_office</td>\n",
       "      <td>revenue</td>\n",
       "      <td></td>\n",
       "    </tr>\n",
       "    <tr>\n",
       "      <th>1</th>\n",
       "      <td>budget_wiki</td>\n",
       "      <td>budget_kaggle</td>\n",
       "      <td></td>\n",
       "    </tr>\n",
       "    <tr>\n",
       "      <th>2</th>\n",
       "      <td>duration</td>\n",
       "      <td>runtime</td>\n",
       "      <td></td>\n",
       "    </tr>\n",
       "    <tr>\n",
       "      <th>3</th>\n",
       "      <td>languages</td>\n",
       "      <td>original_language</td>\n",
       "      <td></td>\n",
       "    </tr>\n",
       "    <tr>\n",
       "      <th>4</th>\n",
       "      <td>production_companies_wiki</td>\n",
       "      <td>production_companies_kaggle</td>\n",
       "      <td></td>\n",
       "    </tr>\n",
       "    <tr>\n",
       "      <th>5</th>\n",
       "      <td>release_date_wiki</td>\n",
       "      <td>release_date_kaggle</td>\n",
       "      <td></td>\n",
       "    </tr>\n",
       "    <tr>\n",
       "      <th>6</th>\n",
       "      <td>title_wiki</td>\n",
       "      <td>title_kaggle</td>\n",
       "      <td>drop wiki col</td>\n",
       "    </tr>\n",
       "  </tbody>\n",
       "</table>\n",
       "</div>"
      ],
      "text/plain": [
       "                   wikipedia                       kaggle         action\n",
       "0                 box_office                      revenue               \n",
       "1                budget_wiki                budget_kaggle               \n",
       "2                   duration                      runtime               \n",
       "3                  languages            original_language               \n",
       "4  production_companies_wiki  production_companies_kaggle               \n",
       "5          release_date_wiki          release_date_kaggle               \n",
       "6                 title_wiki                 title_kaggle  drop wiki col"
      ]
     },
     "execution_count": 11,
     "metadata": {},
     "output_type": "execute_result"
    }
   ],
   "source": [
    "# Add action for title - drop the Wikipedia column\n",
    "redundant_cols.loc[6, 'action'] = 'drop wiki col'\n",
    "redundant_cols"
   ]
  },
  {
   "cell_type": "markdown",
   "metadata": {},
   "source": [
    "### Inspect language columns"
   ]
  },
  {
   "cell_type": "code",
   "execution_count": 16,
   "metadata": {},
   "outputs": [
    {
     "name": "stdout",
     "output_type": "stream",
     "text": [
      "5983\n"
     ]
    },
    {
     "data": {
      "text/html": [
       "<div>\n",
       "<style scoped>\n",
       "    .dataframe tbody tr th:only-of-type {\n",
       "        vertical-align: middle;\n",
       "    }\n",
       "\n",
       "    .dataframe tbody tr th {\n",
       "        vertical-align: top;\n",
       "    }\n",
       "\n",
       "    .dataframe thead th {\n",
       "        text-align: right;\n",
       "    }\n",
       "</style>\n",
       "<table border=\"1\" class=\"dataframe\">\n",
       "  <thead>\n",
       "    <tr style=\"text-align: right;\">\n",
       "      <th></th>\n",
       "      <th>languages</th>\n",
       "      <th>original_language</th>\n",
       "    </tr>\n",
       "  </thead>\n",
       "  <tbody>\n",
       "    <tr>\n",
       "      <th>0</th>\n",
       "      <td>English</td>\n",
       "      <td>en</td>\n",
       "    </tr>\n",
       "    <tr>\n",
       "      <th>1</th>\n",
       "      <td>English</td>\n",
       "      <td>en</td>\n",
       "    </tr>\n",
       "    <tr>\n",
       "      <th>2</th>\n",
       "      <td>[English, Lao]</td>\n",
       "      <td>en</td>\n",
       "    </tr>\n",
       "    <tr>\n",
       "      <th>3</th>\n",
       "      <td>English</td>\n",
       "      <td>en</td>\n",
       "    </tr>\n",
       "  </tbody>\n",
       "</table>\n",
       "</div>"
      ],
      "text/plain": [
       "        languages original_language\n",
       "0         English                en\n",
       "1         English                en\n",
       "2  [English, Lao]                en\n",
       "3         English                en"
      ]
     },
     "execution_count": 16,
     "metadata": {},
     "output_type": "execute_result"
    }
   ],
   "source": [
    "# Extract language cols\n",
    "lang = movies_df[['languages', 'original_language']]\n",
    "\n",
    "# Rows where languages are different between the 2 cols\n",
    "print(lang.query('languages != original_language').shape[0])\n",
    "lang.query('languages != original_language').head(4)"
   ]
  },
  {
   "cell_type": "markdown",
   "metadata": {},
   "source": [
    "The Wikipedia `languages` column contains lists, so it would be easier to keep Kaggle's `original_language` column, assuming there are no missing or strange values."
   ]
  },
  {
   "cell_type": "code",
   "execution_count": 12,
   "metadata": {},
   "outputs": [
    {
     "name": "stdout",
     "output_type": "stream",
     "text": [
      "0\n"
     ]
    },
    {
     "data": {
      "text/plain": [
       "array(['en', 'de', 'es', 'fr', 'it', 'zh', 'sv', 'ja', 'da', 'pt', 'hi',\n",
       "       'ko', 'ab', 'tr', 'he', 'ar', 'cn', 'ru'], dtype=object)"
      ]
     },
     "execution_count": 12,
     "metadata": {},
     "output_type": "execute_result"
    }
   ],
   "source": [
    "# Check for null languages the Kaggle col\n",
    "print(lang[(lang['original_language'] == '') | (lang['original_language'].isnull())].shape[0])\n",
    "\n",
    "# Check Kaggle column vals\n",
    "lang['original_language'].unique()"
   ]
  },
  {
   "cell_type": "code",
   "execution_count": 13,
   "metadata": {},
   "outputs": [
    {
     "data": {
      "text/html": [
       "<div>\n",
       "<style scoped>\n",
       "    .dataframe tbody tr th:only-of-type {\n",
       "        vertical-align: middle;\n",
       "    }\n",
       "\n",
       "    .dataframe tbody tr th {\n",
       "        vertical-align: top;\n",
       "    }\n",
       "\n",
       "    .dataframe thead th {\n",
       "        text-align: right;\n",
       "    }\n",
       "</style>\n",
       "<table border=\"1\" class=\"dataframe\">\n",
       "  <thead>\n",
       "    <tr style=\"text-align: right;\">\n",
       "      <th></th>\n",
       "      <th>wikipedia</th>\n",
       "      <th>kaggle</th>\n",
       "      <th>action</th>\n",
       "    </tr>\n",
       "  </thead>\n",
       "  <tbody>\n",
       "    <tr>\n",
       "      <th>0</th>\n",
       "      <td>box_office</td>\n",
       "      <td>revenue</td>\n",
       "      <td></td>\n",
       "    </tr>\n",
       "    <tr>\n",
       "      <th>1</th>\n",
       "      <td>budget_wiki</td>\n",
       "      <td>budget_kaggle</td>\n",
       "      <td></td>\n",
       "    </tr>\n",
       "    <tr>\n",
       "      <th>2</th>\n",
       "      <td>duration</td>\n",
       "      <td>runtime</td>\n",
       "      <td></td>\n",
       "    </tr>\n",
       "    <tr>\n",
       "      <th>3</th>\n",
       "      <td>languages</td>\n",
       "      <td>original_language</td>\n",
       "      <td>drop wiki col</td>\n",
       "    </tr>\n",
       "    <tr>\n",
       "      <th>4</th>\n",
       "      <td>production_companies_wiki</td>\n",
       "      <td>production_companies_kaggle</td>\n",
       "      <td></td>\n",
       "    </tr>\n",
       "    <tr>\n",
       "      <th>5</th>\n",
       "      <td>release_date_wiki</td>\n",
       "      <td>release_date_kaggle</td>\n",
       "      <td></td>\n",
       "    </tr>\n",
       "    <tr>\n",
       "      <th>6</th>\n",
       "      <td>title_wiki</td>\n",
       "      <td>title_kaggle</td>\n",
       "      <td>drop wiki col</td>\n",
       "    </tr>\n",
       "  </tbody>\n",
       "</table>\n",
       "</div>"
      ],
      "text/plain": [
       "                   wikipedia                       kaggle         action\n",
       "0                 box_office                      revenue               \n",
       "1                budget_wiki                budget_kaggle               \n",
       "2                   duration                      runtime               \n",
       "3                  languages            original_language  drop wiki col\n",
       "4  production_companies_wiki  production_companies_kaggle               \n",
       "5          release_date_wiki          release_date_kaggle               \n",
       "6                 title_wiki                 title_kaggle  drop wiki col"
      ]
     },
     "execution_count": 13,
     "metadata": {},
     "output_type": "execute_result"
    }
   ],
   "source": [
    "# Add action for language - drop the Wikipedia col\n",
    "redundant_cols.loc[3, 'action'] = 'drop wiki col'\n",
    "redundant_cols"
   ]
  },
  {
   "cell_type": "markdown",
   "metadata": {},
   "source": [
    "### Inspect production company columns"
   ]
  },
  {
   "cell_type": "code",
   "execution_count": 14,
   "metadata": {},
   "outputs": [
    {
     "name": "stdout",
     "output_type": "stream",
     "text": [
      "5983\n"
     ]
    },
    {
     "data": {
      "text/html": [
       "<div>\n",
       "<style scoped>\n",
       "    .dataframe tbody tr th:only-of-type {\n",
       "        vertical-align: middle;\n",
       "    }\n",
       "\n",
       "    .dataframe tbody tr th {\n",
       "        vertical-align: top;\n",
       "    }\n",
       "\n",
       "    .dataframe thead th {\n",
       "        text-align: right;\n",
       "    }\n",
       "</style>\n",
       "<table border=\"1\" class=\"dataframe\">\n",
       "  <thead>\n",
       "    <tr style=\"text-align: right;\">\n",
       "      <th></th>\n",
       "      <th>production_companies_wiki</th>\n",
       "      <th>production_companies_kaggle</th>\n",
       "    </tr>\n",
       "  </thead>\n",
       "  <tbody>\n",
       "    <tr>\n",
       "      <th>0</th>\n",
       "      <td>Silver Pictures</td>\n",
       "      <td>[{'name': 'Twentieth Century Fox Film Corporat...</td>\n",
       "    </tr>\n",
       "    <tr>\n",
       "      <th>1</th>\n",
       "      <td>Avenue Pictures</td>\n",
       "      <td>[{'name': 'Avenue Pictures Productions', 'id':...</td>\n",
       "    </tr>\n",
       "    <tr>\n",
       "      <th>2</th>\n",
       "      <td>[Carolco Pictures, IndieProd Company]</td>\n",
       "      <td>[{'name': 'IndieProd Company Productions', 'id...</td>\n",
       "    </tr>\n",
       "    <tr>\n",
       "      <th>3</th>\n",
       "      <td>NaN</td>\n",
       "      <td>[{'name': 'Orion Pictures', 'id': 41}]</td>\n",
       "    </tr>\n",
       "  </tbody>\n",
       "</table>\n",
       "</div>"
      ],
      "text/plain": [
       "               production_companies_wiki  \\\n",
       "0                        Silver Pictures   \n",
       "1                        Avenue Pictures   \n",
       "2  [Carolco Pictures, IndieProd Company]   \n",
       "3                                    NaN   \n",
       "\n",
       "                         production_companies_kaggle  \n",
       "0  [{'name': 'Twentieth Century Fox Film Corporat...  \n",
       "1  [{'name': 'Avenue Pictures Productions', 'id':...  \n",
       "2  [{'name': 'IndieProd Company Productions', 'id...  \n",
       "3             [{'name': 'Orion Pictures', 'id': 41}]  "
      ]
     },
     "execution_count": 14,
     "metadata": {},
     "output_type": "execute_result"
    }
   ],
   "source": [
    "# Extract production company cols\n",
    "production = movies_df[['production_companies_wiki', 'production_companies_kaggle']]\n",
    "\n",
    "# Rows where values are different between the 2 cols\n",
    "print(production.query('production_companies_wiki != production_companies_kaggle').shape[0])\n",
    "production.query('production_companies_wiki != production_companies_kaggle').head(4)"
   ]
  },
  {
   "cell_type": "code",
   "execution_count": 19,
   "metadata": {},
   "outputs": [
    {
     "name": "stdout",
     "output_type": "stream",
     "text": [
      "0\n"
     ]
    },
    {
     "data": {
      "text/plain": [
       "array([\"[{'name': 'Twentieth Century Fox Film Corporation', 'id': 306}, {'name': 'Silver Pictures', 'id': 1885}]\",\n",
       "       \"[{'name': 'Avenue Pictures Productions', 'id': 251}]\",\n",
       "       \"[{'name': 'IndieProd Company Productions', 'id': 959}, {'name': 'Carolco Pictures', 'id': 14723}]\",\n",
       "       \"[{'name': 'Orion Pictures', 'id': 41}]\"], dtype=object)"
      ]
     },
     "execution_count": 19,
     "metadata": {},
     "output_type": "execute_result"
    }
   ],
   "source": [
    "# Check for null vals in the Kaggle col\n",
    "print(production[(production['production_companies_kaggle'] == '') | \n",
    "                 (production['production_companies_kaggle'].isnull())].shape[0])\n",
    "\n",
    "# Check Kaggle col vals\n",
    "production['production_companies_kaggle'].unique()[:4]"
   ]
  },
  {
   "cell_type": "markdown",
   "metadata": {},
   "source": [
    "We will be keeping the Kaggle column because it's more descriptive than the Wikipedia values."
   ]
  },
  {
   "cell_type": "code",
   "execution_count": 20,
   "metadata": {},
   "outputs": [
    {
     "data": {
      "text/html": [
       "<div>\n",
       "<style scoped>\n",
       "    .dataframe tbody tr th:only-of-type {\n",
       "        vertical-align: middle;\n",
       "    }\n",
       "\n",
       "    .dataframe tbody tr th {\n",
       "        vertical-align: top;\n",
       "    }\n",
       "\n",
       "    .dataframe thead th {\n",
       "        text-align: right;\n",
       "    }\n",
       "</style>\n",
       "<table border=\"1\" class=\"dataframe\">\n",
       "  <thead>\n",
       "    <tr style=\"text-align: right;\">\n",
       "      <th></th>\n",
       "      <th>wikipedia</th>\n",
       "      <th>kaggle</th>\n",
       "      <th>action</th>\n",
       "    </tr>\n",
       "  </thead>\n",
       "  <tbody>\n",
       "    <tr>\n",
       "      <th>0</th>\n",
       "      <td>box_office</td>\n",
       "      <td>revenue</td>\n",
       "      <td></td>\n",
       "    </tr>\n",
       "    <tr>\n",
       "      <th>1</th>\n",
       "      <td>budget_wiki</td>\n",
       "      <td>budget_kaggle</td>\n",
       "      <td></td>\n",
       "    </tr>\n",
       "    <tr>\n",
       "      <th>2</th>\n",
       "      <td>duration</td>\n",
       "      <td>runtime</td>\n",
       "      <td></td>\n",
       "    </tr>\n",
       "    <tr>\n",
       "      <th>3</th>\n",
       "      <td>languages</td>\n",
       "      <td>original_language</td>\n",
       "      <td>drop wiki col</td>\n",
       "    </tr>\n",
       "    <tr>\n",
       "      <th>4</th>\n",
       "      <td>production_companies_wiki</td>\n",
       "      <td>production_companies_kaggle</td>\n",
       "      <td>drop wiki col</td>\n",
       "    </tr>\n",
       "    <tr>\n",
       "      <th>5</th>\n",
       "      <td>release_date_wiki</td>\n",
       "      <td>release_date_kaggle</td>\n",
       "      <td></td>\n",
       "    </tr>\n",
       "    <tr>\n",
       "      <th>6</th>\n",
       "      <td>title_wiki</td>\n",
       "      <td>title_kaggle</td>\n",
       "      <td>drop wiki col</td>\n",
       "    </tr>\n",
       "  </tbody>\n",
       "</table>\n",
       "</div>"
      ],
      "text/plain": [
       "                   wikipedia                       kaggle         action\n",
       "0                 box_office                      revenue               \n",
       "1                budget_wiki                budget_kaggle               \n",
       "2                   duration                      runtime               \n",
       "3                  languages            original_language  drop wiki col\n",
       "4  production_companies_wiki  production_companies_kaggle  drop wiki col\n",
       "5          release_date_wiki          release_date_kaggle               \n",
       "6                 title_wiki                 title_kaggle  drop wiki col"
      ]
     },
     "execution_count": 20,
     "metadata": {},
     "output_type": "execute_result"
    }
   ],
   "source": [
    "# Add action to production company - drop the Wikipedia column\n",
    "redundant_cols.loc[4, 'action'] = 'drop wiki col'\n",
    "redundant_cols"
   ]
  },
  {
   "cell_type": "markdown",
   "metadata": {},
   "source": [
    "### Inspect budget columns"
   ]
  },
  {
   "cell_type": "code",
   "execution_count": 42,
   "metadata": {},
   "outputs": [
    {
     "data": {
      "image/png": "[encoded data removed]",
      "text/plain": [
       "<Figure size 864x288 with 1 Axes>"
      ]
     },
     "metadata": {},
     "output_type": "display_data"
    }
   ],
   "source": [
    "# Extract budget cols\n",
    "budget = movies_df[['budget_wiki', 'budget_kaggle']]\n",
    "\n",
    "# Scatterplot\n",
    "budget.plot(kind='scatter', x='budget_wiki', y='budget_kaggle', title='Budget Data Comparison')\n",
    "plt.show()"
   ]
  },
  {
   "cell_type": "code",
   "execution_count": 32,
   "metadata": {},
   "outputs": [
    {
     "name": "stdout",
     "output_type": "stream",
     "text": [
      "Number of 0s in Wikipedia `budget`: 0\n",
      "Number of 0s in Kaggle `budget`: 2350\n"
     ]
    },
    {
     "data": {
      "text/plain": [
       "budget_wiki      1589\n",
       "budget_kaggle       0\n",
       "dtype: int64"
      ]
     },
     "execution_count": 32,
     "metadata": {},
     "output_type": "execute_result"
    }
   ],
   "source": [
    "# Num of 0 vals\n",
    "print('Number of 0s in Wikipedia `budget`:', (budget['budget_wiki'] == 0).sum())\n",
    "print('Number of 0s in Kaggle `budget`:', (budget['budget_kaggle'] == 0).sum())\n",
    "\n",
    "# Check null vals\n",
    "budget.isnull().sum()"
   ]
  },
  {
   "cell_type": "markdown",
   "metadata": {},
   "source": [
    "The Wikipedia data has 1589 missing `budget` values, but the Kaggle data has 2350 `budget` values of 0, which are probably missing values. We will use `budget_kaggle` to fill any missing `budget_wiki` and then drop `budget_kaggle`."
   ]
  },
  {
   "cell_type": "code",
   "execution_count": 33,
   "metadata": {},
   "outputs": [
    {
     "data": {
      "text/html": [
       "<div>\n",
       "<style scoped>\n",
       "    .dataframe tbody tr th:only-of-type {\n",
       "        vertical-align: middle;\n",
       "    }\n",
       "\n",
       "    .dataframe tbody tr th {\n",
       "        vertical-align: top;\n",
       "    }\n",
       "\n",
       "    .dataframe thead th {\n",
       "        text-align: right;\n",
       "    }\n",
       "</style>\n",
       "<table border=\"1\" class=\"dataframe\">\n",
       "  <thead>\n",
       "    <tr style=\"text-align: right;\">\n",
       "      <th></th>\n",
       "      <th>wikipedia</th>\n",
       "      <th>kaggle</th>\n",
       "      <th>action</th>\n",
       "    </tr>\n",
       "  </thead>\n",
       "  <tbody>\n",
       "    <tr>\n",
       "      <th>0</th>\n",
       "      <td>box_office</td>\n",
       "      <td>revenue</td>\n",
       "      <td></td>\n",
       "    </tr>\n",
       "    <tr>\n",
       "      <th>1</th>\n",
       "      <td>budget_wiki</td>\n",
       "      <td>budget_kaggle</td>\n",
       "      <td>fill wiki missing, drop kaggle col</td>\n",
       "    </tr>\n",
       "    <tr>\n",
       "      <th>2</th>\n",
       "      <td>duration</td>\n",
       "      <td>runtime</td>\n",
       "      <td></td>\n",
       "    </tr>\n",
       "    <tr>\n",
       "      <th>3</th>\n",
       "      <td>languages</td>\n",
       "      <td>original_language</td>\n",
       "      <td>drop wiki col</td>\n",
       "    </tr>\n",
       "    <tr>\n",
       "      <th>4</th>\n",
       "      <td>production_companies_wiki</td>\n",
       "      <td>production_companies_kaggle</td>\n",
       "      <td>drop wiki col</td>\n",
       "    </tr>\n",
       "    <tr>\n",
       "      <th>5</th>\n",
       "      <td>release_date_wiki</td>\n",
       "      <td>release_date_kaggle</td>\n",
       "      <td></td>\n",
       "    </tr>\n",
       "    <tr>\n",
       "      <th>6</th>\n",
       "      <td>title_wiki</td>\n",
       "      <td>title_kaggle</td>\n",
       "      <td>drop wiki col</td>\n",
       "    </tr>\n",
       "  </tbody>\n",
       "</table>\n",
       "</div>"
      ],
      "text/plain": [
       "                   wikipedia                       kaggle  \\\n",
       "0                 box_office                      revenue   \n",
       "1                budget_wiki                budget_kaggle   \n",
       "2                   duration                      runtime   \n",
       "3                  languages            original_language   \n",
       "4  production_companies_wiki  production_companies_kaggle   \n",
       "5          release_date_wiki          release_date_kaggle   \n",
       "6                 title_wiki                 title_kaggle   \n",
       "\n",
       "                               action  \n",
       "0                                      \n",
       "1  fill wiki missing, drop kaggle col  \n",
       "2                                      \n",
       "3                       drop wiki col  \n",
       "4                       drop wiki col  \n",
       "5                                      \n",
       "6                       drop wiki col  "
      ]
     },
     "execution_count": 33,
     "metadata": {},
     "output_type": "execute_result"
    }
   ],
   "source": [
    "# Add action to budget - fill Wikipedia's missing vals with Kaggle's budget vals, then drop the Kaggle col\n",
    "redundant_cols.loc[1, 'action'] = 'fill wiki missing, drop kaggle col'\n",
    "redundant_cols"
   ]
  },
  {
   "cell_type": "markdown",
   "metadata": {},
   "source": [
    "### Inspect revenue columns"
   ]
  },
  {
   "cell_type": "code",
   "execution_count": 43,
   "metadata": {},
   "outputs": [
    {
     "data": {
      "image/png": "[encoded data removed]",
      "text/plain": [
       "<Figure size 864x288 with 1 Axes>"
      ]
     },
     "metadata": {},
     "output_type": "display_data"
    }
   ],
   "source": [
    "# Extract budget cols\n",
    "revenue = movies_df[['box_office', 'revenue']]\n",
    "\n",
    "# Scatterplot\n",
    "revenue.plot(kind='scatter', x='box_office', y='revenue', title='Revenue Data Comparison')\n",
    "plt.show()"
   ]
  },
  {
   "cell_type": "code",
   "execution_count": 35,
   "metadata": {},
   "outputs": [
    {
     "name": "stdout",
     "output_type": "stream",
     "text": [
      "Number of 0s in Wikipedia `box_office`: 0\n",
      "Number of 0s in Kaggle `revenue`: 2326\n"
     ]
    },
    {
     "data": {
      "text/plain": [
       "box_office    898\n",
       "revenue         0\n",
       "dtype: int64"
      ]
     },
     "execution_count": 35,
     "metadata": {},
     "output_type": "execute_result"
    }
   ],
   "source": [
    "# Number of 0 vals\n",
    "print('Number of 0s in Wikipedia `box_office`:', (revenue['box_office'] == 0).sum())\n",
    "print('Number of 0s in Kaggle `revenue`:', (revenue['revenue'] == 0).sum())\n",
    "\n",
    "# Check null vals\n",
    "revenue.isnull().sum()"
   ]
  },
  {
   "cell_type": "markdown",
   "metadata": {},
   "source": [
    "This is the same case as `budget` so we will take the same action for `revenue`."
   ]
  },
  {
   "cell_type": "code",
   "execution_count": 36,
   "metadata": {},
   "outputs": [
    {
     "data": {
      "text/html": [
       "<div>\n",
       "<style scoped>\n",
       "    .dataframe tbody tr th:only-of-type {\n",
       "        vertical-align: middle;\n",
       "    }\n",
       "\n",
       "    .dataframe tbody tr th {\n",
       "        vertical-align: top;\n",
       "    }\n",
       "\n",
       "    .dataframe thead th {\n",
       "        text-align: right;\n",
       "    }\n",
       "</style>\n",
       "<table border=\"1\" class=\"dataframe\">\n",
       "  <thead>\n",
       "    <tr style=\"text-align: right;\">\n",
       "      <th></th>\n",
       "      <th>wikipedia</th>\n",
       "      <th>kaggle</th>\n",
       "      <th>action</th>\n",
       "    </tr>\n",
       "  </thead>\n",
       "  <tbody>\n",
       "    <tr>\n",
       "      <th>0</th>\n",
       "      <td>box_office</td>\n",
       "      <td>revenue</td>\n",
       "      <td>fill wiki missing, drop kaggle col</td>\n",
       "    </tr>\n",
       "    <tr>\n",
       "      <th>1</th>\n",
       "      <td>budget_wiki</td>\n",
       "      <td>budget_kaggle</td>\n",
       "      <td>fill wiki missing, drop kaggle col</td>\n",
       "    </tr>\n",
       "    <tr>\n",
       "      <th>2</th>\n",
       "      <td>duration</td>\n",
       "      <td>runtime</td>\n",
       "      <td></td>\n",
       "    </tr>\n",
       "    <tr>\n",
       "      <th>3</th>\n",
       "      <td>languages</td>\n",
       "      <td>original_language</td>\n",
       "      <td>drop wiki col</td>\n",
       "    </tr>\n",
       "    <tr>\n",
       "      <th>4</th>\n",
       "      <td>production_companies_wiki</td>\n",
       "      <td>production_companies_kaggle</td>\n",
       "      <td>drop wiki col</td>\n",
       "    </tr>\n",
       "    <tr>\n",
       "      <th>5</th>\n",
       "      <td>release_date_wiki</td>\n",
       "      <td>release_date_kaggle</td>\n",
       "      <td></td>\n",
       "    </tr>\n",
       "    <tr>\n",
       "      <th>6</th>\n",
       "      <td>title_wiki</td>\n",
       "      <td>title_kaggle</td>\n",
       "      <td>drop wiki col</td>\n",
       "    </tr>\n",
       "  </tbody>\n",
       "</table>\n",
       "</div>"
      ],
      "text/plain": [
       "                   wikipedia                       kaggle  \\\n",
       "0                 box_office                      revenue   \n",
       "1                budget_wiki                budget_kaggle   \n",
       "2                   duration                      runtime   \n",
       "3                  languages            original_language   \n",
       "4  production_companies_wiki  production_companies_kaggle   \n",
       "5          release_date_wiki          release_date_kaggle   \n",
       "6                 title_wiki                 title_kaggle   \n",
       "\n",
       "                               action  \n",
       "0  fill wiki missing, drop kaggle col  \n",
       "1  fill wiki missing, drop kaggle col  \n",
       "2                                      \n",
       "3                       drop wiki col  \n",
       "4                       drop wiki col  \n",
       "5                                      \n",
       "6                       drop wiki col  "
      ]
     },
     "execution_count": 36,
     "metadata": {},
     "output_type": "execute_result"
    }
   ],
   "source": [
    "# Add action to revenue - same as budget\n",
    "redundant_cols.loc[0, 'action'] = 'fill wiki missing, drop kaggle col'\n",
    "redundant_cols"
   ]
  },
  {
   "cell_type": "markdown",
   "metadata": {},
   "source": [
    "### Inspect runtime columns"
   ]
  },
  {
   "cell_type": "code",
   "execution_count": 44,
   "metadata": {},
   "outputs": [
    {
     "data": {
      "image/png": "[encoded data removed]",
      "text/plain": [
       "<Figure size 864x288 with 1 Axes>"
      ]
     },
     "metadata": {},
     "output_type": "display_data"
    }
   ],
   "source": [
    "# Extract budget cols\n",
    "run = movies_df[['duration', 'runtime']]\n",
    "\n",
    "# Scatterplot\n",
    "run.plot(kind='scatter', x='duration', y='runtime', title='Runtime Data Comparison')\n",
    "plt.show()"
   ]
  },
  {
   "cell_type": "code",
   "execution_count": 38,
   "metadata": {},
   "outputs": [
    {
     "name": "stdout",
     "output_type": "stream",
     "text": [
      "Number of 0s in Wikipedia `duration`: 0\n",
      "Number of 0s in Kaggle `runtime`: 14\n"
     ]
    },
    {
     "data": {
      "text/plain": [
       "duration    2\n",
       "runtime     0\n",
       "dtype: int64"
      ]
     },
     "execution_count": 38,
     "metadata": {},
     "output_type": "execute_result"
    }
   ],
   "source": [
    "# Number of 0 vals\n",
    "print('Number of 0s in Wikipedia `duration`:', (run['duration'] == 0).sum())\n",
    "print('Number of 0s in Kaggle `runtime`:', (run['runtime'] == 0).sum())\n",
    "\n",
    "# Check null vals\n",
    "run.isnull().sum()"
   ]
  },
  {
   "cell_type": "markdown",
   "metadata": {},
   "source": [
    "Even though the Wikipedia data (`duration`) contains less missing/0 values, it has some extreme outliers, so we will actually use it to fill in the Kaggle data's (`runtime`) zero values and then drop it (drop `duration`)."
   ]
  },
  {
   "cell_type": "code",
   "execution_count": 39,
   "metadata": {},
   "outputs": [
    {
     "data": {
      "text/html": [
       "<div>\n",
       "<style scoped>\n",
       "    .dataframe tbody tr th:only-of-type {\n",
       "        vertical-align: middle;\n",
       "    }\n",
       "\n",
       "    .dataframe tbody tr th {\n",
       "        vertical-align: top;\n",
       "    }\n",
       "\n",
       "    .dataframe thead th {\n",
       "        text-align: right;\n",
       "    }\n",
       "</style>\n",
       "<table border=\"1\" class=\"dataframe\">\n",
       "  <thead>\n",
       "    <tr style=\"text-align: right;\">\n",
       "      <th></th>\n",
       "      <th>wikipedia</th>\n",
       "      <th>kaggle</th>\n",
       "      <th>action</th>\n",
       "    </tr>\n",
       "  </thead>\n",
       "  <tbody>\n",
       "    <tr>\n",
       "      <th>0</th>\n",
       "      <td>box_office</td>\n",
       "      <td>revenue</td>\n",
       "      <td>fill wiki missing, drop kaggle col</td>\n",
       "    </tr>\n",
       "    <tr>\n",
       "      <th>1</th>\n",
       "      <td>budget_wiki</td>\n",
       "      <td>budget_kaggle</td>\n",
       "      <td>fill wiki missing, drop kaggle col</td>\n",
       "    </tr>\n",
       "    <tr>\n",
       "      <th>2</th>\n",
       "      <td>duration</td>\n",
       "      <td>runtime</td>\n",
       "      <td>fill kaggle missing, drop wiki col</td>\n",
       "    </tr>\n",
       "    <tr>\n",
       "      <th>3</th>\n",
       "      <td>languages</td>\n",
       "      <td>original_language</td>\n",
       "      <td>drop wiki col</td>\n",
       "    </tr>\n",
       "    <tr>\n",
       "      <th>4</th>\n",
       "      <td>production_companies_wiki</td>\n",
       "      <td>production_companies_kaggle</td>\n",
       "      <td>drop wiki col</td>\n",
       "    </tr>\n",
       "    <tr>\n",
       "      <th>5</th>\n",
       "      <td>release_date_wiki</td>\n",
       "      <td>release_date_kaggle</td>\n",
       "      <td></td>\n",
       "    </tr>\n",
       "    <tr>\n",
       "      <th>6</th>\n",
       "      <td>title_wiki</td>\n",
       "      <td>title_kaggle</td>\n",
       "      <td>drop wiki col</td>\n",
       "    </tr>\n",
       "  </tbody>\n",
       "</table>\n",
       "</div>"
      ],
      "text/plain": [
       "                   wikipedia                       kaggle  \\\n",
       "0                 box_office                      revenue   \n",
       "1                budget_wiki                budget_kaggle   \n",
       "2                   duration                      runtime   \n",
       "3                  languages            original_language   \n",
       "4  production_companies_wiki  production_companies_kaggle   \n",
       "5          release_date_wiki          release_date_kaggle   \n",
       "6                 title_wiki                 title_kaggle   \n",
       "\n",
       "                               action  \n",
       "0  fill wiki missing, drop kaggle col  \n",
       "1  fill wiki missing, drop kaggle col  \n",
       "2  fill kaggle missing, drop wiki col  \n",
       "3                       drop wiki col  \n",
       "4                       drop wiki col  \n",
       "5                                      \n",
       "6                       drop wiki col  "
      ]
     },
     "execution_count": 39,
     "metadata": {},
     "output_type": "execute_result"
    }
   ],
   "source": [
    "# Add action to runtime - fill the zero vals in the Kaggle col, then drop the Wikipedia col\n",
    "redundant_cols.loc[2, 'action'] = 'fill kaggle missing, drop wiki col'\n",
    "redundant_cols"
   ]
  },
  {
   "cell_type": "markdown",
   "metadata": {},
   "source": [
    "### Inspect release date column"
   ]
  },
  {
   "cell_type": "code",
   "execution_count": 45,
   "metadata": {},
   "outputs": [
    {
     "data": {
      "image/png": "[encoded data removed]",
      "text/plain": [
       "<Figure size 864x288 with 1 Axes>"
      ]
     },
     "metadata": {},
     "output_type": "display_data"
    }
   ],
   "source": [
    "# Extract budget cols\n",
    "release = movies_df[['release_date_wiki', 'release_date_kaggle']]\n",
    "\n",
    "# Scatterplot\n",
    "release.plot(x='release_date_wiki', y='release_date_kaggle', style='.', \n",
    "             legend=False, ylabel='release_date_kaggle', title='Release Date Data Comparison')\n",
    "plt.xticks(rotation=0, ha='center')\n",
    "plt.show()"
   ]
  },
  {
   "cell_type": "markdown",
   "metadata": {},
   "source": [
    "There is a strange outlier with a `release_date` before 1960 in the Kaggle data but after 2000 in the Wikipedia data. Let's inspect this movie."
   ]
  },
  {
   "cell_type": "code",
   "execution_count": 46,
   "metadata": {},
   "outputs": [
    {
     "data": {
      "text/html": [
       "<div>\n",
       "<style scoped>\n",
       "    .dataframe tbody tr th:only-of-type {\n",
       "        vertical-align: middle;\n",
       "    }\n",
       "\n",
       "    .dataframe tbody tr th {\n",
       "        vertical-align: top;\n",
       "    }\n",
       "\n",
       "    .dataframe thead th {\n",
       "        text-align: right;\n",
       "    }\n",
       "</style>\n",
       "<table border=\"1\" class=\"dataframe\">\n",
       "  <thead>\n",
       "    <tr style=\"text-align: right;\">\n",
       "      <th></th>\n",
       "      <th>title_wiki</th>\n",
       "      <th>title_kaggle</th>\n",
       "      <th>release_date_wiki</th>\n",
       "      <th>release_date_kaggle</th>\n",
       "    </tr>\n",
       "  </thead>\n",
       "  <tbody>\n",
       "    <tr>\n",
       "      <th>3586</th>\n",
       "      <td>The Holiday</td>\n",
       "      <td>From Here to Eternity</td>\n",
       "      <td>2006-12-08</td>\n",
       "      <td>1953-08-28</td>\n",
       "    </tr>\n",
       "  </tbody>\n",
       "</table>\n",
       "</div>"
      ],
      "text/plain": [
       "       title_wiki           title_kaggle release_date_wiki release_date_kaggle\n",
       "3586  The Holiday  From Here to Eternity        2006-12-08          1953-08-28"
      ]
     },
     "execution_count": 46,
     "metadata": {},
     "output_type": "execute_result"
    }
   ],
   "source": [
    "# Inspect outlier\n",
    "release_date_cols = ['title_wiki', 'title_kaggle', 'release_date_wiki', 'release_date_kaggle']\n",
    "release_outlier = movies_df.loc[(movies_df['release_date_wiki'] > '2000') & \n",
    "                                (movies_df['release_date_kaggle'] < '1960'), release_date_cols]\n",
    "release_outlier"
   ]
  },
  {
   "cell_type": "code",
   "execution_count": 29,
   "metadata": {},
   "outputs": [
    {
     "data": {
      "text/plain": [
       "release_date_wiki      8\n",
       "release_date_kaggle    0\n",
       "dtype: int64"
      ]
     },
     "execution_count": 29,
     "metadata": {},
     "output_type": "execute_result"
    }
   ],
   "source": [
    "# Check null vals\n",
    "release.isnull().sum()"
   ]
  },
  {
   "cell_type": "markdown",
   "metadata": {},
   "source": [
    "It looks like 2 different movies shared an `imdb_id` so they were merged together. We will be dropping this single movie and the Wikipedia `release_date` since it has some missing values."
   ]
  },
  {
   "cell_type": "code",
   "execution_count": 47,
   "metadata": {},
   "outputs": [
    {
     "data": {
      "text/html": [
       "<div>\n",
       "<style scoped>\n",
       "    .dataframe tbody tr th:only-of-type {\n",
       "        vertical-align: middle;\n",
       "    }\n",
       "\n",
       "    .dataframe tbody tr th {\n",
       "        vertical-align: top;\n",
       "    }\n",
       "\n",
       "    .dataframe thead th {\n",
       "        text-align: right;\n",
       "    }\n",
       "</style>\n",
       "<table border=\"1\" class=\"dataframe\">\n",
       "  <thead>\n",
       "    <tr style=\"text-align: right;\">\n",
       "      <th></th>\n",
       "      <th>wikipedia</th>\n",
       "      <th>kaggle</th>\n",
       "      <th>action</th>\n",
       "    </tr>\n",
       "  </thead>\n",
       "  <tbody>\n",
       "    <tr>\n",
       "      <th>0</th>\n",
       "      <td>box_office</td>\n",
       "      <td>revenue</td>\n",
       "      <td>fill wiki missing, drop kaggle col</td>\n",
       "    </tr>\n",
       "    <tr>\n",
       "      <th>1</th>\n",
       "      <td>budget_wiki</td>\n",
       "      <td>budget_kaggle</td>\n",
       "      <td>fill wiki missing, drop kaggle col</td>\n",
       "    </tr>\n",
       "    <tr>\n",
       "      <th>2</th>\n",
       "      <td>duration</td>\n",
       "      <td>runtime</td>\n",
       "      <td>fill kaggle missing, drop wiki col</td>\n",
       "    </tr>\n",
       "    <tr>\n",
       "      <th>3</th>\n",
       "      <td>languages</td>\n",
       "      <td>original_language</td>\n",
       "      <td>drop wiki col</td>\n",
       "    </tr>\n",
       "    <tr>\n",
       "      <th>4</th>\n",
       "      <td>production_companies_wiki</td>\n",
       "      <td>production_companies_kaggle</td>\n",
       "      <td>drop wiki col</td>\n",
       "    </tr>\n",
       "    <tr>\n",
       "      <th>5</th>\n",
       "      <td>release_date_wiki</td>\n",
       "      <td>release_date_kaggle</td>\n",
       "      <td>drop outlier, drop wiki col</td>\n",
       "    </tr>\n",
       "    <tr>\n",
       "      <th>6</th>\n",
       "      <td>title_wiki</td>\n",
       "      <td>title_kaggle</td>\n",
       "      <td>drop wiki col</td>\n",
       "    </tr>\n",
       "  </tbody>\n",
       "</table>\n",
       "</div>"
      ],
      "text/plain": [
       "                   wikipedia                       kaggle  \\\n",
       "0                 box_office                      revenue   \n",
       "1                budget_wiki                budget_kaggle   \n",
       "2                   duration                      runtime   \n",
       "3                  languages            original_language   \n",
       "4  production_companies_wiki  production_companies_kaggle   \n",
       "5          release_date_wiki          release_date_kaggle   \n",
       "6                 title_wiki                 title_kaggle   \n",
       "\n",
       "                               action  \n",
       "0  fill wiki missing, drop kaggle col  \n",
       "1  fill wiki missing, drop kaggle col  \n",
       "2  fill kaggle missing, drop wiki col  \n",
       "3                       drop wiki col  \n",
       "4                       drop wiki col  \n",
       "5         drop outlier, drop wiki col  \n",
       "6                       drop wiki col  "
      ]
     },
     "execution_count": 47,
     "metadata": {},
     "output_type": "execute_result"
    }
   ],
   "source": [
    "# Add action to release date - drop outlier and drop the Wikipedia col\n",
    "redundant_cols.loc[5, 'action'] = 'drop outlier, drop wiki col'\n",
    "redundant_cols"
   ]
  },
  {
   "cell_type": "markdown",
   "metadata": {},
   "source": [
    "### Drop redundant columns\n",
    "\n",
    "With a plan defined for each pair of redundant columns in the table above, we will now be executing these actions."
   ]
  },
  {
   "cell_type": "code",
   "execution_count": 48,
   "metadata": {},
   "outputs": [
    {
     "data": {
      "text/plain": [
       "(5982, 33)"
      ]
     },
     "execution_count": 48,
     "metadata": {},
     "output_type": "execute_result"
    }
   ],
   "source": [
    "# Drop `title_wiki`, `languages`, and `production_companies_wiki`\n",
    "movies_df.drop(['title_wiki', 'languages', 'production_companies_wiki'], axis=1, inplace=True)\n",
    "\n",
    "# Drop the `release_date` outlier then drop `release_date_wiki`\n",
    "movies_df.drop(release_outlier.index, inplace=True)\n",
    "movies_df.drop('release_date_wiki', axis=1, inplace=True)\n",
    "movies_df.shape"
   ]
  },
  {
   "cell_type": "code",
   "execution_count": 32,
   "metadata": {},
   "outputs": [
    {
     "name": "stdout",
     "output_type": "stream",
     "text": [
      "<class 'pandas.core.frame.DataFrame'>\n",
      "Int64Index: 5982 entries, 0 to 5982\n",
      "Data columns (total 30 columns):\n",
      " #   Column                       Non-Null Count  Dtype         \n",
      "---  ------                       --------------  -----         \n",
      " 0   box_office                   5149 non-null   float64       \n",
      " 1   budget_wiki                  4600 non-null   float64       \n",
      " 2   cinematographers             5519 non-null   object        \n",
      " 3   country                      5819 non-null   object        \n",
      " 4   director                     5982 non-null   object        \n",
      " 5   distributor                  5824 non-null   object        \n",
      " 6   editors                      5657 non-null   object        \n",
      " 7   composers                    5663 non-null   object        \n",
      " 8   producers                    5878 non-null   object        \n",
      " 9   writers                      5854 non-null   object        \n",
      " 10  stars                        5877 non-null   object        \n",
      " 11  imdb_link                    5982 non-null   object        \n",
      " 12  url                          5982 non-null   object        \n",
      " 13  year                         5982 non-null   int64         \n",
      " 14  imdb_id                      5982 non-null   object        \n",
      " 15  genres                       5982 non-null   object        \n",
      " 16  id                           5982 non-null   int64         \n",
      " 17  original_language            5982 non-null   object        \n",
      " 18  overview                     5977 non-null   object        \n",
      " 19  popularity                   5982 non-null   float64       \n",
      " 20  poster_path                  5981 non-null   object        \n",
      " 21  production_companies_kaggle  5982 non-null   object        \n",
      " 22  production_countries         5982 non-null   object        \n",
      " 23  release_date_kaggle          5982 non-null   datetime64[ns]\n",
      " 24  runtime                      5982 non-null   float64       \n",
      " 25  spoken_languages             5982 non-null   object        \n",
      " 26  status                       5978 non-null   object        \n",
      " 27  title_kaggle                 5982 non-null   object        \n",
      " 28  vote_average                 5982 non-null   float64       \n",
      " 29  vote_count                   5982 non-null   float64       \n",
      "dtypes: datetime64[ns](1), float64(6), int64(2), object(21)\n",
      "memory usage: 1.4+ MB\n"
     ]
    }
   ],
   "source": [
    "def filla_dropb(cola, colb, data):\n",
    "    \n",
    "    \"\"\" Fill missing values in column a (keep) using values in column b (drop), \n",
    "    then drop column b \"\"\"\n",
    "    \n",
    "    # Copy df\n",
    "    df = data.copy()\n",
    "    \n",
    "    def filla(row):\n",
    "        cond1 = pd.isnull(row[cola]) or row[cola] == 0\n",
    "        cond2 = pd.notnull(row[colb]) and row[colb] != 0\n",
    "        return row[colb] if cond1 and cond2 else row[cola]\n",
    "            \n",
    "    df[cola] = df.apply(filla, axis=1)\n",
    "    return df.drop(colb, axis=1)\n",
    "    \n",
    "\n",
    "# Fill `budget`, `revenue`, and `runtime` missing values, then drop `Budget`, `Box office`, `Duration`\n",
    "movies_df = filla_dropb('box_office', 'revenue', data=movies_df)\n",
    "movies_df = filla_dropb('budget_wiki', 'budget_kaggle', data=movies_df)\n",
    "movies_df = filla_dropb('runtime', 'duration', data=movies_df)\n",
    "movies_df.info()"
   ]
  },
  {
   "cell_type": "markdown",
   "metadata": {},
   "source": [
    "### Rename and reorder columns"
   ]
  },
  {
   "cell_type": "code",
   "execution_count": 33,
   "metadata": {},
   "outputs": [
    {
     "data": {
      "text/plain": [
       "Index(['box_office', 'budget_wiki', 'cinematographers', 'country', 'director',\n",
       "       'distributor', 'editors', 'composers', 'producers', 'writers', 'stars',\n",
       "       'imdb_link', 'url', 'year', 'imdb_id', 'genres', 'id',\n",
       "       'original_language', 'overview', 'popularity', 'poster_path',\n",
       "       'production_companies_kaggle', 'production_countries',\n",
       "       'release_date_kaggle', 'runtime', 'spoken_languages', 'status',\n",
       "       'title_kaggle', 'vote_average', 'vote_count'],\n",
       "      dtype='object')"
      ]
     },
     "execution_count": 33,
     "metadata": {},
     "output_type": "execute_result"
    }
   ],
   "source": [
    "# List columns\n",
    "movies_df.columns"
   ]
  },
  {
   "cell_type": "code",
   "execution_count": 34,
   "metadata": {},
   "outputs": [
    {
     "name": "stdout",
     "output_type": "stream",
     "text": [
      "<class 'pandas.core.frame.DataFrame'>\n",
      "Int64Index: 5982 entries, 0 to 5982\n",
      "Data columns (total 30 columns):\n",
      " #   Column                Non-Null Count  Dtype         \n",
      "---  ------                --------------  -----         \n",
      " 0   movie_id              5982 non-null   int64         \n",
      " 1   imdb_id               5982 non-null   object        \n",
      " 2   imdb_link             5982 non-null   object        \n",
      " 3   url                   5982 non-null   object        \n",
      " 4   poster_path           5981 non-null   object        \n",
      " 5   title                 5982 non-null   object        \n",
      " 6   overview              5977 non-null   object        \n",
      " 7   release_date          5982 non-null   datetime64[ns]\n",
      " 8   year                  5982 non-null   int64         \n",
      " 9   runtime               5982 non-null   float64       \n",
      " 10  budget                4600 non-null   float64       \n",
      " 11  revenue               5149 non-null   float64       \n",
      " 12  genres                5982 non-null   object        \n",
      " 13  country               5819 non-null   object        \n",
      " 14  language              5982 non-null   object        \n",
      " 15  spoken_languages      5982 non-null   object        \n",
      " 16  status                5978 non-null   object        \n",
      " 17  popularity            5982 non-null   float64       \n",
      " 18  vote_average          5982 non-null   float64       \n",
      " 19  vote_count            5982 non-null   float64       \n",
      " 20  producers             5878 non-null   object        \n",
      " 21  writers               5854 non-null   object        \n",
      " 22  director              5982 non-null   object        \n",
      " 23  cinematographers      5519 non-null   object        \n",
      " 24  editors               5657 non-null   object        \n",
      " 25  composers             5663 non-null   object        \n",
      " 26  stars                 5877 non-null   object        \n",
      " 27  production_companies  5982 non-null   object        \n",
      " 28  production_countries  5982 non-null   object        \n",
      " 29  distributor           5824 non-null   object        \n",
      "dtypes: datetime64[ns](1), float64(6), int64(2), object(21)\n",
      "memory usage: 1.4+ MB\n"
     ]
    }
   ],
   "source": [
    "# Column order\n",
    "col_order = ['id', 'imdb_id', 'imdb_link', 'url', 'poster_path', 'title_kaggle', 'overview',\n",
    "             'release_date_kaggle', 'year', 'runtime', 'budget_wiki', 'box_office', \n",
    "             'genres', 'country', 'original_language', 'spoken_languages',\n",
    "             'status', 'popularity', 'vote_average', 'vote_count', \n",
    "             'producers', 'writers', 'director', 'cinematographers', 'editors', 'composers', 'stars',\n",
    "             'production_companies_kaggle', 'production_countries', 'distributor']\n",
    "\n",
    "# New column names\n",
    "col_names = ['movie_id', 'imdb_id', 'imdb_link', 'url', 'poster_path', 'title', 'overview',\n",
    "             'release_date', 'year', 'runtime', 'budget', 'revenue', \n",
    "             'genres', 'country', 'language', 'spoken_languages',\n",
    "             'status', 'popularity', 'vote_average', 'vote_count', \n",
    "             'producers', 'writers', 'director', 'cinematographers', 'editors', 'composers', 'stars',\n",
    "             'production_companies', 'production_countries', 'distributor']\n",
    "\n",
    "# Rename and order columns\n",
    "movies_df = movies_df.rename({old: new for old, new in zip(col_order, col_names)}, axis=1)\n",
    "movies_df = movies_df[col_names]\n",
    "movies_df.info()"
   ]
  },
  {
   "cell_type": "markdown",
   "metadata": {},
   "source": [
    "### Save movie data"
   ]
  },
  {
   "cell_type": "code",
   "execution_count": 35,
   "metadata": {},
   "outputs": [
    {
     "name": "stdout",
     "output_type": "stream",
     "text": [
      "<class 'pandas.core.frame.DataFrame'>\n",
      "Int64Index: 5982 entries, 0 to 5982\n",
      "Data columns (total 30 columns):\n",
      " #   Column                Non-Null Count  Dtype         \n",
      "---  ------                --------------  -----         \n",
      " 0   movie_id              5982 non-null   int64         \n",
      " 1   imdb_id               5982 non-null   object        \n",
      " 2   imdb_link             5982 non-null   object        \n",
      " 3   url                   5982 non-null   object        \n",
      " 4   poster_path           5981 non-null   object        \n",
      " 5   title                 5982 non-null   object        \n",
      " 6   overview              5977 non-null   object        \n",
      " 7   release_date          5982 non-null   datetime64[ns]\n",
      " 8   year                  5982 non-null   int64         \n",
      " 9   runtime               5982 non-null   float64       \n",
      " 10  budget                4600 non-null   float64       \n",
      " 11  revenue               5149 non-null   float64       \n",
      " 12  genres                5982 non-null   object        \n",
      " 13  country               5819 non-null   object        \n",
      " 14  language              5982 non-null   object        \n",
      " 15  spoken_languages      5982 non-null   object        \n",
      " 16  status                5978 non-null   object        \n",
      " 17  popularity            5982 non-null   float64       \n",
      " 18  vote_average          5982 non-null   float64       \n",
      " 19  vote_count            5982 non-null   float64       \n",
      " 20  producers             5878 non-null   object        \n",
      " 21  writers               5854 non-null   object        \n",
      " 22  director              5982 non-null   object        \n",
      " 23  cinematographers      5519 non-null   object        \n",
      " 24  editors               5657 non-null   object        \n",
      " 25  composers             5663 non-null   object        \n",
      " 26  stars                 5877 non-null   object        \n",
      " 27  production_companies  5982 non-null   object        \n",
      " 28  production_countries  5982 non-null   object        \n",
      " 29  distributor           5824 non-null   object        \n",
      "dtypes: datetime64[ns](1), float64(6), int64(2), object(21)\n",
      "memory usage: 1.4+ MB\n"
     ]
    }
   ],
   "source": [
    "# Save data\n",
    "movies_df.to_pickle(data_path + 'movies.pkl')\n",
    "pd.read_pickle(data_path + 'movies.pkl').info()"
   ]
  },
  {
   "cell_type": "code",
   "execution_count": null,
   "metadata": {},
   "outputs": [],
   "source": []
  }
 ],
 "metadata": {
  "kernelspec": {
   "display_name": "Python [conda env:minds]",
   "language": "python",
   "name": "conda-env-minds-py"
  },
  "language_info": {
   "codemirror_mode": {
    "name": "ipython",
    "version": 3
   },
   "file_extension": ".py",
   "mimetype": "text/x-python",
   "name": "python",
   "nbconvert_exporter": "python",
   "pygments_lexer": "ipython3",
   "version": "3.7.9"
  }
 },
 "nbformat": 4,
 "nbformat_minor": 4
}
