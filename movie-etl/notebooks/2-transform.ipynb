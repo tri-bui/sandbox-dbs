{
 "cells": [
  {
   "cell_type": "markdown",
   "metadata": {},
   "source": [
    "# Movie Data ETL Pipeline - Transform\n",
    "\n",
    "This notebook will continue the transform step of the pipeline by merging the Wikipedia data and the Kaggle data. A few additional cleaning and transformations will have to be done on the combined data before it is ready to be loaded into a SQL database.\n",
    "\n",
    "### Dependencies"
   ]
  },
  {
   "cell_type": "code",
   "execution_count": 1,
   "metadata": {},
   "outputs": [],
   "source": [
    "%matplotlib inline\n",
    "\n",
    "import numpy as np\n",
    "import pandas as pd\n",
    "import matplotlib.pyplot as plt"
   ]
  },
  {
   "cell_type": "markdown",
   "metadata": {},
   "source": [
    "### Wikipedia data"
   ]
  },
  {
   "cell_type": "code",
   "execution_count": 2,
   "metadata": {},
   "outputs": [],
   "source": [
    "# Path to data directory\n",
    "data_path = '../data/'"
   ]
  },
  {
   "cell_type": "code",
   "execution_count": 3,
   "metadata": {},
   "outputs": [
    {
     "name": "stdout",
     "output_type": "stream",
     "text": [
      "<class 'pandas.core.frame.DataFrame'>\n",
      "Int64Index: 6894 entries, 0 to 6935\n",
      "Data columns (total 20 columns):\n",
      " #   Column                Non-Null Count  Dtype         \n",
      "---  ------                --------------  -----         \n",
      " 0   box_office            5449 non-null   float64       \n",
      " 1   budget                4712 non-null   float64       \n",
      " 2   cinematographers      6249 non-null   object        \n",
      " 3   country               6674 non-null   object        \n",
      " 4   director              6894 non-null   object        \n",
      " 5   distributor           6591 non-null   object        \n",
      " 6   editors               6409 non-null   object        \n",
      " 7   languages             6823 non-null   object        \n",
      " 8   composers             6427 non-null   object        \n",
      " 9   producers             6720 non-null   object        \n",
      " 10  production_companies  5297 non-null   object        \n",
      " 11  release_date          6869 non-null   datetime64[ns]\n",
      " 12  duration              6892 non-null   float64       \n",
      " 13  writers               6710 non-null   object        \n",
      " 14  stars                 6729 non-null   object        \n",
      " 15  imdb_link             6894 non-null   object        \n",
      " 16  title                 6894 non-null   object        \n",
      " 17  url                   6894 non-null   object        \n",
      " 18  year                  6894 non-null   int64         \n",
      " 19  id                    6894 non-null   object        \n",
      "dtypes: datetime64[ns](1), float64(3), int64(1), object(15)\n",
      "memory usage: 1.1+ MB\n",
      "None\n"
     ]
    },
    {
     "data": {
      "text/html": [
       "<div>\n",
       "<style scoped>\n",
       "    .dataframe tbody tr th:only-of-type {\n",
       "        vertical-align: middle;\n",
       "    }\n",
       "\n",
       "    .dataframe tbody tr th {\n",
       "        vertical-align: top;\n",
       "    }\n",
       "\n",
       "    .dataframe thead th {\n",
       "        text-align: right;\n",
       "    }\n",
       "</style>\n",
       "<table border=\"1\" class=\"dataframe\">\n",
       "  <thead>\n",
       "    <tr style=\"text-align: right;\">\n",
       "      <th></th>\n",
       "      <th>box_office</th>\n",
       "      <th>budget</th>\n",
       "      <th>cinematographers</th>\n",
       "      <th>country</th>\n",
       "      <th>director</th>\n",
       "      <th>distributor</th>\n",
       "      <th>editors</th>\n",
       "      <th>languages</th>\n",
       "      <th>composers</th>\n",
       "      <th>producers</th>\n",
       "      <th>production_companies</th>\n",
       "      <th>release_date</th>\n",
       "      <th>duration</th>\n",
       "      <th>writers</th>\n",
       "      <th>stars</th>\n",
       "      <th>imdb_link</th>\n",
       "      <th>title</th>\n",
       "      <th>url</th>\n",
       "      <th>year</th>\n",
       "      <th>id</th>\n",
       "    </tr>\n",
       "  </thead>\n",
       "  <tbody>\n",
       "    <tr>\n",
       "      <th>0</th>\n",
       "      <td>21400000.0</td>\n",
       "      <td>20000000.0</td>\n",
       "      <td>Oliver Wood</td>\n",
       "      <td>United States</td>\n",
       "      <td>Renny Harlin</td>\n",
       "      <td>20th Century Fox</td>\n",
       "      <td>Michael Tronick</td>\n",
       "      <td>English</td>\n",
       "      <td>[Cliff Eidelman, Yello]</td>\n",
       "      <td>[Steve Perry, Joel Silver]</td>\n",
       "      <td>Silver Pictures</td>\n",
       "      <td>1990-07-11</td>\n",
       "      <td>102.0</td>\n",
       "      <td>[David Arnott, James Cappe]</td>\n",
       "      <td>[Andrew Dice Clay, Wayne Newton, Priscilla Pre...</td>\n",
       "      <td>https://www.imdb.com/title/tt0098987/</td>\n",
       "      <td>The Adventures of Ford Fairlane</td>\n",
       "      <td>https://en.wikipedia.org/wiki/The_Adventures_o...</td>\n",
       "      <td>1990</td>\n",
       "      <td>tt0098987</td>\n",
       "    </tr>\n",
       "    <tr>\n",
       "      <th>1</th>\n",
       "      <td>2700000.0</td>\n",
       "      <td>6000000.0</td>\n",
       "      <td>Mark Plummer</td>\n",
       "      <td>United States</td>\n",
       "      <td>James Foley</td>\n",
       "      <td>Avenue Pictures</td>\n",
       "      <td>Howard E. Smith</td>\n",
       "      <td>English</td>\n",
       "      <td>Maurice Jarre</td>\n",
       "      <td>[Ric Kidney, Robert Redlin]</td>\n",
       "      <td>Avenue Pictures</td>\n",
       "      <td>1990-05-17</td>\n",
       "      <td>114.0</td>\n",
       "      <td>[James Foley, Robert Redlin]</td>\n",
       "      <td>[Jason Patric, Rachel Ward, Bruce Dern, George...</td>\n",
       "      <td>https://www.imdb.com/title/tt0098994/</td>\n",
       "      <td>After Dark, My Sweet</td>\n",
       "      <td>https://en.wikipedia.org/wiki/After_Dark,_My_S...</td>\n",
       "      <td>1990</td>\n",
       "      <td>tt0098994</td>\n",
       "    </tr>\n",
       "  </tbody>\n",
       "</table>\n",
       "</div>"
      ],
      "text/plain": [
       "   box_office      budget cinematographers        country      director  \\\n",
       "0  21400000.0  20000000.0      Oliver Wood  United States  Renny Harlin   \n",
       "1   2700000.0   6000000.0     Mark Plummer  United States   James Foley   \n",
       "\n",
       "        distributor          editors languages                composers  \\\n",
       "0  20th Century Fox  Michael Tronick   English  [Cliff Eidelman, Yello]   \n",
       "1   Avenue Pictures  Howard E. Smith   English            Maurice Jarre   \n",
       "\n",
       "                     producers production_companies release_date  duration  \\\n",
       "0   [Steve Perry, Joel Silver]      Silver Pictures   1990-07-11     102.0   \n",
       "1  [Ric Kidney, Robert Redlin]      Avenue Pictures   1990-05-17     114.0   \n",
       "\n",
       "                        writers  \\\n",
       "0   [David Arnott, James Cappe]   \n",
       "1  [James Foley, Robert Redlin]   \n",
       "\n",
       "                                               stars  \\\n",
       "0  [Andrew Dice Clay, Wayne Newton, Priscilla Pre...   \n",
       "1  [Jason Patric, Rachel Ward, Bruce Dern, George...   \n",
       "\n",
       "                               imdb_link                            title  \\\n",
       "0  https://www.imdb.com/title/tt0098987/  The Adventures of Ford Fairlane   \n",
       "1  https://www.imdb.com/title/tt0098994/             After Dark, My Sweet   \n",
       "\n",
       "                                                 url  year         id  \n",
       "0  https://en.wikipedia.org/wiki/The_Adventures_o...  1990  tt0098987  \n",
       "1  https://en.wikipedia.org/wiki/After_Dark,_My_S...  1990  tt0098994  "
      ]
     },
     "execution_count": 3,
     "metadata": {},
     "output_type": "execute_result"
    }
   ],
   "source": [
    "# Wikipedia movie data (cleaned from notebook 1)\n",
    "wmovies_df = pd.read_pickle(data_path + 'wiki_movies.pkl')\n",
    "print(wmovies_df.info())\n",
    "wmovies_df.head(2)"
   ]
  },
  {
   "cell_type": "markdown",
   "metadata": {},
   "source": [
    "### Kaggle data"
   ]
  },
  {
   "cell_type": "code",
   "execution_count": 4,
   "metadata": {},
   "outputs": [
    {
     "name": "stdout",
     "output_type": "stream",
     "text": [
      "<class 'pandas.core.frame.DataFrame'>\n",
      "Int64Index: 45408 entries, 0 to 45465\n",
      "Data columns (total 19 columns):\n",
      " #   Column                Non-Null Count  Dtype         \n",
      "---  ------                --------------  -----         \n",
      " 0   budget                45408 non-null  int64         \n",
      " 1   genres                45408 non-null  object        \n",
      " 2   id                    45408 non-null  int64         \n",
      " 3   imdb_id               45407 non-null  object        \n",
      " 4   original_language     45397 non-null  object        \n",
      " 5   original_title        45408 non-null  object        \n",
      " 6   overview              44456 non-null  object        \n",
      " 7   popularity            45405 non-null  float64       \n",
      " 8   poster_path           45027 non-null  object        \n",
      " 9   production_companies  45405 non-null  object        \n",
      " 10  production_countries  45405 non-null  object        \n",
      " 11  release_date          45325 non-null  datetime64[ns]\n",
      " 12  revenue               45405 non-null  float64       \n",
      " 13  runtime               45150 non-null  float64       \n",
      " 14  spoken_languages      45405 non-null  object        \n",
      " 15  status                45324 non-null  object        \n",
      " 16  title                 45405 non-null  object        \n",
      " 17  vote_average          45405 non-null  float64       \n",
      " 18  vote_count            45405 non-null  float64       \n",
      "dtypes: datetime64[ns](1), float64(5), int64(2), object(11)\n",
      "memory usage: 6.9+ MB\n",
      "None\n"
     ]
    },
    {
     "data": {
      "text/html": [
       "<div>\n",
       "<style scoped>\n",
       "    .dataframe tbody tr th:only-of-type {\n",
       "        vertical-align: middle;\n",
       "    }\n",
       "\n",
       "    .dataframe tbody tr th {\n",
       "        vertical-align: top;\n",
       "    }\n",
       "\n",
       "    .dataframe thead th {\n",
       "        text-align: right;\n",
       "    }\n",
       "</style>\n",
       "<table border=\"1\" class=\"dataframe\">\n",
       "  <thead>\n",
       "    <tr style=\"text-align: right;\">\n",
       "      <th></th>\n",
       "      <th>budget</th>\n",
       "      <th>genres</th>\n",
       "      <th>id</th>\n",
       "      <th>imdb_id</th>\n",
       "      <th>original_language</th>\n",
       "      <th>original_title</th>\n",
       "      <th>overview</th>\n",
       "      <th>popularity</th>\n",
       "      <th>poster_path</th>\n",
       "      <th>production_companies</th>\n",
       "      <th>production_countries</th>\n",
       "      <th>release_date</th>\n",
       "      <th>revenue</th>\n",
       "      <th>runtime</th>\n",
       "      <th>spoken_languages</th>\n",
       "      <th>status</th>\n",
       "      <th>title</th>\n",
       "      <th>vote_average</th>\n",
       "      <th>vote_count</th>\n",
       "    </tr>\n",
       "  </thead>\n",
       "  <tbody>\n",
       "    <tr>\n",
       "      <th>0</th>\n",
       "      <td>30000000</td>\n",
       "      <td>[{'id': 16, 'name': 'Animation'}, {'id': 35, '...</td>\n",
       "      <td>862</td>\n",
       "      <td>tt0114709</td>\n",
       "      <td>en</td>\n",
       "      <td>Toy Story</td>\n",
       "      <td>Led by Woody, Andy's toys live happily in his ...</td>\n",
       "      <td>21.946943</td>\n",
       "      <td>/rhIRbceoE9lR4veEXuwCC2wARtG.jpg</td>\n",
       "      <td>[{'name': 'Pixar Animation Studios', 'id': 3}]</td>\n",
       "      <td>[{'iso_3166_1': 'US', 'name': 'United States o...</td>\n",
       "      <td>1995-10-30</td>\n",
       "      <td>373554033.0</td>\n",
       "      <td>81.0</td>\n",
       "      <td>[{'iso_639_1': 'en', 'name': 'English'}]</td>\n",
       "      <td>Released</td>\n",
       "      <td>Toy Story</td>\n",
       "      <td>7.7</td>\n",
       "      <td>5415.0</td>\n",
       "    </tr>\n",
       "    <tr>\n",
       "      <th>1</th>\n",
       "      <td>65000000</td>\n",
       "      <td>[{'id': 12, 'name': 'Adventure'}, {'id': 14, '...</td>\n",
       "      <td>8844</td>\n",
       "      <td>tt0113497</td>\n",
       "      <td>en</td>\n",
       "      <td>Jumanji</td>\n",
       "      <td>When siblings Judy and Peter discover an encha...</td>\n",
       "      <td>17.015539</td>\n",
       "      <td>/vzmL6fP7aPKNKPRTFnZmiUfciyV.jpg</td>\n",
       "      <td>[{'name': 'TriStar Pictures', 'id': 559}, {'na...</td>\n",
       "      <td>[{'iso_3166_1': 'US', 'name': 'United States o...</td>\n",
       "      <td>1995-12-15</td>\n",
       "      <td>262797249.0</td>\n",
       "      <td>104.0</td>\n",
       "      <td>[{'iso_639_1': 'en', 'name': 'English'}, {'iso...</td>\n",
       "      <td>Released</td>\n",
       "      <td>Jumanji</td>\n",
       "      <td>6.9</td>\n",
       "      <td>2413.0</td>\n",
       "    </tr>\n",
       "  </tbody>\n",
       "</table>\n",
       "</div>"
      ],
      "text/plain": [
       "     budget                                             genres    id  \\\n",
       "0  30000000  [{'id': 16, 'name': 'Animation'}, {'id': 35, '...   862   \n",
       "1  65000000  [{'id': 12, 'name': 'Adventure'}, {'id': 14, '...  8844   \n",
       "\n",
       "     imdb_id original_language original_title  \\\n",
       "0  tt0114709                en      Toy Story   \n",
       "1  tt0113497                en        Jumanji   \n",
       "\n",
       "                                            overview  popularity  \\\n",
       "0  Led by Woody, Andy's toys live happily in his ...   21.946943   \n",
       "1  When siblings Judy and Peter discover an encha...   17.015539   \n",
       "\n",
       "                        poster_path  \\\n",
       "0  /rhIRbceoE9lR4veEXuwCC2wARtG.jpg   \n",
       "1  /vzmL6fP7aPKNKPRTFnZmiUfciyV.jpg   \n",
       "\n",
       "                                production_companies  \\\n",
       "0     [{'name': 'Pixar Animation Studios', 'id': 3}]   \n",
       "1  [{'name': 'TriStar Pictures', 'id': 559}, {'na...   \n",
       "\n",
       "                                production_countries release_date  \\\n",
       "0  [{'iso_3166_1': 'US', 'name': 'United States o...   1995-10-30   \n",
       "1  [{'iso_3166_1': 'US', 'name': 'United States o...   1995-12-15   \n",
       "\n",
       "       revenue  runtime                                   spoken_languages  \\\n",
       "0  373554033.0     81.0           [{'iso_639_1': 'en', 'name': 'English'}]   \n",
       "1  262797249.0    104.0  [{'iso_639_1': 'en', 'name': 'English'}, {'iso...   \n",
       "\n",
       "     status      title  vote_average  vote_count  \n",
       "0  Released  Toy Story           7.7      5415.0  \n",
       "1  Released    Jumanji           6.9      2413.0  "
      ]
     },
     "execution_count": 4,
     "metadata": {},
     "output_type": "execute_result"
    }
   ],
   "source": [
    "# Kaggle movie metadata (cleaned from notebook 1)\n",
    "kmovies_df = pd.read_pickle(data_path + 'kaggle_movies.pkl')\n",
    "print(kmovies_df.info())\n",
    "kmovies_df.head(2)"
   ]
  },
  {
   "cell_type": "markdown",
   "metadata": {},
   "source": [
    "### Join movie data from both sources\n",
    "\n",
    "The Kaggle data has 2 columns containing titles and 2 columns containing movie IDs, which is a little redundant. So we will drop `original_title` and `id` and keep `title` and `imdb_id`. After merging the data, we can then drop one of the `imdb_id` columns."
   ]
  },
  {
   "cell_type": "code",
   "execution_count": 5,
   "metadata": {},
   "outputs": [
    {
     "name": "stdout",
     "output_type": "stream",
     "text": [
      "<class 'pandas.core.frame.DataFrame'>\n",
      "Int64Index: 5983 entries, 0 to 5982\n",
      "Data columns (total 36 columns):\n",
      " #   Column                       Non-Null Count  Dtype         \n",
      "---  ------                       --------------  -----         \n",
      " 0   box_office                   5085 non-null   float64       \n",
      " 1   budget_wiki                  4394 non-null   float64       \n",
      " 2   cinematographers             5520 non-null   object        \n",
      " 3   country                      5820 non-null   object        \n",
      " 4   director                     5983 non-null   object        \n",
      " 5   distributor                  5825 non-null   object        \n",
      " 6   editors                      5658 non-null   object        \n",
      " 7   languages                    5930 non-null   object        \n",
      " 8   composers                    5664 non-null   object        \n",
      " 9   producers                    5879 non-null   object        \n",
      " 10  production_companies_wiki    4738 non-null   object        \n",
      " 11  release_date_wiki            5975 non-null   datetime64[ns]\n",
      " 12  duration                     5981 non-null   float64       \n",
      " 13  writers                      5855 non-null   object        \n",
      " 14  stars                        5878 non-null   object        \n",
      " 15  imdb_link                    5983 non-null   object        \n",
      " 16  title_wiki                   5983 non-null   object        \n",
      " 17  url                          5983 non-null   object        \n",
      " 18  year                         5983 non-null   int64         \n",
      " 19  budget_kaggle                5983 non-null   int64         \n",
      " 20  genres                       5983 non-null   object        \n",
      " 21  imdb_id                      5983 non-null   object        \n",
      " 22  original_language            5983 non-null   object        \n",
      " 23  overview                     5978 non-null   object        \n",
      " 24  popularity                   5983 non-null   float64       \n",
      " 25  poster_path                  5982 non-null   object        \n",
      " 26  production_companies_kaggle  5983 non-null   object        \n",
      " 27  production_countries         5983 non-null   object        \n",
      " 28  release_date_kaggle          5983 non-null   datetime64[ns]\n",
      " 29  revenue                      5983 non-null   float64       \n",
      " 30  runtime                      5983 non-null   float64       \n",
      " 31  spoken_languages             5983 non-null   object        \n",
      " 32  status                       5979 non-null   object        \n",
      " 33  title_kaggle                 5983 non-null   object        \n",
      " 34  vote_average                 5983 non-null   float64       \n",
      " 35  vote_count                   5983 non-null   float64       \n",
      "dtypes: datetime64[ns](2), float64(8), int64(2), object(24)\n",
      "memory usage: 1.7+ MB\n",
      "None\n"
     ]
    },
    {
     "data": {
      "text/html": [
       "<div>\n",
       "<style scoped>\n",
       "    .dataframe tbody tr th:only-of-type {\n",
       "        vertical-align: middle;\n",
       "    }\n",
       "\n",
       "    .dataframe tbody tr th {\n",
       "        vertical-align: top;\n",
       "    }\n",
       "\n",
       "    .dataframe thead th {\n",
       "        text-align: right;\n",
       "    }\n",
       "</style>\n",
       "<table border=\"1\" class=\"dataframe\">\n",
       "  <thead>\n",
       "    <tr style=\"text-align: right;\">\n",
       "      <th></th>\n",
       "      <th>box_office</th>\n",
       "      <th>budget_wiki</th>\n",
       "      <th>cinematographers</th>\n",
       "      <th>country</th>\n",
       "      <th>director</th>\n",
       "      <th>distributor</th>\n",
       "      <th>editors</th>\n",
       "      <th>languages</th>\n",
       "      <th>composers</th>\n",
       "      <th>producers</th>\n",
       "      <th>...</th>\n",
       "      <th>production_companies_kaggle</th>\n",
       "      <th>production_countries</th>\n",
       "      <th>release_date_kaggle</th>\n",
       "      <th>revenue</th>\n",
       "      <th>runtime</th>\n",
       "      <th>spoken_languages</th>\n",
       "      <th>status</th>\n",
       "      <th>title_kaggle</th>\n",
       "      <th>vote_average</th>\n",
       "      <th>vote_count</th>\n",
       "    </tr>\n",
       "  </thead>\n",
       "  <tbody>\n",
       "    <tr>\n",
       "      <th>0</th>\n",
       "      <td>21400000.0</td>\n",
       "      <td>20000000.0</td>\n",
       "      <td>Oliver Wood</td>\n",
       "      <td>United States</td>\n",
       "      <td>Renny Harlin</td>\n",
       "      <td>20th Century Fox</td>\n",
       "      <td>Michael Tronick</td>\n",
       "      <td>English</td>\n",
       "      <td>[Cliff Eidelman, Yello]</td>\n",
       "      <td>[Steve Perry, Joel Silver]</td>\n",
       "      <td>...</td>\n",
       "      <td>[{'name': 'Twentieth Century Fox Film Corporat...</td>\n",
       "      <td>[{'iso_3166_1': 'US', 'name': 'United States o...</td>\n",
       "      <td>1990-07-11</td>\n",
       "      <td>20423389.0</td>\n",
       "      <td>104.0</td>\n",
       "      <td>[{'iso_639_1': 'en', 'name': 'English'}]</td>\n",
       "      <td>Released</td>\n",
       "      <td>The Adventures of Ford Fairlane</td>\n",
       "      <td>6.2</td>\n",
       "      <td>72.0</td>\n",
       "    </tr>\n",
       "    <tr>\n",
       "      <th>1</th>\n",
       "      <td>2700000.0</td>\n",
       "      <td>6000000.0</td>\n",
       "      <td>Mark Plummer</td>\n",
       "      <td>United States</td>\n",
       "      <td>James Foley</td>\n",
       "      <td>Avenue Pictures</td>\n",
       "      <td>Howard E. Smith</td>\n",
       "      <td>English</td>\n",
       "      <td>Maurice Jarre</td>\n",
       "      <td>[Ric Kidney, Robert Redlin]</td>\n",
       "      <td>...</td>\n",
       "      <td>[{'name': 'Avenue Pictures Productions', 'id':...</td>\n",
       "      <td>[{'iso_3166_1': 'US', 'name': 'United States o...</td>\n",
       "      <td>1990-08-24</td>\n",
       "      <td>0.0</td>\n",
       "      <td>114.0</td>\n",
       "      <td>[{'iso_639_1': 'en', 'name': 'English'}]</td>\n",
       "      <td>Released</td>\n",
       "      <td>After Dark, My Sweet</td>\n",
       "      <td>6.5</td>\n",
       "      <td>17.0</td>\n",
       "    </tr>\n",
       "  </tbody>\n",
       "</table>\n",
       "<p>2 rows × 36 columns</p>\n",
       "</div>"
      ],
      "text/plain": [
       "   box_office  budget_wiki cinematographers        country      director  \\\n",
       "0  21400000.0   20000000.0      Oliver Wood  United States  Renny Harlin   \n",
       "1   2700000.0    6000000.0     Mark Plummer  United States   James Foley   \n",
       "\n",
       "        distributor          editors languages                composers  \\\n",
       "0  20th Century Fox  Michael Tronick   English  [Cliff Eidelman, Yello]   \n",
       "1   Avenue Pictures  Howard E. Smith   English            Maurice Jarre   \n",
       "\n",
       "                     producers  ...  \\\n",
       "0   [Steve Perry, Joel Silver]  ...   \n",
       "1  [Ric Kidney, Robert Redlin]  ...   \n",
       "\n",
       "                         production_companies_kaggle  \\\n",
       "0  [{'name': 'Twentieth Century Fox Film Corporat...   \n",
       "1  [{'name': 'Avenue Pictures Productions', 'id':...   \n",
       "\n",
       "                                production_countries  release_date_kaggle  \\\n",
       "0  [{'iso_3166_1': 'US', 'name': 'United States o...           1990-07-11   \n",
       "1  [{'iso_3166_1': 'US', 'name': 'United States o...           1990-08-24   \n",
       "\n",
       "      revenue runtime                          spoken_languages    status  \\\n",
       "0  20423389.0   104.0  [{'iso_639_1': 'en', 'name': 'English'}]  Released   \n",
       "1         0.0   114.0  [{'iso_639_1': 'en', 'name': 'English'}]  Released   \n",
       "\n",
       "                      title_kaggle  vote_average  vote_count  \n",
       "0  The Adventures of Ford Fairlane           6.2        72.0  \n",
       "1             After Dark, My Sweet           6.5        17.0  \n",
       "\n",
       "[2 rows x 36 columns]"
      ]
     },
     "execution_count": 5,
     "metadata": {},
     "output_type": "execute_result"
    }
   ],
   "source": [
    "# Merge data\n",
    "movies_df = pd.merge(wmovies_df, kmovies_df.drop(['id', 'original_title'], axis=1), how='inner', \n",
    "                     left_on='id', right_on='imdb_id', suffixes=['_wiki', '_kaggle']).drop('id', axis=1)\n",
    "print(movies_df.info())\n",
    "movies_df.head(2)"
   ]
  },
  {
   "cell_type": "markdown",
   "metadata": {},
   "source": [
    "### Find redundant columns\n",
    "\n",
    "Since the 2 dataframes being joined contain similar data, they will have several of the same columns. For these columns, it would be redundant to keep both, so we will examine each pair to see what is the best course of action to take. In most cases, we will likely just keep the one with more consistent data. A table will be created to keep track of the action we take on each pair."
   ]
  },
  {
   "cell_type": "code",
   "execution_count": 6,
   "metadata": {},
   "outputs": [
    {
     "data": {
      "text/plain": [
       "Index(['box_office', 'budget_kaggle', 'budget_wiki', 'cinematographers',\n",
       "       'composers', 'country', 'director', 'distributor', 'duration',\n",
       "       'editors', 'genres', 'imdb_id', 'imdb_link', 'languages',\n",
       "       'original_language', 'overview', 'popularity', 'poster_path',\n",
       "       'producers', 'production_companies_kaggle', 'production_companies_wiki',\n",
       "       'production_countries', 'release_date_kaggle', 'release_date_wiki',\n",
       "       'revenue', 'runtime', 'spoken_languages', 'stars', 'status',\n",
       "       'title_kaggle', 'title_wiki', 'url', 'vote_average', 'vote_count',\n",
       "       'writers', 'year'],\n",
       "      dtype='object')"
      ]
     },
     "execution_count": 6,
     "metadata": {},
     "output_type": "execute_result"
    }
   ],
   "source": [
    "# List columns\n",
    "movies_df.columns.sort_values()"
   ]
  },
  {
   "cell_type": "code",
   "execution_count": 7,
   "metadata": {},
   "outputs": [
    {
     "data": {
      "text/html": [
       "<div>\n",
       "<style scoped>\n",
       "    .dataframe tbody tr th:only-of-type {\n",
       "        vertical-align: middle;\n",
       "    }\n",
       "\n",
       "    .dataframe tbody tr th {\n",
       "        vertical-align: top;\n",
       "    }\n",
       "\n",
       "    .dataframe thead th {\n",
       "        text-align: right;\n",
       "    }\n",
       "</style>\n",
       "<table border=\"1\" class=\"dataframe\">\n",
       "  <thead>\n",
       "    <tr style=\"text-align: right;\">\n",
       "      <th></th>\n",
       "      <th>wikipedia</th>\n",
       "      <th>kaggle</th>\n",
       "      <th>action</th>\n",
       "    </tr>\n",
       "  </thead>\n",
       "  <tbody>\n",
       "    <tr>\n",
       "      <th>0</th>\n",
       "      <td>box_office</td>\n",
       "      <td>revenue</td>\n",
       "      <td></td>\n",
       "    </tr>\n",
       "    <tr>\n",
       "      <th>1</th>\n",
       "      <td>budget_wiki</td>\n",
       "      <td>budget_kaggle</td>\n",
       "      <td></td>\n",
       "    </tr>\n",
       "    <tr>\n",
       "      <th>2</th>\n",
       "      <td>duration</td>\n",
       "      <td>runtime</td>\n",
       "      <td></td>\n",
       "    </tr>\n",
       "    <tr>\n",
       "      <th>3</th>\n",
       "      <td>languages</td>\n",
       "      <td>original_language</td>\n",
       "      <td></td>\n",
       "    </tr>\n",
       "    <tr>\n",
       "      <th>4</th>\n",
       "      <td>production_companies_wiki</td>\n",
       "      <td>production_companies_kaggle</td>\n",
       "      <td></td>\n",
       "    </tr>\n",
       "    <tr>\n",
       "      <th>5</th>\n",
       "      <td>release_date_wiki</td>\n",
       "      <td>release_date_kaggle</td>\n",
       "      <td></td>\n",
       "    </tr>\n",
       "    <tr>\n",
       "      <th>6</th>\n",
       "      <td>title_wiki</td>\n",
       "      <td>title_kaggle</td>\n",
       "      <td></td>\n",
       "    </tr>\n",
       "  </tbody>\n",
       "</table>\n",
       "</div>"
      ],
      "text/plain": [
       "                   wikipedia                       kaggle action\n",
       "0                 box_office                      revenue       \n",
       "1                budget_wiki                budget_kaggle       \n",
       "2                   duration                      runtime       \n",
       "3                  languages            original_language       \n",
       "4  production_companies_wiki  production_companies_kaggle       \n",
       "5          release_date_wiki          release_date_kaggle       \n",
       "6                 title_wiki                 title_kaggle       "
      ]
     },
     "execution_count": 7,
     "metadata": {},
     "output_type": "execute_result"
    }
   ],
   "source": [
    "# List of redundant column name pairs (wikipedia column, kaggle column)\n",
    "redundant_cols = [\n",
    "    ('box_office', 'revenue'),\n",
    "    ('budget_wiki', 'budget_kaggle'),\n",
    "    ('duration', 'runtime'),\n",
    "    ('languages', 'original_language'),\n",
    "    ('production_companies_wiki', 'production_companies_kaggle'),\n",
    "    ('release_date_wiki', 'release_date_kaggle'),\n",
    "    ('title_wiki', 'title_kaggle')\n",
    "]\n",
    "\n",
    "# Create a table to keep track of the action taken for each pair\n",
    "redundant_cols = pd.DataFrame(redundant_cols, columns=['wikipedia', 'kaggle'])\n",
    "redundant_cols['action'] = ''\n",
    "redundant_cols"
   ]
  },
  {
   "cell_type": "markdown",
   "metadata": {},
   "source": [
    "### Inspect title columns"
   ]
  },
  {
   "cell_type": "code",
   "execution_count": 8,
   "metadata": {},
   "outputs": [
    {
     "name": "stdout",
     "output_type": "stream",
     "text": [
      "429\n"
     ]
    },
    {
     "data": {
      "text/html": [
       "<div>\n",
       "<style scoped>\n",
       "    .dataframe tbody tr th:only-of-type {\n",
       "        vertical-align: middle;\n",
       "    }\n",
       "\n",
       "    .dataframe tbody tr th {\n",
       "        vertical-align: top;\n",
       "    }\n",
       "\n",
       "    .dataframe thead th {\n",
       "        text-align: right;\n",
       "    }\n",
       "</style>\n",
       "<table border=\"1\" class=\"dataframe\">\n",
       "  <thead>\n",
       "    <tr style=\"text-align: right;\">\n",
       "      <th></th>\n",
       "      <th>title_wiki</th>\n",
       "      <th>title_kaggle</th>\n",
       "    </tr>\n",
       "  </thead>\n",
       "  <tbody>\n",
       "    <tr>\n",
       "      <th>27</th>\n",
       "      <td>China Cry</td>\n",
       "      <td>China Cry: A True Story</td>\n",
       "    </tr>\n",
       "    <tr>\n",
       "      <th>36</th>\n",
       "      <td>Daddy's Dyin' ...Who's Got the Will?</td>\n",
       "      <td>Daddy's Dyin'... Who's Got the Will?</td>\n",
       "    </tr>\n",
       "    <tr>\n",
       "      <th>41</th>\n",
       "      <td>Delta Force 2</td>\n",
       "      <td>Delta Force 2: The Colombian Connection</td>\n",
       "    </tr>\n",
       "    <tr>\n",
       "      <th>47</th>\n",
       "      <td>DuckTales the Movie:Treasure of the Lost Lamp</td>\n",
       "      <td>DuckTales: The Movie - Treasure of the Lost Lamp</td>\n",
       "    </tr>\n",
       "  </tbody>\n",
       "</table>\n",
       "</div>"
      ],
      "text/plain": [
       "                                       title_wiki  \\\n",
       "27                                      China Cry   \n",
       "36           Daddy's Dyin' ...Who's Got the Will?   \n",
       "41                                  Delta Force 2   \n",
       "47  DuckTales the Movie:Treasure of the Lost Lamp   \n",
       "\n",
       "                                        title_kaggle  \n",
       "27                           China Cry: A True Story  \n",
       "36              Daddy's Dyin'... Who's Got the Will?  \n",
       "41           Delta Force 2: The Colombian Connection  \n",
       "47  DuckTales: The Movie - Treasure of the Lost Lamp  "
      ]
     },
     "execution_count": 8,
     "metadata": {},
     "output_type": "execute_result"
    }
   ],
   "source": [
    "# Extract title columns\n",
    "title = movies_df[['title_wiki', 'title_kaggle']]\n",
    "\n",
    "# Rows where titles are different between the 2 columns\n",
    "print(title[title['title_wiki'] != title['title_kaggle']].shape[0])\n",
    "title[title['title_wiki'] != title['title_kaggle']].head(4)"
   ]
  },
  {
   "cell_type": "markdown",
   "metadata": {},
   "source": [
    "It looks like the Kaggle data has more complete `title`s. If it contains no missing `title`s, or at least less than the Wikipedia data, then we will drop the Wikipedia `title`s and keep the Kaggle `title`s."
   ]
  },
  {
   "cell_type": "code",
   "execution_count": 9,
   "metadata": {},
   "outputs": [
    {
     "data": {
      "text/plain": [
       "0"
      ]
     },
     "execution_count": 9,
     "metadata": {},
     "output_type": "execute_result"
    }
   ],
   "source": [
    "# Check for null titles in the Kaggle column\n",
    "title[(title['title_kaggle'] == '') | (title['title_kaggle'].isnull())].shape[0]"
   ]
  },
  {
   "cell_type": "code",
   "execution_count": 10,
   "metadata": {},
   "outputs": [
    {
     "data": {
      "text/html": [
       "<div>\n",
       "<style scoped>\n",
       "    .dataframe tbody tr th:only-of-type {\n",
       "        vertical-align: middle;\n",
       "    }\n",
       "\n",
       "    .dataframe tbody tr th {\n",
       "        vertical-align: top;\n",
       "    }\n",
       "\n",
       "    .dataframe thead th {\n",
       "        text-align: right;\n",
       "    }\n",
       "</style>\n",
       "<table border=\"1\" class=\"dataframe\">\n",
       "  <thead>\n",
       "    <tr style=\"text-align: right;\">\n",
       "      <th></th>\n",
       "      <th>wikipedia</th>\n",
       "      <th>kaggle</th>\n",
       "      <th>action</th>\n",
       "    </tr>\n",
       "  </thead>\n",
       "  <tbody>\n",
       "    <tr>\n",
       "      <th>0</th>\n",
       "      <td>box_office</td>\n",
       "      <td>revenue</td>\n",
       "      <td></td>\n",
       "    </tr>\n",
       "    <tr>\n",
       "      <th>1</th>\n",
       "      <td>budget_wiki</td>\n",
       "      <td>budget_kaggle</td>\n",
       "      <td></td>\n",
       "    </tr>\n",
       "    <tr>\n",
       "      <th>2</th>\n",
       "      <td>duration</td>\n",
       "      <td>runtime</td>\n",
       "      <td></td>\n",
       "    </tr>\n",
       "    <tr>\n",
       "      <th>3</th>\n",
       "      <td>languages</td>\n",
       "      <td>original_language</td>\n",
       "      <td></td>\n",
       "    </tr>\n",
       "    <tr>\n",
       "      <th>4</th>\n",
       "      <td>production_companies_wiki</td>\n",
       "      <td>production_companies_kaggle</td>\n",
       "      <td></td>\n",
       "    </tr>\n",
       "    <tr>\n",
       "      <th>5</th>\n",
       "      <td>release_date_wiki</td>\n",
       "      <td>release_date_kaggle</td>\n",
       "      <td></td>\n",
       "    </tr>\n",
       "    <tr>\n",
       "      <th>6</th>\n",
       "      <td>title_wiki</td>\n",
       "      <td>title_kaggle</td>\n",
       "      <td>drop wiki col</td>\n",
       "    </tr>\n",
       "  </tbody>\n",
       "</table>\n",
       "</div>"
      ],
      "text/plain": [
       "                   wikipedia                       kaggle         action\n",
       "0                 box_office                      revenue               \n",
       "1                budget_wiki                budget_kaggle               \n",
       "2                   duration                      runtime               \n",
       "3                  languages            original_language               \n",
       "4  production_companies_wiki  production_companies_kaggle               \n",
       "5          release_date_wiki          release_date_kaggle               \n",
       "6                 title_wiki                 title_kaggle  drop wiki col"
      ]
     },
     "execution_count": 10,
     "metadata": {},
     "output_type": "execute_result"
    }
   ],
   "source": [
    "# Add action for title - drop the Wikipedia column\n",
    "redundant_cols.loc[6, 'action'] = 'drop wiki col'\n",
    "redundant_cols"
   ]
  },
  {
   "cell_type": "markdown",
   "metadata": {},
   "source": [
    "### Inspect language columns"
   ]
  },
  {
   "cell_type": "code",
   "execution_count": 11,
   "metadata": {},
   "outputs": [
    {
     "name": "stdout",
     "output_type": "stream",
     "text": [
      "5983\n"
     ]
    },
    {
     "data": {
      "text/html": [
       "<div>\n",
       "<style scoped>\n",
       "    .dataframe tbody tr th:only-of-type {\n",
       "        vertical-align: middle;\n",
       "    }\n",
       "\n",
       "    .dataframe tbody tr th {\n",
       "        vertical-align: top;\n",
       "    }\n",
       "\n",
       "    .dataframe thead th {\n",
       "        text-align: right;\n",
       "    }\n",
       "</style>\n",
       "<table border=\"1\" class=\"dataframe\">\n",
       "  <thead>\n",
       "    <tr style=\"text-align: right;\">\n",
       "      <th></th>\n",
       "      <th>languages</th>\n",
       "      <th>original_language</th>\n",
       "    </tr>\n",
       "  </thead>\n",
       "  <tbody>\n",
       "    <tr>\n",
       "      <th>0</th>\n",
       "      <td>English</td>\n",
       "      <td>en</td>\n",
       "    </tr>\n",
       "    <tr>\n",
       "      <th>1</th>\n",
       "      <td>English</td>\n",
       "      <td>en</td>\n",
       "    </tr>\n",
       "    <tr>\n",
       "      <th>2</th>\n",
       "      <td>[English, Lao]</td>\n",
       "      <td>en</td>\n",
       "    </tr>\n",
       "    <tr>\n",
       "      <th>3</th>\n",
       "      <td>English</td>\n",
       "      <td>en</td>\n",
       "    </tr>\n",
       "  </tbody>\n",
       "</table>\n",
       "</div>"
      ],
      "text/plain": [
       "        languages original_language\n",
       "0         English                en\n",
       "1         English                en\n",
       "2  [English, Lao]                en\n",
       "3         English                en"
      ]
     },
     "execution_count": 11,
     "metadata": {},
     "output_type": "execute_result"
    }
   ],
   "source": [
    "# Extract language columns\n",
    "lang = movies_df[['languages', 'original_language']]\n",
    "\n",
    "# Rows where languages are different between the 2 columns\n",
    "print(lang[lang['languages'] != lang['original_language']].shape[0])\n",
    "lang[lang['languages'] != lang['original_language']].head(4)"
   ]
  },
  {
   "cell_type": "markdown",
   "metadata": {},
   "source": [
    "The Wikipedia `languages` column contains lists, so it would be easier to keep Kaggle's `original_language` column, assuming there are no missing or strange values."
   ]
  },
  {
   "cell_type": "code",
   "execution_count": 12,
   "metadata": {},
   "outputs": [
    {
     "name": "stdout",
     "output_type": "stream",
     "text": [
      "0\n"
     ]
    },
    {
     "data": {
      "text/plain": [
       "array(['en', 'de', 'es', 'fr', 'it', 'zh', 'sv', 'ja', 'da', 'pt', 'hi',\n",
       "       'ko', 'ab', 'tr', 'he', 'ar', 'cn', 'ru'], dtype=object)"
      ]
     },
     "execution_count": 12,
     "metadata": {},
     "output_type": "execute_result"
    }
   ],
   "source": [
    "# Check for null languages the Kaggle column\n",
    "print(lang[(lang['original_language'] == '') | (lang['original_language'].isnull())].shape[0])\n",
    "\n",
    "# Check Kaggle column values\n",
    "lang['original_language'].unique()"
   ]
  },
  {
   "cell_type": "code",
   "execution_count": 13,
   "metadata": {},
   "outputs": [
    {
     "data": {
      "text/html": [
       "<div>\n",
       "<style scoped>\n",
       "    .dataframe tbody tr th:only-of-type {\n",
       "        vertical-align: middle;\n",
       "    }\n",
       "\n",
       "    .dataframe tbody tr th {\n",
       "        vertical-align: top;\n",
       "    }\n",
       "\n",
       "    .dataframe thead th {\n",
       "        text-align: right;\n",
       "    }\n",
       "</style>\n",
       "<table border=\"1\" class=\"dataframe\">\n",
       "  <thead>\n",
       "    <tr style=\"text-align: right;\">\n",
       "      <th></th>\n",
       "      <th>wikipedia</th>\n",
       "      <th>kaggle</th>\n",
       "      <th>action</th>\n",
       "    </tr>\n",
       "  </thead>\n",
       "  <tbody>\n",
       "    <tr>\n",
       "      <th>0</th>\n",
       "      <td>box_office</td>\n",
       "      <td>revenue</td>\n",
       "      <td></td>\n",
       "    </tr>\n",
       "    <tr>\n",
       "      <th>1</th>\n",
       "      <td>budget_wiki</td>\n",
       "      <td>budget_kaggle</td>\n",
       "      <td></td>\n",
       "    </tr>\n",
       "    <tr>\n",
       "      <th>2</th>\n",
       "      <td>duration</td>\n",
       "      <td>runtime</td>\n",
       "      <td></td>\n",
       "    </tr>\n",
       "    <tr>\n",
       "      <th>3</th>\n",
       "      <td>languages</td>\n",
       "      <td>original_language</td>\n",
       "      <td>drop wiki col</td>\n",
       "    </tr>\n",
       "    <tr>\n",
       "      <th>4</th>\n",
       "      <td>production_companies_wiki</td>\n",
       "      <td>production_companies_kaggle</td>\n",
       "      <td></td>\n",
       "    </tr>\n",
       "    <tr>\n",
       "      <th>5</th>\n",
       "      <td>release_date_wiki</td>\n",
       "      <td>release_date_kaggle</td>\n",
       "      <td></td>\n",
       "    </tr>\n",
       "    <tr>\n",
       "      <th>6</th>\n",
       "      <td>title_wiki</td>\n",
       "      <td>title_kaggle</td>\n",
       "      <td>drop wiki col</td>\n",
       "    </tr>\n",
       "  </tbody>\n",
       "</table>\n",
       "</div>"
      ],
      "text/plain": [
       "                   wikipedia                       kaggle         action\n",
       "0                 box_office                      revenue               \n",
       "1                budget_wiki                budget_kaggle               \n",
       "2                   duration                      runtime               \n",
       "3                  languages            original_language  drop wiki col\n",
       "4  production_companies_wiki  production_companies_kaggle               \n",
       "5          release_date_wiki          release_date_kaggle               \n",
       "6                 title_wiki                 title_kaggle  drop wiki col"
      ]
     },
     "execution_count": 13,
     "metadata": {},
     "output_type": "execute_result"
    }
   ],
   "source": [
    "# Add action for language - drop the Wikipedia column\n",
    "redundant_cols.loc[3, 'action'] = 'drop wiki col'\n",
    "redundant_cols"
   ]
  },
  {
   "cell_type": "markdown",
   "metadata": {},
   "source": [
    "### Inspect production company columns"
   ]
  },
  {
   "cell_type": "code",
   "execution_count": 14,
   "metadata": {},
   "outputs": [
    {
     "name": "stdout",
     "output_type": "stream",
     "text": [
      "5983\n"
     ]
    },
    {
     "data": {
      "text/html": [
       "<div>\n",
       "<style scoped>\n",
       "    .dataframe tbody tr th:only-of-type {\n",
       "        vertical-align: middle;\n",
       "    }\n",
       "\n",
       "    .dataframe tbody tr th {\n",
       "        vertical-align: top;\n",
       "    }\n",
       "\n",
       "    .dataframe thead th {\n",
       "        text-align: right;\n",
       "    }\n",
       "</style>\n",
       "<table border=\"1\" class=\"dataframe\">\n",
       "  <thead>\n",
       "    <tr style=\"text-align: right;\">\n",
       "      <th></th>\n",
       "      <th>production_companies_wiki</th>\n",
       "      <th>production_companies_kaggle</th>\n",
       "    </tr>\n",
       "  </thead>\n",
       "  <tbody>\n",
       "    <tr>\n",
       "      <th>0</th>\n",
       "      <td>Silver Pictures</td>\n",
       "      <td>[{'name': 'Twentieth Century Fox Film Corporat...</td>\n",
       "    </tr>\n",
       "    <tr>\n",
       "      <th>1</th>\n",
       "      <td>Avenue Pictures</td>\n",
       "      <td>[{'name': 'Avenue Pictures Productions', 'id':...</td>\n",
       "    </tr>\n",
       "    <tr>\n",
       "      <th>2</th>\n",
       "      <td>[Carolco Pictures, IndieProd Company]</td>\n",
       "      <td>[{'name': 'IndieProd Company Productions', 'id...</td>\n",
       "    </tr>\n",
       "    <tr>\n",
       "      <th>3</th>\n",
       "      <td>NaN</td>\n",
       "      <td>[{'name': 'Orion Pictures', 'id': 41}]</td>\n",
       "    </tr>\n",
       "  </tbody>\n",
       "</table>\n",
       "</div>"
      ],
      "text/plain": [
       "               production_companies_wiki  \\\n",
       "0                        Silver Pictures   \n",
       "1                        Avenue Pictures   \n",
       "2  [Carolco Pictures, IndieProd Company]   \n",
       "3                                    NaN   \n",
       "\n",
       "                         production_companies_kaggle  \n",
       "0  [{'name': 'Twentieth Century Fox Film Corporat...  \n",
       "1  [{'name': 'Avenue Pictures Productions', 'id':...  \n",
       "2  [{'name': 'IndieProd Company Productions', 'id...  \n",
       "3             [{'name': 'Orion Pictures', 'id': 41}]  "
      ]
     },
     "execution_count": 14,
     "metadata": {},
     "output_type": "execute_result"
    }
   ],
   "source": [
    "# Extract production company columns\n",
    "production = movies_df[['production_companies_wiki', 'production_companies_kaggle']]\n",
    "\n",
    "# Rows where values are different between the 2 columns\n",
    "print(production[production['production_companies_wiki'] != production['production_companies_kaggle']].shape[0])\n",
    "production[production['production_companies_wiki'] != production['production_companies_kaggle']].head(4)"
   ]
  },
  {
   "cell_type": "code",
   "execution_count": 15,
   "metadata": {},
   "outputs": [
    {
     "data": {
      "text/plain": [
       "array([\"[{'name': 'Twentieth Century Fox Film Corporation', 'id': 306}, {'name': 'Silver Pictures', 'id': 1885}]\",\n",
       "       \"[{'name': 'Avenue Pictures Productions', 'id': 251}]\",\n",
       "       \"[{'name': 'IndieProd Company Productions', 'id': 959}, {'name': 'Carolco Pictures', 'id': 14723}]\",\n",
       "       ...,\n",
       "       \"[{'name': 'ARTE France Cinéma', 'id': 94}, {'name': 'Senator Film Produktion', 'id': 191}, {'name': 'Why Not Productions', 'id': 729}, {'name': 'Les Films Du Fleuve', 'id': 1926}, {'name': 'Non-Stop Productions', 'id': 5630}, {'name': 'Fetisoff Illusion', 'id': 90658}]\",\n",
       "       \"[{'name': 'Film Science', 'id': 1976}, {'name': 'Syncopated Films', 'id': 20311}, {'name': 'Rough House Pictures', 'id': 20848}]\",\n",
       "       \"[{'name': 'HanWay Films', 'id': 2395}, {'name': 'See-Saw Films', 'id': 7217}, {'name': 'Little Punk', 'id': 82010}]\"],\n",
       "      dtype=object)"
      ]
     },
     "execution_count": 15,
     "metadata": {},
     "output_type": "execute_result"
    }
   ],
   "source": [
    "# Check Kaggle column values\n",
    "production['production_companies_kaggle'].unique()"
   ]
  },
  {
   "cell_type": "code",
   "execution_count": 16,
   "metadata": {},
   "outputs": [
    {
     "data": {
      "text/plain": [
       "0"
      ]
     },
     "execution_count": 16,
     "metadata": {},
     "output_type": "execute_result"
    }
   ],
   "source": [
    "# Check for null values in the Kaggle column\n",
    "production[(production['production_companies_kaggle'] == '') | (production['production_companies_kaggle'] \\\n",
    "    .isnull())].shape[0]"
   ]
  },
  {
   "cell_type": "markdown",
   "metadata": {},
   "source": [
    "We will be keeping the Kaggle column because it's more descriptive than the Wikipedia values."
   ]
  },
  {
   "cell_type": "code",
   "execution_count": 17,
   "metadata": {},
   "outputs": [
    {
     "data": {
      "text/html": [
       "<div>\n",
       "<style scoped>\n",
       "    .dataframe tbody tr th:only-of-type {\n",
       "        vertical-align: middle;\n",
       "    }\n",
       "\n",
       "    .dataframe tbody tr th {\n",
       "        vertical-align: top;\n",
       "    }\n",
       "\n",
       "    .dataframe thead th {\n",
       "        text-align: right;\n",
       "    }\n",
       "</style>\n",
       "<table border=\"1\" class=\"dataframe\">\n",
       "  <thead>\n",
       "    <tr style=\"text-align: right;\">\n",
       "      <th></th>\n",
       "      <th>wikipedia</th>\n",
       "      <th>kaggle</th>\n",
       "      <th>action</th>\n",
       "    </tr>\n",
       "  </thead>\n",
       "  <tbody>\n",
       "    <tr>\n",
       "      <th>0</th>\n",
       "      <td>box_office</td>\n",
       "      <td>revenue</td>\n",
       "      <td></td>\n",
       "    </tr>\n",
       "    <tr>\n",
       "      <th>1</th>\n",
       "      <td>budget_wiki</td>\n",
       "      <td>budget_kaggle</td>\n",
       "      <td></td>\n",
       "    </tr>\n",
       "    <tr>\n",
       "      <th>2</th>\n",
       "      <td>duration</td>\n",
       "      <td>runtime</td>\n",
       "      <td></td>\n",
       "    </tr>\n",
       "    <tr>\n",
       "      <th>3</th>\n",
       "      <td>languages</td>\n",
       "      <td>original_language</td>\n",
       "      <td>drop wiki col</td>\n",
       "    </tr>\n",
       "    <tr>\n",
       "      <th>4</th>\n",
       "      <td>production_companies_wiki</td>\n",
       "      <td>production_companies_kaggle</td>\n",
       "      <td>drop wiki col</td>\n",
       "    </tr>\n",
       "    <tr>\n",
       "      <th>5</th>\n",
       "      <td>release_date_wiki</td>\n",
       "      <td>release_date_kaggle</td>\n",
       "      <td></td>\n",
       "    </tr>\n",
       "    <tr>\n",
       "      <th>6</th>\n",
       "      <td>title_wiki</td>\n",
       "      <td>title_kaggle</td>\n",
       "      <td>drop wiki col</td>\n",
       "    </tr>\n",
       "  </tbody>\n",
       "</table>\n",
       "</div>"
      ],
      "text/plain": [
       "                   wikipedia                       kaggle         action\n",
       "0                 box_office                      revenue               \n",
       "1                budget_wiki                budget_kaggle               \n",
       "2                   duration                      runtime               \n",
       "3                  languages            original_language  drop wiki col\n",
       "4  production_companies_wiki  production_companies_kaggle  drop wiki col\n",
       "5          release_date_wiki          release_date_kaggle               \n",
       "6                 title_wiki                 title_kaggle  drop wiki col"
      ]
     },
     "execution_count": 17,
     "metadata": {},
     "output_type": "execute_result"
    }
   ],
   "source": [
    "# Add action to production company - drop the Wikipedia column\n",
    "redundant_cols.loc[4, 'action'] = 'drop wiki col'\n",
    "redundant_cols"
   ]
  },
  {
   "cell_type": "markdown",
   "metadata": {},
   "source": [
    "### Inspect budget columns"
   ]
  },
  {
   "cell_type": "code",
   "execution_count": 18,
   "metadata": {},
   "outputs": [
    {
     "data": {
      "image/png": "[encoded data removed]",
      "text/plain": [
       "<Figure size 720x288 with 1 Axes>"
      ]
     },
     "metadata": {
      "needs_background": "light"
     },
     "output_type": "display_data"
    }
   ],
   "source": [
    "# Extract budget columns\n",
    "budget = movies_df[['budget_wiki', 'budget_kaggle']]\n",
    "\n",
    "# Scatterplot\n",
    "budget.plot(kind='scatter', x='budget_wiki', y='budget_kaggle', figsize=(10, 4), grid=True)\n",
    "plt.show()"
   ]
  },
  {
   "cell_type": "code",
   "execution_count": 19,
   "metadata": {},
   "outputs": [
    {
     "name": "stdout",
     "output_type": "stream",
     "text": [
      "Number of 0s in Wikipedia `budget`: 0\n",
      "Number of 0s in Kaggle `budget`: 2350\n"
     ]
    },
    {
     "data": {
      "text/plain": [
       "budget_wiki      1589\n",
       "budget_kaggle       0\n",
       "dtype: int64"
      ]
     },
     "execution_count": 19,
     "metadata": {},
     "output_type": "execute_result"
    }
   ],
   "source": [
    "# Number of 0 values\n",
    "print('Number of 0s in Wikipedia `budget`:', (budget['budget_wiki'] == 0).sum())\n",
    "print('Number of 0s in Kaggle `budget`:', (budget['budget_kaggle'] == 0).sum())\n",
    "\n",
    "# Check null values\n",
    "budget.isnull().sum()"
   ]
  },
  {
   "cell_type": "markdown",
   "metadata": {},
   "source": [
    "The Wikipedia data has 1589 missing `budget` values, but the Kaggle data has 2350 `budget` values of 0, which are probably missing values. We will use `budget_kaggle` to fill any missing `budget_wiki` and then drop `budget_kaggle`."
   ]
  },
  {
   "cell_type": "code",
   "execution_count": 20,
   "metadata": {},
   "outputs": [
    {
     "data": {
      "text/html": [
       "<div>\n",
       "<style scoped>\n",
       "    .dataframe tbody tr th:only-of-type {\n",
       "        vertical-align: middle;\n",
       "    }\n",
       "\n",
       "    .dataframe tbody tr th {\n",
       "        vertical-align: top;\n",
       "    }\n",
       "\n",
       "    .dataframe thead th {\n",
       "        text-align: right;\n",
       "    }\n",
       "</style>\n",
       "<table border=\"1\" class=\"dataframe\">\n",
       "  <thead>\n",
       "    <tr style=\"text-align: right;\">\n",
       "      <th></th>\n",
       "      <th>wikipedia</th>\n",
       "      <th>kaggle</th>\n",
       "      <th>action</th>\n",
       "    </tr>\n",
       "  </thead>\n",
       "  <tbody>\n",
       "    <tr>\n",
       "      <th>0</th>\n",
       "      <td>box_office</td>\n",
       "      <td>revenue</td>\n",
       "      <td></td>\n",
       "    </tr>\n",
       "    <tr>\n",
       "      <th>1</th>\n",
       "      <td>budget_wiki</td>\n",
       "      <td>budget_kaggle</td>\n",
       "      <td>fill wiki missing, drop kaggle col</td>\n",
       "    </tr>\n",
       "    <tr>\n",
       "      <th>2</th>\n",
       "      <td>duration</td>\n",
       "      <td>runtime</td>\n",
       "      <td></td>\n",
       "    </tr>\n",
       "    <tr>\n",
       "      <th>3</th>\n",
       "      <td>languages</td>\n",
       "      <td>original_language</td>\n",
       "      <td>drop wiki col</td>\n",
       "    </tr>\n",
       "    <tr>\n",
       "      <th>4</th>\n",
       "      <td>production_companies_wiki</td>\n",
       "      <td>production_companies_kaggle</td>\n",
       "      <td>drop wiki col</td>\n",
       "    </tr>\n",
       "    <tr>\n",
       "      <th>5</th>\n",
       "      <td>release_date_wiki</td>\n",
       "      <td>release_date_kaggle</td>\n",
       "      <td></td>\n",
       "    </tr>\n",
       "    <tr>\n",
       "      <th>6</th>\n",
       "      <td>title_wiki</td>\n",
       "      <td>title_kaggle</td>\n",
       "      <td>drop wiki col</td>\n",
       "    </tr>\n",
       "  </tbody>\n",
       "</table>\n",
       "</div>"
      ],
      "text/plain": [
       "                   wikipedia                       kaggle  \\\n",
       "0                 box_office                      revenue   \n",
       "1                budget_wiki                budget_kaggle   \n",
       "2                   duration                      runtime   \n",
       "3                  languages            original_language   \n",
       "4  production_companies_wiki  production_companies_kaggle   \n",
       "5          release_date_wiki          release_date_kaggle   \n",
       "6                 title_wiki                 title_kaggle   \n",
       "\n",
       "                               action  \n",
       "0                                      \n",
       "1  fill wiki missing, drop kaggle col  \n",
       "2                                      \n",
       "3                       drop wiki col  \n",
       "4                       drop wiki col  \n",
       "5                                      \n",
       "6                       drop wiki col  "
      ]
     },
     "execution_count": 20,
     "metadata": {},
     "output_type": "execute_result"
    }
   ],
   "source": [
    "# Add action to budget - fill Wikipedia's missing values with Kaggle's budget values, then drop the Kaggle column\n",
    "redundant_cols.loc[1, 'action'] = 'fill wiki missing, drop kaggle col'\n",
    "redundant_cols"
   ]
  },
  {
   "cell_type": "markdown",
   "metadata": {},
   "source": [
    "### Inspect revenue columns"
   ]
  },
  {
   "cell_type": "code",
   "execution_count": 21,
   "metadata": {},
   "outputs": [
    {
     "data": {
      "image/png": "[encoded data removed]",
      "text/plain": [
       "<Figure size 720x288 with 1 Axes>"
      ]
     },
     "metadata": {
      "needs_background": "light"
     },
     "output_type": "display_data"
    }
   ],
   "source": [
    "# Extract budget columns\n",
    "revenue = movies_df[['box_office', 'revenue']]\n",
    "\n",
    "# Scatterplot\n",
    "revenue.plot(kind='scatter', x='box_office', y='revenue', figsize=(10, 4), grid=True)\n",
    "plt.show()"
   ]
  },
  {
   "cell_type": "code",
   "execution_count": 22,
   "metadata": {},
   "outputs": [
    {
     "name": "stdout",
     "output_type": "stream",
     "text": [
      "Number of 0s in Wikipedia `box_office`: 0\n",
      "Number of 0s in Kaggle `revenue`: 2326\n"
     ]
    },
    {
     "data": {
      "text/plain": [
       "box_office    898\n",
       "revenue         0\n",
       "dtype: int64"
      ]
     },
     "execution_count": 22,
     "metadata": {},
     "output_type": "execute_result"
    }
   ],
   "source": [
    "# Number of 0 values\n",
    "print('Number of 0s in Wikipedia `box_office`:', (revenue['box_office'] == 0).sum())\n",
    "print('Number of 0s in Kaggle `revenue`:', (revenue['revenue'] == 0).sum())\n",
    "\n",
    "# Check null values\n",
    "revenue.isnull().sum()"
   ]
  },
  {
   "cell_type": "markdown",
   "metadata": {},
   "source": [
    "This is the same case as `budget` so we will take the same action for `revenue`."
   ]
  },
  {
   "cell_type": "code",
   "execution_count": 23,
   "metadata": {},
   "outputs": [
    {
     "data": {
      "text/html": [
       "<div>\n",
       "<style scoped>\n",
       "    .dataframe tbody tr th:only-of-type {\n",
       "        vertical-align: middle;\n",
       "    }\n",
       "\n",
       "    .dataframe tbody tr th {\n",
       "        vertical-align: top;\n",
       "    }\n",
       "\n",
       "    .dataframe thead th {\n",
       "        text-align: right;\n",
       "    }\n",
       "</style>\n",
       "<table border=\"1\" class=\"dataframe\">\n",
       "  <thead>\n",
       "    <tr style=\"text-align: right;\">\n",
       "      <th></th>\n",
       "      <th>wikipedia</th>\n",
       "      <th>kaggle</th>\n",
       "      <th>action</th>\n",
       "    </tr>\n",
       "  </thead>\n",
       "  <tbody>\n",
       "    <tr>\n",
       "      <th>0</th>\n",
       "      <td>box_office</td>\n",
       "      <td>revenue</td>\n",
       "      <td>fill wiki missing, drop kaggle col</td>\n",
       "    </tr>\n",
       "    <tr>\n",
       "      <th>1</th>\n",
       "      <td>budget_wiki</td>\n",
       "      <td>budget_kaggle</td>\n",
       "      <td>fill wiki missing, drop kaggle col</td>\n",
       "    </tr>\n",
       "    <tr>\n",
       "      <th>2</th>\n",
       "      <td>duration</td>\n",
       "      <td>runtime</td>\n",
       "      <td></td>\n",
       "    </tr>\n",
       "    <tr>\n",
       "      <th>3</th>\n",
       "      <td>languages</td>\n",
       "      <td>original_language</td>\n",
       "      <td>drop wiki col</td>\n",
       "    </tr>\n",
       "    <tr>\n",
       "      <th>4</th>\n",
       "      <td>production_companies_wiki</td>\n",
       "      <td>production_companies_kaggle</td>\n",
       "      <td>drop wiki col</td>\n",
       "    </tr>\n",
       "    <tr>\n",
       "      <th>5</th>\n",
       "      <td>release_date_wiki</td>\n",
       "      <td>release_date_kaggle</td>\n",
       "      <td></td>\n",
       "    </tr>\n",
       "    <tr>\n",
       "      <th>6</th>\n",
       "      <td>title_wiki</td>\n",
       "      <td>title_kaggle</td>\n",
       "      <td>drop wiki col</td>\n",
       "    </tr>\n",
       "  </tbody>\n",
       "</table>\n",
       "</div>"
      ],
      "text/plain": [
       "                   wikipedia                       kaggle  \\\n",
       "0                 box_office                      revenue   \n",
       "1                budget_wiki                budget_kaggle   \n",
       "2                   duration                      runtime   \n",
       "3                  languages            original_language   \n",
       "4  production_companies_wiki  production_companies_kaggle   \n",
       "5          release_date_wiki          release_date_kaggle   \n",
       "6                 title_wiki                 title_kaggle   \n",
       "\n",
       "                               action  \n",
       "0  fill wiki missing, drop kaggle col  \n",
       "1  fill wiki missing, drop kaggle col  \n",
       "2                                      \n",
       "3                       drop wiki col  \n",
       "4                       drop wiki col  \n",
       "5                                      \n",
       "6                       drop wiki col  "
      ]
     },
     "execution_count": 23,
     "metadata": {},
     "output_type": "execute_result"
    }
   ],
   "source": [
    "# Add action to revenue - same as budget\n",
    "redundant_cols.loc[0, 'action'] = 'fill wiki missing, drop kaggle col'\n",
    "redundant_cols"
   ]
  },
  {
   "cell_type": "markdown",
   "metadata": {},
   "source": [
    "### Inspect runtime columns"
   ]
  },
  {
   "cell_type": "code",
   "execution_count": 24,
   "metadata": {},
   "outputs": [
    {
     "data": {
      "image/png": "[encoded data removed]",
      "text/plain": [
       "<Figure size 720x288 with 1 Axes>"
      ]
     },
     "metadata": {
      "needs_background": "light"
     },
     "output_type": "display_data"
    }
   ],
   "source": [
    "# Extract budget columns\n",
    "run = movies_df[['duration', 'runtime']]\n",
    "\n",
    "# Scatterplot\n",
    "run.plot(kind='scatter', x='duration', y='runtime', figsize=(10, 4), grid=True)\n",
    "plt.show()"
   ]
  },
  {
   "cell_type": "code",
   "execution_count": 25,
   "metadata": {},
   "outputs": [
    {
     "name": "stdout",
     "output_type": "stream",
     "text": [
      "Number of 0s in Wikipedia `duration`: 0\n",
      "Number of 0s in Kaggle `runtime`: 14\n"
     ]
    },
    {
     "data": {
      "text/plain": [
       "duration    2\n",
       "runtime     0\n",
       "dtype: int64"
      ]
     },
     "execution_count": 25,
     "metadata": {},
     "output_type": "execute_result"
    }
   ],
   "source": [
    "# Number of 0 values\n",
    "print('Number of 0s in Wikipedia `duration`:', (run['duration'] == 0).sum())\n",
    "print('Number of 0s in Kaggle `runtime`:', (run['runtime'] == 0).sum())\n",
    "\n",
    "# Check null values\n",
    "run.isnull().sum()"
   ]
  },
  {
   "cell_type": "markdown",
   "metadata": {},
   "source": [
    "Even though the Wikipedia data (`duration`) contains less missing/0 values, it has some extreme outliers, so we will actually use it to fill in the Kaggle data's (`runtime`) zero values and then drop it (drop `duration`)."
   ]
  },
  {
   "cell_type": "code",
   "execution_count": 26,
   "metadata": {},
   "outputs": [
    {
     "data": {
      "text/html": [
       "<div>\n",
       "<style scoped>\n",
       "    .dataframe tbody tr th:only-of-type {\n",
       "        vertical-align: middle;\n",
       "    }\n",
       "\n",
       "    .dataframe tbody tr th {\n",
       "        vertical-align: top;\n",
       "    }\n",
       "\n",
       "    .dataframe thead th {\n",
       "        text-align: right;\n",
       "    }\n",
       "</style>\n",
       "<table border=\"1\" class=\"dataframe\">\n",
       "  <thead>\n",
       "    <tr style=\"text-align: right;\">\n",
       "      <th></th>\n",
       "      <th>wikipedia</th>\n",
       "      <th>kaggle</th>\n",
       "      <th>action</th>\n",
       "    </tr>\n",
       "  </thead>\n",
       "  <tbody>\n",
       "    <tr>\n",
       "      <th>0</th>\n",
       "      <td>box_office</td>\n",
       "      <td>revenue</td>\n",
       "      <td>fill wiki missing, drop kaggle col</td>\n",
       "    </tr>\n",
       "    <tr>\n",
       "      <th>1</th>\n",
       "      <td>budget_wiki</td>\n",
       "      <td>budget_kaggle</td>\n",
       "      <td>fill wiki missing, drop kaggle col</td>\n",
       "    </tr>\n",
       "    <tr>\n",
       "      <th>2</th>\n",
       "      <td>duration</td>\n",
       "      <td>runtime</td>\n",
       "      <td>fill kaggle missing, drop wiki col</td>\n",
       "    </tr>\n",
       "    <tr>\n",
       "      <th>3</th>\n",
       "      <td>languages</td>\n",
       "      <td>original_language</td>\n",
       "      <td>drop wiki col</td>\n",
       "    </tr>\n",
       "    <tr>\n",
       "      <th>4</th>\n",
       "      <td>production_companies_wiki</td>\n",
       "      <td>production_companies_kaggle</td>\n",
       "      <td>drop wiki col</td>\n",
       "    </tr>\n",
       "    <tr>\n",
       "      <th>5</th>\n",
       "      <td>release_date_wiki</td>\n",
       "      <td>release_date_kaggle</td>\n",
       "      <td></td>\n",
       "    </tr>\n",
       "    <tr>\n",
       "      <th>6</th>\n",
       "      <td>title_wiki</td>\n",
       "      <td>title_kaggle</td>\n",
       "      <td>drop wiki col</td>\n",
       "    </tr>\n",
       "  </tbody>\n",
       "</table>\n",
       "</div>"
      ],
      "text/plain": [
       "                   wikipedia                       kaggle  \\\n",
       "0                 box_office                      revenue   \n",
       "1                budget_wiki                budget_kaggle   \n",
       "2                   duration                      runtime   \n",
       "3                  languages            original_language   \n",
       "4  production_companies_wiki  production_companies_kaggle   \n",
       "5          release_date_wiki          release_date_kaggle   \n",
       "6                 title_wiki                 title_kaggle   \n",
       "\n",
       "                               action  \n",
       "0  fill wiki missing, drop kaggle col  \n",
       "1  fill wiki missing, drop kaggle col  \n",
       "2  fill kaggle missing, drop wiki col  \n",
       "3                       drop wiki col  \n",
       "4                       drop wiki col  \n",
       "5                                      \n",
       "6                       drop wiki col  "
      ]
     },
     "execution_count": 26,
     "metadata": {},
     "output_type": "execute_result"
    }
   ],
   "source": [
    "# Add action to runtime - fill the zero values in the Kaggle column, then drop the Wikipedia column\n",
    "redundant_cols.loc[2, 'action'] = 'fill kaggle missing, drop wiki col'\n",
    "redundant_cols"
   ]
  },
  {
   "cell_type": "markdown",
   "metadata": {},
   "source": [
    "### Inspect release date column"
   ]
  },
  {
   "cell_type": "code",
   "execution_count": 27,
   "metadata": {},
   "outputs": [
    {
     "data": {
      "image/png": "[encoded data removed]",
      "text/plain": [
       "<Figure size 720x288 with 1 Axes>"
      ]
     },
     "metadata": {
      "needs_background": "light"
     },
     "output_type": "display_data"
    }
   ],
   "source": [
    "# Extract budget columns\n",
    "release = movies_df[['release_date_wiki', 'release_date_kaggle']]\n",
    "\n",
    "# Scatterplot\n",
    "release.plot(x='release_date_wiki', y='release_date_kaggle', style='.', \n",
    "             figsize=(10, 4), grid=True, legend=False, ylabel='release_date_kaggle')\n",
    "plt.xticks(rotation=0, ha='center')\n",
    "plt.show()"
   ]
  },
  {
   "cell_type": "markdown",
   "metadata": {},
   "source": [
    "There is a strange outlier with a `release_date` before 1960 in the Kaggle data but after 2000 in the Wikipedia data. Let's inspect this movie."
   ]
  },
  {
   "cell_type": "code",
   "execution_count": 28,
   "metadata": {},
   "outputs": [
    {
     "data": {
      "text/html": [
       "<div>\n",
       "<style scoped>\n",
       "    .dataframe tbody tr th:only-of-type {\n",
       "        vertical-align: middle;\n",
       "    }\n",
       "\n",
       "    .dataframe tbody tr th {\n",
       "        vertical-align: top;\n",
       "    }\n",
       "\n",
       "    .dataframe thead th {\n",
       "        text-align: right;\n",
       "    }\n",
       "</style>\n",
       "<table border=\"1\" class=\"dataframe\">\n",
       "  <thead>\n",
       "    <tr style=\"text-align: right;\">\n",
       "      <th></th>\n",
       "      <th>title_wiki</th>\n",
       "      <th>title_kaggle</th>\n",
       "      <th>release_date_wiki</th>\n",
       "      <th>release_date_kaggle</th>\n",
       "    </tr>\n",
       "  </thead>\n",
       "  <tbody>\n",
       "    <tr>\n",
       "      <th>3586</th>\n",
       "      <td>The Holiday</td>\n",
       "      <td>From Here to Eternity</td>\n",
       "      <td>2006-12-08</td>\n",
       "      <td>1953-08-28</td>\n",
       "    </tr>\n",
       "  </tbody>\n",
       "</table>\n",
       "</div>"
      ],
      "text/plain": [
       "       title_wiki           title_kaggle release_date_wiki release_date_kaggle\n",
       "3586  The Holiday  From Here to Eternity        2006-12-08          1953-08-28"
      ]
     },
     "execution_count": 28,
     "metadata": {},
     "output_type": "execute_result"
    }
   ],
   "source": [
    "# Inspect outlier\n",
    "release_outlier = movies_df.loc[(movies_df['release_date_wiki'] > '2000') & (movies_df['release_date_kaggle'] < '1960'),\n",
    "                                ['title_wiki', 'title_kaggle', 'release_date_wiki', 'release_date_kaggle']]\n",
    "release_outlier"
   ]
  },
  {
   "cell_type": "code",
   "execution_count": 29,
   "metadata": {},
   "outputs": [
    {
     "data": {
      "text/plain": [
       "release_date_wiki      8\n",
       "release_date_kaggle    0\n",
       "dtype: int64"
      ]
     },
     "execution_count": 29,
     "metadata": {},
     "output_type": "execute_result"
    }
   ],
   "source": [
    "# Check null values\n",
    "release.isnull().sum()"
   ]
  },
  {
   "cell_type": "markdown",
   "metadata": {},
   "source": [
    "It looks like 2 different movies shared an `imdb_id` so they were merged together. We will be dropping this single movie and the Wikipedia `release_date` since it has some missing values."
   ]
  },
  {
   "cell_type": "code",
   "execution_count": 30,
   "metadata": {},
   "outputs": [
    {
     "data": {
      "text/html": [
       "<div>\n",
       "<style scoped>\n",
       "    .dataframe tbody tr th:only-of-type {\n",
       "        vertical-align: middle;\n",
       "    }\n",
       "\n",
       "    .dataframe tbody tr th {\n",
       "        vertical-align: top;\n",
       "    }\n",
       "\n",
       "    .dataframe thead th {\n",
       "        text-align: right;\n",
       "    }\n",
       "</style>\n",
       "<table border=\"1\" class=\"dataframe\">\n",
       "  <thead>\n",
       "    <tr style=\"text-align: right;\">\n",
       "      <th></th>\n",
       "      <th>wikipedia</th>\n",
       "      <th>kaggle</th>\n",
       "      <th>action</th>\n",
       "    </tr>\n",
       "  </thead>\n",
       "  <tbody>\n",
       "    <tr>\n",
       "      <th>0</th>\n",
       "      <td>box_office</td>\n",
       "      <td>revenue</td>\n",
       "      <td>fill wiki missing, drop kaggle col</td>\n",
       "    </tr>\n",
       "    <tr>\n",
       "      <th>1</th>\n",
       "      <td>budget_wiki</td>\n",
       "      <td>budget_kaggle</td>\n",
       "      <td>fill wiki missing, drop kaggle col</td>\n",
       "    </tr>\n",
       "    <tr>\n",
       "      <th>2</th>\n",
       "      <td>duration</td>\n",
       "      <td>runtime</td>\n",
       "      <td>fill kaggle missing, drop wiki col</td>\n",
       "    </tr>\n",
       "    <tr>\n",
       "      <th>3</th>\n",
       "      <td>languages</td>\n",
       "      <td>original_language</td>\n",
       "      <td>drop wiki col</td>\n",
       "    </tr>\n",
       "    <tr>\n",
       "      <th>4</th>\n",
       "      <td>production_companies_wiki</td>\n",
       "      <td>production_companies_kaggle</td>\n",
       "      <td>drop wiki col</td>\n",
       "    </tr>\n",
       "    <tr>\n",
       "      <th>5</th>\n",
       "      <td>release_date_wiki</td>\n",
       "      <td>release_date_kaggle</td>\n",
       "      <td>drop outlier, drop wiki col</td>\n",
       "    </tr>\n",
       "    <tr>\n",
       "      <th>6</th>\n",
       "      <td>title_wiki</td>\n",
       "      <td>title_kaggle</td>\n",
       "      <td>drop wiki col</td>\n",
       "    </tr>\n",
       "  </tbody>\n",
       "</table>\n",
       "</div>"
      ],
      "text/plain": [
       "                   wikipedia                       kaggle  \\\n",
       "0                 box_office                      revenue   \n",
       "1                budget_wiki                budget_kaggle   \n",
       "2                   duration                      runtime   \n",
       "3                  languages            original_language   \n",
       "4  production_companies_wiki  production_companies_kaggle   \n",
       "5          release_date_wiki          release_date_kaggle   \n",
       "6                 title_wiki                 title_kaggle   \n",
       "\n",
       "                               action  \n",
       "0  fill wiki missing, drop kaggle col  \n",
       "1  fill wiki missing, drop kaggle col  \n",
       "2  fill kaggle missing, drop wiki col  \n",
       "3                       drop wiki col  \n",
       "4                       drop wiki col  \n",
       "5         drop outlier, drop wiki col  \n",
       "6                       drop wiki col  "
      ]
     },
     "execution_count": 30,
     "metadata": {},
     "output_type": "execute_result"
    }
   ],
   "source": [
    "# Add action to release date - drop outlier and drop the Wikipedia column\n",
    "redundant_cols.loc[5, 'action'] = 'drop outlier, drop wiki col'\n",
    "redundant_cols"
   ]
  },
  {
   "cell_type": "markdown",
   "metadata": {},
   "source": [
    "### Drop redundant columns\n",
    "\n",
    "With a plan defined for each pair of redundant columns in the table above, we will now be executing these actions."
   ]
  },
  {
   "cell_type": "code",
   "execution_count": 31,
   "metadata": {},
   "outputs": [
    {
     "data": {
      "text/plain": [
       "(5982, 32)"
      ]
     },
     "execution_count": 31,
     "metadata": {},
     "output_type": "execute_result"
    }
   ],
   "source": [
    "# Drop `title_wiki`, `languages`, and `production_companies_wiki`\n",
    "movies_df.drop(['title_wiki', 'languages', 'production_companies_wiki'], axis=1, inplace=True)\n",
    "\n",
    "# Drop the `release_date` outlier then drop `release_date_wiki`\n",
    "movies_df.drop(release_outlier.index, inplace=True)\n",
    "movies_df.drop('release_date_wiki', axis=1, inplace=True)\n",
    "movies_df.shape"
   ]
  },
  {
   "cell_type": "code",
   "execution_count": 32,
   "metadata": {},
   "outputs": [
    {
     "name": "stdout",
     "output_type": "stream",
     "text": [
      "<class 'pandas.core.frame.DataFrame'>\n",
      "Int64Index: 5982 entries, 0 to 5982\n",
      "Data columns (total 29 columns):\n",
      " #   Column                       Non-Null Count  Dtype         \n",
      "---  ------                       --------------  -----         \n",
      " 0   box_office                   5149 non-null   float64       \n",
      " 1   budget_wiki                  4600 non-null   float64       \n",
      " 2   cinematographers             5519 non-null   object        \n",
      " 3   country                      5819 non-null   object        \n",
      " 4   director                     5982 non-null   object        \n",
      " 5   distributor                  5824 non-null   object        \n",
      " 6   editors                      5657 non-null   object        \n",
      " 7   composers                    5663 non-null   object        \n",
      " 8   producers                    5878 non-null   object        \n",
      " 9   writers                      5854 non-null   object        \n",
      " 10  stars                        5877 non-null   object        \n",
      " 11  imdb_link                    5982 non-null   object        \n",
      " 12  url                          5982 non-null   object        \n",
      " 13  year                         5982 non-null   int64         \n",
      " 14  genres                       5982 non-null   object        \n",
      " 15  imdb_id                      5982 non-null   object        \n",
      " 16  original_language            5982 non-null   object        \n",
      " 17  overview                     5977 non-null   object        \n",
      " 18  popularity                   5982 non-null   float64       \n",
      " 19  poster_path                  5981 non-null   object        \n",
      " 20  production_companies_kaggle  5982 non-null   object        \n",
      " 21  production_countries         5982 non-null   object        \n",
      " 22  release_date_kaggle          5982 non-null   datetime64[ns]\n",
      " 23  runtime                      5982 non-null   float64       \n",
      " 24  spoken_languages             5982 non-null   object        \n",
      " 25  status                       5978 non-null   object        \n",
      " 26  title_kaggle                 5982 non-null   object        \n",
      " 27  vote_average                 5982 non-null   float64       \n",
      " 28  vote_count                   5982 non-null   float64       \n",
      "dtypes: datetime64[ns](1), float64(6), int64(1), object(21)\n",
      "memory usage: 1.4+ MB\n"
     ]
    }
   ],
   "source": [
    "def filla_dropb(cola, colb, data):\n",
    "    \n",
    "    \"\"\" Fill missing values in column a (keep) using values in column b (drop), then drop column b \"\"\"\n",
    "    \n",
    "    # Copy dataframe\n",
    "    df = data.copy()\n",
    "    \n",
    "    def filla(row):\n",
    "        cond1 = pd.isnull(row[cola]) or row[cola] == 0\n",
    "        cond2 = pd.notnull(row[colb]) and row[colb] != 0\n",
    "        return row[colb] if cond1 and cond2 else row[cola]\n",
    "            \n",
    "    df[cola] = df.apply(filla, axis=1)\n",
    "    return df.drop(colb, axis=1)\n",
    "    \n",
    "\n",
    "# Fill `budget`, `revenue`, and `runtime` missing values, then drop `Budget`, `Box office`, `Duration`\n",
    "movies_df = filla_dropb('box_office', 'revenue', data=movies_df)\n",
    "movies_df = filla_dropb('budget_wiki', 'budget_kaggle', data=movies_df)\n",
    "movies_df = filla_dropb('runtime', 'duration', data=movies_df)\n",
    "movies_df.info()"
   ]
  },
  {
   "cell_type": "markdown",
   "metadata": {},
   "source": [
    "### Rename and reorder columns"
   ]
  },
  {
   "cell_type": "code",
   "execution_count": 33,
   "metadata": {},
   "outputs": [
    {
     "data": {
      "text/plain": [
       "Index(['box_office', 'budget_wiki', 'cinematographers', 'country', 'director',\n",
       "       'distributor', 'editors', 'composers', 'producers', 'writers', 'stars',\n",
       "       'imdb_link', 'url', 'year', 'genres', 'imdb_id', 'original_language',\n",
       "       'overview', 'popularity', 'poster_path', 'production_companies_kaggle',\n",
       "       'production_countries', 'release_date_kaggle', 'runtime',\n",
       "       'spoken_languages', 'status', 'title_kaggle', 'vote_average',\n",
       "       'vote_count'],\n",
       "      dtype='object')"
      ]
     },
     "execution_count": 33,
     "metadata": {},
     "output_type": "execute_result"
    }
   ],
   "source": [
    "# List columns\n",
    "movies_df.columns"
   ]
  },
  {
   "cell_type": "code",
   "execution_count": 34,
   "metadata": {},
   "outputs": [
    {
     "name": "stdout",
     "output_type": "stream",
     "text": [
      "<class 'pandas.core.frame.DataFrame'>\n",
      "Int64Index: 5982 entries, 0 to 5982\n",
      "Data columns (total 29 columns):\n",
      " #   Column                Non-Null Count  Dtype         \n",
      "---  ------                --------------  -----         \n",
      " 0   imdb_id               5982 non-null   object        \n",
      " 1   imdb_link             5982 non-null   object        \n",
      " 2   url                   5982 non-null   object        \n",
      " 3   poster_path           5981 non-null   object        \n",
      " 4   title                 5982 non-null   object        \n",
      " 5   overview              5977 non-null   object        \n",
      " 6   release_date          5982 non-null   datetime64[ns]\n",
      " 7   year                  5982 non-null   int64         \n",
      " 8   runtime               5982 non-null   float64       \n",
      " 9   budget                4600 non-null   float64       \n",
      " 10  revenue               5149 non-null   float64       \n",
      " 11  genres                5982 non-null   object        \n",
      " 12  country               5819 non-null   object        \n",
      " 13  language              5982 non-null   object        \n",
      " 14  spoken_languages      5982 non-null   object        \n",
      " 15  status                5978 non-null   object        \n",
      " 16  popularity            5982 non-null   float64       \n",
      " 17  vote_average          5982 non-null   float64       \n",
      " 18  vote_count            5982 non-null   float64       \n",
      " 19  producers             5878 non-null   object        \n",
      " 20  writers               5854 non-null   object        \n",
      " 21  director              5982 non-null   object        \n",
      " 22  cinematographers      5519 non-null   object        \n",
      " 23  editors               5657 non-null   object        \n",
      " 24  composers             5663 non-null   object        \n",
      " 25  stars                 5877 non-null   object        \n",
      " 26  production_companies  5982 non-null   object        \n",
      " 27  production_countries  5982 non-null   object        \n",
      " 28  distributor           5824 non-null   object        \n",
      "dtypes: datetime64[ns](1), float64(6), int64(1), object(21)\n",
      "memory usage: 1.4+ MB\n"
     ]
    }
   ],
   "source": [
    "# Column order\n",
    "col_order = ['imdb_id', 'imdb_link', 'url', 'poster_path', 'title_kaggle', 'overview',\n",
    "             'release_date_kaggle', 'year', 'runtime', 'budget_wiki', 'box_office', \n",
    "             'genres', 'country', 'original_language', 'spoken_languages',\n",
    "             'status', 'popularity', 'vote_average', 'vote_count', \n",
    "             'producers', 'writers', 'director', 'cinematographers', 'editors', 'composers', 'stars',\n",
    "             'production_companies_kaggle', 'production_countries', 'distributor']\n",
    "\n",
    "# New column names\n",
    "col_names = ['imdb_id', 'imdb_link', 'url', 'poster_path', 'title', 'overview',\n",
    "             'release_date', 'year', 'runtime', 'budget', 'revenue', \n",
    "             'genres', 'country', 'language', 'spoken_languages',\n",
    "             'status', 'popularity', 'vote_average', 'vote_count', \n",
    "             'producers', 'writers', 'director', 'cinematographers', 'editors', 'composers', 'stars',\n",
    "             'production_companies', 'production_countries', 'distributor']\n",
    "\n",
    "# Rename and order columns\n",
    "movies_df = movies_df.rename({old: new for old, new in zip(col_order, col_names)}, axis=1)\n",
    "movies_df = movies_df[col_names]\n",
    "movies_df.info()"
   ]
  },
  {
   "cell_type": "markdown",
   "metadata": {},
   "source": [
    "### Save movie data"
   ]
  },
  {
   "cell_type": "code",
   "execution_count": 35,
   "metadata": {},
   "outputs": [
    {
     "name": "stdout",
     "output_type": "stream",
     "text": [
      "<class 'pandas.core.frame.DataFrame'>\n",
      "Int64Index: 5982 entries, 0 to 5982\n",
      "Data columns (total 29 columns):\n",
      " #   Column                Non-Null Count  Dtype         \n",
      "---  ------                --------------  -----         \n",
      " 0   imdb_id               5982 non-null   object        \n",
      " 1   imdb_link             5982 non-null   object        \n",
      " 2   url                   5982 non-null   object        \n",
      " 3   poster_path           5981 non-null   object        \n",
      " 4   title                 5982 non-null   object        \n",
      " 5   overview              5977 non-null   object        \n",
      " 6   release_date          5982 non-null   datetime64[ns]\n",
      " 7   year                  5982 non-null   int64         \n",
      " 8   runtime               5982 non-null   float64       \n",
      " 9   budget                4600 non-null   float64       \n",
      " 10  revenue               5149 non-null   float64       \n",
      " 11  genres                5982 non-null   object        \n",
      " 12  country               5819 non-null   object        \n",
      " 13  language              5982 non-null   object        \n",
      " 14  spoken_languages      5982 non-null   object        \n",
      " 15  status                5978 non-null   object        \n",
      " 16  popularity            5982 non-null   float64       \n",
      " 17  vote_average          5982 non-null   float64       \n",
      " 18  vote_count            5982 non-null   float64       \n",
      " 19  producers             5878 non-null   object        \n",
      " 20  writers               5854 non-null   object        \n",
      " 21  director              5982 non-null   object        \n",
      " 22  cinematographers      5519 non-null   object        \n",
      " 23  editors               5657 non-null   object        \n",
      " 24  composers             5663 non-null   object        \n",
      " 25  stars                 5877 non-null   object        \n",
      " 26  production_companies  5982 non-null   object        \n",
      " 27  production_countries  5982 non-null   object        \n",
      " 28  distributor           5824 non-null   object        \n",
      "dtypes: datetime64[ns](1), float64(6), int64(1), object(21)\n",
      "memory usage: 1.4+ MB\n"
     ]
    }
   ],
   "source": [
    "# Save data\n",
    "movies_df.to_pickle(data_path + 'movies.pkl')\n",
    "pd.read_pickle(data_path + 'movies.pkl').info()"
   ]
  },
  {
   "cell_type": "code",
   "execution_count": null,
   "metadata": {},
   "outputs": [],
   "source": []
  }
 ],
 "metadata": {
  "kernelspec": {
   "display_name": "Python [conda env:minds] *",
   "language": "python",
   "name": "conda-env-minds-py"
  },
  "language_info": {
   "codemirror_mode": {
    "name": "ipython",
    "version": 3
   },
   "file_extension": ".py",
   "mimetype": "text/x-python",
   "name": "python",
   "nbconvert_exporter": "python",
   "pygments_lexer": "ipython3",
   "version": "3.7.9"
  }
 },
 "nbformat": 4,
 "nbformat_minor": 4
}
