{
 "cells": [
  {
   "cell_type": "markdown",
   "metadata": {},
   "source": [
    "# Movie Data ETL Pipeline - Transform\n",
    "\n",
    "This notebook will continue the transform step of the pipeline by merging the Wikipedia data and the Kaggle data. A few additional cleaning and transformations will have to be done on the combined data before it is ready to be loaded into a SQL database.\n",
    "\n",
    "### Dependencies"
   ]
  },
  {
   "cell_type": "code",
   "execution_count": 1,
   "metadata": {},
   "outputs": [],
   "source": [
    "%matplotlib inline\n",
    "\n",
    "import datetime\n",
    "import json\n",
    "import re\n",
    "import numpy as np\n",
    "import pandas as pd\n",
    "import matplotlib.pyplot as plt"
   ]
  },
  {
   "cell_type": "markdown",
   "metadata": {},
   "source": [
    "### Wikipedia data"
   ]
  },
  {
   "cell_type": "code",
   "execution_count": 2,
   "metadata": {},
   "outputs": [],
   "source": [
    "# Path to data directory\n",
    "data_path = '../data/'"
   ]
  },
  {
   "cell_type": "code",
   "execution_count": 3,
   "metadata": {},
   "outputs": [
    {
     "name": "stdout",
     "output_type": "stream",
     "text": [
      "<class 'pandas.core.frame.DataFrame'>\n",
      "Int64Index: 6894 entries, 0 to 6935\n",
      "Data columns (total 20 columns):\n",
      " #   Column                Non-Null Count  Dtype         \n",
      "---  ------                --------------  -----         \n",
      " 0   box_office            5449 non-null   float64       \n",
      " 1   budget                4712 non-null   float64       \n",
      " 2   cinematographers      6249 non-null   object        \n",
      " 3   country               6674 non-null   object        \n",
      " 4   director              6894 non-null   object        \n",
      " 5   distributor           6591 non-null   object        \n",
      " 6   editors               6409 non-null   object        \n",
      " 7   languages             6823 non-null   object        \n",
      " 8   composers             6427 non-null   object        \n",
      " 9   producers             6720 non-null   object        \n",
      " 10  production_companies  5297 non-null   object        \n",
      " 11  release_date          6869 non-null   datetime64[ns]\n",
      " 12  duration              6892 non-null   float64       \n",
      " 13  writers               6710 non-null   object        \n",
      " 14  stars                 6729 non-null   object        \n",
      " 15  imdb_link             6894 non-null   object        \n",
      " 16  title                 6894 non-null   object        \n",
      " 17  url                   6894 non-null   object        \n",
      " 18  year                  6894 non-null   int64         \n",
      " 19  id                    6894 non-null   object        \n",
      "dtypes: datetime64[ns](1), float64(3), int64(1), object(15)\n",
      "memory usage: 1.1+ MB\n",
      "None\n"
     ]
    },
    {
     "data": {
      "text/html": [
       "<div>\n",
       "<style scoped>\n",
       "    .dataframe tbody tr th:only-of-type {\n",
       "        vertical-align: middle;\n",
       "    }\n",
       "\n",
       "    .dataframe tbody tr th {\n",
       "        vertical-align: top;\n",
       "    }\n",
       "\n",
       "    .dataframe thead th {\n",
       "        text-align: right;\n",
       "    }\n",
       "</style>\n",
       "<table border=\"1\" class=\"dataframe\">\n",
       "  <thead>\n",
       "    <tr style=\"text-align: right;\">\n",
       "      <th></th>\n",
       "      <th>box_office</th>\n",
       "      <th>budget</th>\n",
       "      <th>cinematographers</th>\n",
       "      <th>country</th>\n",
       "      <th>director</th>\n",
       "      <th>distributor</th>\n",
       "      <th>editors</th>\n",
       "      <th>languages</th>\n",
       "      <th>composers</th>\n",
       "      <th>producers</th>\n",
       "      <th>production_companies</th>\n",
       "      <th>release_date</th>\n",
       "      <th>duration</th>\n",
       "      <th>writers</th>\n",
       "      <th>stars</th>\n",
       "      <th>imdb_link</th>\n",
       "      <th>title</th>\n",
       "      <th>url</th>\n",
       "      <th>year</th>\n",
       "      <th>id</th>\n",
       "    </tr>\n",
       "  </thead>\n",
       "  <tbody>\n",
       "    <tr>\n",
       "      <th>0</th>\n",
       "      <td>21400000.0</td>\n",
       "      <td>20000000.0</td>\n",
       "      <td>Oliver Wood</td>\n",
       "      <td>United States</td>\n",
       "      <td>Renny Harlin</td>\n",
       "      <td>20th Century Fox</td>\n",
       "      <td>Michael Tronick</td>\n",
       "      <td>English</td>\n",
       "      <td>[Cliff Eidelman, Yello]</td>\n",
       "      <td>[Steve Perry, Joel Silver]</td>\n",
       "      <td>Silver Pictures</td>\n",
       "      <td>1990-07-11</td>\n",
       "      <td>102.0</td>\n",
       "      <td>[David Arnott, James Cappe]</td>\n",
       "      <td>[Andrew Dice Clay, Wayne Newton, Priscilla Pre...</td>\n",
       "      <td>https://www.imdb.com/title/tt0098987/</td>\n",
       "      <td>The Adventures of Ford Fairlane</td>\n",
       "      <td>https://en.wikipedia.org/wiki/The_Adventures_o...</td>\n",
       "      <td>1990</td>\n",
       "      <td>tt0098987</td>\n",
       "    </tr>\n",
       "    <tr>\n",
       "      <th>1</th>\n",
       "      <td>2700000.0</td>\n",
       "      <td>6000000.0</td>\n",
       "      <td>Mark Plummer</td>\n",
       "      <td>United States</td>\n",
       "      <td>James Foley</td>\n",
       "      <td>Avenue Pictures</td>\n",
       "      <td>Howard E. Smith</td>\n",
       "      <td>English</td>\n",
       "      <td>Maurice Jarre</td>\n",
       "      <td>[Ric Kidney, Robert Redlin]</td>\n",
       "      <td>Avenue Pictures</td>\n",
       "      <td>1990-05-17</td>\n",
       "      <td>114.0</td>\n",
       "      <td>[James Foley, Robert Redlin]</td>\n",
       "      <td>[Jason Patric, Rachel Ward, Bruce Dern, George...</td>\n",
       "      <td>https://www.imdb.com/title/tt0098994/</td>\n",
       "      <td>After Dark, My Sweet</td>\n",
       "      <td>https://en.wikipedia.org/wiki/After_Dark,_My_S...</td>\n",
       "      <td>1990</td>\n",
       "      <td>tt0098994</td>\n",
       "    </tr>\n",
       "  </tbody>\n",
       "</table>\n",
       "</div>"
      ],
      "text/plain": [
       "   box_office      budget cinematographers        country      director  \\\n",
       "0  21400000.0  20000000.0      Oliver Wood  United States  Renny Harlin   \n",
       "1   2700000.0   6000000.0     Mark Plummer  United States   James Foley   \n",
       "\n",
       "        distributor          editors languages                composers  \\\n",
       "0  20th Century Fox  Michael Tronick   English  [Cliff Eidelman, Yello]   \n",
       "1   Avenue Pictures  Howard E. Smith   English            Maurice Jarre   \n",
       "\n",
       "                     producers production_companies release_date  duration  \\\n",
       "0   [Steve Perry, Joel Silver]      Silver Pictures   1990-07-11     102.0   \n",
       "1  [Ric Kidney, Robert Redlin]      Avenue Pictures   1990-05-17     114.0   \n",
       "\n",
       "                        writers  \\\n",
       "0   [David Arnott, James Cappe]   \n",
       "1  [James Foley, Robert Redlin]   \n",
       "\n",
       "                                               stars  \\\n",
       "0  [Andrew Dice Clay, Wayne Newton, Priscilla Pre...   \n",
       "1  [Jason Patric, Rachel Ward, Bruce Dern, George...   \n",
       "\n",
       "                               imdb_link                            title  \\\n",
       "0  https://www.imdb.com/title/tt0098987/  The Adventures of Ford Fairlane   \n",
       "1  https://www.imdb.com/title/tt0098994/             After Dark, My Sweet   \n",
       "\n",
       "                                                 url  year         id  \n",
       "0  https://en.wikipedia.org/wiki/The_Adventures_o...  1990  tt0098987  \n",
       "1  https://en.wikipedia.org/wiki/After_Dark,_My_S...  1990  tt0098994  "
      ]
     },
     "execution_count": 3,
     "metadata": {},
     "output_type": "execute_result"
    }
   ],
   "source": [
    "# Wikipedia movie data (cleaned from notebook 1)\n",
    "wmovies_df = pd.read_pickle(data_path + 'wiki_movies.pkl')\n",
    "print(wmovies_df.info())\n",
    "wmovies_df.head(2)"
   ]
  },
  {
   "cell_type": "markdown",
   "metadata": {},
   "source": [
    "### Kaggle data"
   ]
  },
  {
   "cell_type": "code",
   "execution_count": 4,
   "metadata": {},
   "outputs": [
    {
     "name": "stdout",
     "output_type": "stream",
     "text": [
      "<class 'pandas.core.frame.DataFrame'>\n",
      "Int64Index: 45408 entries, 0 to 45465\n",
      "Data columns (total 19 columns):\n",
      " #   Column                Non-Null Count  Dtype         \n",
      "---  ------                --------------  -----         \n",
      " 0   budget                45408 non-null  int64         \n",
      " 1   genres                45408 non-null  object        \n",
      " 2   id                    45408 non-null  int64         \n",
      " 3   imdb_id               45407 non-null  object        \n",
      " 4   original_language     45397 non-null  object        \n",
      " 5   original_title        45408 non-null  object        \n",
      " 6   overview              44456 non-null  object        \n",
      " 7   popularity            45405 non-null  float64       \n",
      " 8   poster_path           45027 non-null  object        \n",
      " 9   production_companies  45405 non-null  object        \n",
      " 10  production_countries  45405 non-null  object        \n",
      " 11  release_date          45325 non-null  datetime64[ns]\n",
      " 12  revenue               45405 non-null  float64       \n",
      " 13  runtime               45150 non-null  float64       \n",
      " 14  spoken_languages      45405 non-null  object        \n",
      " 15  status                45324 non-null  object        \n",
      " 16  title                 45405 non-null  object        \n",
      " 17  vote_average          45405 non-null  float64       \n",
      " 18  vote_count            45405 non-null  float64       \n",
      "dtypes: datetime64[ns](1), float64(5), int64(2), object(11)\n",
      "memory usage: 6.9+ MB\n",
      "None\n"
     ]
    },
    {
     "data": {
      "text/html": [
       "<div>\n",
       "<style scoped>\n",
       "    .dataframe tbody tr th:only-of-type {\n",
       "        vertical-align: middle;\n",
       "    }\n",
       "\n",
       "    .dataframe tbody tr th {\n",
       "        vertical-align: top;\n",
       "    }\n",
       "\n",
       "    .dataframe thead th {\n",
       "        text-align: right;\n",
       "    }\n",
       "</style>\n",
       "<table border=\"1\" class=\"dataframe\">\n",
       "  <thead>\n",
       "    <tr style=\"text-align: right;\">\n",
       "      <th></th>\n",
       "      <th>budget</th>\n",
       "      <th>genres</th>\n",
       "      <th>id</th>\n",
       "      <th>imdb_id</th>\n",
       "      <th>original_language</th>\n",
       "      <th>original_title</th>\n",
       "      <th>overview</th>\n",
       "      <th>popularity</th>\n",
       "      <th>poster_path</th>\n",
       "      <th>production_companies</th>\n",
       "      <th>production_countries</th>\n",
       "      <th>release_date</th>\n",
       "      <th>revenue</th>\n",
       "      <th>runtime</th>\n",
       "      <th>spoken_languages</th>\n",
       "      <th>status</th>\n",
       "      <th>title</th>\n",
       "      <th>vote_average</th>\n",
       "      <th>vote_count</th>\n",
       "    </tr>\n",
       "  </thead>\n",
       "  <tbody>\n",
       "    <tr>\n",
       "      <th>0</th>\n",
       "      <td>30000000</td>\n",
       "      <td>[{'id': 16, 'name': 'Animation'}, {'id': 35, '...</td>\n",
       "      <td>862</td>\n",
       "      <td>tt0114709</td>\n",
       "      <td>en</td>\n",
       "      <td>Toy Story</td>\n",
       "      <td>Led by Woody, Andy's toys live happily in his ...</td>\n",
       "      <td>21.946943</td>\n",
       "      <td>/rhIRbceoE9lR4veEXuwCC2wARtG.jpg</td>\n",
       "      <td>[{'name': 'Pixar Animation Studios', 'id': 3}]</td>\n",
       "      <td>[{'iso_3166_1': 'US', 'name': 'United States o...</td>\n",
       "      <td>1995-10-30</td>\n",
       "      <td>373554033.0</td>\n",
       "      <td>81.0</td>\n",
       "      <td>[{'iso_639_1': 'en', 'name': 'English'}]</td>\n",
       "      <td>Released</td>\n",
       "      <td>Toy Story</td>\n",
       "      <td>7.7</td>\n",
       "      <td>5415.0</td>\n",
       "    </tr>\n",
       "    <tr>\n",
       "      <th>1</th>\n",
       "      <td>65000000</td>\n",
       "      <td>[{'id': 12, 'name': 'Adventure'}, {'id': 14, '...</td>\n",
       "      <td>8844</td>\n",
       "      <td>tt0113497</td>\n",
       "      <td>en</td>\n",
       "      <td>Jumanji</td>\n",
       "      <td>When siblings Judy and Peter discover an encha...</td>\n",
       "      <td>17.015539</td>\n",
       "      <td>/vzmL6fP7aPKNKPRTFnZmiUfciyV.jpg</td>\n",
       "      <td>[{'name': 'TriStar Pictures', 'id': 559}, {'na...</td>\n",
       "      <td>[{'iso_3166_1': 'US', 'name': 'United States o...</td>\n",
       "      <td>1995-12-15</td>\n",
       "      <td>262797249.0</td>\n",
       "      <td>104.0</td>\n",
       "      <td>[{'iso_639_1': 'en', 'name': 'English'}, {'iso...</td>\n",
       "      <td>Released</td>\n",
       "      <td>Jumanji</td>\n",
       "      <td>6.9</td>\n",
       "      <td>2413.0</td>\n",
       "    </tr>\n",
       "  </tbody>\n",
       "</table>\n",
       "</div>"
      ],
      "text/plain": [
       "     budget                                             genres    id  \\\n",
       "0  30000000  [{'id': 16, 'name': 'Animation'}, {'id': 35, '...   862   \n",
       "1  65000000  [{'id': 12, 'name': 'Adventure'}, {'id': 14, '...  8844   \n",
       "\n",
       "     imdb_id original_language original_title  \\\n",
       "0  tt0114709                en      Toy Story   \n",
       "1  tt0113497                en        Jumanji   \n",
       "\n",
       "                                            overview  popularity  \\\n",
       "0  Led by Woody, Andy's toys live happily in his ...   21.946943   \n",
       "1  When siblings Judy and Peter discover an encha...   17.015539   \n",
       "\n",
       "                        poster_path  \\\n",
       "0  /rhIRbceoE9lR4veEXuwCC2wARtG.jpg   \n",
       "1  /vzmL6fP7aPKNKPRTFnZmiUfciyV.jpg   \n",
       "\n",
       "                                production_companies  \\\n",
       "0     [{'name': 'Pixar Animation Studios', 'id': 3}]   \n",
       "1  [{'name': 'TriStar Pictures', 'id': 559}, {'na...   \n",
       "\n",
       "                                production_countries release_date  \\\n",
       "0  [{'iso_3166_1': 'US', 'name': 'United States o...   1995-10-30   \n",
       "1  [{'iso_3166_1': 'US', 'name': 'United States o...   1995-12-15   \n",
       "\n",
       "       revenue  runtime                                   spoken_languages  \\\n",
       "0  373554033.0     81.0           [{'iso_639_1': 'en', 'name': 'English'}]   \n",
       "1  262797249.0    104.0  [{'iso_639_1': 'en', 'name': 'English'}, {'iso...   \n",
       "\n",
       "     status      title  vote_average  vote_count  \n",
       "0  Released  Toy Story           7.7      5415.0  \n",
       "1  Released    Jumanji           6.9      2413.0  "
      ]
     },
     "execution_count": 4,
     "metadata": {},
     "output_type": "execute_result"
    }
   ],
   "source": [
    "# Kaggle movie metadata (cleaned from notebook 1)\n",
    "kmovies_df = pd.read_pickle(data_path + 'kaggle_movies.pkl')\n",
    "print(kmovies_df.info())\n",
    "kmovies_df.head(2)"
   ]
  },
  {
   "cell_type": "code",
   "execution_count": null,
   "metadata": {},
   "outputs": [],
   "source": [
    "# Kaggle ratings data\n",
    "kratings_df = pd.read_csv(data_path + 'raw/ratings.csv')\n",
    "print(kratings_df.info(null_counts=True))\n",
    "kratings_df.head(2)"
   ]
  },
  {
   "cell_type": "markdown",
   "metadata": {},
   "source": [
    "### Join movie data from both sources\n",
    "\n",
    "The Kaggle data has 2 columns containing movie IDs, which is a little redundant, so we will drop `id` and keep `imdb_id` because the Wikipedia data also has the IMDB ID. After merging the data, we can then drop one of the `imdb_id` columns."
   ]
  },
  {
   "cell_type": "code",
   "execution_count": null,
   "metadata": {},
   "outputs": [],
   "source": [
    "# Merge data\n",
    "movies_df = pd.merge(wmovies_df, kmovies_df.drop('id', axis=1), \n",
    "                     left_on='id', right_on='imdb_id', \n",
    "                     how='inner', suffixes=['_wiki', '_kaggle']).drop('id', axis=1)\n",
    "print(movies_df.info())\n",
    "movies_df.head(2)"
   ]
  },
  {
   "cell_type": "markdown",
   "metadata": {},
   "source": [
    "### Find redundant columns\n",
    "\n",
    "Since the 2 dataframes being joined contain similar data, they will have several of the same columns. For these columns, it would be redundant to keep both, so we will examine each pair to see what is the best course of action to take. In most cases, we will likely just keep the one with more consistent data. A table will be created to keep track of the action we take on each pair."
   ]
  },
  {
   "cell_type": "code",
   "execution_count": null,
   "metadata": {},
   "outputs": [],
   "source": [
    "# List columns\n",
    "movies_df.columns.sort_values()"
   ]
  },
  {
   "cell_type": "code",
   "execution_count": null,
   "metadata": {},
   "outputs": [],
   "source": [
    "# List of redundant column name pairs (wikipedia column, kaggle column)\n",
    "redundant_cols = [\n",
    "    ('box_office', 'revenue'),\n",
    "    ('budget_wiki', 'budget_kaggle'),\n",
    "    ('duration', 'runtime'),\n",
    "    ('languages', 'original_language'),\n",
    "    ('production_companies_wiki', 'production_companies_kaggle'),\n",
    "    ('release_date_wiki', 'release_date_kaggle'),\n",
    "    ('title_wiki', 'title_kaggle')\n",
    "]\n",
    "\n",
    "# Create a table to keep track of the action taken for each pair\n",
    "redundant_cols = pd.DataFrame(redundant_cols, columns=['wikipedia', 'kaggle'])\n",
    "redundant_cols['action'] = ''\n",
    "redundant_cols"
   ]
  },
  {
   "cell_type": "markdown",
   "metadata": {},
   "source": [
    "### Inspect title columns"
   ]
  },
  {
   "cell_type": "code",
   "execution_count": null,
   "metadata": {},
   "outputs": [],
   "source": [
    "# Extract title columns\n",
    "title = movies_df[['title_wiki', 'title_kaggle']]\n",
    "\n",
    "# Rows where titles are different between the 2 columns\n",
    "print(title[title['title_wiki'] != title['title_kaggle']].shape[0])\n",
    "title[title['title_wiki'] != title['title_kaggle']].head(4)"
   ]
  },
  {
   "cell_type": "markdown",
   "metadata": {},
   "source": [
    "It looks like the Kaggle data has more complete `title`s. If it contains no missing `title`s, or at least less than the Wikipedia data, then we will drop the Wikipedia `title`s and keep the Kaggle `title`s."
   ]
  },
  {
   "cell_type": "code",
   "execution_count": null,
   "metadata": {},
   "outputs": [],
   "source": [
    "# Check for null titles in the Kaggle column\n",
    "title[(title['title_kaggle'] == '') | (title['title_kaggle'].isnull())].shape[0]"
   ]
  },
  {
   "cell_type": "code",
   "execution_count": null,
   "metadata": {},
   "outputs": [],
   "source": [
    "# Add action for title - drop the Wikipedia column\n",
    "redundant_cols.loc[6, 'action'] = 'drop wiki col'\n",
    "redundant_cols"
   ]
  },
  {
   "cell_type": "markdown",
   "metadata": {},
   "source": [
    "### Inspect language columns"
   ]
  },
  {
   "cell_type": "code",
   "execution_count": null,
   "metadata": {},
   "outputs": [],
   "source": [
    "# Extract language columns\n",
    "lang = movies_df[['languages', 'original_language']]\n",
    "\n",
    "# Rows where languages are different between the 2 columns\n",
    "print(lang[lang['languages'] != lang['original_language']].shape[0])\n",
    "lang[lang['languages'] != lang['original_language']].head(4)"
   ]
  },
  {
   "cell_type": "markdown",
   "metadata": {},
   "source": [
    "The Wikipedia `languages` column contains lists, so it would be easier to keep Kaggle's `original_language` column, assuming there are no missing or strange values."
   ]
  },
  {
   "cell_type": "code",
   "execution_count": null,
   "metadata": {},
   "outputs": [],
   "source": [
    "# Check for null languages the Kaggle column\n",
    "print(lang[(lang['original_language'] == '') | (lang['original_language'].isnull())].shape[0])\n",
    "\n",
    "# Check Kaggle column values\n",
    "lang['original_language'].unique()"
   ]
  },
  {
   "cell_type": "code",
   "execution_count": null,
   "metadata": {},
   "outputs": [],
   "source": [
    "# Add action for language - drop the Wikipedia column\n",
    "redundant_cols.loc[3, 'action'] = 'drop wiki col'\n",
    "redundant_cols"
   ]
  },
  {
   "cell_type": "markdown",
   "metadata": {},
   "source": [
    "### Inspect production company columns"
   ]
  },
  {
   "cell_type": "code",
   "execution_count": null,
   "metadata": {},
   "outputs": [],
   "source": [
    "# Extract production company columns\n",
    "production = movies_df[['production_companies_wiki', 'production_companies_kaggle']]\n",
    "\n",
    "# Rows where values are different between the 2 columns\n",
    "print(production[production['production_companies_wiki'] != production['production_companies_kaggle']].shape[0])\n",
    "production[production['production_companies_wiki'] != production['production_companies_kaggle']].head(4)"
   ]
  },
  {
   "cell_type": "code",
   "execution_count": null,
   "metadata": {},
   "outputs": [],
   "source": [
    "# Check Kaggle column values\n",
    "production['production_companies_kaggle'].unique()"
   ]
  },
  {
   "cell_type": "code",
   "execution_count": null,
   "metadata": {},
   "outputs": [],
   "source": [
    "# Check for null values in the Kaggle column\n",
    "production[(production['production_companies_kaggle'] == '') | (production['production_companies_kaggle'] \\\n",
    "    .isnull())].shape[0]"
   ]
  },
  {
   "cell_type": "markdown",
   "metadata": {},
   "source": [
    "We will be keeping the Kaggle column because it's more descriptive than the Wikipedia values."
   ]
  },
  {
   "cell_type": "code",
   "execution_count": null,
   "metadata": {},
   "outputs": [],
   "source": [
    "# Add action to production company - drop the Wikipedia column\n",
    "redundant_cols.loc[4, 'action'] = 'drop wiki col'\n",
    "redundant_cols"
   ]
  },
  {
   "cell_type": "markdown",
   "metadata": {},
   "source": [
    "### Inspect budget columns"
   ]
  },
  {
   "cell_type": "code",
   "execution_count": null,
   "metadata": {},
   "outputs": [],
   "source": [
    "# Extract budget columns\n",
    "budget = movies_df[['budget_wiki', 'budget_kaggle']]x\n",
    "\n",
    "# Scatterplot\n",
    "budget.plot(kind='scatter', x='budget_wiki', y='budget_kaggle', figsize=(10, 4), grid=True)\n",
    "plt.show()"
   ]
  },
  {
   "cell_type": "code",
   "execution_count": null,
   "metadata": {},
   "outputs": [],
   "source": [
    "# Number of 0 values\n",
    "print('Number of 0s in Wikipedia `budget`:', (budget['budget_wiki'] == 0).sum())\n",
    "print('Number of 0s in Kaggle `budget`:', (budget['budget_kaggle'] == 0).sum())\n",
    "\n",
    "# Check null values\n",
    "revenue.isnull().sum()"
   ]
  },
  {
   "cell_type": "markdown",
   "metadata": {},
   "source": [
    "The Wikipedia data has 1589 missing `budget` values, but the Kaggle data has 2350 `budget` values of 0, which are probably missing values. We will use `budget_kaggle` to fill any missing `budget_wiki` and then drop `budget_kaggle`."
   ]
  },
  {
   "cell_type": "code",
   "execution_count": null,
   "metadata": {},
   "outputs": [],
   "source": [
    "# Add action to budget - fill Wikipedia's missing values with Kaggle's budget values, then drop the Kaggle column\n",
    "redundant_cols.loc[1, 'action'] = 'fill wiki missing, drop kaggle col'\n",
    "redundant_cols"
   ]
  },
  {
   "cell_type": "markdown",
   "metadata": {},
   "source": [
    "### Inspect revenue columns"
   ]
  },
  {
   "cell_type": "code",
   "execution_count": null,
   "metadata": {},
   "outputs": [],
   "source": [
    "# Extract budget columns\n",
    "revenue = movies_df[['box_office', 'revenue']]\n",
    "\n",
    "# Scatterplot\n",
    "revenue.plot(kind='scatter', x='box_office', y='revenue', figsize=(10, 4), grid=True)\n",
    "plt.show()"
   ]
  },
  {
   "cell_type": "code",
   "execution_count": null,
   "metadata": {},
   "outputs": [],
   "source": [
    "# Number of 0 values\n",
    "print('Number of 0s in Wikipedia `box_office`:', (revenue['box_office'] == 0).sum())\n",
    "print('Number of 0s in Kaggle `revenue`:', (revenue['revenue'] == 0).sum())\n",
    "\n",
    "# Check null values\n",
    "revenue.isnull().sum()"
   ]
  },
  {
   "cell_type": "markdown",
   "metadata": {},
   "source": [
    "This is the same case as `budget` so we will take the same action for `revenue`."
   ]
  },
  {
   "cell_type": "code",
   "execution_count": null,
   "metadata": {},
   "outputs": [],
   "source": [
    "# Add action to revenue - same as budget\n",
    "redundant_cols.loc[0, 'action'] = 'fill wiki missing, drop kaggle col'\n",
    "redundant_cols"
   ]
  },
  {
   "cell_type": "markdown",
   "metadata": {},
   "source": [
    "### Inspect runtime columns"
   ]
  },
  {
   "cell_type": "code",
   "execution_count": null,
   "metadata": {},
   "outputs": [],
   "source": [
    "# Extract budget columns\n",
    "run = movies_df[['duration', 'runtime']]\n",
    "\n",
    "# Scatterplot\n",
    "run.plot(kind='scatter', x='duration', y='runtime', figsize=(10, 4), grid=True)\n",
    "plt.show()"
   ]
  },
  {
   "cell_type": "code",
   "execution_count": null,
   "metadata": {},
   "outputs": [],
   "source": [
    "# Number of 0 values\n",
    "print('Number of 0s in Wikipedia `duration`:', (run['duration'] == 0).sum())\n",
    "print('Number of 0s in Kaggle `runtime`:', (run['runtime'] == 0).sum())\n",
    "\n",
    "# Check null values\n",
    "run.isnull().sum()"
   ]
  },
  {
   "cell_type": "markdown",
   "metadata": {},
   "source": [
    "Even though the Wikipedia data (`duration`) contains less missing/0 values, it has some extreme outliers, so we will actually use it to fill in the Kaggle data's (`runtime`) zero values and then drop it (drop `duration`)."
   ]
  },
  {
   "cell_type": "code",
   "execution_count": null,
   "metadata": {},
   "outputs": [],
   "source": [
    "# Add action to runtime - fill the zero values in the Kaggle column, then drop the Wikipedia column\n",
    "redundant_cols.loc[2, 'action'] = 'fill kaggle missing, drop wiki col'\n",
    "redundant_cols"
   ]
  },
  {
   "cell_type": "markdown",
   "metadata": {},
   "source": [
    "### Inspect release date column"
   ]
  },
  {
   "cell_type": "code",
   "execution_count": null,
   "metadata": {},
   "outputs": [],
   "source": [
    "# Extract budget columns\n",
    "release = movies_df[['release_date_wiki', 'release_date_kaggle']]\n",
    "\n",
    "# Scatterplot\n",
    "release.plot(x='release_date_wiki', y='release_date_kaggle', style='.', \n",
    "             figsize=(10, 4), grid=True, legend=False, ylabel='release_date_kaggle')\n",
    "plt.xticks(rotation=0, ha='center')\n",
    "plt.show()"
   ]
  },
  {
   "cell_type": "markdown",
   "metadata": {},
   "source": [
    "There is a strange outlier with a `release_date` before 1960 in the Kaggle data but after 2000 in the Wikipedia data. Let's inspect this movie."
   ]
  },
  {
   "cell_type": "code",
   "execution_count": null,
   "metadata": {},
   "outputs": [],
   "source": [
    "# Inspect outlier\n",
    "release_outlier = movies_df.loc[(movies_df['release_date_wiki'] > '2000') & (movies_df['release_date_kaggle'] < '1960'),\n",
    "                                ['title_wiki', 'title_kaggle', 'release_date_wiki', 'release_date_kaggle']]\n",
    "release_outlier"
   ]
  },
  {
   "cell_type": "code",
   "execution_count": null,
   "metadata": {},
   "outputs": [],
   "source": [
    "# Check null values\n",
    "release.isnull().sum()"
   ]
  },
  {
   "cell_type": "markdown",
   "metadata": {},
   "source": [
    "It looks like 2 different movies shared an `imdb_id` so they were merged together. We will be dropping this single movie and the Wikipedia `release_date` since it has some missing values."
   ]
  },
  {
   "cell_type": "code",
   "execution_count": null,
   "metadata": {},
   "outputs": [],
   "source": [
    "# Add action to release date - drop outlier and drop the Wikipedia column\n",
    "redundant_cols.loc[5, 'action'] = 'drop outlier, drop wiki col'\n",
    "redundant_cols"
   ]
  },
  {
   "cell_type": "markdown",
   "metadata": {},
   "source": [
    "### Drop redundant columns\n",
    "\n",
    "With a plan defined for each pair of redundant columns in the table above, we will now be executing these actions."
   ]
  },
  {
   "cell_type": "code",
   "execution_count": null,
   "metadata": {},
   "outputs": [],
   "source": [
    "# Drop `title_wiki`, `languages`, and `production_companies_wiki`\n",
    "movies_df.drop(['title_wiki', 'languages', 'production_companies_wiki'], axis=1, inplace=True)\n",
    "\n",
    "# Drop the `release_date` outlier then drop `release_date_wiki`\n",
    "movies_df.drop(release_outlier.index, inplace=True)\n",
    "movies_df.drop('release_date_wiki', axis=1, inplace=True)\n",
    "movies_df.shape"
   ]
  },
  {
   "cell_type": "code",
   "execution_count": null,
   "metadata": {},
   "outputs": [],
   "source": [
    "def filla_dropb(cola, colb, data):\n",
    "    \n",
    "    \"\"\" Fill missing values in column a (keep) using values in column b (drop), then drop column b \"\"\"\n",
    "    \n",
    "    # Copy dataframe\n",
    "    df = data.copy()\n",
    "    \n",
    "    def filla(row):\n",
    "        cond1 = pd.isnull(row[cola]) or row[cola] == 0\n",
    "        cond2 = pd.notnull(row[colb]) and row[colb] != 0\n",
    "        return row[colb] if cond1 and cond2 else row[cola]\n",
    "            \n",
    "    df[cola] = df.apply(filla, axis=1)\n",
    "    return df.drop(colb, axis=1)\n",
    "    \n",
    "\n",
    "# Fill `budget`, `revenue`, and `runtime` missing values, then drop `Budget`, `Box office`, `Duration`\n",
    "movies_df = filla_dropb('box_office', 'revenue', data=movies_df)\n",
    "movies_df = filla_dropb('budget_wiki', 'budget_kaggle', data=movies_df)\n",
    "movies_df = filla_dropb('runtime', 'duration', data=movies_df)\n",
    "movies_df.info()"
   ]
  },
  {
   "cell_type": "markdown",
   "metadata": {},
   "source": [
    "### Rename and reorder columns"
   ]
  },
  {
   "cell_type": "code",
   "execution_count": 32,
   "metadata": {},
   "outputs": [
    {
     "data": {
      "text/plain": [
       "Index(['Based on', 'Country', 'Cinematographer(s)', 'Director', 'Distributor',\n",
       "       'Editor(s)', 'Composer(s)', 'Producer(s)', 'Writer(s)', 'Stars',\n",
       "       'IMDB link', 'URL', 'Year', 'budget', 'genres', 'id', 'imdb_id',\n",
       "       'original_language', 'original_title', 'overview', 'popularity',\n",
       "       'poster_path', 'production_companies', 'production_countries',\n",
       "       'release_date', 'revenue', 'runtime', 'spoken_languages', 'status',\n",
       "       'tagline', 'title', 'vote_average', 'vote_count'],\n",
       "      dtype='object')"
      ]
     },
     "execution_count": 32,
     "metadata": {},
     "output_type": "execute_result"
    }
   ],
   "source": [
    "movies_drop_cols2_df.columns"
   ]
  },
  {
   "cell_type": "code",
   "execution_count": 33,
   "metadata": {},
   "outputs": [
    {
     "name": "stdout",
     "output_type": "stream",
     "text": [
      "<class 'pandas.core.frame.DataFrame'>\n",
      "Int64Index: 5982 entries, 0 to 5982\n",
      "Data columns (total 33 columns):\n",
      " #   Column                Non-Null Count  Dtype         \n",
      "---  ------                --------------  -----         \n",
      " 0   kaggle_id             5982 non-null   int64         \n",
      " 1   imdb_id               5982 non-null   object        \n",
      " 2   imdb_link             5982 non-null   object        \n",
      " 3   wikipedia_url         5982 non-null   object        \n",
      " 4   poster_path           5981 non-null   object        \n",
      " 5   title                 5982 non-null   object        \n",
      " 6   original_title        5982 non-null   object        \n",
      " 7   tagline               4880 non-null   object        \n",
      " 8   based_on              1966 non-null   object        \n",
      " 9   overview              5977 non-null   object        \n",
      " 10  release_date          5982 non-null   datetime64[ns]\n",
      " 11  year                  5982 non-null   int64         \n",
      " 12  runtime               5982 non-null   float64       \n",
      " 13  budget                5982 non-null   float64       \n",
      " 14  revenue               5982 non-null   float64       \n",
      " 15  popularity            5982 non-null   float64       \n",
      " 16  vote_average          5982 non-null   float64       \n",
      " 17  vote_count            5982 non-null   float64       \n",
      " 18  genres                5982 non-null   object        \n",
      " 19  status                5978 non-null   object        \n",
      " 20  country               5819 non-null   object        \n",
      " 21  original_language     5982 non-null   object        \n",
      " 22  spoken_languages      5982 non-null   object        \n",
      " 23  writers               5854 non-null   object        \n",
      " 24  producers             5878 non-null   object        \n",
      " 25  director              5982 non-null   object        \n",
      " 26  stars                 5877 non-null   object        \n",
      " 27  cinematographers      5519 non-null   object        \n",
      " 28  composers             5663 non-null   object        \n",
      " 29  editors               5657 non-null   object        \n",
      " 30  production_companies  5982 non-null   object        \n",
      " 31  production_countries  5982 non-null   object        \n",
      " 32  distributor           5824 non-null   object        \n",
      "dtypes: datetime64[ns](1), float64(6), int64(2), object(24)\n",
      "memory usage: 1.6+ MB\n"
     ]
    }
   ],
   "source": [
    "# Column order\n",
    "col_order = ['id', 'imdb_id', 'IMDB link', 'URL', 'poster_path', 'title', 'original_title', 'tagline', 'Based on', 'overview',\n",
    "             'release_date', 'Year', 'runtime', 'budget', 'revenue', 'popularity', 'vote_average', 'vote_count',\n",
    "             'genres', 'status', 'Country', 'original_language', 'spoken_languages',\n",
    "             'Writer(s)', 'Producer(s)', 'Director', 'Stars', 'Cinematographer(s)', 'Composer(s)', 'Editor(s)',\n",
    "             'production_companies', 'production_countries', 'Distributor']\n",
    "\n",
    "# New column names\n",
    "col_names = ['kaggle_id', 'imdb_id', 'imdb_link', 'wikipedia_url', 'poster_path', 'title', 'original_title', 'tagline', \n",
    "             'based_on', 'overview', 'release_date', 'year', 'runtime', 'budget', 'revenue', 'popularity', \n",
    "             'vote_average', 'vote_count', 'genres', 'status', 'country', 'original_language', 'spoken_languages', \n",
    "             'writers', 'producers', 'director', 'stars', 'cinematographers', 'composers', 'editors', \n",
    "             'production_companies', 'production_countries', 'distributor']\n",
    "\n",
    "# Rename and order columns\n",
    "movies_rename_cols = movies_drop_cols2_df.rename({old: new for old, new in zip(col_order, col_names) if old != new}, axis=1)\n",
    "movies_rename_cols = movies_rename_cols[col_names]\n",
    "movies_rename_cols.info()"
   ]
  },
  {
   "cell_type": "code",
   "execution_count": 34,
   "metadata": {},
   "outputs": [
    {
     "data": {
      "text/html": [
       "<div>\n",
       "<style scoped>\n",
       "    .dataframe tbody tr th:only-of-type {\n",
       "        vertical-align: middle;\n",
       "    }\n",
       "\n",
       "    .dataframe tbody tr th {\n",
       "        vertical-align: top;\n",
       "    }\n",
       "\n",
       "    .dataframe thead th {\n",
       "        text-align: right;\n",
       "    }\n",
       "</style>\n",
       "<table border=\"1\" class=\"dataframe\">\n",
       "  <thead>\n",
       "    <tr style=\"text-align: right;\">\n",
       "      <th></th>\n",
       "      <th>kaggle_id</th>\n",
       "      <th>imdb_id</th>\n",
       "      <th>imdb_link</th>\n",
       "      <th>wikipedia_url</th>\n",
       "      <th>poster_path</th>\n",
       "      <th>title</th>\n",
       "      <th>original_title</th>\n",
       "      <th>tagline</th>\n",
       "      <th>based_on</th>\n",
       "      <th>overview</th>\n",
       "      <th>...</th>\n",
       "      <th>writers</th>\n",
       "      <th>producers</th>\n",
       "      <th>director</th>\n",
       "      <th>stars</th>\n",
       "      <th>cinematographers</th>\n",
       "      <th>composers</th>\n",
       "      <th>editors</th>\n",
       "      <th>production_companies</th>\n",
       "      <th>production_countries</th>\n",
       "      <th>distributor</th>\n",
       "    </tr>\n",
       "  </thead>\n",
       "  <tbody>\n",
       "    <tr>\n",
       "      <th>0</th>\n",
       "      <td>9548</td>\n",
       "      <td>tt0098987</td>\n",
       "      <td>https://www.imdb.com/title/tt0098987/</td>\n",
       "      <td>https://en.wikipedia.org/wiki/The_Adventures_o...</td>\n",
       "      <td>/yLeX2QLkHeRlYQRcbU8BKgMaYYD.jpg</td>\n",
       "      <td>The Adventures of Ford Fairlane</td>\n",
       "      <td>The Adventures of Ford Fairlane</td>\n",
       "      <td>Kojak. Columbo. Dirty Harry. Wimps.</td>\n",
       "      <td>[Characters, by Rex Weiner]</td>\n",
       "      <td>Ford \"Mr. Rock n' Roll Detective\" Fairlane is ...</td>\n",
       "      <td>...</td>\n",
       "      <td>[David Arnott, James Cappe]</td>\n",
       "      <td>[Steve Perry, Joel Silver]</td>\n",
       "      <td>Renny Harlin</td>\n",
       "      <td>[Andrew Dice Clay, Wayne Newton, Priscilla Pre...</td>\n",
       "      <td>Oliver Wood</td>\n",
       "      <td>[Cliff Eidelman, Yello]</td>\n",
       "      <td>Michael Tronick</td>\n",
       "      <td>[{'name': 'Twentieth Century Fox Film Corporat...</td>\n",
       "      <td>[{'iso_3166_1': 'US', 'name': 'United States o...</td>\n",
       "      <td>20th Century Fox</td>\n",
       "    </tr>\n",
       "    <tr>\n",
       "      <th>1</th>\n",
       "      <td>25501</td>\n",
       "      <td>tt0098994</td>\n",
       "      <td>https://www.imdb.com/title/tt0098994/</td>\n",
       "      <td>https://en.wikipedia.org/wiki/After_Dark,_My_S...</td>\n",
       "      <td>/3hjcHNtWn9T6jVGXgNXyCsMWBdj.jpg</td>\n",
       "      <td>After Dark, My Sweet</td>\n",
       "      <td>After Dark, My Sweet</td>\n",
       "      <td>All they risked was everything.</td>\n",
       "      <td>[the novel, After Dark, My Sweet, by, Jim Thom...</td>\n",
       "      <td>The intriguing relationship between three desp...</td>\n",
       "      <td>...</td>\n",
       "      <td>[James Foley, Robert Redlin]</td>\n",
       "      <td>[Ric Kidney, Robert Redlin]</td>\n",
       "      <td>James Foley</td>\n",
       "      <td>[Jason Patric, Rachel Ward, Bruce Dern, George...</td>\n",
       "      <td>Mark Plummer</td>\n",
       "      <td>Maurice Jarre</td>\n",
       "      <td>Howard E. Smith</td>\n",
       "      <td>[{'name': 'Avenue Pictures Productions', 'id':...</td>\n",
       "      <td>[{'iso_3166_1': 'US', 'name': 'United States o...</td>\n",
       "      <td>Avenue Pictures</td>\n",
       "    </tr>\n",
       "  </tbody>\n",
       "</table>\n",
       "<p>2 rows × 33 columns</p>\n",
       "</div>"
      ],
      "text/plain": [
       "   kaggle_id    imdb_id                              imdb_link  \\\n",
       "0       9548  tt0098987  https://www.imdb.com/title/tt0098987/   \n",
       "1      25501  tt0098994  https://www.imdb.com/title/tt0098994/   \n",
       "\n",
       "                                       wikipedia_url  \\\n",
       "0  https://en.wikipedia.org/wiki/The_Adventures_o...   \n",
       "1  https://en.wikipedia.org/wiki/After_Dark,_My_S...   \n",
       "\n",
       "                        poster_path                            title  \\\n",
       "0  /yLeX2QLkHeRlYQRcbU8BKgMaYYD.jpg  The Adventures of Ford Fairlane   \n",
       "1  /3hjcHNtWn9T6jVGXgNXyCsMWBdj.jpg             After Dark, My Sweet   \n",
       "\n",
       "                    original_title                              tagline  \\\n",
       "0  The Adventures of Ford Fairlane  Kojak. Columbo. Dirty Harry. Wimps.   \n",
       "1             After Dark, My Sweet      All they risked was everything.   \n",
       "\n",
       "                                            based_on  \\\n",
       "0                        [Characters, by Rex Weiner]   \n",
       "1  [the novel, After Dark, My Sweet, by, Jim Thom...   \n",
       "\n",
       "                                            overview  ...  \\\n",
       "0  Ford \"Mr. Rock n' Roll Detective\" Fairlane is ...  ...   \n",
       "1  The intriguing relationship between three desp...  ...   \n",
       "\n",
       "                        writers                    producers      director  \\\n",
       "0   [David Arnott, James Cappe]   [Steve Perry, Joel Silver]  Renny Harlin   \n",
       "1  [James Foley, Robert Redlin]  [Ric Kidney, Robert Redlin]   James Foley   \n",
       "\n",
       "                                               stars  cinematographers  \\\n",
       "0  [Andrew Dice Clay, Wayne Newton, Priscilla Pre...       Oliver Wood   \n",
       "1  [Jason Patric, Rachel Ward, Bruce Dern, George...      Mark Plummer   \n",
       "\n",
       "                 composers          editors  \\\n",
       "0  [Cliff Eidelman, Yello]  Michael Tronick   \n",
       "1            Maurice Jarre  Howard E. Smith   \n",
       "\n",
       "                                production_companies  \\\n",
       "0  [{'name': 'Twentieth Century Fox Film Corporat...   \n",
       "1  [{'name': 'Avenue Pictures Productions', 'id':...   \n",
       "\n",
       "                                production_countries       distributor  \n",
       "0  [{'iso_3166_1': 'US', 'name': 'United States o...  20th Century Fox  \n",
       "1  [{'iso_3166_1': 'US', 'name': 'United States o...   Avenue Pictures  \n",
       "\n",
       "[2 rows x 33 columns]"
      ]
     },
     "execution_count": 34,
     "metadata": {},
     "output_type": "execute_result"
    }
   ],
   "source": [
    "# Copy df\n",
    "movies_df = movies_rename_cols.copy()\n",
    "movies_df.head(2)"
   ]
  },
  {
   "cell_type": "markdown",
   "metadata": {},
   "source": [
    "### Save data"
   ]
  },
  {
   "cell_type": "code",
   "execution_count": 35,
   "metadata": {},
   "outputs": [
    {
     "data": {
      "text/html": [
       "<div>\n",
       "<style scoped>\n",
       "    .dataframe tbody tr th:only-of-type {\n",
       "        vertical-align: middle;\n",
       "    }\n",
       "\n",
       "    .dataframe tbody tr th {\n",
       "        vertical-align: top;\n",
       "    }\n",
       "\n",
       "    .dataframe thead th {\n",
       "        text-align: right;\n",
       "    }\n",
       "</style>\n",
       "<table border=\"1\" class=\"dataframe\">\n",
       "  <thead>\n",
       "    <tr style=\"text-align: right;\">\n",
       "      <th></th>\n",
       "      <th>kaggle_id</th>\n",
       "      <th>imdb_id</th>\n",
       "      <th>imdb_link</th>\n",
       "      <th>wikipedia_url</th>\n",
       "      <th>poster_path</th>\n",
       "      <th>title</th>\n",
       "      <th>original_title</th>\n",
       "      <th>tagline</th>\n",
       "      <th>based_on</th>\n",
       "      <th>overview</th>\n",
       "      <th>...</th>\n",
       "      <th>writers</th>\n",
       "      <th>producers</th>\n",
       "      <th>director</th>\n",
       "      <th>stars</th>\n",
       "      <th>cinematographers</th>\n",
       "      <th>composers</th>\n",
       "      <th>editors</th>\n",
       "      <th>production_companies</th>\n",
       "      <th>production_countries</th>\n",
       "      <th>distributor</th>\n",
       "    </tr>\n",
       "  </thead>\n",
       "  <tbody>\n",
       "    <tr>\n",
       "      <th>0</th>\n",
       "      <td>9548</td>\n",
       "      <td>tt0098987</td>\n",
       "      <td>https://www.imdb.com/title/tt0098987/</td>\n",
       "      <td>https://en.wikipedia.org/wiki/The_Adventures_o...</td>\n",
       "      <td>/yLeX2QLkHeRlYQRcbU8BKgMaYYD.jpg</td>\n",
       "      <td>The Adventures of Ford Fairlane</td>\n",
       "      <td>The Adventures of Ford Fairlane</td>\n",
       "      <td>Kojak. Columbo. Dirty Harry. Wimps.</td>\n",
       "      <td>[Characters, by Rex Weiner]</td>\n",
       "      <td>Ford \"Mr. Rock n' Roll Detective\" Fairlane is ...</td>\n",
       "      <td>...</td>\n",
       "      <td>[David Arnott, James Cappe]</td>\n",
       "      <td>[Steve Perry, Joel Silver]</td>\n",
       "      <td>Renny Harlin</td>\n",
       "      <td>[Andrew Dice Clay, Wayne Newton, Priscilla Pre...</td>\n",
       "      <td>Oliver Wood</td>\n",
       "      <td>[Cliff Eidelman, Yello]</td>\n",
       "      <td>Michael Tronick</td>\n",
       "      <td>[{'name': 'Twentieth Century Fox Film Corporat...</td>\n",
       "      <td>[{'iso_3166_1': 'US', 'name': 'United States o...</td>\n",
       "      <td>20th Century Fox</td>\n",
       "    </tr>\n",
       "    <tr>\n",
       "      <th>1</th>\n",
       "      <td>25501</td>\n",
       "      <td>tt0098994</td>\n",
       "      <td>https://www.imdb.com/title/tt0098994/</td>\n",
       "      <td>https://en.wikipedia.org/wiki/After_Dark,_My_S...</td>\n",
       "      <td>/3hjcHNtWn9T6jVGXgNXyCsMWBdj.jpg</td>\n",
       "      <td>After Dark, My Sweet</td>\n",
       "      <td>After Dark, My Sweet</td>\n",
       "      <td>All they risked was everything.</td>\n",
       "      <td>[the novel, After Dark, My Sweet, by, Jim Thom...</td>\n",
       "      <td>The intriguing relationship between three desp...</td>\n",
       "      <td>...</td>\n",
       "      <td>[James Foley, Robert Redlin]</td>\n",
       "      <td>[Ric Kidney, Robert Redlin]</td>\n",
       "      <td>James Foley</td>\n",
       "      <td>[Jason Patric, Rachel Ward, Bruce Dern, George...</td>\n",
       "      <td>Mark Plummer</td>\n",
       "      <td>Maurice Jarre</td>\n",
       "      <td>Howard E. Smith</td>\n",
       "      <td>[{'name': 'Avenue Pictures Productions', 'id':...</td>\n",
       "      <td>[{'iso_3166_1': 'US', 'name': 'United States o...</td>\n",
       "      <td>Avenue Pictures</td>\n",
       "    </tr>\n",
       "  </tbody>\n",
       "</table>\n",
       "<p>2 rows × 33 columns</p>\n",
       "</div>"
      ],
      "text/plain": [
       "   kaggle_id    imdb_id                              imdb_link  \\\n",
       "0       9548  tt0098987  https://www.imdb.com/title/tt0098987/   \n",
       "1      25501  tt0098994  https://www.imdb.com/title/tt0098994/   \n",
       "\n",
       "                                       wikipedia_url  \\\n",
       "0  https://en.wikipedia.org/wiki/The_Adventures_o...   \n",
       "1  https://en.wikipedia.org/wiki/After_Dark,_My_S...   \n",
       "\n",
       "                        poster_path                            title  \\\n",
       "0  /yLeX2QLkHeRlYQRcbU8BKgMaYYD.jpg  The Adventures of Ford Fairlane   \n",
       "1  /3hjcHNtWn9T6jVGXgNXyCsMWBdj.jpg             After Dark, My Sweet   \n",
       "\n",
       "                    original_title                              tagline  \\\n",
       "0  The Adventures of Ford Fairlane  Kojak. Columbo. Dirty Harry. Wimps.   \n",
       "1             After Dark, My Sweet      All they risked was everything.   \n",
       "\n",
       "                                            based_on  \\\n",
       "0                        [Characters, by Rex Weiner]   \n",
       "1  [the novel, After Dark, My Sweet, by, Jim Thom...   \n",
       "\n",
       "                                            overview  ...  \\\n",
       "0  Ford \"Mr. Rock n' Roll Detective\" Fairlane is ...  ...   \n",
       "1  The intriguing relationship between three desp...  ...   \n",
       "\n",
       "                        writers                    producers      director  \\\n",
       "0   [David Arnott, James Cappe]   [Steve Perry, Joel Silver]  Renny Harlin   \n",
       "1  [James Foley, Robert Redlin]  [Ric Kidney, Robert Redlin]   James Foley   \n",
       "\n",
       "                                               stars  cinematographers  \\\n",
       "0  [Andrew Dice Clay, Wayne Newton, Priscilla Pre...       Oliver Wood   \n",
       "1  [Jason Patric, Rachel Ward, Bruce Dern, George...      Mark Plummer   \n",
       "\n",
       "                 composers          editors  \\\n",
       "0  [Cliff Eidelman, Yello]  Michael Tronick   \n",
       "1            Maurice Jarre  Howard E. Smith   \n",
       "\n",
       "                                production_companies  \\\n",
       "0  [{'name': 'Twentieth Century Fox Film Corporat...   \n",
       "1  [{'name': 'Avenue Pictures Productions', 'id':...   \n",
       "\n",
       "                                production_countries       distributor  \n",
       "0  [{'iso_3166_1': 'US', 'name': 'United States o...  20th Century Fox  \n",
       "1  [{'iso_3166_1': 'US', 'name': 'United States o...   Avenue Pictures  \n",
       "\n",
       "[2 rows x 33 columns]"
      ]
     },
     "execution_count": 35,
     "metadata": {},
     "output_type": "execute_result"
    }
   ],
   "source": [
    "movies_df.to_pickle(data_path + 'movies.pkl')\n",
    "pd.read_pickle(data_path + 'movies.pkl').head(2)"
   ]
  }
 ],
 "metadata": {
  "kernelspec": {
   "display_name": "Python [conda env:minds] *",
   "language": "python",
   "name": "conda-env-minds-py"
  },
  "language_info": {
   "codemirror_mode": {
    "name": "ipython",
    "version": 3
   },
   "file_extension": ".py",
   "mimetype": "text/x-python",
   "name": "python",
   "nbconvert_exporter": "python",
   "pygments_lexer": "ipython3",
   "version": "3.7.9"
  }
 },
 "nbformat": 4,
 "nbformat_minor": 4
}
